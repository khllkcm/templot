{
 "cells": [
  {
   "cell_type": "markdown",
   "metadata": {},
   "source": [
    "# Templot Examples"
   ]
  },
  {
   "cell_type": "markdown",
   "metadata": {},
   "source": [
    "We start by installing the package from Pypi, this is not necessary if the templot folder is present in the same diretory as this notebook."
   ]
  },
  {
   "cell_type": "code",
   "execution_count": null,
   "metadata": {},
   "outputs": [],
   "source": [
    "!pip install --user templot"
   ]
  },
  {
   "cell_type": "markdown",
   "metadata": {},
   "source": [
    "## Importing dependencies"
   ]
  },
  {
   "cell_type": "code",
   "execution_count": null,
   "metadata": {},
   "outputs": [],
   "source": [
    "%matplotlib inline"
   ]
  },
  {
   "cell_type": "code",
   "execution_count": null,
   "metadata": {},
   "outputs": [],
   "source": [
    "import os\n",
    "import pandas as pd\n",
    "import matplotlib.animation as animation\n",
    "import matplotlib.pyplot as plt \n",
    "from IPython.display import HTML #in order to visualize animations"
   ]
  },
  {
   "cell_type": "markdown",
   "metadata": {},
   "source": [
    "## Data Downloading and preprocessing\n",
    "\n",
    "We can use the `download_irep` function to download and parse the IREP dataset."
   ]
  },
  {
   "cell_type": "code",
   "execution_count": null,
   "metadata": {},
   "outputs": [],
   "source": [
    "from templot import download_irep\n",
    "filepath = os.path.join('.', 'templot', 'data', 'df.csv')\n",
    "if not os.path.exists(filepath):\n",
    "    download_irep(filepath)\n",
    "\n",
    "df = pd.read_csv(filepath)\n",
    "df.head()"
   ]
  },
  {
   "cell_type": "markdown",
   "metadata": {},
   "source": [
    "We can use the `add_regions` function that adds the corresponding Region, Department, or/and Commune by looking at the longitude and latitude columns."
   ]
  },
  {
   "cell_type": "code",
   "execution_count": null,
   "metadata": {},
   "outputs": [],
   "source": [
    "from templot import add_regions\n",
    "\n",
    "df = add_regions(df, \"LLX\", \"LLY\", add=[\"regions\", \"departements\"]) \n",
    "\n",
    "df.head()"
   ]
  },
  {
   "cell_type": "markdown",
   "metadata": {},
   "source": [
    "Some of the functions require the dataset to be in a melted form; i.e. having one columns containing the values and another containing the corresponding year."
   ]
  },
  {
   "cell_type": "code",
   "execution_count": null,
   "metadata": {},
   "outputs": [],
   "source": [
    "df_melted = pd.melt(\n",
    "    df,\n",
    "    id_vars=df.columns & [\n",
    "                'Identifiant',\n",
    "                'Nom_Etablissement_x',\n",
    "                'LLX',\n",
    "                'LLY',\n",
    "                'Regions',\n",
    "                'Departements',\n",
    "                'Communes'\n",
    "            ],\n",
    "    var_name='Annee',\n",
    "    value_name='Quantite',\n",
    ")\n",
    "df_melted = df_melted[df_melted.Quantite != 0]\n",
    "df_melted['Annee'] = df_melted['Annee'].apply(lambda x: int(x[-4:]))\n",
    "df_melted.head()"
   ]
  },
  {
   "cell_type": "markdown",
   "metadata": {},
   "source": [
    "##  Example 1: Plot Aggregated Map\n",
    "\n",
    "Here we can create a map that shows the evolution of the average quantity in every region. The color refelects the average cummulative quantity over the entire period. "
   ]
  },
  {
   "cell_type": "code",
   "execution_count": null,
   "metadata": {},
   "outputs": [],
   "source": [
    "from templot import plot_aggregated_map\n",
    "my_map = plot_aggregated_map(\n",
    "    data=df,\n",
    "    variables=[\n",
    "        \"Quantite2004\",\n",
    "        \"Quantite2005\",\n",
    "        \"Quantite2006\",\n",
    "        \"Quantite2007\",\n",
    "        \"Quantite2008\",\n",
    "        \"Quantite2009\",\n",
    "    ],\n",
    "    group=\"Regions\",\n",
    "    aggregation_method=\"average\",\n",
    "    height=300)\n",
    "\n",
    "my_map\n",
    "#If the map is not displayed (if you're using Edge or Chrome) uncomment the follwing lines\n",
    "# from IPython.display import IFrame\n",
    "# my_map.save(\"map.html\")\n",
    "# IFrame(\"map.html\", width='100%', height=750)"
   ]
  },
  {
   "cell_type": "markdown",
   "metadata": {},
   "source": [
    "We can also look at the evolution of the number of polluting comapnies in each department. The function will warn us if the number of departments is too high."
   ]
  },
  {
   "cell_type": "code",
   "execution_count": null,
   "metadata": {},
   "outputs": [],
   "source": [
    "my_map_dep = plot_aggregated_map(\n",
    "    data=df,\n",
    "    variables=[col for col in df.columns if \"Quantite\" in col], # All years\n",
    "    group=\"Departements\",\n",
    "    aggregation_method=\"count\",\n",
    "    height=300)\n",
    "\n",
    "my_map_dep\n",
    "#If the map is not displayed (if you're using Edge or Chrome) uncomment the follwing lines\n",
    "# from IPython.display import IFrame\n",
    "# my_map_dep.save(\"map_dep.html\")\n",
    "# IFrame(\"map_dep.html\", width='100%', height=750)"
   ]
  },
  {
   "cell_type": "markdown",
   "metadata": {},
   "source": [
    "## Example 2: Plot Polar Bar Evolution \n",
    "\n",
    "Here we can create an animation that shows the evolution of the maximum quantities per region across all years."
   ]
  },
  {
   "cell_type": "code",
   "execution_count": null,
   "metadata": {},
   "outputs": [],
   "source": [
    "from templot import plot_polar_bar_evolution\n",
    "\n",
    "anim = plot_polar_bar_evolution(\n",
    "    df_melted,\n",
    "    var=\"Quantite\",\n",
    "    year=\"Annee\",\n",
    "    agr=\"max\",\n",
    "    y_grid=False,\n",
    "    x_grid=False,\n",
    "    y_ticks=False,\n",
    ")\n",
    "\n",
    "HTML(anim.to_jshtml())"
   ]
  },
  {
   "cell_type": "markdown",
   "metadata": {},
   "source": [
    "## Example 3: Plot Polar Bar Evolution Interactive\n",
    "We can also look at an interactive version of that graph."
   ]
  },
  {
   "cell_type": "code",
   "execution_count": null,
   "metadata": {},
   "outputs": [],
   "source": [
    "from templot import plot_polar_bar_evolution_interactive\n",
    "\n",
    "fig = plot_polar_bar_evolution_interactive(df_melted,\n",
    "    var=\"Quantite\",\n",
    "    year=\"Annee\",\n",
    "    agr=\"max\")\n",
    "\n",
    "fig"
   ]
  },
  {
   "cell_type": "markdown",
   "metadata": {},
   "source": [
    "## Example 4: Plot Pie Chart Interactive\n",
    "Here we can look closely at two specific years and compare between them."
   ]
  },
  {
   "cell_type": "code",
   "execution_count": null,
   "metadata": {},
   "outputs": [],
   "source": [
    "from templot import plot_pie_chart_interactive\n",
    "\n",
    "\n",
    "fig = plot_pie_chart_interactive(df, \"Quantite\", 2004, 2005, \"Regions\")\n",
    "\n",
    "fig"
   ]
  },
  {
   "cell_type": "markdown",
   "metadata": {},
   "source": [
    "## Example 5: Plot Top 10 Barchart\n",
    "Finally we take a look at the top 10 worst offenders every year."
   ]
  },
  {
   "cell_type": "code",
   "execution_count": null,
   "metadata": {},
   "outputs": [],
   "source": [
    "from templot import plot_top10_barchart\n",
    "\n",
    "# Delete a few outliers/incorrect values\n",
    "df_melted.drop(df_melted.index[[80307, 78095, 73504]], inplace=True)\n",
    "\n",
    "# Plot animation from 2003 to 2017 :\n",
    "fig, ax = plt.subplots(figsize=(16, 9), dpi=220, facecolor='#F8F7F7')\n",
    "ani = animation.FuncAnimation(\n",
    "    fig,\n",
    "    plot_top10_barchart,\n",
    "    frames=range(2003, 2018),\n",
    "    interval=1500,\n",
    "    fargs=[\n",
    "        df_melted,\n",
    "        \"Quantite\",\n",
    "        \"Annee\",\n",
    "        \"Regions\",\n",
    "        'Nom_Etablissement_x',\n",
    "        'Les établissement émettant le plus de déchets dangereux de 2003 à 2017',\n",
    "        'Déchets dangereux (t/an)',\n",
    "    ],\n",
    ")\n",
    "HTML(ani.to_jshtml())"
   ]
  }
 ],
 "metadata": {
  "kernelspec": {
   "display_name": "Python 3",
   "language": "python",
   "name": "python3"
  },
  "language_info": {
   "codemirror_mode": {
    "name": "ipython",
    "version": 3
   },
   "file_extension": ".py",
   "mimetype": "text/x-python",
   "name": "python",
   "nbconvert_exporter": "python",
   "pygments_lexer": "ipython3",
   "version": "3.7.4"
  }
 },
 "nbformat": 4,
 "nbformat_minor": 2
}
