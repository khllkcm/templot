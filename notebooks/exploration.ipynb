{
 "cells": [
  {
   "cell_type": "code",
   "execution_count": 5,
   "metadata": {},
   "outputs": [
    {
     "data": {
      "application/vnd.plotly.v1+json": {
       "config": {
        "plotlyServerURL": "https://plot.ly"
       },
       "data": [
        {
         "hoverlabel": {
          "namelength": 0
         },
         "hovertemplate": "Regions=%{theta}<br>Annee=2003<br>Quantite=%{r}",
         "legendgroup": "Regions=Auvergne-Rhône-Alpes",
         "marker": {
          "color": "#fdca26"
         },
         "name": "Regions=Auvergne-Rhône-Alpes",
         "r": [
          228.727578465506
         ],
         "showlegend": true,
         "subplot": "polar",
         "theta": [
          "Auvergne-Rhône-Alpes"
         ],
         "type": "barpolar"
        },
        {
         "hoverlabel": {
          "namelength": 0
         },
         "hovertemplate": "Regions=%{theta}<br>Annee=2003<br>Quantite=%{r}",
         "legendgroup": "Regions=Bourgogne-Franche-Comté",
         "marker": {
          "color": "#fb9f3a"
         },
         "name": "Regions=Bourgogne-Franche-Comté",
         "r": [
          68.60271535022356
         ],
         "showlegend": true,
         "subplot": "polar",
         "theta": [
          "Bourgogne-Franche-Comté"
         ],
         "type": "barpolar"
        },
        {
         "hoverlabel": {
          "namelength": 0
         },
         "hovertemplate": "Regions=%{theta}<br>Annee=2003<br>Quantite=%{r}",
         "legendgroup": "Regions=Bretagne",
         "marker": {
          "color": "#ed7953"
         },
         "name": "Regions=Bretagne",
         "r": [
          113.28956721311478
         ],
         "showlegend": true,
         "subplot": "polar",
         "theta": [
          "Bretagne"
         ],
         "type": "barpolar"
        },
        {
         "hoverlabel": {
          "namelength": 0
         },
         "hovertemplate": "Regions=%{theta}<br>Annee=2003<br>Quantite=%{r}",
         "legendgroup": "Regions=Centre-Val de Loire",
         "marker": {
          "color": "#d8576b"
         },
         "name": "Regions=Centre-Val de Loire",
         "r": [
          70.15538755304101
         ],
         "showlegend": true,
         "subplot": "polar",
         "theta": [
          "Centre-Val de Loire"
         ],
         "type": "barpolar"
        },
        {
         "hoverlabel": {
          "namelength": 0
         },
         "hovertemplate": "Regions=%{theta}<br>Annee=2003<br>Quantite=%{r}",
         "legendgroup": "Regions=Corse",
         "marker": {
          "color": "#bd3786"
         },
         "name": "Regions=Corse",
         "r": [
          29.357583333333327
         ],
         "showlegend": true,
         "subplot": "polar",
         "theta": [
          "Corse"
         ],
         "type": "barpolar"
        },
        {
         "hoverlabel": {
          "namelength": 0
         },
         "hovertemplate": "Regions=%{theta}<br>Annee=2003<br>Quantite=%{r}",
         "legendgroup": "Regions=Grand Est",
         "marker": {
          "color": "#9c179e"
         },
         "name": "Regions=Grand Est",
         "r": [
          221.1060000000001
         ],
         "showlegend": true,
         "subplot": "polar",
         "theta": [
          "Grand Est"
         ],
         "type": "barpolar"
        },
        {
         "hoverlabel": {
          "namelength": 0
         },
         "hovertemplate": "Regions=%{theta}<br>Annee=2003<br>Quantite=%{r}",
         "legendgroup": "Regions=Hauts-de-France",
         "marker": {
          "color": "#7201a8"
         },
         "name": "Regions=Hauts-de-France",
         "r": [
          605.025212820513
         ],
         "showlegend": true,
         "subplot": "polar",
         "theta": [
          "Hauts-de-France"
         ],
         "type": "barpolar"
        },
        {
         "hoverlabel": {
          "namelength": 0
         },
         "hovertemplate": "Regions=%{theta}<br>Annee=2003<br>Quantite=%{r}",
         "legendgroup": "Regions=Normandie",
         "marker": {
          "color": "#46039f"
         },
         "name": "Regions=Normandie",
         "r": [
          136.3433560794045
         ],
         "showlegend": true,
         "subplot": "polar",
         "theta": [
          "Normandie"
         ],
         "type": "barpolar"
        },
        {
         "hoverlabel": {
          "namelength": 0
         },
         "hovertemplate": "Regions=%{theta}<br>Annee=2003<br>Quantite=%{r}",
         "legendgroup": "Regions=Nouvelle-Aquitaine",
         "marker": {
          "color": "#0d0887"
         },
         "name": "Regions=Nouvelle-Aquitaine",
         "r": [
          38.67922810590631
         ],
         "showlegend": true,
         "subplot": "polar",
         "theta": [
          "Nouvelle-Aquitaine"
         ],
         "type": "barpolar"
        },
        {
         "hoverlabel": {
          "namelength": 0
         },
         "hovertemplate": "Regions=%{theta}<br>Annee=2003<br>Quantite=%{r}",
         "legendgroup": "Regions=Occitanie",
         "marker": {
          "color": "#fdca26"
         },
         "name": "Regions=Occitanie",
         "r": [
          71.37601731025298
         ],
         "showlegend": true,
         "subplot": "polar",
         "theta": [
          "Occitanie"
         ],
         "type": "barpolar"
        },
        {
         "hoverlabel": {
          "namelength": 0
         },
         "hovertemplate": "Regions=%{theta}<br>Annee=2003<br>Quantite=%{r}",
         "legendgroup": "Regions=Pays de la Loire",
         "marker": {
          "color": "#fb9f3a"
         },
         "name": "Regions=Pays de la Loire",
         "r": [
          168.6150223097113
         ],
         "showlegend": true,
         "subplot": "polar",
         "theta": [
          "Pays de la Loire"
         ],
         "type": "barpolar"
        },
        {
         "hoverlabel": {
          "namelength": 0
         },
         "hovertemplate": "Regions=%{theta}<br>Annee=2003<br>Quantite=%{r}",
         "legendgroup": "Regions=Provence-Alpes-Côte d'Azur",
         "marker": {
          "color": "#ed7953"
         },
         "name": "Regions=Provence-Alpes-Côte d'Azur",
         "r": [
          170.9569379844961
         ],
         "showlegend": true,
         "subplot": "polar",
         "theta": [
          "Provence-Alpes-Côte d'Azur"
         ],
         "type": "barpolar"
        },
        {
         "hoverlabel": {
          "namelength": 0
         },
         "hovertemplate": "Regions=%{theta}<br>Annee=2003<br>Quantite=%{r}",
         "legendgroup": "Regions=Île-de-France",
         "marker": {
          "color": "#d8576b"
         },
         "name": "Regions=Île-de-France",
         "r": [
          274.0511917211329
         ],
         "showlegend": true,
         "subplot": "polar",
         "theta": [
          "Île-de-France"
         ],
         "type": "barpolar"
        }
       ],
       "frames": [
        {
         "data": [
          {
           "hoverlabel": {
            "namelength": 0
           },
           "hovertemplate": "Regions=%{theta}<br>Annee=2003<br>Quantite=%{r}",
           "legendgroup": "Regions=Auvergne-Rhône-Alpes",
           "marker": {
            "color": "#fdca26"
           },
           "name": "Regions=Auvergne-Rhône-Alpes",
           "r": [
            228.727578465506
           ],
           "showlegend": true,
           "subplot": "polar",
           "theta": [
            "Auvergne-Rhône-Alpes"
           ],
           "type": "barpolar"
          },
          {
           "hoverlabel": {
            "namelength": 0
           },
           "hovertemplate": "Regions=%{theta}<br>Annee=2003<br>Quantite=%{r}",
           "legendgroup": "Regions=Bourgogne-Franche-Comté",
           "marker": {
            "color": "#fb9f3a"
           },
           "name": "Regions=Bourgogne-Franche-Comté",
           "r": [
            68.60271535022356
           ],
           "showlegend": true,
           "subplot": "polar",
           "theta": [
            "Bourgogne-Franche-Comté"
           ],
           "type": "barpolar"
          },
          {
           "hoverlabel": {
            "namelength": 0
           },
           "hovertemplate": "Regions=%{theta}<br>Annee=2003<br>Quantite=%{r}",
           "legendgroup": "Regions=Bretagne",
           "marker": {
            "color": "#ed7953"
           },
           "name": "Regions=Bretagne",
           "r": [
            113.28956721311478
           ],
           "showlegend": true,
           "subplot": "polar",
           "theta": [
            "Bretagne"
           ],
           "type": "barpolar"
          },
          {
           "hoverlabel": {
            "namelength": 0
           },
           "hovertemplate": "Regions=%{theta}<br>Annee=2003<br>Quantite=%{r}",
           "legendgroup": "Regions=Centre-Val de Loire",
           "marker": {
            "color": "#d8576b"
           },
           "name": "Regions=Centre-Val de Loire",
           "r": [
            70.15538755304101
           ],
           "showlegend": true,
           "subplot": "polar",
           "theta": [
            "Centre-Val de Loire"
           ],
           "type": "barpolar"
          },
          {
           "hoverlabel": {
            "namelength": 0
           },
           "hovertemplate": "Regions=%{theta}<br>Annee=2003<br>Quantite=%{r}",
           "legendgroup": "Regions=Corse",
           "marker": {
            "color": "#bd3786"
           },
           "name": "Regions=Corse",
           "r": [
            29.357583333333327
           ],
           "showlegend": true,
           "subplot": "polar",
           "theta": [
            "Corse"
           ],
           "type": "barpolar"
          },
          {
           "hoverlabel": {
            "namelength": 0
           },
           "hovertemplate": "Regions=%{theta}<br>Annee=2003<br>Quantite=%{r}",
           "legendgroup": "Regions=Grand Est",
           "marker": {
            "color": "#9c179e"
           },
           "name": "Regions=Grand Est",
           "r": [
            221.1060000000001
           ],
           "showlegend": true,
           "subplot": "polar",
           "theta": [
            "Grand Est"
           ],
           "type": "barpolar"
          },
          {
           "hoverlabel": {
            "namelength": 0
           },
           "hovertemplate": "Regions=%{theta}<br>Annee=2003<br>Quantite=%{r}",
           "legendgroup": "Regions=Hauts-de-France",
           "marker": {
            "color": "#7201a8"
           },
           "name": "Regions=Hauts-de-France",
           "r": [
            605.025212820513
           ],
           "showlegend": true,
           "subplot": "polar",
           "theta": [
            "Hauts-de-France"
           ],
           "type": "barpolar"
          },
          {
           "hoverlabel": {
            "namelength": 0
           },
           "hovertemplate": "Regions=%{theta}<br>Annee=2003<br>Quantite=%{r}",
           "legendgroup": "Regions=Normandie",
           "marker": {
            "color": "#46039f"
           },
           "name": "Regions=Normandie",
           "r": [
            136.3433560794045
           ],
           "showlegend": true,
           "subplot": "polar",
           "theta": [
            "Normandie"
           ],
           "type": "barpolar"
          },
          {
           "hoverlabel": {
            "namelength": 0
           },
           "hovertemplate": "Regions=%{theta}<br>Annee=2003<br>Quantite=%{r}",
           "legendgroup": "Regions=Nouvelle-Aquitaine",
           "marker": {
            "color": "#0d0887"
           },
           "name": "Regions=Nouvelle-Aquitaine",
           "r": [
            38.67922810590631
           ],
           "showlegend": true,
           "subplot": "polar",
           "theta": [
            "Nouvelle-Aquitaine"
           ],
           "type": "barpolar"
          },
          {
           "hoverlabel": {
            "namelength": 0
           },
           "hovertemplate": "Regions=%{theta}<br>Annee=2003<br>Quantite=%{r}",
           "legendgroup": "Regions=Occitanie",
           "marker": {
            "color": "#fdca26"
           },
           "name": "Regions=Occitanie",
           "r": [
            71.37601731025298
           ],
           "showlegend": true,
           "subplot": "polar",
           "theta": [
            "Occitanie"
           ],
           "type": "barpolar"
          },
          {
           "hoverlabel": {
            "namelength": 0
           },
           "hovertemplate": "Regions=%{theta}<br>Annee=2003<br>Quantite=%{r}",
           "legendgroup": "Regions=Pays de la Loire",
           "marker": {
            "color": "#fb9f3a"
           },
           "name": "Regions=Pays de la Loire",
           "r": [
            168.6150223097113
           ],
           "showlegend": true,
           "subplot": "polar",
           "theta": [
            "Pays de la Loire"
           ],
           "type": "barpolar"
          },
          {
           "hoverlabel": {
            "namelength": 0
           },
           "hovertemplate": "Regions=%{theta}<br>Annee=2003<br>Quantite=%{r}",
           "legendgroup": "Regions=Provence-Alpes-Côte d'Azur",
           "marker": {
            "color": "#ed7953"
           },
           "name": "Regions=Provence-Alpes-Côte d'Azur",
           "r": [
            170.9569379844961
           ],
           "showlegend": true,
           "subplot": "polar",
           "theta": [
            "Provence-Alpes-Côte d'Azur"
           ],
           "type": "barpolar"
          },
          {
           "hoverlabel": {
            "namelength": 0
           },
           "hovertemplate": "Regions=%{theta}<br>Annee=2003<br>Quantite=%{r}",
           "legendgroup": "Regions=Île-de-France",
           "marker": {
            "color": "#d8576b"
           },
           "name": "Regions=Île-de-France",
           "r": [
            274.0511917211329
           ],
           "showlegend": true,
           "subplot": "polar",
           "theta": [
            "Île-de-France"
           ],
           "type": "barpolar"
          }
         ],
         "name": "2003"
        },
        {
         "data": [
          {
           "hoverlabel": {
            "namelength": 0
           },
           "hovertemplate": "Regions=%{theta}<br>Annee=2004<br>Quantite=%{r}",
           "legendgroup": "Regions=Auvergne-Rhône-Alpes",
           "marker": {
            "color": "#fdca26"
           },
           "name": "Regions=Auvergne-Rhône-Alpes",
           "r": [
            478.3199716312056
           ],
           "showlegend": true,
           "subplot": "polar",
           "theta": [
            "Auvergne-Rhône-Alpes"
           ],
           "type": "barpolar"
          },
          {
           "hoverlabel": {
            "namelength": 0
           },
           "hovertemplate": "Regions=%{theta}<br>Annee=2004<br>Quantite=%{r}",
           "legendgroup": "Regions=Bourgogne-Franche-Comté",
           "marker": {
            "color": "#fb9f3a"
           },
           "name": "Regions=Bourgogne-Franche-Comté",
           "r": [
            201.22145111773472
           ],
           "showlegend": true,
           "subplot": "polar",
           "theta": [
            "Bourgogne-Franche-Comté"
           ],
           "type": "barpolar"
          },
          {
           "hoverlabel": {
            "namelength": 0
           },
           "hovertemplate": "Regions=%{theta}<br>Annee=2004<br>Quantite=%{r}",
           "legendgroup": "Regions=Bretagne",
           "marker": {
            "color": "#ed7953"
           },
           "name": "Regions=Bretagne",
           "r": [
            179.27940163934431
           ],
           "showlegend": true,
           "subplot": "polar",
           "theta": [
            "Bretagne"
           ],
           "type": "barpolar"
          },
          {
           "hoverlabel": {
            "namelength": 0
           },
           "hovertemplate": "Regions=%{theta}<br>Annee=2004<br>Quantite=%{r}",
           "legendgroup": "Regions=Centre-Val de Loire",
           "marker": {
            "color": "#d8576b"
           },
           "name": "Regions=Centre-Val de Loire",
           "r": [
            224.26995502121636
           ],
           "showlegend": true,
           "subplot": "polar",
           "theta": [
            "Centre-Val de Loire"
           ],
           "type": "barpolar"
          },
          {
           "hoverlabel": {
            "namelength": 0
           },
           "hovertemplate": "Regions=%{theta}<br>Annee=2004<br>Quantite=%{r}",
           "legendgroup": "Regions=Corse",
           "marker": {
            "color": "#bd3786"
           },
           "name": "Regions=Corse",
           "r": [
            66.88833333333334
           ],
           "showlegend": true,
           "subplot": "polar",
           "theta": [
            "Corse"
           ],
           "type": "barpolar"
          },
          {
           "hoverlabel": {
            "namelength": 0
           },
           "hovertemplate": "Regions=%{theta}<br>Annee=2004<br>Quantite=%{r}",
           "legendgroup": "Regions=Grand Est",
           "marker": {
            "color": "#9c179e"
           },
           "name": "Regions=Grand Est",
           "r": [
            399.7167753016893
           ],
           "showlegend": true,
           "subplot": "polar",
           "theta": [
            "Grand Est"
           ],
           "type": "barpolar"
          },
          {
           "hoverlabel": {
            "namelength": 0
           },
           "hovertemplate": "Regions=%{theta}<br>Annee=2004<br>Quantite=%{r}",
           "legendgroup": "Regions=Hauts-de-France",
           "marker": {
            "color": "#7201a8"
           },
           "name": "Regions=Hauts-de-France",
           "r": [
            662.4125795625939
           ],
           "showlegend": true,
           "subplot": "polar",
           "theta": [
            "Hauts-de-France"
           ],
           "type": "barpolar"
          },
          {
           "hoverlabel": {
            "namelength": 0
           },
           "hovertemplate": "Regions=%{theta}<br>Annee=2004<br>Quantite=%{r}",
           "legendgroup": "Regions=Normandie",
           "marker": {
            "color": "#46039f"
           },
           "name": "Regions=Normandie",
           "r": [
            417.29938895781646
           ],
           "showlegend": true,
           "subplot": "polar",
           "theta": [
            "Normandie"
           ],
           "type": "barpolar"
          },
          {
           "hoverlabel": {
            "namelength": 0
           },
           "hovertemplate": "Regions=%{theta}<br>Annee=2004<br>Quantite=%{r}",
           "legendgroup": "Regions=Nouvelle-Aquitaine",
           "marker": {
            "color": "#0d0887"
           },
           "name": "Regions=Nouvelle-Aquitaine",
           "r": [
            193.304200610998
           ],
           "showlegend": true,
           "subplot": "polar",
           "theta": [
            "Nouvelle-Aquitaine"
           ],
           "type": "barpolar"
          },
          {
           "hoverlabel": {
            "namelength": 0
           },
           "hovertemplate": "Regions=%{theta}<br>Annee=2004<br>Quantite=%{r}",
           "legendgroup": "Regions=Occitanie",
           "marker": {
            "color": "#fdca26"
           },
           "name": "Regions=Occitanie",
           "r": [
            244.06472969374167
           ],
           "showlegend": true,
           "subplot": "polar",
           "theta": [
            "Occitanie"
           ],
           "type": "barpolar"
          },
          {
           "hoverlabel": {
            "namelength": 0
           },
           "hovertemplate": "Regions=%{theta}<br>Annee=2004<br>Quantite=%{r}",
           "legendgroup": "Regions=Pays de la Loire",
           "marker": {
            "color": "#fb9f3a"
           },
           "name": "Regions=Pays de la Loire",
           "r": [
            129.5893406824147
           ],
           "showlegend": true,
           "subplot": "polar",
           "theta": [
            "Pays de la Loire"
           ],
           "type": "barpolar"
          },
          {
           "hoverlabel": {
            "namelength": 0
           },
           "hovertemplate": "Regions=%{theta}<br>Annee=2004<br>Quantite=%{r}",
           "legendgroup": "Regions=Provence-Alpes-Côte d'Azur",
           "marker": {
            "color": "#ed7953"
           },
           "name": "Regions=Provence-Alpes-Côte d'Azur",
           "r": [
            441.1281519379844
           ],
           "showlegend": true,
           "subplot": "polar",
           "theta": [
            "Provence-Alpes-Côte d'Azur"
           ],
           "type": "barpolar"
          },
          {
           "hoverlabel": {
            "namelength": 0
           },
           "hovertemplate": "Regions=%{theta}<br>Annee=2004<br>Quantite=%{r}",
           "legendgroup": "Regions=Île-de-France",
           "marker": {
            "color": "#d8576b"
           },
           "name": "Regions=Île-de-France",
           "r": [
            449.08070904139424
           ],
           "showlegend": true,
           "subplot": "polar",
           "theta": [
            "Île-de-France"
           ],
           "type": "barpolar"
          }
         ],
         "name": "2004"
        },
        {
         "data": [
          {
           "hoverlabel": {
            "namelength": 0
           },
           "hovertemplate": "Regions=%{theta}<br>Annee=2005<br>Quantite=%{r}",
           "legendgroup": "Regions=Auvergne-Rhône-Alpes",
           "marker": {
            "color": "#fdca26"
           },
           "name": "Regions=Auvergne-Rhône-Alpes",
           "r": [
            418.0114595744686
           ],
           "showlegend": true,
           "subplot": "polar",
           "theta": [
            "Auvergne-Rhône-Alpes"
           ],
           "type": "barpolar"
          },
          {
           "hoverlabel": {
            "namelength": 0
           },
           "hovertemplate": "Regions=%{theta}<br>Annee=2005<br>Quantite=%{r}",
           "legendgroup": "Regions=Bourgogne-Franche-Comté",
           "marker": {
            "color": "#fb9f3a"
           },
           "name": "Regions=Bourgogne-Franche-Comté",
           "r": [
            237.38014932935926
           ],
           "showlegend": true,
           "subplot": "polar",
           "theta": [
            "Bourgogne-Franche-Comté"
           ],
           "type": "barpolar"
          },
          {
           "hoverlabel": {
            "namelength": 0
           },
           "hovertemplate": "Regions=%{theta}<br>Annee=2005<br>Quantite=%{r}",
           "legendgroup": "Regions=Bretagne",
           "marker": {
            "color": "#ed7953"
           },
           "name": "Regions=Bretagne",
           "r": [
            158.05491311475416
           ],
           "showlegend": true,
           "subplot": "polar",
           "theta": [
            "Bretagne"
           ],
           "type": "barpolar"
          },
          {
           "hoverlabel": {
            "namelength": 0
           },
           "hovertemplate": "Regions=%{theta}<br>Annee=2005<br>Quantite=%{r}",
           "legendgroup": "Regions=Centre-Val de Loire",
           "marker": {
            "color": "#d8576b"
           },
           "name": "Regions=Centre-Val de Loire",
           "r": [
            248.1278550212163
           ],
           "showlegend": true,
           "subplot": "polar",
           "theta": [
            "Centre-Val de Loire"
           ],
           "type": "barpolar"
          },
          {
           "hoverlabel": {
            "namelength": 0
           },
           "hovertemplate": "Regions=%{theta}<br>Annee=2005<br>Quantite=%{r}",
           "legendgroup": "Regions=Corse",
           "marker": {
            "color": "#bd3786"
           },
           "name": "Regions=Corse",
           "r": [
            30.91541666666667
           ],
           "showlegend": true,
           "subplot": "polar",
           "theta": [
            "Corse"
           ],
           "type": "barpolar"
          },
          {
           "hoverlabel": {
            "namelength": 0
           },
           "hovertemplate": "Regions=%{theta}<br>Annee=2005<br>Quantite=%{r}",
           "legendgroup": "Regions=Grand Est",
           "marker": {
            "color": "#9c179e"
           },
           "name": "Regions=Grand Est",
           "r": [
            451.8333579243765
           ],
           "showlegend": true,
           "subplot": "polar",
           "theta": [
            "Grand Est"
           ],
           "type": "barpolar"
          },
          {
           "hoverlabel": {
            "namelength": 0
           },
           "hovertemplate": "Regions=%{theta}<br>Annee=2005<br>Quantite=%{r}",
           "legendgroup": "Regions=Hauts-de-France",
           "marker": {
            "color": "#7201a8"
           },
           "name": "Regions=Hauts-de-France",
           "r": [
            673.2918068627456
           ],
           "showlegend": true,
           "subplot": "polar",
           "theta": [
            "Hauts-de-France"
           ],
           "type": "barpolar"
          },
          {
           "hoverlabel": {
            "namelength": 0
           },
           "hovertemplate": "Regions=%{theta}<br>Annee=2005<br>Quantite=%{r}",
           "legendgroup": "Regions=Normandie",
           "marker": {
            "color": "#46039f"
           },
           "name": "Regions=Normandie",
           "r": [
            491.43234737593
           ],
           "showlegend": true,
           "subplot": "polar",
           "theta": [
            "Normandie"
           ],
           "type": "barpolar"
          },
          {
           "hoverlabel": {
            "namelength": 0
           },
           "hovertemplate": "Regions=%{theta}<br>Annee=2005<br>Quantite=%{r}",
           "legendgroup": "Regions=Nouvelle-Aquitaine",
           "marker": {
            "color": "#0d0887"
           },
           "name": "Regions=Nouvelle-Aquitaine",
           "r": [
            281.76273167006093
           ],
           "showlegend": true,
           "subplot": "polar",
           "theta": [
            "Nouvelle-Aquitaine"
           ],
           "type": "barpolar"
          },
          {
           "hoverlabel": {
            "namelength": 0
           },
           "hovertemplate": "Regions=%{theta}<br>Annee=2005<br>Quantite=%{r}",
           "legendgroup": "Regions=Occitanie",
           "marker": {
            "color": "#fdca26"
           },
           "name": "Regions=Occitanie",
           "r": [
            288.3699021304927
           ],
           "showlegend": true,
           "subplot": "polar",
           "theta": [
            "Occitanie"
           ],
           "type": "barpolar"
          },
          {
           "hoverlabel": {
            "namelength": 0
           },
           "hovertemplate": "Regions=%{theta}<br>Annee=2005<br>Quantite=%{r}",
           "legendgroup": "Regions=Pays de la Loire",
           "marker": {
            "color": "#fb9f3a"
           },
           "name": "Regions=Pays de la Loire",
           "r": [
            157.82900862860893
           ],
           "showlegend": true,
           "subplot": "polar",
           "theta": [
            "Pays de la Loire"
           ],
           "type": "barpolar"
          },
          {
           "hoverlabel": {
            "namelength": 0
           },
           "hovertemplate": "Regions=%{theta}<br>Annee=2005<br>Quantite=%{r}",
           "legendgroup": "Regions=Provence-Alpes-Côte d'Azur",
           "marker": {
            "color": "#ed7953"
           },
           "name": "Regions=Provence-Alpes-Côte d'Azur",
           "r": [
            460.75462372093017
           ],
           "showlegend": true,
           "subplot": "polar",
           "theta": [
            "Provence-Alpes-Côte d'Azur"
           ],
           "type": "barpolar"
          },
          {
           "hoverlabel": {
            "namelength": 0
           },
           "hovertemplate": "Regions=%{theta}<br>Annee=2005<br>Quantite=%{r}",
           "legendgroup": "Regions=Île-de-France",
           "marker": {
            "color": "#d8576b"
           },
           "name": "Regions=Île-de-France",
           "r": [
            457.215560348584
           ],
           "showlegend": true,
           "subplot": "polar",
           "theta": [
            "Île-de-France"
           ],
           "type": "barpolar"
          }
         ],
         "name": "2005"
        },
        {
         "data": [
          {
           "hoverlabel": {
            "namelength": 0
           },
           "hovertemplate": "Regions=%{theta}<br>Annee=2006<br>Quantite=%{r}",
           "legendgroup": "Regions=Auvergne-Rhône-Alpes",
           "marker": {
            "color": "#fdca26"
           },
           "name": "Regions=Auvergne-Rhône-Alpes",
           "r": [
            420.30805796260495
           ],
           "showlegend": true,
           "subplot": "polar",
           "theta": [
            "Auvergne-Rhône-Alpes"
           ],
           "type": "barpolar"
          },
          {
           "hoverlabel": {
            "namelength": 0
           },
           "hovertemplate": "Regions=%{theta}<br>Annee=2006<br>Quantite=%{r}",
           "legendgroup": "Regions=Bourgogne-Franche-Comté",
           "marker": {
            "color": "#fb9f3a"
           },
           "name": "Regions=Bourgogne-Franche-Comté",
           "r": [
            247.13054769001508
           ],
           "showlegend": true,
           "subplot": "polar",
           "theta": [
            "Bourgogne-Franche-Comté"
           ],
           "type": "barpolar"
          },
          {
           "hoverlabel": {
            "namelength": 0
           },
           "hovertemplate": "Regions=%{theta}<br>Annee=2006<br>Quantite=%{r}",
           "legendgroup": "Regions=Bretagne",
           "marker": {
            "color": "#ed7953"
           },
           "name": "Regions=Bretagne",
           "r": [
            173.92908803278684
           ],
           "showlegend": true,
           "subplot": "polar",
           "theta": [
            "Bretagne"
           ],
           "type": "barpolar"
          },
          {
           "hoverlabel": {
            "namelength": 0
           },
           "hovertemplate": "Regions=%{theta}<br>Annee=2006<br>Quantite=%{r}",
           "legendgroup": "Regions=Centre-Val de Loire",
           "marker": {
            "color": "#d8576b"
           },
           "name": "Regions=Centre-Val de Loire",
           "r": [
            205.74589561527603
           ],
           "showlegend": true,
           "subplot": "polar",
           "theta": [
            "Centre-Val de Loire"
           ],
           "type": "barpolar"
          },
          {
           "hoverlabel": {
            "namelength": 0
           },
           "hovertemplate": "Regions=%{theta}<br>Annee=2006<br>Quantite=%{r}",
           "legendgroup": "Regions=Corse",
           "marker": {
            "color": "#bd3786"
           },
           "name": "Regions=Corse",
           "r": [
            33.15583333333334
           ],
           "showlegend": true,
           "subplot": "polar",
           "theta": [
            "Corse"
           ],
           "type": "barpolar"
          },
          {
           "hoverlabel": {
            "namelength": 0
           },
           "hovertemplate": "Regions=%{theta}<br>Annee=2006<br>Quantite=%{r}",
           "legendgroup": "Regions=Grand Est",
           "marker": {
            "color": "#9c179e"
           },
           "name": "Regions=Grand Est",
           "r": [
            367.511252212389
           ],
           "showlegend": true,
           "subplot": "polar",
           "theta": [
            "Grand Est"
           ],
           "type": "barpolar"
          },
          {
           "hoverlabel": {
            "namelength": 0
           },
           "hovertemplate": "Regions=%{theta}<br>Annee=2006<br>Quantite=%{r}",
           "legendgroup": "Regions=Hauts-de-France",
           "marker": {
            "color": "#7201a8"
           },
           "name": "Regions=Hauts-de-France",
           "r": [
            629.9952449472099
           ],
           "showlegend": true,
           "subplot": "polar",
           "theta": [
            "Hauts-de-France"
           ],
           "type": "barpolar"
          },
          {
           "hoverlabel": {
            "namelength": 0
           },
           "hovertemplate": "Regions=%{theta}<br>Annee=2006<br>Quantite=%{r}",
           "legendgroup": "Regions=Normandie",
           "marker": {
            "color": "#46039f"
           },
           "name": "Regions=Normandie",
           "r": [
            823.3462707506211
           ],
           "showlegend": true,
           "subplot": "polar",
           "theta": [
            "Normandie"
           ],
           "type": "barpolar"
          },
          {
           "hoverlabel": {
            "namelength": 0
           },
           "hovertemplate": "Regions=%{theta}<br>Annee=2006<br>Quantite=%{r}",
           "legendgroup": "Regions=Nouvelle-Aquitaine",
           "marker": {
            "color": "#0d0887"
           },
           "name": "Regions=Nouvelle-Aquitaine",
           "r": [
            275.11396221995915
           ],
           "showlegend": true,
           "subplot": "polar",
           "theta": [
            "Nouvelle-Aquitaine"
           ],
           "type": "barpolar"
          },
          {
           "hoverlabel": {
            "namelength": 0
           },
           "hovertemplate": "Regions=%{theta}<br>Annee=2006<br>Quantite=%{r}",
           "legendgroup": "Regions=Occitanie",
           "marker": {
            "color": "#fdca26"
           },
           "name": "Regions=Occitanie",
           "r": [
            269.81547230359524
           ],
           "showlegend": true,
           "subplot": "polar",
           "theta": [
            "Occitanie"
           ],
           "type": "barpolar"
          },
          {
           "hoverlabel": {
            "namelength": 0
           },
           "hovertemplate": "Regions=%{theta}<br>Annee=2006<br>Quantite=%{r}",
           "legendgroup": "Regions=Pays de la Loire",
           "marker": {
            "color": "#fb9f3a"
           },
           "name": "Regions=Pays de la Loire",
           "r": [
            168.86650196850402
           ],
           "showlegend": true,
           "subplot": "polar",
           "theta": [
            "Pays de la Loire"
           ],
           "type": "barpolar"
          },
          {
           "hoverlabel": {
            "namelength": 0
           },
           "hovertemplate": "Regions=%{theta}<br>Annee=2006<br>Quantite=%{r}",
           "legendgroup": "Regions=Provence-Alpes-Côte d'Azur",
           "marker": {
            "color": "#ed7953"
           },
           "name": "Regions=Provence-Alpes-Côte d'Azur",
           "r": [
            420.4864992248062
           ],
           "showlegend": true,
           "subplot": "polar",
           "theta": [
            "Provence-Alpes-Côte d'Azur"
           ],
           "type": "barpolar"
          },
          {
           "hoverlabel": {
            "namelength": 0
           },
           "hovertemplate": "Regions=%{theta}<br>Annee=2006<br>Quantite=%{r}",
           "legendgroup": "Regions=Île-de-France",
           "marker": {
            "color": "#d8576b"
           },
           "name": "Regions=Île-de-France",
           "r": [
            487.8276294117649
           ],
           "showlegend": true,
           "subplot": "polar",
           "theta": [
            "Île-de-France"
           ],
           "type": "barpolar"
          }
         ],
         "name": "2006"
        },
        {
         "data": [
          {
           "hoverlabel": {
            "namelength": 0
           },
           "hovertemplate": "Regions=%{theta}<br>Annee=2007<br>Quantite=%{r}",
           "legendgroup": "Regions=Auvergne-Rhône-Alpes",
           "marker": {
            "color": "#fdca26"
           },
           "name": "Regions=Auvergne-Rhône-Alpes",
           "r": [
            387.3510669245651
           ],
           "showlegend": true,
           "subplot": "polar",
           "theta": [
            "Auvergne-Rhône-Alpes"
           ],
           "type": "barpolar"
          },
          {
           "hoverlabel": {
            "namelength": 0
           },
           "hovertemplate": "Regions=%{theta}<br>Annee=2007<br>Quantite=%{r}",
           "legendgroup": "Regions=Bourgogne-Franche-Comté",
           "marker": {
            "color": "#fb9f3a"
           },
           "name": "Regions=Bourgogne-Franche-Comté",
           "r": [
            414.4841275707896
           ],
           "showlegend": true,
           "subplot": "polar",
           "theta": [
            "Bourgogne-Franche-Comté"
           ],
           "type": "barpolar"
          },
          {
           "hoverlabel": {
            "namelength": 0
           },
           "hovertemplate": "Regions=%{theta}<br>Annee=2007<br>Quantite=%{r}",
           "legendgroup": "Regions=Bretagne",
           "marker": {
            "color": "#ed7953"
           },
           "name": "Regions=Bretagne",
           "r": [
            141.23541573770484
           ],
           "showlegend": true,
           "subplot": "polar",
           "theta": [
            "Bretagne"
           ],
           "type": "barpolar"
          },
          {
           "hoverlabel": {
            "namelength": 0
           },
           "hovertemplate": "Regions=%{theta}<br>Annee=2007<br>Quantite=%{r}",
           "legendgroup": "Regions=Centre-Val de Loire",
           "marker": {
            "color": "#d8576b"
           },
           "name": "Regions=Centre-Val de Loire",
           "r": [
            173.36095869872707
           ],
           "showlegend": true,
           "subplot": "polar",
           "theta": [
            "Centre-Val de Loire"
           ],
           "type": "barpolar"
          },
          {
           "hoverlabel": {
            "namelength": 0
           },
           "hovertemplate": "Regions=%{theta}<br>Annee=2007<br>Quantite=%{r}",
           "legendgroup": "Regions=Corse",
           "marker": {
            "color": "#bd3786"
           },
           "name": "Regions=Corse",
           "r": [
            1261.3067083333333
           ],
           "showlegend": true,
           "subplot": "polar",
           "theta": [
            "Corse"
           ],
           "type": "barpolar"
          },
          {
           "hoverlabel": {
            "namelength": 0
           },
           "hovertemplate": "Regions=%{theta}<br>Annee=2007<br>Quantite=%{r}",
           "legendgroup": "Regions=Grand Est",
           "marker": {
            "color": "#9c179e"
           },
           "name": "Regions=Grand Est",
           "r": [
            585.5822593242148
           ],
           "showlegend": true,
           "subplot": "polar",
           "theta": [
            "Grand Est"
           ],
           "type": "barpolar"
          },
          {
           "hoverlabel": {
            "namelength": 0
           },
           "hovertemplate": "Regions=%{theta}<br>Annee=2007<br>Quantite=%{r}",
           "legendgroup": "Regions=Hauts-de-France",
           "marker": {
            "color": "#7201a8"
           },
           "name": "Regions=Hauts-de-France",
           "r": [
            729.1038576923081
           ],
           "showlegend": true,
           "subplot": "polar",
           "theta": [
            "Hauts-de-France"
           ],
           "type": "barpolar"
          },
          {
           "hoverlabel": {
            "namelength": 0
           },
           "hovertemplate": "Regions=%{theta}<br>Annee=2007<br>Quantite=%{r}",
           "legendgroup": "Regions=Normandie",
           "marker": {
            "color": "#46039f"
           },
           "name": "Regions=Normandie",
           "r": [
            612.8193443052104
           ],
           "showlegend": true,
           "subplot": "polar",
           "theta": [
            "Normandie"
           ],
           "type": "barpolar"
          },
          {
           "hoverlabel": {
            "namelength": 0
           },
           "hovertemplate": "Regions=%{theta}<br>Annee=2007<br>Quantite=%{r}",
           "legendgroup": "Regions=Nouvelle-Aquitaine",
           "marker": {
            "color": "#0d0887"
           },
           "name": "Regions=Nouvelle-Aquitaine",
           "r": [
            281.38856059063136
           ],
           "showlegend": true,
           "subplot": "polar",
           "theta": [
            "Nouvelle-Aquitaine"
           ],
           "type": "barpolar"
          },
          {
           "hoverlabel": {
            "namelength": 0
           },
           "hovertemplate": "Regions=%{theta}<br>Annee=2007<br>Quantite=%{r}",
           "legendgroup": "Regions=Occitanie",
           "marker": {
            "color": "#fdca26"
           },
           "name": "Regions=Occitanie",
           "r": [
            284.9772520639149
           ],
           "showlegend": true,
           "subplot": "polar",
           "theta": [
            "Occitanie"
           ],
           "type": "barpolar"
          },
          {
           "hoverlabel": {
            "namelength": 0
           },
           "hovertemplate": "Regions=%{theta}<br>Annee=2007<br>Quantite=%{r}",
           "legendgroup": "Regions=Pays de la Loire",
           "marker": {
            "color": "#fb9f3a"
           },
           "name": "Regions=Pays de la Loire",
           "r": [
            193.71181797900272
           ],
           "showlegend": true,
           "subplot": "polar",
           "theta": [
            "Pays de la Loire"
           ],
           "type": "barpolar"
          },
          {
           "hoverlabel": {
            "namelength": 0
           },
           "hovertemplate": "Regions=%{theta}<br>Annee=2007<br>Quantite=%{r}",
           "legendgroup": "Regions=Provence-Alpes-Côte d'Azur",
           "marker": {
            "color": "#ed7953"
           },
           "name": "Regions=Provence-Alpes-Côte d'Azur",
           "r": [
            396.00917674418605
           ],
           "showlegend": true,
           "subplot": "polar",
           "theta": [
            "Provence-Alpes-Côte d'Azur"
           ],
           "type": "barpolar"
          },
          {
           "hoverlabel": {
            "namelength": 0
           },
           "hovertemplate": "Regions=%{theta}<br>Annee=2007<br>Quantite=%{r}",
           "legendgroup": "Regions=Île-de-France",
           "marker": {
            "color": "#d8576b"
           },
           "name": "Regions=Île-de-France",
           "r": [
            580.3342025054465
           ],
           "showlegend": true,
           "subplot": "polar",
           "theta": [
            "Île-de-France"
           ],
           "type": "barpolar"
          }
         ],
         "name": "2007"
        },
        {
         "data": [
          {
           "hoverlabel": {
            "namelength": 0
           },
           "hovertemplate": "Regions=%{theta}<br>Annee=2008<br>Quantite=%{r}",
           "legendgroup": "Regions=Auvergne-Rhône-Alpes",
           "marker": {
            "color": "#fdca26"
           },
           "name": "Regions=Auvergne-Rhône-Alpes",
           "r": [
            371.4601896195999
           ],
           "showlegend": true,
           "subplot": "polar",
           "theta": [
            "Auvergne-Rhône-Alpes"
           ],
           "type": "barpolar"
          },
          {
           "hoverlabel": {
            "namelength": 0
           },
           "hovertemplate": "Regions=%{theta}<br>Annee=2008<br>Quantite=%{r}",
           "legendgroup": "Regions=Bourgogne-Franche-Comté",
           "marker": {
            "color": "#fb9f3a"
           },
           "name": "Regions=Bourgogne-Franche-Comté",
           "r": [
            237.6485622205661
           ],
           "showlegend": true,
           "subplot": "polar",
           "theta": [
            "Bourgogne-Franche-Comté"
           ],
           "type": "barpolar"
          },
          {
           "hoverlabel": {
            "namelength": 0
           },
           "hovertemplate": "Regions=%{theta}<br>Annee=2008<br>Quantite=%{r}",
           "legendgroup": "Regions=Bretagne",
           "marker": {
            "color": "#ed7953"
           },
           "name": "Regions=Bretagne",
           "r": [
            138.74109672131158
           ],
           "showlegend": true,
           "subplot": "polar",
           "theta": [
            "Bretagne"
           ],
           "type": "barpolar"
          },
          {
           "hoverlabel": {
            "namelength": 0
           },
           "hovertemplate": "Regions=%{theta}<br>Annee=2008<br>Quantite=%{r}",
           "legendgroup": "Regions=Centre-Val de Loire",
           "marker": {
            "color": "#d8576b"
           },
           "name": "Regions=Centre-Val de Loire",
           "r": [
            166.75467765205093
           ],
           "showlegend": true,
           "subplot": "polar",
           "theta": [
            "Centre-Val de Loire"
           ],
           "type": "barpolar"
          },
          {
           "hoverlabel": {
            "namelength": 0
           },
           "hovertemplate": "Regions=%{theta}<br>Annee=2008<br>Quantite=%{r}",
           "legendgroup": "Regions=Corse",
           "marker": {
            "color": "#bd3786"
           },
           "name": "Regions=Corse",
           "r": [
            72.39914583333332
           ],
           "showlegend": true,
           "subplot": "polar",
           "theta": [
            "Corse"
           ],
           "type": "barpolar"
          },
          {
           "hoverlabel": {
            "namelength": 0
           },
           "hovertemplate": "Regions=%{theta}<br>Annee=2008<br>Quantite=%{r}",
           "legendgroup": "Regions=Grand Est",
           "marker": {
            "color": "#9c179e"
           },
           "name": "Regions=Grand Est",
           "r": [
            570.1501443925982
           ],
           "showlegend": true,
           "subplot": "polar",
           "theta": [
            "Grand Est"
           ],
           "type": "barpolar"
          },
          {
           "hoverlabel": {
            "namelength": 0
           },
           "hovertemplate": "Regions=%{theta}<br>Annee=2008<br>Quantite=%{r}",
           "legendgroup": "Regions=Hauts-de-France",
           "marker": {
            "color": "#7201a8"
           },
           "name": "Regions=Hauts-de-France",
           "r": [
            661.7492424585216
           ],
           "showlegend": true,
           "subplot": "polar",
           "theta": [
            "Hauts-de-France"
           ],
           "type": "barpolar"
          },
          {
           "hoverlabel": {
            "namelength": 0
           },
           "hovertemplate": "Regions=%{theta}<br>Annee=2008<br>Quantite=%{r}",
           "legendgroup": "Regions=Normandie",
           "marker": {
            "color": "#46039f"
           },
           "name": "Regions=Normandie",
           "r": [
            629.1590988598007
           ],
           "showlegend": true,
           "subplot": "polar",
           "theta": [
            "Normandie"
           ],
           "type": "barpolar"
          },
          {
           "hoverlabel": {
            "namelength": 0
           },
           "hovertemplate": "Regions=%{theta}<br>Annee=2008<br>Quantite=%{r}",
           "legendgroup": "Regions=Nouvelle-Aquitaine",
           "marker": {
            "color": "#0d0887"
           },
           "name": "Regions=Nouvelle-Aquitaine",
           "r": [
            266.83279867617114
           ],
           "showlegend": true,
           "subplot": "polar",
           "theta": [
            "Nouvelle-Aquitaine"
           ],
           "type": "barpolar"
          },
          {
           "hoverlabel": {
            "namelength": 0
           },
           "hovertemplate": "Regions=%{theta}<br>Annee=2008<br>Quantite=%{r}",
           "legendgroup": "Regions=Occitanie",
           "marker": {
            "color": "#fdca26"
           },
           "name": "Regions=Occitanie",
           "r": [
            300.0888280559253
           ],
           "showlegend": true,
           "subplot": "polar",
           "theta": [
            "Occitanie"
           ],
           "type": "barpolar"
          },
          {
           "hoverlabel": {
            "namelength": 0
           },
           "hovertemplate": "Regions=%{theta}<br>Annee=2008<br>Quantite=%{r}",
           "legendgroup": "Regions=Pays de la Loire",
           "marker": {
            "color": "#fb9f3a"
           },
           "name": "Regions=Pays de la Loire",
           "r": [
            199.36291259842508
           ],
           "showlegend": true,
           "subplot": "polar",
           "theta": [
            "Pays de la Loire"
           ],
           "type": "barpolar"
          },
          {
           "hoverlabel": {
            "namelength": 0
           },
           "hovertemplate": "Regions=%{theta}<br>Annee=2008<br>Quantite=%{r}",
           "legendgroup": "Regions=Provence-Alpes-Côte d'Azur",
           "marker": {
            "color": "#ed7953"
           },
           "name": "Regions=Provence-Alpes-Côte d'Azur",
           "r": [
            534.9004274418603
           ],
           "showlegend": true,
           "subplot": "polar",
           "theta": [
            "Provence-Alpes-Côte d'Azur"
           ],
           "type": "barpolar"
          },
          {
           "hoverlabel": {
            "namelength": 0
           },
           "hovertemplate": "Regions=%{theta}<br>Annee=2008<br>Quantite=%{r}",
           "legendgroup": "Regions=Île-de-France",
           "marker": {
            "color": "#d8576b"
           },
           "name": "Regions=Île-de-France",
           "r": [
            562.5064261873637
           ],
           "showlegend": true,
           "subplot": "polar",
           "theta": [
            "Île-de-France"
           ],
           "type": "barpolar"
          }
         ],
         "name": "2008"
        },
        {
         "data": [
          {
           "hoverlabel": {
            "namelength": 0
           },
           "hovertemplate": "Regions=%{theta}<br>Annee=2009<br>Quantite=%{r}",
           "legendgroup": "Regions=Auvergne-Rhône-Alpes",
           "marker": {
            "color": "#fdca26"
           },
           "name": "Regions=Auvergne-Rhône-Alpes",
           "r": [
            334.039519987105
           ],
           "showlegend": true,
           "subplot": "polar",
           "theta": [
            "Auvergne-Rhône-Alpes"
           ],
           "type": "barpolar"
          },
          {
           "hoverlabel": {
            "namelength": 0
           },
           "hovertemplate": "Regions=%{theta}<br>Annee=2009<br>Quantite=%{r}",
           "legendgroup": "Regions=Bourgogne-Franche-Comté",
           "marker": {
            "color": "#fb9f3a"
           },
           "name": "Regions=Bourgogne-Franche-Comté",
           "r": [
            204.32921207153473
           ],
           "showlegend": true,
           "subplot": "polar",
           "theta": [
            "Bourgogne-Franche-Comté"
           ],
           "type": "barpolar"
          },
          {
           "hoverlabel": {
            "namelength": 0
           },
           "hovertemplate": "Regions=%{theta}<br>Annee=2009<br>Quantite=%{r}",
           "legendgroup": "Regions=Bretagne",
           "marker": {
            "color": "#ed7953"
           },
           "name": "Regions=Bretagne",
           "r": [
            356.6337467213115
           ],
           "showlegend": true,
           "subplot": "polar",
           "theta": [
            "Bretagne"
           ],
           "type": "barpolar"
          },
          {
           "hoverlabel": {
            "namelength": 0
           },
           "hovertemplate": "Regions=%{theta}<br>Annee=2009<br>Quantite=%{r}",
           "legendgroup": "Regions=Centre-Val de Loire",
           "marker": {
            "color": "#d8576b"
           },
           "name": "Regions=Centre-Val de Loire",
           "r": [
            151.85005156294193
           ],
           "showlegend": true,
           "subplot": "polar",
           "theta": [
            "Centre-Val de Loire"
           ],
           "type": "barpolar"
          },
          {
           "hoverlabel": {
            "namelength": 0
           },
           "hovertemplate": "Regions=%{theta}<br>Annee=2009<br>Quantite=%{r}",
           "legendgroup": "Regions=Corse",
           "marker": {
            "color": "#bd3786"
           },
           "name": "Regions=Corse",
           "r": [
            65.42904166666666
           ],
           "showlegend": true,
           "subplot": "polar",
           "theta": [
            "Corse"
           ],
           "type": "barpolar"
          },
          {
           "hoverlabel": {
            "namelength": 0
           },
           "hovertemplate": "Regions=%{theta}<br>Annee=2009<br>Quantite=%{r}",
           "legendgroup": "Regions=Grand Est",
           "marker": {
            "color": "#9c179e"
           },
           "name": "Regions=Grand Est",
           "r": [
            525.3157205309734
           ],
           "showlegend": true,
           "subplot": "polar",
           "theta": [
            "Grand Est"
           ],
           "type": "barpolar"
          },
          {
           "hoverlabel": {
            "namelength": 0
           },
           "hovertemplate": "Regions=%{theta}<br>Annee=2009<br>Quantite=%{r}",
           "legendgroup": "Regions=Hauts-de-France",
           "marker": {
            "color": "#7201a8"
           },
           "name": "Regions=Hauts-de-France",
           "r": [
            586.8724719984917
           ],
           "showlegend": true,
           "subplot": "polar",
           "theta": [
            "Hauts-de-France"
           ],
           "type": "barpolar"
          },
          {
           "hoverlabel": {
            "namelength": 0
           },
           "hovertemplate": "Regions=%{theta}<br>Annee=2009<br>Quantite=%{r}",
           "legendgroup": "Regions=Normandie",
           "marker": {
            "color": "#46039f"
           },
           "name": "Regions=Normandie",
           "r": [
            649.897744069479
           ],
           "showlegend": true,
           "subplot": "polar",
           "theta": [
            "Normandie"
           ],
           "type": "barpolar"
          },
          {
           "hoverlabel": {
            "namelength": 0
           },
           "hovertemplate": "Regions=%{theta}<br>Annee=2009<br>Quantite=%{r}",
           "legendgroup": "Regions=Nouvelle-Aquitaine",
           "marker": {
            "color": "#0d0887"
           },
           "name": "Regions=Nouvelle-Aquitaine",
           "r": [
            262.0701346232179
           ],
           "showlegend": true,
           "subplot": "polar",
           "theta": [
            "Nouvelle-Aquitaine"
           ],
           "type": "barpolar"
          },
          {
           "hoverlabel": {
            "namelength": 0
           },
           "hovertemplate": "Regions=%{theta}<br>Annee=2009<br>Quantite=%{r}",
           "legendgroup": "Regions=Occitanie",
           "marker": {
            "color": "#fdca26"
           },
           "name": "Regions=Occitanie",
           "r": [
            290.98583968042624
           ],
           "showlegend": true,
           "subplot": "polar",
           "theta": [
            "Occitanie"
           ],
           "type": "barpolar"
          },
          {
           "hoverlabel": {
            "namelength": 0
           },
           "hovertemplate": "Regions=%{theta}<br>Annee=2009<br>Quantite=%{r}",
           "legendgroup": "Regions=Pays de la Loire",
           "marker": {
            "color": "#fb9f3a"
           },
           "name": "Regions=Pays de la Loire",
           "r": [
            149.07497782152237
           ],
           "showlegend": true,
           "subplot": "polar",
           "theta": [
            "Pays de la Loire"
           ],
           "type": "barpolar"
          },
          {
           "hoverlabel": {
            "namelength": 0
           },
           "hovertemplate": "Regions=%{theta}<br>Annee=2009<br>Quantite=%{r}",
           "legendgroup": "Regions=Provence-Alpes-Côte d'Azur",
           "marker": {
            "color": "#ed7953"
           },
           "name": "Regions=Provence-Alpes-Côte d'Azur",
           "r": [
            484.7443759689924
           ],
           "showlegend": true,
           "subplot": "polar",
           "theta": [
            "Provence-Alpes-Côte d'Azur"
           ],
           "type": "barpolar"
          },
          {
           "hoverlabel": {
            "namelength": 0
           },
           "hovertemplate": "Regions=%{theta}<br>Annee=2009<br>Quantite=%{r}",
           "legendgroup": "Regions=Île-de-France",
           "marker": {
            "color": "#d8576b"
           },
           "name": "Regions=Île-de-France",
           "r": [
            527.0533445533767
           ],
           "showlegend": true,
           "subplot": "polar",
           "theta": [
            "Île-de-France"
           ],
           "type": "barpolar"
          }
         ],
         "name": "2009"
        },
        {
         "data": [
          {
           "hoverlabel": {
            "namelength": 0
           },
           "hovertemplate": "Regions=%{theta}<br>Annee=2010<br>Quantite=%{r}",
           "legendgroup": "Regions=Auvergne-Rhône-Alpes",
           "marker": {
            "color": "#fdca26"
           },
           "name": "Regions=Auvergne-Rhône-Alpes",
           "r": [
            458.33066328175363
           ],
           "showlegend": true,
           "subplot": "polar",
           "theta": [
            "Auvergne-Rhône-Alpes"
           ],
           "type": "barpolar"
          },
          {
           "hoverlabel": {
            "namelength": 0
           },
           "hovertemplate": "Regions=%{theta}<br>Annee=2010<br>Quantite=%{r}",
           "legendgroup": "Regions=Bourgogne-Franche-Comté",
           "marker": {
            "color": "#fb9f3a"
           },
           "name": "Regions=Bourgogne-Franche-Comté",
           "r": [
            309.30950901639375
           ],
           "showlegend": true,
           "subplot": "polar",
           "theta": [
            "Bourgogne-Franche-Comté"
           ],
           "type": "barpolar"
          },
          {
           "hoverlabel": {
            "namelength": 0
           },
           "hovertemplate": "Regions=%{theta}<br>Annee=2010<br>Quantite=%{r}",
           "legendgroup": "Regions=Bretagne",
           "marker": {
            "color": "#ed7953"
           },
           "name": "Regions=Bretagne",
           "r": [
            161.5517214754097
           ],
           "showlegend": true,
           "subplot": "polar",
           "theta": [
            "Bretagne"
           ],
           "type": "barpolar"
          },
          {
           "hoverlabel": {
            "namelength": 0
           },
           "hovertemplate": "Regions=%{theta}<br>Annee=2010<br>Quantite=%{r}",
           "legendgroup": "Regions=Centre-Val de Loire",
           "marker": {
            "color": "#d8576b"
           },
           "name": "Regions=Centre-Val de Loire",
           "r": [
            211.78065719943436
           ],
           "showlegend": true,
           "subplot": "polar",
           "theta": [
            "Centre-Val de Loire"
           ],
           "type": "barpolar"
          },
          {
           "hoverlabel": {
            "namelength": 0
           },
           "hovertemplate": "Regions=%{theta}<br>Annee=2010<br>Quantite=%{r}",
           "legendgroup": "Regions=Corse",
           "marker": {
            "color": "#bd3786"
           },
           "name": "Regions=Corse",
           "r": [
            50.887541666666664
           ],
           "showlegend": true,
           "subplot": "polar",
           "theta": [
            "Corse"
           ],
           "type": "barpolar"
          },
          {
           "hoverlabel": {
            "namelength": 0
           },
           "hovertemplate": "Regions=%{theta}<br>Annee=2010<br>Quantite=%{r}",
           "legendgroup": "Regions=Grand Est",
           "marker": {
            "color": "#9c179e"
           },
           "name": "Regions=Grand Est",
           "r": [
            535.4884594368459
           ],
           "showlegend": true,
           "subplot": "polar",
           "theta": [
            "Grand Est"
           ],
           "type": "barpolar"
          },
          {
           "hoverlabel": {
            "namelength": 0
           },
           "hovertemplate": "Regions=%{theta}<br>Annee=2010<br>Quantite=%{r}",
           "legendgroup": "Regions=Hauts-de-France",
           "marker": {
            "color": "#7201a8"
           },
           "name": "Regions=Hauts-de-France",
           "r": [
            607.0955232429119
           ],
           "showlegend": true,
           "subplot": "polar",
           "theta": [
            "Hauts-de-France"
           ],
           "type": "barpolar"
          },
          {
           "hoverlabel": {
            "namelength": 0
           },
           "hovertemplate": "Regions=%{theta}<br>Annee=2010<br>Quantite=%{r}",
           "legendgroup": "Regions=Normandie",
           "marker": {
            "color": "#46039f"
           },
           "name": "Regions=Normandie",
           "r": [
            574.1182742555833
           ],
           "showlegend": true,
           "subplot": "polar",
           "theta": [
            "Normandie"
           ],
           "type": "barpolar"
          },
          {
           "hoverlabel": {
            "namelength": 0
           },
           "hovertemplate": "Regions=%{theta}<br>Annee=2010<br>Quantite=%{r}",
           "legendgroup": "Regions=Nouvelle-Aquitaine",
           "marker": {
            "color": "#0d0887"
           },
           "name": "Regions=Nouvelle-Aquitaine",
           "r": [
            308.8472005101831
           ],
           "showlegend": true,
           "subplot": "polar",
           "theta": [
            "Nouvelle-Aquitaine"
           ],
           "type": "barpolar"
          },
          {
           "hoverlabel": {
            "namelength": 0
           },
           "hovertemplate": "Regions=%{theta}<br>Annee=2010<br>Quantite=%{r}",
           "legendgroup": "Regions=Occitanie",
           "marker": {
            "color": "#fdca26"
           },
           "name": "Regions=Occitanie",
           "r": [
            341.89522551264986
           ],
           "showlegend": true,
           "subplot": "polar",
           "theta": [
            "Occitanie"
           ],
           "type": "barpolar"
          },
          {
           "hoverlabel": {
            "namelength": 0
           },
           "hovertemplate": "Regions=%{theta}<br>Annee=2010<br>Quantite=%{r}",
           "legendgroup": "Regions=Pays de la Loire",
           "marker": {
            "color": "#fb9f3a"
           },
           "name": "Regions=Pays de la Loire",
           "r": [
            201.80912467191607
           ],
           "showlegend": true,
           "subplot": "polar",
           "theta": [
            "Pays de la Loire"
           ],
           "type": "barpolar"
          },
          {
           "hoverlabel": {
            "namelength": 0
           },
           "hovertemplate": "Regions=%{theta}<br>Annee=2010<br>Quantite=%{r}",
           "legendgroup": "Regions=Provence-Alpes-Côte d'Azur",
           "marker": {
            "color": "#ed7953"
           },
           "name": "Regions=Provence-Alpes-Côte d'Azur",
           "r": [
            599.5287882170547
           ],
           "showlegend": true,
           "subplot": "polar",
           "theta": [
            "Provence-Alpes-Côte d'Azur"
           ],
           "type": "barpolar"
          },
          {
           "hoverlabel": {
            "namelength": 0
           },
           "hovertemplate": "Regions=%{theta}<br>Annee=2010<br>Quantite=%{r}",
           "legendgroup": "Regions=Île-de-France",
           "marker": {
            "color": "#d8576b"
           },
           "name": "Regions=Île-de-France",
           "r": [
            527.9686952069711
           ],
           "showlegend": true,
           "subplot": "polar",
           "theta": [
            "Île-de-France"
           ],
           "type": "barpolar"
          }
         ],
         "name": "2010"
        },
        {
         "data": [
          {
           "hoverlabel": {
            "namelength": 0
           },
           "hovertemplate": "Regions=%{theta}<br>Annee=2011<br>Quantite=%{r}",
           "legendgroup": "Regions=Auvergne-Rhône-Alpes",
           "marker": {
            "color": "#fdca26"
           },
           "name": "Regions=Auvergne-Rhône-Alpes",
           "r": [
            377.79542263056067
           ],
           "showlegend": true,
           "subplot": "polar",
           "theta": [
            "Auvergne-Rhône-Alpes"
           ],
           "type": "barpolar"
          },
          {
           "hoverlabel": {
            "namelength": 0
           },
           "hovertemplate": "Regions=%{theta}<br>Annee=2011<br>Quantite=%{r}",
           "legendgroup": "Regions=Bourgogne-Franche-Comté",
           "marker": {
            "color": "#fb9f3a"
           },
           "name": "Regions=Bourgogne-Franche-Comté",
           "r": [
            283.2421418777945
           ],
           "showlegend": true,
           "subplot": "polar",
           "theta": [
            "Bourgogne-Franche-Comté"
           ],
           "type": "barpolar"
          },
          {
           "hoverlabel": {
            "namelength": 0
           },
           "hovertemplate": "Regions=%{theta}<br>Annee=2011<br>Quantite=%{r}",
           "legendgroup": "Regions=Bretagne",
           "marker": {
            "color": "#ed7953"
           },
           "name": "Regions=Bretagne",
           "r": [
            174.18899147540986
           ],
           "showlegend": true,
           "subplot": "polar",
           "theta": [
            "Bretagne"
           ],
           "type": "barpolar"
          },
          {
           "hoverlabel": {
            "namelength": 0
           },
           "hovertemplate": "Regions=%{theta}<br>Annee=2011<br>Quantite=%{r}",
           "legendgroup": "Regions=Centre-Val de Loire",
           "marker": {
            "color": "#d8576b"
           },
           "name": "Regions=Centre-Val de Loire",
           "r": [
            204.8046890381897
           ],
           "showlegend": true,
           "subplot": "polar",
           "theta": [
            "Centre-Val de Loire"
           ],
           "type": "barpolar"
          },
          {
           "hoverlabel": {
            "namelength": 0
           },
           "hovertemplate": "Regions=%{theta}<br>Annee=2011<br>Quantite=%{r}",
           "legendgroup": "Regions=Corse",
           "marker": {
            "color": "#bd3786"
           },
           "name": "Regions=Corse",
           "r": [
            57.72383333333334
           ],
           "showlegend": true,
           "subplot": "polar",
           "theta": [
            "Corse"
           ],
           "type": "barpolar"
          },
          {
           "hoverlabel": {
            "namelength": 0
           },
           "hovertemplate": "Regions=%{theta}<br>Annee=2011<br>Quantite=%{r}",
           "legendgroup": "Regions=Grand Est",
           "marker": {
            "color": "#9c179e"
           },
           "name": "Regions=Grand Est",
           "r": [
            510.52176514883286
           ],
           "showlegend": true,
           "subplot": "polar",
           "theta": [
            "Grand Est"
           ],
           "type": "barpolar"
          },
          {
           "hoverlabel": {
            "namelength": 0
           },
           "hovertemplate": "Regions=%{theta}<br>Annee=2011<br>Quantite=%{r}",
           "legendgroup": "Regions=Hauts-de-France",
           "marker": {
            "color": "#7201a8"
           },
           "name": "Regions=Hauts-de-France",
           "r": [
            774.7151867269968
           ],
           "showlegend": true,
           "subplot": "polar",
           "theta": [
            "Hauts-de-France"
           ],
           "type": "barpolar"
          },
          {
           "hoverlabel": {
            "namelength": 0
           },
           "hovertemplate": "Regions=%{theta}<br>Annee=2011<br>Quantite=%{r}",
           "legendgroup": "Regions=Normandie",
           "marker": {
            "color": "#46039f"
           },
           "name": "Regions=Normandie",
           "r": [
            598.6537853598012
           ],
           "showlegend": true,
           "subplot": "polar",
           "theta": [
            "Normandie"
           ],
           "type": "barpolar"
          },
          {
           "hoverlabel": {
            "namelength": 0
           },
           "hovertemplate": "Regions=%{theta}<br>Annee=2011<br>Quantite=%{r}",
           "legendgroup": "Regions=Nouvelle-Aquitaine",
           "marker": {
            "color": "#0d0887"
           },
           "name": "Regions=Nouvelle-Aquitaine",
           "r": [
            322.2584937270874
           ],
           "showlegend": true,
           "subplot": "polar",
           "theta": [
            "Nouvelle-Aquitaine"
           ],
           "type": "barpolar"
          },
          {
           "hoverlabel": {
            "namelength": 0
           },
           "hovertemplate": "Regions=%{theta}<br>Annee=2011<br>Quantite=%{r}",
           "legendgroup": "Regions=Occitanie",
           "marker": {
            "color": "#fdca26"
           },
           "name": "Regions=Occitanie",
           "r": [
            357.99671853528633
           ],
           "showlegend": true,
           "subplot": "polar",
           "theta": [
            "Occitanie"
           ],
           "type": "barpolar"
          },
          {
           "hoverlabel": {
            "namelength": 0
           },
           "hovertemplate": "Regions=%{theta}<br>Annee=2011<br>Quantite=%{r}",
           "legendgroup": "Regions=Pays de la Loire",
           "marker": {
            "color": "#fb9f3a"
           },
           "name": "Regions=Pays de la Loire",
           "r": [
            187.15819685170604
           ],
           "showlegend": true,
           "subplot": "polar",
           "theta": [
            "Pays de la Loire"
           ],
           "type": "barpolar"
          },
          {
           "hoverlabel": {
            "namelength": 0
           },
           "hovertemplate": "Regions=%{theta}<br>Annee=2011<br>Quantite=%{r}",
           "legendgroup": "Regions=Provence-Alpes-Côte d'Azur",
           "marker": {
            "color": "#ed7953"
           },
           "name": "Regions=Provence-Alpes-Côte d'Azur",
           "r": [
            509.5729328682175
           ],
           "showlegend": true,
           "subplot": "polar",
           "theta": [
            "Provence-Alpes-Côte d'Azur"
           ],
           "type": "barpolar"
          },
          {
           "hoverlabel": {
            "namelength": 0
           },
           "hovertemplate": "Regions=%{theta}<br>Annee=2011<br>Quantite=%{r}",
           "legendgroup": "Regions=Île-de-France",
           "marker": {
            "color": "#d8576b"
           },
           "name": "Regions=Île-de-France",
           "r": [
            600.6360052505445
           ],
           "showlegend": true,
           "subplot": "polar",
           "theta": [
            "Île-de-France"
           ],
           "type": "barpolar"
          }
         ],
         "name": "2011"
        },
        {
         "data": [
          {
           "hoverlabel": {
            "namelength": 0
           },
           "hovertemplate": "Regions=%{theta}<br>Annee=2012<br>Quantite=%{r}",
           "legendgroup": "Regions=Auvergne-Rhône-Alpes",
           "marker": {
            "color": "#fdca26"
           },
           "name": "Regions=Auvergne-Rhône-Alpes",
           "r": [
            482.8191978207603
           ],
           "showlegend": true,
           "subplot": "polar",
           "theta": [
            "Auvergne-Rhône-Alpes"
           ],
           "type": "barpolar"
          },
          {
           "hoverlabel": {
            "namelength": 0
           },
           "hovertemplate": "Regions=%{theta}<br>Annee=2012<br>Quantite=%{r}",
           "legendgroup": "Regions=Bourgogne-Franche-Comté",
           "marker": {
            "color": "#fb9f3a"
           },
           "name": "Regions=Bourgogne-Franche-Comté",
           "r": [
            250.05907771982123
           ],
           "showlegend": true,
           "subplot": "polar",
           "theta": [
            "Bourgogne-Franche-Comté"
           ],
           "type": "barpolar"
          },
          {
           "hoverlabel": {
            "namelength": 0
           },
           "hovertemplate": "Regions=%{theta}<br>Annee=2012<br>Quantite=%{r}",
           "legendgroup": "Regions=Bretagne",
           "marker": {
            "color": "#ed7953"
           },
           "name": "Regions=Bretagne",
           "r": [
            292.34472622950835
           ],
           "showlegend": true,
           "subplot": "polar",
           "theta": [
            "Bretagne"
           ],
           "type": "barpolar"
          },
          {
           "hoverlabel": {
            "namelength": 0
           },
           "hovertemplate": "Regions=%{theta}<br>Annee=2012<br>Quantite=%{r}",
           "legendgroup": "Regions=Centre-Val de Loire",
           "marker": {
            "color": "#d8576b"
           },
           "name": "Regions=Centre-Val de Loire",
           "r": [
            219.95142492220634
           ],
           "showlegend": true,
           "subplot": "polar",
           "theta": [
            "Centre-Val de Loire"
           ],
           "type": "barpolar"
          },
          {
           "hoverlabel": {
            "namelength": 0
           },
           "hovertemplate": "Regions=%{theta}<br>Annee=2012<br>Quantite=%{r}",
           "legendgroup": "Regions=Corse",
           "marker": {
            "color": "#bd3786"
           },
           "name": "Regions=Corse",
           "r": [
            163.46670833333334
           ],
           "showlegend": true,
           "subplot": "polar",
           "theta": [
            "Corse"
           ],
           "type": "barpolar"
          },
          {
           "hoverlabel": {
            "namelength": 0
           },
           "hovertemplate": "Regions=%{theta}<br>Annee=2012<br>Quantite=%{r}",
           "legendgroup": "Regions=Grand Est",
           "marker": {
            "color": "#9c179e"
           },
           "name": "Regions=Grand Est",
           "r": [
            635.0068965004023
           ],
           "showlegend": true,
           "subplot": "polar",
           "theta": [
            "Grand Est"
           ],
           "type": "barpolar"
          },
          {
           "hoverlabel": {
            "namelength": 0
           },
           "hovertemplate": "Regions=%{theta}<br>Annee=2012<br>Quantite=%{r}",
           "legendgroup": "Regions=Hauts-de-France",
           "marker": {
            "color": "#7201a8"
           },
           "name": "Regions=Hauts-de-France",
           "r": [
            694.2890604865003
           ],
           "showlegend": true,
           "subplot": "polar",
           "theta": [
            "Hauts-de-France"
           ],
           "type": "barpolar"
          },
          {
           "hoverlabel": {
            "namelength": 0
           },
           "hovertemplate": "Regions=%{theta}<br>Annee=2012<br>Quantite=%{r}",
           "legendgroup": "Regions=Normandie",
           "marker": {
            "color": "#46039f"
           },
           "name": "Regions=Normandie",
           "r": [
            629.7989074441688
           ],
           "showlegend": true,
           "subplot": "polar",
           "theta": [
            "Normandie"
           ],
           "type": "barpolar"
          },
          {
           "hoverlabel": {
            "namelength": 0
           },
           "hovertemplate": "Regions=%{theta}<br>Annee=2012<br>Quantite=%{r}",
           "legendgroup": "Regions=Nouvelle-Aquitaine",
           "marker": {
            "color": "#0d0887"
           },
           "name": "Regions=Nouvelle-Aquitaine",
           "r": [
            400.0901125458249
           ],
           "showlegend": true,
           "subplot": "polar",
           "theta": [
            "Nouvelle-Aquitaine"
           ],
           "type": "barpolar"
          },
          {
           "hoverlabel": {
            "namelength": 0
           },
           "hovertemplate": "Regions=%{theta}<br>Annee=2012<br>Quantite=%{r}",
           "legendgroup": "Regions=Occitanie",
           "marker": {
            "color": "#fdca26"
           },
           "name": "Regions=Occitanie",
           "r": [
            672.6566294007991
           ],
           "showlegend": true,
           "subplot": "polar",
           "theta": [
            "Occitanie"
           ],
           "type": "barpolar"
          },
          {
           "hoverlabel": {
            "namelength": 0
           },
           "hovertemplate": "Regions=%{theta}<br>Annee=2012<br>Quantite=%{r}",
           "legendgroup": "Regions=Pays de la Loire",
           "marker": {
            "color": "#fb9f3a"
           },
           "name": "Regions=Pays de la Loire",
           "r": [
            285.0051845144356
           ],
           "showlegend": true,
           "subplot": "polar",
           "theta": [
            "Pays de la Loire"
           ],
           "type": "barpolar"
          },
          {
           "hoverlabel": {
            "namelength": 0
           },
           "hovertemplate": "Regions=%{theta}<br>Annee=2012<br>Quantite=%{r}",
           "legendgroup": "Regions=Provence-Alpes-Côte d'Azur",
           "marker": {
            "color": "#ed7953"
           },
           "name": "Regions=Provence-Alpes-Côte d'Azur",
           "r": [
            562.691923209303
           ],
           "showlegend": true,
           "subplot": "polar",
           "theta": [
            "Provence-Alpes-Côte d'Azur"
           ],
           "type": "barpolar"
          },
          {
           "hoverlabel": {
            "namelength": 0
           },
           "hovertemplate": "Regions=%{theta}<br>Annee=2012<br>Quantite=%{r}",
           "legendgroup": "Regions=Île-de-France",
           "marker": {
            "color": "#d8576b"
           },
           "name": "Regions=Île-de-France",
           "r": [
            688.9605819498911
           ],
           "showlegend": true,
           "subplot": "polar",
           "theta": [
            "Île-de-France"
           ],
           "type": "barpolar"
          }
         ],
         "name": "2012"
        },
        {
         "data": [
          {
           "hoverlabel": {
            "namelength": 0
           },
           "hovertemplate": "Regions=%{theta}<br>Annee=2013<br>Quantite=%{r}",
           "legendgroup": "Regions=Auvergne-Rhône-Alpes",
           "marker": {
            "color": "#fdca26"
           },
           "name": "Regions=Auvergne-Rhône-Alpes",
           "r": [
            502.7544649838812
           ],
           "showlegend": true,
           "subplot": "polar",
           "theta": [
            "Auvergne-Rhône-Alpes"
           ],
           "type": "barpolar"
          },
          {
           "hoverlabel": {
            "namelength": 0
           },
           "hovertemplate": "Regions=%{theta}<br>Annee=2013<br>Quantite=%{r}",
           "legendgroup": "Regions=Bourgogne-Franche-Comté",
           "marker": {
            "color": "#fb9f3a"
           },
           "name": "Regions=Bourgogne-Franche-Comté",
           "r": [
            282.27306460506685
           ],
           "showlegend": true,
           "subplot": "polar",
           "theta": [
            "Bourgogne-Franche-Comté"
           ],
           "type": "barpolar"
          },
          {
           "hoverlabel": {
            "namelength": 0
           },
           "hovertemplate": "Regions=%{theta}<br>Annee=2013<br>Quantite=%{r}",
           "legendgroup": "Regions=Bretagne",
           "marker": {
            "color": "#ed7953"
           },
           "name": "Regions=Bretagne",
           "r": [
            258.0299051147543
           ],
           "showlegend": true,
           "subplot": "polar",
           "theta": [
            "Bretagne"
           ],
           "type": "barpolar"
          },
          {
           "hoverlabel": {
            "namelength": 0
           },
           "hovertemplate": "Regions=%{theta}<br>Annee=2013<br>Quantite=%{r}",
           "legendgroup": "Regions=Centre-Val de Loire",
           "marker": {
            "color": "#d8576b"
           },
           "name": "Regions=Centre-Val de Loire",
           "r": [
            221.6013655388967
           ],
           "showlegend": true,
           "subplot": "polar",
           "theta": [
            "Centre-Val de Loire"
           ],
           "type": "barpolar"
          },
          {
           "hoverlabel": {
            "namelength": 0
           },
           "hovertemplate": "Regions=%{theta}<br>Annee=2013<br>Quantite=%{r}",
           "legendgroup": "Regions=Corse",
           "marker": {
            "color": "#bd3786"
           },
           "name": "Regions=Corse",
           "r": [
            189.1920625
           ],
           "showlegend": true,
           "subplot": "polar",
           "theta": [
            "Corse"
           ],
           "type": "barpolar"
          },
          {
           "hoverlabel": {
            "namelength": 0
           },
           "hovertemplate": "Regions=%{theta}<br>Annee=2013<br>Quantite=%{r}",
           "legendgroup": "Regions=Grand Est",
           "marker": {
            "color": "#9c179e"
           },
           "name": "Regions=Grand Est",
           "r": [
            629.9350949155271
           ],
           "showlegend": true,
           "subplot": "polar",
           "theta": [
            "Grand Est"
           ],
           "type": "barpolar"
          },
          {
           "hoverlabel": {
            "namelength": 0
           },
           "hovertemplate": "Regions=%{theta}<br>Annee=2013<br>Quantite=%{r}",
           "legendgroup": "Regions=Hauts-de-France",
           "marker": {
            "color": "#7201a8"
           },
           "name": "Regions=Hauts-de-France",
           "r": [
            844.0590641930615
           ],
           "showlegend": true,
           "subplot": "polar",
           "theta": [
            "Hauts-de-France"
           ],
           "type": "barpolar"
          },
          {
           "hoverlabel": {
            "namelength": 0
           },
           "hovertemplate": "Regions=%{theta}<br>Annee=2013<br>Quantite=%{r}",
           "legendgroup": "Regions=Normandie",
           "marker": {
            "color": "#46039f"
           },
           "name": "Regions=Normandie",
           "r": [
            667.8168150870965
           ],
           "showlegend": true,
           "subplot": "polar",
           "theta": [
            "Normandie"
           ],
           "type": "barpolar"
          },
          {
           "hoverlabel": {
            "namelength": 0
           },
           "hovertemplate": "Regions=%{theta}<br>Annee=2013<br>Quantite=%{r}",
           "legendgroup": "Regions=Nouvelle-Aquitaine",
           "marker": {
            "color": "#0d0887"
           },
           "name": "Regions=Nouvelle-Aquitaine",
           "r": [
            488.02055578411375
           ],
           "showlegend": true,
           "subplot": "polar",
           "theta": [
            "Nouvelle-Aquitaine"
           ],
           "type": "barpolar"
          },
          {
           "hoverlabel": {
            "namelength": 0
           },
           "hovertemplate": "Regions=%{theta}<br>Annee=2013<br>Quantite=%{r}",
           "legendgroup": "Regions=Occitanie",
           "marker": {
            "color": "#fdca26"
           },
           "name": "Regions=Occitanie",
           "r": [
            656.463682796272
           ],
           "showlegend": true,
           "subplot": "polar",
           "theta": [
            "Occitanie"
           ],
           "type": "barpolar"
          },
          {
           "hoverlabel": {
            "namelength": 0
           },
           "hovertemplate": "Regions=%{theta}<br>Annee=2013<br>Quantite=%{r}",
           "legendgroup": "Regions=Pays de la Loire",
           "marker": {
            "color": "#fb9f3a"
           },
           "name": "Regions=Pays de la Loire",
           "r": [
            302.66839657086626
           ],
           "showlegend": true,
           "subplot": "polar",
           "theta": [
            "Pays de la Loire"
           ],
           "type": "barpolar"
          },
          {
           "hoverlabel": {
            "namelength": 0
           },
           "hovertemplate": "Regions=%{theta}<br>Annee=2013<br>Quantite=%{r}",
           "legendgroup": "Regions=Provence-Alpes-Côte d'Azur",
           "marker": {
            "color": "#ed7953"
           },
           "name": "Regions=Provence-Alpes-Côte d'Azur",
           "r": [
            593.784132883722
           ],
           "showlegend": true,
           "subplot": "polar",
           "theta": [
            "Provence-Alpes-Côte d'Azur"
           ],
           "type": "barpolar"
          },
          {
           "hoverlabel": {
            "namelength": 0
           },
           "hovertemplate": "Regions=%{theta}<br>Annee=2013<br>Quantite=%{r}",
           "legendgroup": "Regions=Île-de-France",
           "marker": {
            "color": "#d8576b"
           },
           "name": "Regions=Île-de-France",
           "r": [
            696.9078729291946
           ],
           "showlegend": true,
           "subplot": "polar",
           "theta": [
            "Île-de-France"
           ],
           "type": "barpolar"
          }
         ],
         "name": "2013"
        },
        {
         "data": [
          {
           "hoverlabel": {
            "namelength": 0
           },
           "hovertemplate": "Regions=%{theta}<br>Annee=2014<br>Quantite=%{r}",
           "legendgroup": "Regions=Auvergne-Rhône-Alpes",
           "marker": {
            "color": "#fdca26"
           },
           "name": "Regions=Auvergne-Rhône-Alpes",
           "r": [
            539.9137651515156
           ],
           "showlegend": true,
           "subplot": "polar",
           "theta": [
            "Auvergne-Rhône-Alpes"
           ],
           "type": "barpolar"
          },
          {
           "hoverlabel": {
            "namelength": 0
           },
           "hovertemplate": "Regions=%{theta}<br>Annee=2014<br>Quantite=%{r}",
           "legendgroup": "Regions=Bourgogne-Franche-Comté",
           "marker": {
            "color": "#fb9f3a"
           },
           "name": "Regions=Bourgogne-Franche-Comté",
           "r": [
            265.26044480625944
           ],
           "showlegend": true,
           "subplot": "polar",
           "theta": [
            "Bourgogne-Franche-Comté"
           ],
           "type": "barpolar"
          },
          {
           "hoverlabel": {
            "namelength": 0
           },
           "hovertemplate": "Regions=%{theta}<br>Annee=2014<br>Quantite=%{r}",
           "legendgroup": "Regions=Bretagne",
           "marker": {
            "color": "#ed7953"
           },
           "name": "Regions=Bretagne",
           "r": [
            287.2254240983604
           ],
           "showlegend": true,
           "subplot": "polar",
           "theta": [
            "Bretagne"
           ],
           "type": "barpolar"
          },
          {
           "hoverlabel": {
            "namelength": 0
           },
           "hovertemplate": "Regions=%{theta}<br>Annee=2014<br>Quantite=%{r}",
           "legendgroup": "Regions=Centre-Val de Loire",
           "marker": {
            "color": "#d8576b"
           },
           "name": "Regions=Centre-Val de Loire",
           "r": [
            200.36413847241855
           ],
           "showlegend": true,
           "subplot": "polar",
           "theta": [
            "Centre-Val de Loire"
           ],
           "type": "barpolar"
          },
          {
           "hoverlabel": {
            "namelength": 0
           },
           "hovertemplate": "Regions=%{theta}<br>Annee=2014<br>Quantite=%{r}",
           "legendgroup": "Regions=Corse",
           "marker": {
            "color": "#bd3786"
           },
           "name": "Regions=Corse",
           "r": [
            223.56489583333328
           ],
           "showlegend": true,
           "subplot": "polar",
           "theta": [
            "Corse"
           ],
           "type": "barpolar"
          },
          {
           "hoverlabel": {
            "namelength": 0
           },
           "hovertemplate": "Regions=%{theta}<br>Annee=2014<br>Quantite=%{r}",
           "legendgroup": "Regions=Grand Est",
           "marker": {
            "color": "#9c179e"
           },
           "name": "Regions=Grand Est",
           "r": [
            573.5540626162516
           ],
           "showlegend": true,
           "subplot": "polar",
           "theta": [
            "Grand Est"
           ],
           "type": "barpolar"
          },
          {
           "hoverlabel": {
            "namelength": 0
           },
           "hovertemplate": "Regions=%{theta}<br>Annee=2014<br>Quantite=%{r}",
           "legendgroup": "Regions=Hauts-de-France",
           "marker": {
            "color": "#7201a8"
           },
           "name": "Regions=Hauts-de-France",
           "r": [
            719.5375995226246
           ],
           "showlegend": true,
           "subplot": "polar",
           "theta": [
            "Hauts-de-France"
           ],
           "type": "barpolar"
          },
          {
           "hoverlabel": {
            "namelength": 0
           },
           "hovertemplate": "Regions=%{theta}<br>Annee=2014<br>Quantite=%{r}",
           "legendgroup": "Regions=Normandie",
           "marker": {
            "color": "#46039f"
           },
           "name": "Regions=Normandie",
           "r": [
            753.5770498759308
           ],
           "showlegend": true,
           "subplot": "polar",
           "theta": [
            "Normandie"
           ],
           "type": "barpolar"
          },
          {
           "hoverlabel": {
            "namelength": 0
           },
           "hovertemplate": "Regions=%{theta}<br>Annee=2014<br>Quantite=%{r}",
           "legendgroup": "Regions=Nouvelle-Aquitaine",
           "marker": {
            "color": "#0d0887"
           },
           "name": "Regions=Nouvelle-Aquitaine",
           "r": [
            375.41699156822784
           ],
           "showlegend": true,
           "subplot": "polar",
           "theta": [
            "Nouvelle-Aquitaine"
           ],
           "type": "barpolar"
          },
          {
           "hoverlabel": {
            "namelength": 0
           },
           "hovertemplate": "Regions=%{theta}<br>Annee=2014<br>Quantite=%{r}",
           "legendgroup": "Regions=Occitanie",
           "marker": {
            "color": "#fdca26"
           },
           "name": "Regions=Occitanie",
           "r": [
            628.3383212649801
           ],
           "showlegend": true,
           "subplot": "polar",
           "theta": [
            "Occitanie"
           ],
           "type": "barpolar"
          },
          {
           "hoverlabel": {
            "namelength": 0
           },
           "hovertemplate": "Regions=%{theta}<br>Annee=2014<br>Quantite=%{r}",
           "legendgroup": "Regions=Pays de la Loire",
           "marker": {
            "color": "#fb9f3a"
           },
           "name": "Regions=Pays de la Loire",
           "r": [
            276.42424921259857
           ],
           "showlegend": true,
           "subplot": "polar",
           "theta": [
            "Pays de la Loire"
           ],
           "type": "barpolar"
          },
          {
           "hoverlabel": {
            "namelength": 0
           },
           "hovertemplate": "Regions=%{theta}<br>Annee=2014<br>Quantite=%{r}",
           "legendgroup": "Regions=Provence-Alpes-Côte d'Azur",
           "marker": {
            "color": "#ed7953"
           },
           "name": "Regions=Provence-Alpes-Côte d'Azur",
           "r": [
            561.6407512465116
           ],
           "showlegend": true,
           "subplot": "polar",
           "theta": [
            "Provence-Alpes-Côte d'Azur"
           ],
           "type": "barpolar"
          },
          {
           "hoverlabel": {
            "namelength": 0
           },
           "hovertemplate": "Regions=%{theta}<br>Annee=2014<br>Quantite=%{r}",
           "legendgroup": "Regions=Île-de-France",
           "marker": {
            "color": "#d8576b"
           },
           "name": "Regions=Île-de-France",
           "r": [
            663.5766564270155
           ],
           "showlegend": true,
           "subplot": "polar",
           "theta": [
            "Île-de-France"
           ],
           "type": "barpolar"
          }
         ],
         "name": "2014"
        },
        {
         "data": [
          {
           "hoverlabel": {
            "namelength": 0
           },
           "hovertemplate": "Regions=%{theta}<br>Annee=2015<br>Quantite=%{r}",
           "legendgroup": "Regions=Auvergne-Rhône-Alpes",
           "marker": {
            "color": "#fdca26"
           },
           "name": "Regions=Auvergne-Rhône-Alpes",
           "r": [
            522.3272861695679
           ],
           "showlegend": true,
           "subplot": "polar",
           "theta": [
            "Auvergne-Rhône-Alpes"
           ],
           "type": "barpolar"
          },
          {
           "hoverlabel": {
            "namelength": 0
           },
           "hovertemplate": "Regions=%{theta}<br>Annee=2015<br>Quantite=%{r}",
           "legendgroup": "Regions=Bourgogne-Franche-Comté",
           "marker": {
            "color": "#fb9f3a"
           },
           "name": "Regions=Bourgogne-Franche-Comté",
           "r": [
            324.6517519672131
           ],
           "showlegend": true,
           "subplot": "polar",
           "theta": [
            "Bourgogne-Franche-Comté"
           ],
           "type": "barpolar"
          },
          {
           "hoverlabel": {
            "namelength": 0
           },
           "hovertemplate": "Regions=%{theta}<br>Annee=2015<br>Quantite=%{r}",
           "legendgroup": "Regions=Bretagne",
           "marker": {
            "color": "#ed7953"
           },
           "name": "Regions=Bretagne",
           "r": [
            319.16830340819683
           ],
           "showlegend": true,
           "subplot": "polar",
           "theta": [
            "Bretagne"
           ],
           "type": "barpolar"
          },
          {
           "hoverlabel": {
            "namelength": 0
           },
           "hovertemplate": "Regions=%{theta}<br>Annee=2015<br>Quantite=%{r}",
           "legendgroup": "Regions=Centre-Val de Loire",
           "marker": {
            "color": "#d8576b"
           },
           "name": "Regions=Centre-Val de Loire",
           "r": [
            214.37021337765188
           ],
           "showlegend": true,
           "subplot": "polar",
           "theta": [
            "Centre-Val de Loire"
           ],
           "type": "barpolar"
          },
          {
           "hoverlabel": {
            "namelength": 0
           },
           "hovertemplate": "Regions=%{theta}<br>Annee=2015<br>Quantite=%{r}",
           "legendgroup": "Regions=Corse",
           "marker": {
            "color": "#bd3786"
           },
           "name": "Regions=Corse",
           "r": [
            216.01233333333334
           ],
           "showlegend": true,
           "subplot": "polar",
           "theta": [
            "Corse"
           ],
           "type": "barpolar"
          },
          {
           "hoverlabel": {
            "namelength": 0
           },
           "hovertemplate": "Regions=%{theta}<br>Annee=2015<br>Quantite=%{r}",
           "legendgroup": "Regions=Grand Est",
           "marker": {
            "color": "#9c179e"
           },
           "name": "Regions=Grand Est",
           "r": [
            597.3958682204358
           ],
           "showlegend": true,
           "subplot": "polar",
           "theta": [
            "Grand Est"
           ],
           "type": "barpolar"
          },
          {
           "hoverlabel": {
            "namelength": 0
           },
           "hovertemplate": "Regions=%{theta}<br>Annee=2015<br>Quantite=%{r}",
           "legendgroup": "Regions=Hauts-de-France",
           "marker": {
            "color": "#7201a8"
           },
           "name": "Regions=Hauts-de-France",
           "r": [
            695.5708010595764
           ],
           "showlegend": true,
           "subplot": "polar",
           "theta": [
            "Hauts-de-France"
           ],
           "type": "barpolar"
          },
          {
           "hoverlabel": {
            "namelength": 0
           },
           "hovertemplate": "Regions=%{theta}<br>Annee=2015<br>Quantite=%{r}",
           "legendgroup": "Regions=Normandie",
           "marker": {
            "color": "#46039f"
           },
           "name": "Regions=Normandie",
           "r": [
            825.9077036600506
           ],
           "showlegend": true,
           "subplot": "polar",
           "theta": [
            "Normandie"
           ],
           "type": "barpolar"
          },
          {
           "hoverlabel": {
            "namelength": 0
           },
           "hovertemplate": "Regions=%{theta}<br>Annee=2015<br>Quantite=%{r}",
           "legendgroup": "Regions=Nouvelle-Aquitaine",
           "marker": {
            "color": "#0d0887"
           },
           "name": "Regions=Nouvelle-Aquitaine",
           "r": [
            407.05533528513234
           ],
           "showlegend": true,
           "subplot": "polar",
           "theta": [
            "Nouvelle-Aquitaine"
           ],
           "type": "barpolar"
          },
          {
           "hoverlabel": {
            "namelength": 0
           },
           "hovertemplate": "Regions=%{theta}<br>Annee=2015<br>Quantite=%{r}",
           "legendgroup": "Regions=Occitanie",
           "marker": {
            "color": "#fdca26"
           },
           "name": "Regions=Occitanie",
           "r": [
            615.9075265446064
           ],
           "showlegend": true,
           "subplot": "polar",
           "theta": [
            "Occitanie"
           ],
           "type": "barpolar"
          },
          {
           "hoverlabel": {
            "namelength": 0
           },
           "hovertemplate": "Regions=%{theta}<br>Annee=2015<br>Quantite=%{r}",
           "legendgroup": "Regions=Pays de la Loire",
           "marker": {
            "color": "#fb9f3a"
           },
           "name": "Regions=Pays de la Loire",
           "r": [
            269.5984161706035
           ],
           "showlegend": true,
           "subplot": "polar",
           "theta": [
            "Pays de la Loire"
           ],
           "type": "barpolar"
          },
          {
           "hoverlabel": {
            "namelength": 0
           },
           "hovertemplate": "Regions=%{theta}<br>Annee=2015<br>Quantite=%{r}",
           "legendgroup": "Regions=Provence-Alpes-Côte d'Azur",
           "marker": {
            "color": "#ed7953"
           },
           "name": "Regions=Provence-Alpes-Côte d'Azur",
           "r": [
            544.0659510170539
           ],
           "showlegend": true,
           "subplot": "polar",
           "theta": [
            "Provence-Alpes-Côte d'Azur"
           ],
           "type": "barpolar"
          },
          {
           "hoverlabel": {
            "namelength": 0
           },
           "hovertemplate": "Regions=%{theta}<br>Annee=2015<br>Quantite=%{r}",
           "legendgroup": "Regions=Île-de-France",
           "marker": {
            "color": "#d8576b"
           },
           "name": "Regions=Île-de-France",
           "r": [
            621.9509511111111
           ],
           "showlegend": true,
           "subplot": "polar",
           "theta": [
            "Île-de-France"
           ],
           "type": "barpolar"
          }
         ],
         "name": "2015"
        },
        {
         "data": [
          {
           "hoverlabel": {
            "namelength": 0
           },
           "hovertemplate": "Regions=%{theta}<br>Annee=2016<br>Quantite=%{r}",
           "legendgroup": "Regions=Auvergne-Rhône-Alpes",
           "marker": {
            "color": "#fdca26"
           },
           "name": "Regions=Auvergne-Rhône-Alpes",
           "r": [
            534.7908118065762
           ],
           "showlegend": true,
           "subplot": "polar",
           "theta": [
            "Auvergne-Rhône-Alpes"
           ],
           "type": "barpolar"
          },
          {
           "hoverlabel": {
            "namelength": 0
           },
           "hovertemplate": "Regions=%{theta}<br>Annee=2016<br>Quantite=%{r}",
           "legendgroup": "Regions=Bourgogne-Franche-Comté",
           "marker": {
            "color": "#fb9f3a"
           },
           "name": "Regions=Bourgogne-Franche-Comté",
           "r": [
            330.52768360655716
           ],
           "showlegend": true,
           "subplot": "polar",
           "theta": [
            "Bourgogne-Franche-Comté"
           ],
           "type": "barpolar"
          },
          {
           "hoverlabel": {
            "namelength": 0
           },
           "hovertemplate": "Regions=%{theta}<br>Annee=2016<br>Quantite=%{r}",
           "legendgroup": "Regions=Bretagne",
           "marker": {
            "color": "#ed7953"
           },
           "name": "Regions=Bretagne",
           "r": [
            344.50291245901667
           ],
           "showlegend": true,
           "subplot": "polar",
           "theta": [
            "Bretagne"
           ],
           "type": "barpolar"
          },
          {
           "hoverlabel": {
            "namelength": 0
           },
           "hovertemplate": "Regions=%{theta}<br>Annee=2016<br>Quantite=%{r}",
           "legendgroup": "Regions=Centre-Val de Loire",
           "marker": {
            "color": "#d8576b"
           },
           "name": "Regions=Centre-Val de Loire",
           "r": [
            446.05162810466777
           ],
           "showlegend": true,
           "subplot": "polar",
           "theta": [
            "Centre-Val de Loire"
           ],
           "type": "barpolar"
          },
          {
           "hoverlabel": {
            "namelength": 0
           },
           "hovertemplate": "Regions=%{theta}<br>Annee=2016<br>Quantite=%{r}",
           "legendgroup": "Regions=Corse",
           "marker": {
            "color": "#bd3786"
           },
           "name": "Regions=Corse",
           "r": [
            200.6215750000001
           ],
           "showlegend": true,
           "subplot": "polar",
           "theta": [
            "Corse"
           ],
           "type": "barpolar"
          },
          {
           "hoverlabel": {
            "namelength": 0
           },
           "hovertemplate": "Regions=%{theta}<br>Annee=2016<br>Quantite=%{r}",
           "legendgroup": "Regions=Grand Est",
           "marker": {
            "color": "#9c179e"
           },
           "name": "Regions=Grand Est",
           "r": [
            605.5968190909097
           ],
           "showlegend": true,
           "subplot": "polar",
           "theta": [
            "Grand Est"
           ],
           "type": "barpolar"
          },
          {
           "hoverlabel": {
            "namelength": 0
           },
           "hovertemplate": "Regions=%{theta}<br>Annee=2016<br>Quantite=%{r}",
           "legendgroup": "Regions=Hauts-de-France",
           "marker": {
            "color": "#7201a8"
           },
           "name": "Regions=Hauts-de-France",
           "r": [
            694.027941621417
           ],
           "showlegend": true,
           "subplot": "polar",
           "theta": [
            "Hauts-de-France"
           ],
           "type": "barpolar"
          },
          {
           "hoverlabel": {
            "namelength": 0
           },
           "hovertemplate": "Regions=%{theta}<br>Annee=2016<br>Quantite=%{r}",
           "legendgroup": "Regions=Normandie",
           "marker": {
            "color": "#46039f"
           },
           "name": "Regions=Normandie",
           "r": [
            671.4549542754341
           ],
           "showlegend": true,
           "subplot": "polar",
           "theta": [
            "Normandie"
           ],
           "type": "barpolar"
          },
          {
           "hoverlabel": {
            "namelength": 0
           },
           "hovertemplate": "Regions=%{theta}<br>Annee=2016<br>Quantite=%{r}",
           "legendgroup": "Regions=Nouvelle-Aquitaine",
           "marker": {
            "color": "#0d0887"
           },
           "name": "Regions=Nouvelle-Aquitaine",
           "r": [
            407.3899306588589
           ],
           "showlegend": true,
           "subplot": "polar",
           "theta": [
            "Nouvelle-Aquitaine"
           ],
           "type": "barpolar"
          },
          {
           "hoverlabel": {
            "namelength": 0
           },
           "hovertemplate": "Regions=%{theta}<br>Annee=2016<br>Quantite=%{r}",
           "legendgroup": "Regions=Occitanie",
           "marker": {
            "color": "#fdca26"
           },
           "name": "Regions=Occitanie",
           "r": [
            651.2685995472706
           ],
           "showlegend": true,
           "subplot": "polar",
           "theta": [
            "Occitanie"
           ],
           "type": "barpolar"
          },
          {
           "hoverlabel": {
            "namelength": 0
           },
           "hovertemplate": "Regions=%{theta}<br>Annee=2016<br>Quantite=%{r}",
           "legendgroup": "Regions=Pays de la Loire",
           "marker": {
            "color": "#fb9f3a"
           },
           "name": "Regions=Pays de la Loire",
           "r": [
            284.3688231758531
           ],
           "showlegend": true,
           "subplot": "polar",
           "theta": [
            "Pays de la Loire"
           ],
           "type": "barpolar"
          },
          {
           "hoverlabel": {
            "namelength": 0
           },
           "hovertemplate": "Regions=%{theta}<br>Annee=2016<br>Quantite=%{r}",
           "legendgroup": "Regions=Provence-Alpes-Côte d'Azur",
           "marker": {
            "color": "#ed7953"
           },
           "name": "Regions=Provence-Alpes-Côte d'Azur",
           "r": [
            507.59732437519375
           ],
           "showlegend": true,
           "subplot": "polar",
           "theta": [
            "Provence-Alpes-Côte d'Azur"
           ],
           "type": "barpolar"
          },
          {
           "hoverlabel": {
            "namelength": 0
           },
           "hovertemplate": "Regions=%{theta}<br>Annee=2016<br>Quantite=%{r}",
           "legendgroup": "Regions=Île-de-France",
           "marker": {
            "color": "#d8576b"
           },
           "name": "Regions=Île-de-France",
           "r": [
            665.6842743355126
           ],
           "showlegend": true,
           "subplot": "polar",
           "theta": [
            "Île-de-France"
           ],
           "type": "barpolar"
          }
         ],
         "name": "2016"
        },
        {
         "data": [
          {
           "hoverlabel": {
            "namelength": 0
           },
           "hovertemplate": "Regions=%{theta}<br>Annee=2017<br>Quantite=%{r}",
           "legendgroup": "Regions=Auvergne-Rhône-Alpes",
           "marker": {
            "color": "#fdca26"
           },
           "name": "Regions=Auvergne-Rhône-Alpes",
           "r": [
            563.8472594590594
           ],
           "showlegend": true,
           "subplot": "polar",
           "theta": [
            "Auvergne-Rhône-Alpes"
           ],
           "type": "barpolar"
          },
          {
           "hoverlabel": {
            "namelength": 0
           },
           "hovertemplate": "Regions=%{theta}<br>Annee=2017<br>Quantite=%{r}",
           "legendgroup": "Regions=Bourgogne-Franche-Comté",
           "marker": {
            "color": "#fb9f3a"
           },
           "name": "Regions=Bourgogne-Franche-Comté",
           "r": [
            359.0604863189273
           ],
           "showlegend": true,
           "subplot": "polar",
           "theta": [
            "Bourgogne-Franche-Comté"
           ],
           "type": "barpolar"
          },
          {
           "hoverlabel": {
            "namelength": 0
           },
           "hovertemplate": "Regions=%{theta}<br>Annee=2017<br>Quantite=%{r}",
           "legendgroup": "Regions=Bretagne",
           "marker": {
            "color": "#ed7953"
           },
           "name": "Regions=Bretagne",
           "r": [
            891.9697736721314
           ],
           "showlegend": true,
           "subplot": "polar",
           "theta": [
            "Bretagne"
           ],
           "type": "barpolar"
          },
          {
           "hoverlabel": {
            "namelength": 0
           },
           "hovertemplate": "Regions=%{theta}<br>Annee=2017<br>Quantite=%{r}",
           "legendgroup": "Regions=Centre-Val de Loire",
           "marker": {
            "color": "#d8576b"
           },
           "name": "Regions=Centre-Val de Loire",
           "r": [
            289.8309071711458
           ],
           "showlegend": true,
           "subplot": "polar",
           "theta": [
            "Centre-Val de Loire"
           ],
           "type": "barpolar"
          },
          {
           "hoverlabel": {
            "namelength": 0
           },
           "hovertemplate": "Regions=%{theta}<br>Annee=2017<br>Quantite=%{r}",
           "legendgroup": "Regions=Corse",
           "marker": {
            "color": "#bd3786"
           },
           "name": "Regions=Corse",
           "r": [
            147.6320666666667
           ],
           "showlegend": true,
           "subplot": "polar",
           "theta": [
            "Corse"
           ],
           "type": "barpolar"
          },
          {
           "hoverlabel": {
            "namelength": 0
           },
           "hovertemplate": "Regions=%{theta}<br>Annee=2017<br>Quantite=%{r}",
           "legendgroup": "Regions=Grand Est",
           "marker": {
            "color": "#9c179e"
           },
           "name": "Regions=Grand Est",
           "r": [
            658.4693298149643
           ],
           "showlegend": true,
           "subplot": "polar",
           "theta": [
            "Grand Est"
           ],
           "type": "barpolar"
          },
          {
           "hoverlabel": {
            "namelength": 0
           },
           "hovertemplate": "Regions=%{theta}<br>Annee=2017<br>Quantite=%{r}",
           "legendgroup": "Regions=Hauts-de-France",
           "marker": {
            "color": "#7201a8"
           },
           "name": "Regions=Hauts-de-France",
           "r": [
            701.1631946380095
           ],
           "showlegend": true,
           "subplot": "polar",
           "theta": [
            "Hauts-de-France"
           ],
           "type": "barpolar"
          },
          {
           "hoverlabel": {
            "namelength": 0
           },
           "hovertemplate": "Regions=%{theta}<br>Annee=2017<br>Quantite=%{r}",
           "legendgroup": "Regions=Normandie",
           "marker": {
            "color": "#46039f"
           },
           "name": "Regions=Normandie",
           "r": [
            661.4060728535991
           ],
           "showlegend": true,
           "subplot": "polar",
           "theta": [
            "Normandie"
           ],
           "type": "barpolar"
          },
          {
           "hoverlabel": {
            "namelength": 0
           },
           "hovertemplate": "Regions=%{theta}<br>Annee=2017<br>Quantite=%{r}",
           "legendgroup": "Regions=Nouvelle-Aquitaine",
           "marker": {
            "color": "#0d0887"
           },
           "name": "Regions=Nouvelle-Aquitaine",
           "r": [
            412.2289739205694
           ],
           "showlegend": true,
           "subplot": "polar",
           "theta": [
            "Nouvelle-Aquitaine"
           ],
           "type": "barpolar"
          },
          {
           "hoverlabel": {
            "namelength": 0
           },
           "hovertemplate": "Regions=%{theta}<br>Annee=2017<br>Quantite=%{r}",
           "legendgroup": "Regions=Occitanie",
           "marker": {
            "color": "#fdca26"
           },
           "name": "Regions=Occitanie",
           "r": [
            625.4357098801596
           ],
           "showlegend": true,
           "subplot": "polar",
           "theta": [
            "Occitanie"
           ],
           "type": "barpolar"
          },
          {
           "hoverlabel": {
            "namelength": 0
           },
           "hovertemplate": "Regions=%{theta}<br>Annee=2017<br>Quantite=%{r}",
           "legendgroup": "Regions=Pays de la Loire",
           "marker": {
            "color": "#fb9f3a"
           },
           "name": "Regions=Pays de la Loire",
           "r": [
            358.0133141732284
           ],
           "showlegend": true,
           "subplot": "polar",
           "theta": [
            "Pays de la Loire"
           ],
           "type": "barpolar"
          },
          {
           "hoverlabel": {
            "namelength": 0
           },
           "hovertemplate": "Regions=%{theta}<br>Annee=2017<br>Quantite=%{r}",
           "legendgroup": "Regions=Provence-Alpes-Côte d'Azur",
           "marker": {
            "color": "#ed7953"
           },
           "name": "Regions=Provence-Alpes-Côte d'Azur",
           "r": [
            3707.6592691472856
           ],
           "showlegend": true,
           "subplot": "polar",
           "theta": [
            "Provence-Alpes-Côte d'Azur"
           ],
           "type": "barpolar"
          },
          {
           "hoverlabel": {
            "namelength": 0
           },
           "hovertemplate": "Regions=%{theta}<br>Annee=2017<br>Quantite=%{r}",
           "legendgroup": "Regions=Île-de-France",
           "marker": {
            "color": "#d8576b"
           },
           "name": "Regions=Île-de-France",
           "r": [
            636.7640136427009
           ],
           "showlegend": true,
           "subplot": "polar",
           "theta": [
            "Île-de-France"
           ],
           "type": "barpolar"
          }
         ],
         "name": "2017"
        }
       ],
       "layout": {
        "barmode": "relative",
        "height": 600,
        "legend": {
         "tracegroupgap": 0
        },
        "margin": {
         "t": 60
        },
        "polar": {
         "angularaxis": {
          "categoryarray": [
           "Auvergne-Rhône-Alpes",
           "Bourgogne-Franche-Comté",
           "Bretagne",
           "Centre-Val de Loire",
           "Corse",
           "Grand Est",
           "Hauts-de-France",
           "Normandie",
           "Nouvelle-Aquitaine",
           "Occitanie",
           "Pays de la Loire",
           "Provence-Alpes-Côte d'Azur",
           "Île-de-France"
          ],
          "categoryorder": "array",
          "direction": "clockwise",
          "rotation": 90
         },
         "domain": {
          "x": [
           0,
           0.98
          ],
          "y": [
           0,
           1
          ]
         }
        },
        "sliders": [
         {
          "active": 0,
          "currentvalue": {
           "prefix": "Annee="
          },
          "len": 0.9,
          "pad": {
           "b": 10,
           "t": 60
          },
          "steps": [
           {
            "args": [
             [
              "2003"
             ],
             {
              "frame": {
               "duration": 0,
               "redraw": true
              },
              "fromcurrent": true,
              "mode": "immediate",
              "transition": {
               "duration": 0,
               "easing": "linear"
              }
             }
            ],
            "label": "2003",
            "method": "animate"
           },
           {
            "args": [
             [
              "2004"
             ],
             {
              "frame": {
               "duration": 0,
               "redraw": true
              },
              "fromcurrent": true,
              "mode": "immediate",
              "transition": {
               "duration": 0,
               "easing": "linear"
              }
             }
            ],
            "label": "2004",
            "method": "animate"
           },
           {
            "args": [
             [
              "2005"
             ],
             {
              "frame": {
               "duration": 0,
               "redraw": true
              },
              "fromcurrent": true,
              "mode": "immediate",
              "transition": {
               "duration": 0,
               "easing": "linear"
              }
             }
            ],
            "label": "2005",
            "method": "animate"
           },
           {
            "args": [
             [
              "2006"
             ],
             {
              "frame": {
               "duration": 0,
               "redraw": true
              },
              "fromcurrent": true,
              "mode": "immediate",
              "transition": {
               "duration": 0,
               "easing": "linear"
              }
             }
            ],
            "label": "2006",
            "method": "animate"
           },
           {
            "args": [
             [
              "2007"
             ],
             {
              "frame": {
               "duration": 0,
               "redraw": true
              },
              "fromcurrent": true,
              "mode": "immediate",
              "transition": {
               "duration": 0,
               "easing": "linear"
              }
             }
            ],
            "label": "2007",
            "method": "animate"
           },
           {
            "args": [
             [
              "2008"
             ],
             {
              "frame": {
               "duration": 0,
               "redraw": true
              },
              "fromcurrent": true,
              "mode": "immediate",
              "transition": {
               "duration": 0,
               "easing": "linear"
              }
             }
            ],
            "label": "2008",
            "method": "animate"
           },
           {
            "args": [
             [
              "2009"
             ],
             {
              "frame": {
               "duration": 0,
               "redraw": true
              },
              "fromcurrent": true,
              "mode": "immediate",
              "transition": {
               "duration": 0,
               "easing": "linear"
              }
             }
            ],
            "label": "2009",
            "method": "animate"
           },
           {
            "args": [
             [
              "2010"
             ],
             {
              "frame": {
               "duration": 0,
               "redraw": true
              },
              "fromcurrent": true,
              "mode": "immediate",
              "transition": {
               "duration": 0,
               "easing": "linear"
              }
             }
            ],
            "label": "2010",
            "method": "animate"
           },
           {
            "args": [
             [
              "2011"
             ],
             {
              "frame": {
               "duration": 0,
               "redraw": true
              },
              "fromcurrent": true,
              "mode": "immediate",
              "transition": {
               "duration": 0,
               "easing": "linear"
              }
             }
            ],
            "label": "2011",
            "method": "animate"
           },
           {
            "args": [
             [
              "2012"
             ],
             {
              "frame": {
               "duration": 0,
               "redraw": true
              },
              "fromcurrent": true,
              "mode": "immediate",
              "transition": {
               "duration": 0,
               "easing": "linear"
              }
             }
            ],
            "label": "2012",
            "method": "animate"
           },
           {
            "args": [
             [
              "2013"
             ],
             {
              "frame": {
               "duration": 0,
               "redraw": true
              },
              "fromcurrent": true,
              "mode": "immediate",
              "transition": {
               "duration": 0,
               "easing": "linear"
              }
             }
            ],
            "label": "2013",
            "method": "animate"
           },
           {
            "args": [
             [
              "2014"
             ],
             {
              "frame": {
               "duration": 0,
               "redraw": true
              },
              "fromcurrent": true,
              "mode": "immediate",
              "transition": {
               "duration": 0,
               "easing": "linear"
              }
             }
            ],
            "label": "2014",
            "method": "animate"
           },
           {
            "args": [
             [
              "2015"
             ],
             {
              "frame": {
               "duration": 0,
               "redraw": true
              },
              "fromcurrent": true,
              "mode": "immediate",
              "transition": {
               "duration": 0,
               "easing": "linear"
              }
             }
            ],
            "label": "2015",
            "method": "animate"
           },
           {
            "args": [
             [
              "2016"
             ],
             {
              "frame": {
               "duration": 0,
               "redraw": true
              },
              "fromcurrent": true,
              "mode": "immediate",
              "transition": {
               "duration": 0,
               "easing": "linear"
              }
             }
            ],
            "label": "2016",
            "method": "animate"
           },
           {
            "args": [
             [
              "2017"
             ],
             {
              "frame": {
               "duration": 0,
               "redraw": true
              },
              "fromcurrent": true,
              "mode": "immediate",
              "transition": {
               "duration": 0,
               "easing": "linear"
              }
             }
            ],
            "label": "2017",
            "method": "animate"
           }
          ],
          "x": 0.1,
          "xanchor": "left",
          "y": 0,
          "yanchor": "top"
         }
        ],
        "template": {
         "data": {
          "bar": [
           {
            "error_x": {
             "color": "#f2f5fa"
            },
            "error_y": {
             "color": "#f2f5fa"
            },
            "marker": {
             "line": {
              "color": "rgb(17,17,17)",
              "width": 0.5
             }
            },
            "type": "bar"
           }
          ],
          "barpolar": [
           {
            "marker": {
             "line": {
              "color": "rgb(17,17,17)",
              "width": 0.5
             }
            },
            "type": "barpolar"
           }
          ],
          "carpet": [
           {
            "aaxis": {
             "endlinecolor": "#A2B1C6",
             "gridcolor": "#506784",
             "linecolor": "#506784",
             "minorgridcolor": "#506784",
             "startlinecolor": "#A2B1C6"
            },
            "baxis": {
             "endlinecolor": "#A2B1C6",
             "gridcolor": "#506784",
             "linecolor": "#506784",
             "minorgridcolor": "#506784",
             "startlinecolor": "#A2B1C6"
            },
            "type": "carpet"
           }
          ],
          "choropleth": [
           {
            "colorbar": {
             "outlinewidth": 0,
             "ticks": ""
            },
            "type": "choropleth"
           }
          ],
          "contour": [
           {
            "colorbar": {
             "outlinewidth": 0,
             "ticks": ""
            },
            "colorscale": [
             [
              0,
              "#0d0887"
             ],
             [
              0.1111111111111111,
              "#46039f"
             ],
             [
              0.2222222222222222,
              "#7201a8"
             ],
             [
              0.3333333333333333,
              "#9c179e"
             ],
             [
              0.4444444444444444,
              "#bd3786"
             ],
             [
              0.5555555555555556,
              "#d8576b"
             ],
             [
              0.6666666666666666,
              "#ed7953"
             ],
             [
              0.7777777777777778,
              "#fb9f3a"
             ],
             [
              0.8888888888888888,
              "#fdca26"
             ],
             [
              1,
              "#f0f921"
             ]
            ],
            "type": "contour"
           }
          ],
          "contourcarpet": [
           {
            "colorbar": {
             "outlinewidth": 0,
             "ticks": ""
            },
            "type": "contourcarpet"
           }
          ],
          "heatmap": [
           {
            "colorbar": {
             "outlinewidth": 0,
             "ticks": ""
            },
            "colorscale": [
             [
              0,
              "#0d0887"
             ],
             [
              0.1111111111111111,
              "#46039f"
             ],
             [
              0.2222222222222222,
              "#7201a8"
             ],
             [
              0.3333333333333333,
              "#9c179e"
             ],
             [
              0.4444444444444444,
              "#bd3786"
             ],
             [
              0.5555555555555556,
              "#d8576b"
             ],
             [
              0.6666666666666666,
              "#ed7953"
             ],
             [
              0.7777777777777778,
              "#fb9f3a"
             ],
             [
              0.8888888888888888,
              "#fdca26"
             ],
             [
              1,
              "#f0f921"
             ]
            ],
            "type": "heatmap"
           }
          ],
          "heatmapgl": [
           {
            "colorbar": {
             "outlinewidth": 0,
             "ticks": ""
            },
            "colorscale": [
             [
              0,
              "#0d0887"
             ],
             [
              0.1111111111111111,
              "#46039f"
             ],
             [
              0.2222222222222222,
              "#7201a8"
             ],
             [
              0.3333333333333333,
              "#9c179e"
             ],
             [
              0.4444444444444444,
              "#bd3786"
             ],
             [
              0.5555555555555556,
              "#d8576b"
             ],
             [
              0.6666666666666666,
              "#ed7953"
             ],
             [
              0.7777777777777778,
              "#fb9f3a"
             ],
             [
              0.8888888888888888,
              "#fdca26"
             ],
             [
              1,
              "#f0f921"
             ]
            ],
            "type": "heatmapgl"
           }
          ],
          "histogram": [
           {
            "marker": {
             "colorbar": {
              "outlinewidth": 0,
              "ticks": ""
             }
            },
            "type": "histogram"
           }
          ],
          "histogram2d": [
           {
            "colorbar": {
             "outlinewidth": 0,
             "ticks": ""
            },
            "colorscale": [
             [
              0,
              "#0d0887"
             ],
             [
              0.1111111111111111,
              "#46039f"
             ],
             [
              0.2222222222222222,
              "#7201a8"
             ],
             [
              0.3333333333333333,
              "#9c179e"
             ],
             [
              0.4444444444444444,
              "#bd3786"
             ],
             [
              0.5555555555555556,
              "#d8576b"
             ],
             [
              0.6666666666666666,
              "#ed7953"
             ],
             [
              0.7777777777777778,
              "#fb9f3a"
             ],
             [
              0.8888888888888888,
              "#fdca26"
             ],
             [
              1,
              "#f0f921"
             ]
            ],
            "type": "histogram2d"
           }
          ],
          "histogram2dcontour": [
           {
            "colorbar": {
             "outlinewidth": 0,
             "ticks": ""
            },
            "colorscale": [
             [
              0,
              "#0d0887"
             ],
             [
              0.1111111111111111,
              "#46039f"
             ],
             [
              0.2222222222222222,
              "#7201a8"
             ],
             [
              0.3333333333333333,
              "#9c179e"
             ],
             [
              0.4444444444444444,
              "#bd3786"
             ],
             [
              0.5555555555555556,
              "#d8576b"
             ],
             [
              0.6666666666666666,
              "#ed7953"
             ],
             [
              0.7777777777777778,
              "#fb9f3a"
             ],
             [
              0.8888888888888888,
              "#fdca26"
             ],
             [
              1,
              "#f0f921"
             ]
            ],
            "type": "histogram2dcontour"
           }
          ],
          "mesh3d": [
           {
            "colorbar": {
             "outlinewidth": 0,
             "ticks": ""
            },
            "type": "mesh3d"
           }
          ],
          "parcoords": [
           {
            "line": {
             "colorbar": {
              "outlinewidth": 0,
              "ticks": ""
             }
            },
            "type": "parcoords"
           }
          ],
          "scatter": [
           {
            "marker": {
             "line": {
              "color": "#283442"
             }
            },
            "type": "scatter"
           }
          ],
          "scatter3d": [
           {
            "line": {
             "colorbar": {
              "outlinewidth": 0,
              "ticks": ""
             }
            },
            "marker": {
             "colorbar": {
              "outlinewidth": 0,
              "ticks": ""
             }
            },
            "type": "scatter3d"
           }
          ],
          "scattercarpet": [
           {
            "marker": {
             "colorbar": {
              "outlinewidth": 0,
              "ticks": ""
             }
            },
            "type": "scattercarpet"
           }
          ],
          "scattergeo": [
           {
            "marker": {
             "colorbar": {
              "outlinewidth": 0,
              "ticks": ""
             }
            },
            "type": "scattergeo"
           }
          ],
          "scattergl": [
           {
            "marker": {
             "line": {
              "color": "#283442"
             }
            },
            "type": "scattergl"
           }
          ],
          "scattermapbox": [
           {
            "marker": {
             "colorbar": {
              "outlinewidth": 0,
              "ticks": ""
             }
            },
            "type": "scattermapbox"
           }
          ],
          "scatterpolar": [
           {
            "marker": {
             "colorbar": {
              "outlinewidth": 0,
              "ticks": ""
             }
            },
            "type": "scatterpolar"
           }
          ],
          "scatterpolargl": [
           {
            "marker": {
             "colorbar": {
              "outlinewidth": 0,
              "ticks": ""
             }
            },
            "type": "scatterpolargl"
           }
          ],
          "scatterternary": [
           {
            "marker": {
             "colorbar": {
              "outlinewidth": 0,
              "ticks": ""
             }
            },
            "type": "scatterternary"
           }
          ],
          "surface": [
           {
            "colorbar": {
             "outlinewidth": 0,
             "ticks": ""
            },
            "colorscale": [
             [
              0,
              "#0d0887"
             ],
             [
              0.1111111111111111,
              "#46039f"
             ],
             [
              0.2222222222222222,
              "#7201a8"
             ],
             [
              0.3333333333333333,
              "#9c179e"
             ],
             [
              0.4444444444444444,
              "#bd3786"
             ],
             [
              0.5555555555555556,
              "#d8576b"
             ],
             [
              0.6666666666666666,
              "#ed7953"
             ],
             [
              0.7777777777777778,
              "#fb9f3a"
             ],
             [
              0.8888888888888888,
              "#fdca26"
             ],
             [
              1,
              "#f0f921"
             ]
            ],
            "type": "surface"
           }
          ],
          "table": [
           {
            "cells": {
             "fill": {
              "color": "#506784"
             },
             "line": {
              "color": "rgb(17,17,17)"
             }
            },
            "header": {
             "fill": {
              "color": "#2a3f5f"
             },
             "line": {
              "color": "rgb(17,17,17)"
             }
            },
            "type": "table"
           }
          ]
         },
         "layout": {
          "annotationdefaults": {
           "arrowcolor": "#f2f5fa",
           "arrowhead": 0,
           "arrowwidth": 1
          },
          "colorscale": {
           "diverging": [
            [
             0,
             "#8e0152"
            ],
            [
             0.1,
             "#c51b7d"
            ],
            [
             0.2,
             "#de77ae"
            ],
            [
             0.3,
             "#f1b6da"
            ],
            [
             0.4,
             "#fde0ef"
            ],
            [
             0.5,
             "#f7f7f7"
            ],
            [
             0.6,
             "#e6f5d0"
            ],
            [
             0.7,
             "#b8e186"
            ],
            [
             0.8,
             "#7fbc41"
            ],
            [
             0.9,
             "#4d9221"
            ],
            [
             1,
             "#276419"
            ]
           ],
           "sequential": [
            [
             0,
             "#0d0887"
            ],
            [
             0.1111111111111111,
             "#46039f"
            ],
            [
             0.2222222222222222,
             "#7201a8"
            ],
            [
             0.3333333333333333,
             "#9c179e"
            ],
            [
             0.4444444444444444,
             "#bd3786"
            ],
            [
             0.5555555555555556,
             "#d8576b"
            ],
            [
             0.6666666666666666,
             "#ed7953"
            ],
            [
             0.7777777777777778,
             "#fb9f3a"
            ],
            [
             0.8888888888888888,
             "#fdca26"
            ],
            [
             1,
             "#f0f921"
            ]
           ],
           "sequentialminus": [
            [
             0,
             "#0d0887"
            ],
            [
             0.1111111111111111,
             "#46039f"
            ],
            [
             0.2222222222222222,
             "#7201a8"
            ],
            [
             0.3333333333333333,
             "#9c179e"
            ],
            [
             0.4444444444444444,
             "#bd3786"
            ],
            [
             0.5555555555555556,
             "#d8576b"
            ],
            [
             0.6666666666666666,
             "#ed7953"
            ],
            [
             0.7777777777777778,
             "#fb9f3a"
            ],
            [
             0.8888888888888888,
             "#fdca26"
            ],
            [
             1,
             "#f0f921"
            ]
           ]
          },
          "colorway": [
           "#636efa",
           "#EF553B",
           "#00cc96",
           "#ab63fa",
           "#FFA15A",
           "#19d3f3",
           "#FF6692",
           "#B6E880",
           "#FF97FF",
           "#FECB52"
          ],
          "font": {
           "color": "#f2f5fa"
          },
          "geo": {
           "bgcolor": "rgb(17,17,17)",
           "lakecolor": "rgb(17,17,17)",
           "landcolor": "rgb(17,17,17)",
           "showlakes": true,
           "showland": true,
           "subunitcolor": "#506784"
          },
          "hoverlabel": {
           "align": "left"
          },
          "hovermode": "closest",
          "mapbox": {
           "style": "dark"
          },
          "paper_bgcolor": "rgb(17,17,17)",
          "plot_bgcolor": "rgb(17,17,17)",
          "polar": {
           "angularaxis": {
            "gridcolor": "#506784",
            "linecolor": "#506784",
            "ticks": ""
           },
           "bgcolor": "rgb(17,17,17)",
           "radialaxis": {
            "gridcolor": "#506784",
            "linecolor": "#506784",
            "ticks": ""
           }
          },
          "scene": {
           "xaxis": {
            "backgroundcolor": "rgb(17,17,17)",
            "gridcolor": "#506784",
            "gridwidth": 2,
            "linecolor": "#506784",
            "showbackground": true,
            "ticks": "",
            "zerolinecolor": "#C8D4E3"
           },
           "yaxis": {
            "backgroundcolor": "rgb(17,17,17)",
            "gridcolor": "#506784",
            "gridwidth": 2,
            "linecolor": "#506784",
            "showbackground": true,
            "ticks": "",
            "zerolinecolor": "#C8D4E3"
           },
           "zaxis": {
            "backgroundcolor": "rgb(17,17,17)",
            "gridcolor": "#506784",
            "gridwidth": 2,
            "linecolor": "#506784",
            "showbackground": true,
            "ticks": "",
            "zerolinecolor": "#C8D4E3"
           }
          },
          "shapedefaults": {
           "line": {
            "color": "#f2f5fa"
           }
          },
          "sliderdefaults": {
           "bgcolor": "#C8D4E3",
           "bordercolor": "rgb(17,17,17)",
           "borderwidth": 1,
           "tickwidth": 0
          },
          "ternary": {
           "aaxis": {
            "gridcolor": "#506784",
            "linecolor": "#506784",
            "ticks": ""
           },
           "baxis": {
            "gridcolor": "#506784",
            "linecolor": "#506784",
            "ticks": ""
           },
           "bgcolor": "rgb(17,17,17)",
           "caxis": {
            "gridcolor": "#506784",
            "linecolor": "#506784",
            "ticks": ""
           }
          },
          "title": {
           "x": 0.05
          },
          "updatemenudefaults": {
           "bgcolor": "#506784",
           "borderwidth": 0
          },
          "xaxis": {
           "automargin": true,
           "gridcolor": "#283442",
           "linecolor": "#506784",
           "ticks": "",
           "zerolinecolor": "#283442",
           "zerolinewidth": 2
          },
          "yaxis": {
           "automargin": true,
           "gridcolor": "#283442",
           "linecolor": "#506784",
           "ticks": "",
           "zerolinecolor": "#283442",
           "zerolinewidth": 2
          }
         }
        },
        "updatemenus": [
         {
          "buttons": [
           {
            "args": [
             null,
             {
              "frame": {
               "duration": 500,
               "redraw": true
              },
              "fromcurrent": true,
              "mode": "immediate",
              "transition": {
               "duration": 500,
               "easing": "linear"
              }
             }
            ],
            "label": "&#9654;",
            "method": "animate"
           },
           {
            "args": [
             [
              null
             ],
             {
              "frame": {
               "duration": 0,
               "redraw": true
              },
              "fromcurrent": true,
              "mode": "immediate",
              "transition": {
               "duration": 0,
               "easing": "linear"
              }
             }
            ],
            "label": "&#9724;",
            "method": "animate"
           }
          ],
          "direction": "left",
          "pad": {
           "r": 10,
           "t": 70
          },
          "showactive": false,
          "type": "buttons",
          "x": 0.1,
          "xanchor": "right",
          "y": 0,
          "yanchor": "top"
         }
        ]
       }
      },
      "text/html": [
       "<div>\n",
       "        \n",
       "        \n",
       "            <div id=\"621b9bc2-c469-4d63-ac05-ec1fefb5dc56\" class=\"plotly-graph-div\" style=\"height:600px; width:100%;\"></div>\n",
       "            <script type=\"text/javascript\">\n",
       "                require([\"plotly\"], function(Plotly) {\n",
       "                    window.PLOTLYENV=window.PLOTLYENV || {};\n",
       "                    \n",
       "                if (document.getElementById(\"621b9bc2-c469-4d63-ac05-ec1fefb5dc56\")) {\n",
       "                    Plotly.newPlot(\n",
       "                        '621b9bc2-c469-4d63-ac05-ec1fefb5dc56',\n",
       "                        [{\"hoverlabel\": {\"namelength\": 0}, \"hovertemplate\": \"Regions=%{theta}<br>Annee=2003<br>Quantite=%{r}\", \"legendgroup\": \"Regions=Auvergne-Rh\\u00f4ne-Alpes\", \"marker\": {\"color\": \"#fdca26\"}, \"name\": \"Regions=Auvergne-Rh\\u00f4ne-Alpes\", \"r\": [228.727578465506], \"showlegend\": true, \"subplot\": \"polar\", \"theta\": [\"Auvergne-Rh\\u00f4ne-Alpes\"], \"type\": \"barpolar\"}, {\"hoverlabel\": {\"namelength\": 0}, \"hovertemplate\": \"Regions=%{theta}<br>Annee=2003<br>Quantite=%{r}\", \"legendgroup\": \"Regions=Bourgogne-Franche-Comt\\u00e9\", \"marker\": {\"color\": \"#fb9f3a\"}, \"name\": \"Regions=Bourgogne-Franche-Comt\\u00e9\", \"r\": [68.60271535022356], \"showlegend\": true, \"subplot\": \"polar\", \"theta\": [\"Bourgogne-Franche-Comt\\u00e9\"], \"type\": \"barpolar\"}, {\"hoverlabel\": {\"namelength\": 0}, \"hovertemplate\": \"Regions=%{theta}<br>Annee=2003<br>Quantite=%{r}\", \"legendgroup\": \"Regions=Bretagne\", \"marker\": {\"color\": \"#ed7953\"}, \"name\": \"Regions=Bretagne\", \"r\": [113.28956721311478], \"showlegend\": true, \"subplot\": \"polar\", \"theta\": [\"Bretagne\"], \"type\": \"barpolar\"}, {\"hoverlabel\": {\"namelength\": 0}, \"hovertemplate\": \"Regions=%{theta}<br>Annee=2003<br>Quantite=%{r}\", \"legendgroup\": \"Regions=Centre-Val de Loire\", \"marker\": {\"color\": \"#d8576b\"}, \"name\": \"Regions=Centre-Val de Loire\", \"r\": [70.15538755304101], \"showlegend\": true, \"subplot\": \"polar\", \"theta\": [\"Centre-Val de Loire\"], \"type\": \"barpolar\"}, {\"hoverlabel\": {\"namelength\": 0}, \"hovertemplate\": \"Regions=%{theta}<br>Annee=2003<br>Quantite=%{r}\", \"legendgroup\": \"Regions=Corse\", \"marker\": {\"color\": \"#bd3786\"}, \"name\": \"Regions=Corse\", \"r\": [29.357583333333327], \"showlegend\": true, \"subplot\": \"polar\", \"theta\": [\"Corse\"], \"type\": \"barpolar\"}, {\"hoverlabel\": {\"namelength\": 0}, \"hovertemplate\": \"Regions=%{theta}<br>Annee=2003<br>Quantite=%{r}\", \"legendgroup\": \"Regions=Grand Est\", \"marker\": {\"color\": \"#9c179e\"}, \"name\": \"Regions=Grand Est\", \"r\": [221.1060000000001], \"showlegend\": true, \"subplot\": \"polar\", \"theta\": [\"Grand Est\"], \"type\": \"barpolar\"}, {\"hoverlabel\": {\"namelength\": 0}, \"hovertemplate\": \"Regions=%{theta}<br>Annee=2003<br>Quantite=%{r}\", \"legendgroup\": \"Regions=Hauts-de-France\", \"marker\": {\"color\": \"#7201a8\"}, \"name\": \"Regions=Hauts-de-France\", \"r\": [605.025212820513], \"showlegend\": true, \"subplot\": \"polar\", \"theta\": [\"Hauts-de-France\"], \"type\": \"barpolar\"}, {\"hoverlabel\": {\"namelength\": 0}, \"hovertemplate\": \"Regions=%{theta}<br>Annee=2003<br>Quantite=%{r}\", \"legendgroup\": \"Regions=Normandie\", \"marker\": {\"color\": \"#46039f\"}, \"name\": \"Regions=Normandie\", \"r\": [136.3433560794045], \"showlegend\": true, \"subplot\": \"polar\", \"theta\": [\"Normandie\"], \"type\": \"barpolar\"}, {\"hoverlabel\": {\"namelength\": 0}, \"hovertemplate\": \"Regions=%{theta}<br>Annee=2003<br>Quantite=%{r}\", \"legendgroup\": \"Regions=Nouvelle-Aquitaine\", \"marker\": {\"color\": \"#0d0887\"}, \"name\": \"Regions=Nouvelle-Aquitaine\", \"r\": [38.67922810590631], \"showlegend\": true, \"subplot\": \"polar\", \"theta\": [\"Nouvelle-Aquitaine\"], \"type\": \"barpolar\"}, {\"hoverlabel\": {\"namelength\": 0}, \"hovertemplate\": \"Regions=%{theta}<br>Annee=2003<br>Quantite=%{r}\", \"legendgroup\": \"Regions=Occitanie\", \"marker\": {\"color\": \"#fdca26\"}, \"name\": \"Regions=Occitanie\", \"r\": [71.37601731025298], \"showlegend\": true, \"subplot\": \"polar\", \"theta\": [\"Occitanie\"], \"type\": \"barpolar\"}, {\"hoverlabel\": {\"namelength\": 0}, \"hovertemplate\": \"Regions=%{theta}<br>Annee=2003<br>Quantite=%{r}\", \"legendgroup\": \"Regions=Pays de la Loire\", \"marker\": {\"color\": \"#fb9f3a\"}, \"name\": \"Regions=Pays de la Loire\", \"r\": [168.6150223097113], \"showlegend\": true, \"subplot\": \"polar\", \"theta\": [\"Pays de la Loire\"], \"type\": \"barpolar\"}, {\"hoverlabel\": {\"namelength\": 0}, \"hovertemplate\": \"Regions=%{theta}<br>Annee=2003<br>Quantite=%{r}\", \"legendgroup\": \"Regions=Provence-Alpes-C\\u00f4te d'Azur\", \"marker\": {\"color\": \"#ed7953\"}, \"name\": \"Regions=Provence-Alpes-C\\u00f4te d'Azur\", \"r\": [170.9569379844961], \"showlegend\": true, \"subplot\": \"polar\", \"theta\": [\"Provence-Alpes-C\\u00f4te d'Azur\"], \"type\": \"barpolar\"}, {\"hoverlabel\": {\"namelength\": 0}, \"hovertemplate\": \"Regions=%{theta}<br>Annee=2003<br>Quantite=%{r}\", \"legendgroup\": \"Regions=\\u00cele-de-France\", \"marker\": {\"color\": \"#d8576b\"}, \"name\": \"Regions=\\u00cele-de-France\", \"r\": [274.0511917211329], \"showlegend\": true, \"subplot\": \"polar\", \"theta\": [\"\\u00cele-de-France\"], \"type\": \"barpolar\"}],\n",
       "                        {\"barmode\": \"relative\", \"height\": 600, \"legend\": {\"tracegroupgap\": 0}, \"margin\": {\"t\": 60}, \"polar\": {\"angularaxis\": {\"categoryarray\": [\"Auvergne-Rh\\u00f4ne-Alpes\", \"Bourgogne-Franche-Comt\\u00e9\", \"Bretagne\", \"Centre-Val de Loire\", \"Corse\", \"Grand Est\", \"Hauts-de-France\", \"Normandie\", \"Nouvelle-Aquitaine\", \"Occitanie\", \"Pays de la Loire\", \"Provence-Alpes-C\\u00f4te d'Azur\", \"\\u00cele-de-France\"], \"categoryorder\": \"array\", \"direction\": \"clockwise\", \"rotation\": 90}, \"domain\": {\"x\": [0.0, 0.98], \"y\": [0.0, 1.0]}}, \"sliders\": [{\"active\": 0, \"currentvalue\": {\"prefix\": \"Annee=\"}, \"len\": 0.9, \"pad\": {\"b\": 10, \"t\": 60}, \"steps\": [{\"args\": [[\"2003\"], {\"frame\": {\"duration\": 0, \"redraw\": true}, \"fromcurrent\": true, \"mode\": \"immediate\", \"transition\": {\"duration\": 0, \"easing\": \"linear\"}}], \"label\": \"2003\", \"method\": \"animate\"}, {\"args\": [[\"2004\"], {\"frame\": {\"duration\": 0, \"redraw\": true}, \"fromcurrent\": true, \"mode\": \"immediate\", \"transition\": {\"duration\": 0, \"easing\": \"linear\"}}], \"label\": \"2004\", \"method\": \"animate\"}, {\"args\": [[\"2005\"], {\"frame\": {\"duration\": 0, \"redraw\": true}, \"fromcurrent\": true, \"mode\": \"immediate\", \"transition\": {\"duration\": 0, \"easing\": \"linear\"}}], \"label\": \"2005\", \"method\": \"animate\"}, {\"args\": [[\"2006\"], {\"frame\": {\"duration\": 0, \"redraw\": true}, \"fromcurrent\": true, \"mode\": \"immediate\", \"transition\": {\"duration\": 0, \"easing\": \"linear\"}}], \"label\": \"2006\", \"method\": \"animate\"}, {\"args\": [[\"2007\"], {\"frame\": {\"duration\": 0, \"redraw\": true}, \"fromcurrent\": true, \"mode\": \"immediate\", \"transition\": {\"duration\": 0, \"easing\": \"linear\"}}], \"label\": \"2007\", \"method\": \"animate\"}, {\"args\": [[\"2008\"], {\"frame\": {\"duration\": 0, \"redraw\": true}, \"fromcurrent\": true, \"mode\": \"immediate\", \"transition\": {\"duration\": 0, \"easing\": \"linear\"}}], \"label\": \"2008\", \"method\": \"animate\"}, {\"args\": [[\"2009\"], {\"frame\": {\"duration\": 0, \"redraw\": true}, \"fromcurrent\": true, \"mode\": \"immediate\", \"transition\": {\"duration\": 0, \"easing\": \"linear\"}}], \"label\": \"2009\", \"method\": \"animate\"}, {\"args\": [[\"2010\"], {\"frame\": {\"duration\": 0, \"redraw\": true}, \"fromcurrent\": true, \"mode\": \"immediate\", \"transition\": {\"duration\": 0, \"easing\": \"linear\"}}], \"label\": \"2010\", \"method\": \"animate\"}, {\"args\": [[\"2011\"], {\"frame\": {\"duration\": 0, \"redraw\": true}, \"fromcurrent\": true, \"mode\": \"immediate\", \"transition\": {\"duration\": 0, \"easing\": \"linear\"}}], \"label\": \"2011\", \"method\": \"animate\"}, {\"args\": [[\"2012\"], {\"frame\": {\"duration\": 0, \"redraw\": true}, \"fromcurrent\": true, \"mode\": \"immediate\", \"transition\": {\"duration\": 0, \"easing\": \"linear\"}}], \"label\": \"2012\", \"method\": \"animate\"}, {\"args\": [[\"2013\"], {\"frame\": {\"duration\": 0, \"redraw\": true}, \"fromcurrent\": true, \"mode\": \"immediate\", \"transition\": {\"duration\": 0, \"easing\": \"linear\"}}], \"label\": \"2013\", \"method\": \"animate\"}, {\"args\": [[\"2014\"], {\"frame\": {\"duration\": 0, \"redraw\": true}, \"fromcurrent\": true, \"mode\": \"immediate\", \"transition\": {\"duration\": 0, \"easing\": \"linear\"}}], \"label\": \"2014\", \"method\": \"animate\"}, {\"args\": [[\"2015\"], {\"frame\": {\"duration\": 0, \"redraw\": true}, \"fromcurrent\": true, \"mode\": \"immediate\", \"transition\": {\"duration\": 0, \"easing\": \"linear\"}}], \"label\": \"2015\", \"method\": \"animate\"}, {\"args\": [[\"2016\"], {\"frame\": {\"duration\": 0, \"redraw\": true}, \"fromcurrent\": true, \"mode\": \"immediate\", \"transition\": {\"duration\": 0, \"easing\": \"linear\"}}], \"label\": \"2016\", \"method\": \"animate\"}, {\"args\": [[\"2017\"], {\"frame\": {\"duration\": 0, \"redraw\": true}, \"fromcurrent\": true, \"mode\": \"immediate\", \"transition\": {\"duration\": 0, \"easing\": \"linear\"}}], \"label\": \"2017\", \"method\": \"animate\"}], \"x\": 0.1, \"xanchor\": \"left\", \"y\": 0, \"yanchor\": \"top\"}], \"template\": {\"data\": {\"bar\": [{\"error_x\": {\"color\": \"#f2f5fa\"}, \"error_y\": {\"color\": \"#f2f5fa\"}, \"marker\": {\"line\": {\"color\": \"rgb(17,17,17)\", \"width\": 0.5}}, \"type\": \"bar\"}], \"barpolar\": [{\"marker\": {\"line\": {\"color\": \"rgb(17,17,17)\", \"width\": 0.5}}, \"type\": \"barpolar\"}], \"carpet\": [{\"aaxis\": {\"endlinecolor\": \"#A2B1C6\", \"gridcolor\": \"#506784\", \"linecolor\": \"#506784\", \"minorgridcolor\": \"#506784\", \"startlinecolor\": \"#A2B1C6\"}, \"baxis\": {\"endlinecolor\": \"#A2B1C6\", \"gridcolor\": \"#506784\", \"linecolor\": \"#506784\", \"minorgridcolor\": \"#506784\", \"startlinecolor\": \"#A2B1C6\"}, \"type\": \"carpet\"}], \"choropleth\": [{\"colorbar\": {\"outlinewidth\": 0, \"ticks\": \"\"}, \"type\": \"choropleth\"}], \"contour\": [{\"colorbar\": {\"outlinewidth\": 0, \"ticks\": \"\"}, \"colorscale\": [[0.0, \"#0d0887\"], [0.1111111111111111, \"#46039f\"], [0.2222222222222222, \"#7201a8\"], [0.3333333333333333, \"#9c179e\"], [0.4444444444444444, \"#bd3786\"], [0.5555555555555556, \"#d8576b\"], [0.6666666666666666, \"#ed7953\"], [0.7777777777777778, \"#fb9f3a\"], [0.8888888888888888, \"#fdca26\"], [1.0, \"#f0f921\"]], \"type\": \"contour\"}], \"contourcarpet\": [{\"colorbar\": {\"outlinewidth\": 0, \"ticks\": \"\"}, \"type\": \"contourcarpet\"}], \"heatmap\": [{\"colorbar\": {\"outlinewidth\": 0, \"ticks\": \"\"}, \"colorscale\": [[0.0, \"#0d0887\"], [0.1111111111111111, \"#46039f\"], [0.2222222222222222, \"#7201a8\"], [0.3333333333333333, \"#9c179e\"], [0.4444444444444444, \"#bd3786\"], [0.5555555555555556, \"#d8576b\"], [0.6666666666666666, \"#ed7953\"], [0.7777777777777778, \"#fb9f3a\"], [0.8888888888888888, \"#fdca26\"], [1.0, \"#f0f921\"]], \"type\": \"heatmap\"}], \"heatmapgl\": [{\"colorbar\": {\"outlinewidth\": 0, \"ticks\": \"\"}, \"colorscale\": [[0.0, \"#0d0887\"], [0.1111111111111111, \"#46039f\"], [0.2222222222222222, \"#7201a8\"], [0.3333333333333333, \"#9c179e\"], [0.4444444444444444, \"#bd3786\"], [0.5555555555555556, \"#d8576b\"], [0.6666666666666666, \"#ed7953\"], [0.7777777777777778, \"#fb9f3a\"], [0.8888888888888888, \"#fdca26\"], [1.0, \"#f0f921\"]], \"type\": \"heatmapgl\"}], \"histogram\": [{\"marker\": {\"colorbar\": {\"outlinewidth\": 0, \"ticks\": \"\"}}, \"type\": \"histogram\"}], \"histogram2d\": [{\"colorbar\": {\"outlinewidth\": 0, \"ticks\": \"\"}, \"colorscale\": [[0.0, \"#0d0887\"], [0.1111111111111111, \"#46039f\"], [0.2222222222222222, \"#7201a8\"], [0.3333333333333333, \"#9c179e\"], [0.4444444444444444, \"#bd3786\"], [0.5555555555555556, \"#d8576b\"], [0.6666666666666666, \"#ed7953\"], [0.7777777777777778, \"#fb9f3a\"], [0.8888888888888888, \"#fdca26\"], [1.0, \"#f0f921\"]], \"type\": \"histogram2d\"}], \"histogram2dcontour\": [{\"colorbar\": {\"outlinewidth\": 0, \"ticks\": \"\"}, \"colorscale\": [[0.0, \"#0d0887\"], [0.1111111111111111, \"#46039f\"], [0.2222222222222222, \"#7201a8\"], [0.3333333333333333, \"#9c179e\"], [0.4444444444444444, \"#bd3786\"], [0.5555555555555556, \"#d8576b\"], [0.6666666666666666, \"#ed7953\"], [0.7777777777777778, \"#fb9f3a\"], [0.8888888888888888, \"#fdca26\"], [1.0, \"#f0f921\"]], \"type\": \"histogram2dcontour\"}], \"mesh3d\": [{\"colorbar\": {\"outlinewidth\": 0, \"ticks\": \"\"}, \"type\": \"mesh3d\"}], \"parcoords\": [{\"line\": {\"colorbar\": {\"outlinewidth\": 0, \"ticks\": \"\"}}, \"type\": \"parcoords\"}], \"scatter\": [{\"marker\": {\"line\": {\"color\": \"#283442\"}}, \"type\": \"scatter\"}], \"scatter3d\": [{\"line\": {\"colorbar\": {\"outlinewidth\": 0, \"ticks\": \"\"}}, \"marker\": {\"colorbar\": {\"outlinewidth\": 0, \"ticks\": \"\"}}, \"type\": \"scatter3d\"}], \"scattercarpet\": [{\"marker\": {\"colorbar\": {\"outlinewidth\": 0, \"ticks\": \"\"}}, \"type\": \"scattercarpet\"}], \"scattergeo\": [{\"marker\": {\"colorbar\": {\"outlinewidth\": 0, \"ticks\": \"\"}}, \"type\": \"scattergeo\"}], \"scattergl\": [{\"marker\": {\"line\": {\"color\": \"#283442\"}}, \"type\": \"scattergl\"}], \"scattermapbox\": [{\"marker\": {\"colorbar\": {\"outlinewidth\": 0, \"ticks\": \"\"}}, \"type\": \"scattermapbox\"}], \"scatterpolar\": [{\"marker\": {\"colorbar\": {\"outlinewidth\": 0, \"ticks\": \"\"}}, \"type\": \"scatterpolar\"}], \"scatterpolargl\": [{\"marker\": {\"colorbar\": {\"outlinewidth\": 0, \"ticks\": \"\"}}, \"type\": \"scatterpolargl\"}], \"scatterternary\": [{\"marker\": {\"colorbar\": {\"outlinewidth\": 0, \"ticks\": \"\"}}, \"type\": \"scatterternary\"}], \"surface\": [{\"colorbar\": {\"outlinewidth\": 0, \"ticks\": \"\"}, \"colorscale\": [[0.0, \"#0d0887\"], [0.1111111111111111, \"#46039f\"], [0.2222222222222222, \"#7201a8\"], [0.3333333333333333, \"#9c179e\"], [0.4444444444444444, \"#bd3786\"], [0.5555555555555556, \"#d8576b\"], [0.6666666666666666, \"#ed7953\"], [0.7777777777777778, \"#fb9f3a\"], [0.8888888888888888, \"#fdca26\"], [1.0, \"#f0f921\"]], \"type\": \"surface\"}], \"table\": [{\"cells\": {\"fill\": {\"color\": \"#506784\"}, \"line\": {\"color\": \"rgb(17,17,17)\"}}, \"header\": {\"fill\": {\"color\": \"#2a3f5f\"}, \"line\": {\"color\": \"rgb(17,17,17)\"}}, \"type\": \"table\"}]}, \"layout\": {\"annotationdefaults\": {\"arrowcolor\": \"#f2f5fa\", \"arrowhead\": 0, \"arrowwidth\": 1}, \"colorscale\": {\"diverging\": [[0, \"#8e0152\"], [0.1, \"#c51b7d\"], [0.2, \"#de77ae\"], [0.3, \"#f1b6da\"], [0.4, \"#fde0ef\"], [0.5, \"#f7f7f7\"], [0.6, \"#e6f5d0\"], [0.7, \"#b8e186\"], [0.8, \"#7fbc41\"], [0.9, \"#4d9221\"], [1, \"#276419\"]], \"sequential\": [[0.0, \"#0d0887\"], [0.1111111111111111, \"#46039f\"], [0.2222222222222222, \"#7201a8\"], [0.3333333333333333, \"#9c179e\"], [0.4444444444444444, \"#bd3786\"], [0.5555555555555556, \"#d8576b\"], [0.6666666666666666, \"#ed7953\"], [0.7777777777777778, \"#fb9f3a\"], [0.8888888888888888, \"#fdca26\"], [1.0, \"#f0f921\"]], \"sequentialminus\": [[0.0, \"#0d0887\"], [0.1111111111111111, \"#46039f\"], [0.2222222222222222, \"#7201a8\"], [0.3333333333333333, \"#9c179e\"], [0.4444444444444444, \"#bd3786\"], [0.5555555555555556, \"#d8576b\"], [0.6666666666666666, \"#ed7953\"], [0.7777777777777778, \"#fb9f3a\"], [0.8888888888888888, \"#fdca26\"], [1.0, \"#f0f921\"]]}, \"colorway\": [\"#636efa\", \"#EF553B\", \"#00cc96\", \"#ab63fa\", \"#FFA15A\", \"#19d3f3\", \"#FF6692\", \"#B6E880\", \"#FF97FF\", \"#FECB52\"], \"font\": {\"color\": \"#f2f5fa\"}, \"geo\": {\"bgcolor\": \"rgb(17,17,17)\", \"lakecolor\": \"rgb(17,17,17)\", \"landcolor\": \"rgb(17,17,17)\", \"showlakes\": true, \"showland\": true, \"subunitcolor\": \"#506784\"}, \"hoverlabel\": {\"align\": \"left\"}, \"hovermode\": \"closest\", \"mapbox\": {\"style\": \"dark\"}, \"paper_bgcolor\": \"rgb(17,17,17)\", \"plot_bgcolor\": \"rgb(17,17,17)\", \"polar\": {\"angularaxis\": {\"gridcolor\": \"#506784\", \"linecolor\": \"#506784\", \"ticks\": \"\"}, \"bgcolor\": \"rgb(17,17,17)\", \"radialaxis\": {\"gridcolor\": \"#506784\", \"linecolor\": \"#506784\", \"ticks\": \"\"}}, \"scene\": {\"xaxis\": {\"backgroundcolor\": \"rgb(17,17,17)\", \"gridcolor\": \"#506784\", \"gridwidth\": 2, \"linecolor\": \"#506784\", \"showbackground\": true, \"ticks\": \"\", \"zerolinecolor\": \"#C8D4E3\"}, \"yaxis\": {\"backgroundcolor\": \"rgb(17,17,17)\", \"gridcolor\": \"#506784\", \"gridwidth\": 2, \"linecolor\": \"#506784\", \"showbackground\": true, \"ticks\": \"\", \"zerolinecolor\": \"#C8D4E3\"}, \"zaxis\": {\"backgroundcolor\": \"rgb(17,17,17)\", \"gridcolor\": \"#506784\", \"gridwidth\": 2, \"linecolor\": \"#506784\", \"showbackground\": true, \"ticks\": \"\", \"zerolinecolor\": \"#C8D4E3\"}}, \"shapedefaults\": {\"line\": {\"color\": \"#f2f5fa\"}}, \"sliderdefaults\": {\"bgcolor\": \"#C8D4E3\", \"bordercolor\": \"rgb(17,17,17)\", \"borderwidth\": 1, \"tickwidth\": 0}, \"ternary\": {\"aaxis\": {\"gridcolor\": \"#506784\", \"linecolor\": \"#506784\", \"ticks\": \"\"}, \"baxis\": {\"gridcolor\": \"#506784\", \"linecolor\": \"#506784\", \"ticks\": \"\"}, \"bgcolor\": \"rgb(17,17,17)\", \"caxis\": {\"gridcolor\": \"#506784\", \"linecolor\": \"#506784\", \"ticks\": \"\"}}, \"title\": {\"x\": 0.05}, \"updatemenudefaults\": {\"bgcolor\": \"#506784\", \"borderwidth\": 0}, \"xaxis\": {\"automargin\": true, \"gridcolor\": \"#283442\", \"linecolor\": \"#506784\", \"ticks\": \"\", \"zerolinecolor\": \"#283442\", \"zerolinewidth\": 2}, \"yaxis\": {\"automargin\": true, \"gridcolor\": \"#283442\", \"linecolor\": \"#506784\", \"ticks\": \"\", \"zerolinecolor\": \"#283442\", \"zerolinewidth\": 2}}}, \"updatemenus\": [{\"buttons\": [{\"args\": [null, {\"frame\": {\"duration\": 500, \"redraw\": true}, \"fromcurrent\": true, \"mode\": \"immediate\", \"transition\": {\"duration\": 500, \"easing\": \"linear\"}}], \"label\": \"&#9654;\", \"method\": \"animate\"}, {\"args\": [[null], {\"frame\": {\"duration\": 0, \"redraw\": true}, \"fromcurrent\": true, \"mode\": \"immediate\", \"transition\": {\"duration\": 0, \"easing\": \"linear\"}}], \"label\": \"&#9724;\", \"method\": \"animate\"}], \"direction\": \"left\", \"pad\": {\"r\": 10, \"t\": 70}, \"showactive\": false, \"type\": \"buttons\", \"x\": 0.1, \"xanchor\": \"right\", \"y\": 0, \"yanchor\": \"top\"}]},\n",
       "                        {\"responsive\": true}\n",
       "                    ).then(function(){\n",
       "                            Plotly.addFrames('621b9bc2-c469-4d63-ac05-ec1fefb5dc56', [{\"data\": [{\"hoverlabel\": {\"namelength\": 0}, \"hovertemplate\": \"Regions=%{theta}<br>Annee=2003<br>Quantite=%{r}\", \"legendgroup\": \"Regions=Auvergne-Rh\\u00f4ne-Alpes\", \"marker\": {\"color\": \"#fdca26\"}, \"name\": \"Regions=Auvergne-Rh\\u00f4ne-Alpes\", \"r\": [228.727578465506], \"showlegend\": true, \"subplot\": \"polar\", \"theta\": [\"Auvergne-Rh\\u00f4ne-Alpes\"], \"type\": \"barpolar\"}, {\"hoverlabel\": {\"namelength\": 0}, \"hovertemplate\": \"Regions=%{theta}<br>Annee=2003<br>Quantite=%{r}\", \"legendgroup\": \"Regions=Bourgogne-Franche-Comt\\u00e9\", \"marker\": {\"color\": \"#fb9f3a\"}, \"name\": \"Regions=Bourgogne-Franche-Comt\\u00e9\", \"r\": [68.60271535022356], \"showlegend\": true, \"subplot\": \"polar\", \"theta\": [\"Bourgogne-Franche-Comt\\u00e9\"], \"type\": \"barpolar\"}, {\"hoverlabel\": {\"namelength\": 0}, \"hovertemplate\": \"Regions=%{theta}<br>Annee=2003<br>Quantite=%{r}\", \"legendgroup\": \"Regions=Bretagne\", \"marker\": {\"color\": \"#ed7953\"}, \"name\": \"Regions=Bretagne\", \"r\": [113.28956721311478], \"showlegend\": true, \"subplot\": \"polar\", \"theta\": [\"Bretagne\"], \"type\": \"barpolar\"}, {\"hoverlabel\": {\"namelength\": 0}, \"hovertemplate\": \"Regions=%{theta}<br>Annee=2003<br>Quantite=%{r}\", \"legendgroup\": \"Regions=Centre-Val de Loire\", \"marker\": {\"color\": \"#d8576b\"}, \"name\": \"Regions=Centre-Val de Loire\", \"r\": [70.15538755304101], \"showlegend\": true, \"subplot\": \"polar\", \"theta\": [\"Centre-Val de Loire\"], \"type\": \"barpolar\"}, {\"hoverlabel\": {\"namelength\": 0}, \"hovertemplate\": \"Regions=%{theta}<br>Annee=2003<br>Quantite=%{r}\", \"legendgroup\": \"Regions=Corse\", \"marker\": {\"color\": \"#bd3786\"}, \"name\": \"Regions=Corse\", \"r\": [29.357583333333327], \"showlegend\": true, \"subplot\": \"polar\", \"theta\": [\"Corse\"], \"type\": \"barpolar\"}, {\"hoverlabel\": {\"namelength\": 0}, \"hovertemplate\": \"Regions=%{theta}<br>Annee=2003<br>Quantite=%{r}\", \"legendgroup\": \"Regions=Grand Est\", \"marker\": {\"color\": \"#9c179e\"}, \"name\": \"Regions=Grand Est\", \"r\": [221.1060000000001], \"showlegend\": true, \"subplot\": \"polar\", \"theta\": [\"Grand Est\"], \"type\": \"barpolar\"}, {\"hoverlabel\": {\"namelength\": 0}, \"hovertemplate\": \"Regions=%{theta}<br>Annee=2003<br>Quantite=%{r}\", \"legendgroup\": \"Regions=Hauts-de-France\", \"marker\": {\"color\": \"#7201a8\"}, \"name\": \"Regions=Hauts-de-France\", \"r\": [605.025212820513], \"showlegend\": true, \"subplot\": \"polar\", \"theta\": [\"Hauts-de-France\"], \"type\": \"barpolar\"}, {\"hoverlabel\": {\"namelength\": 0}, \"hovertemplate\": \"Regions=%{theta}<br>Annee=2003<br>Quantite=%{r}\", \"legendgroup\": \"Regions=Normandie\", \"marker\": {\"color\": \"#46039f\"}, \"name\": \"Regions=Normandie\", \"r\": [136.3433560794045], \"showlegend\": true, \"subplot\": \"polar\", \"theta\": [\"Normandie\"], \"type\": \"barpolar\"}, {\"hoverlabel\": {\"namelength\": 0}, \"hovertemplate\": \"Regions=%{theta}<br>Annee=2003<br>Quantite=%{r}\", \"legendgroup\": \"Regions=Nouvelle-Aquitaine\", \"marker\": {\"color\": \"#0d0887\"}, \"name\": \"Regions=Nouvelle-Aquitaine\", \"r\": [38.67922810590631], \"showlegend\": true, \"subplot\": \"polar\", \"theta\": [\"Nouvelle-Aquitaine\"], \"type\": \"barpolar\"}, {\"hoverlabel\": {\"namelength\": 0}, \"hovertemplate\": \"Regions=%{theta}<br>Annee=2003<br>Quantite=%{r}\", \"legendgroup\": \"Regions=Occitanie\", \"marker\": {\"color\": \"#fdca26\"}, \"name\": \"Regions=Occitanie\", \"r\": [71.37601731025298], \"showlegend\": true, \"subplot\": \"polar\", \"theta\": [\"Occitanie\"], \"type\": \"barpolar\"}, {\"hoverlabel\": {\"namelength\": 0}, \"hovertemplate\": \"Regions=%{theta}<br>Annee=2003<br>Quantite=%{r}\", \"legendgroup\": \"Regions=Pays de la Loire\", \"marker\": {\"color\": \"#fb9f3a\"}, \"name\": \"Regions=Pays de la Loire\", \"r\": [168.6150223097113], \"showlegend\": true, \"subplot\": \"polar\", \"theta\": [\"Pays de la Loire\"], \"type\": \"barpolar\"}, {\"hoverlabel\": {\"namelength\": 0}, \"hovertemplate\": \"Regions=%{theta}<br>Annee=2003<br>Quantite=%{r}\", \"legendgroup\": \"Regions=Provence-Alpes-C\\u00f4te d'Azur\", \"marker\": {\"color\": \"#ed7953\"}, \"name\": \"Regions=Provence-Alpes-C\\u00f4te d'Azur\", \"r\": [170.9569379844961], \"showlegend\": true, \"subplot\": \"polar\", \"theta\": [\"Provence-Alpes-C\\u00f4te d'Azur\"], \"type\": \"barpolar\"}, {\"hoverlabel\": {\"namelength\": 0}, \"hovertemplate\": \"Regions=%{theta}<br>Annee=2003<br>Quantite=%{r}\", \"legendgroup\": \"Regions=\\u00cele-de-France\", \"marker\": {\"color\": \"#d8576b\"}, \"name\": \"Regions=\\u00cele-de-France\", \"r\": [274.0511917211329], \"showlegend\": true, \"subplot\": \"polar\", \"theta\": [\"\\u00cele-de-France\"], \"type\": \"barpolar\"}], \"name\": \"2003\"}, {\"data\": [{\"hoverlabel\": {\"namelength\": 0}, \"hovertemplate\": \"Regions=%{theta}<br>Annee=2004<br>Quantite=%{r}\", \"legendgroup\": \"Regions=Auvergne-Rh\\u00f4ne-Alpes\", \"marker\": {\"color\": \"#fdca26\"}, \"name\": \"Regions=Auvergne-Rh\\u00f4ne-Alpes\", \"r\": [478.3199716312056], \"showlegend\": true, \"subplot\": \"polar\", \"theta\": [\"Auvergne-Rh\\u00f4ne-Alpes\"], \"type\": \"barpolar\"}, {\"hoverlabel\": {\"namelength\": 0}, \"hovertemplate\": \"Regions=%{theta}<br>Annee=2004<br>Quantite=%{r}\", \"legendgroup\": \"Regions=Bourgogne-Franche-Comt\\u00e9\", \"marker\": {\"color\": \"#fb9f3a\"}, \"name\": \"Regions=Bourgogne-Franche-Comt\\u00e9\", \"r\": [201.22145111773472], \"showlegend\": true, \"subplot\": \"polar\", \"theta\": [\"Bourgogne-Franche-Comt\\u00e9\"], \"type\": \"barpolar\"}, {\"hoverlabel\": {\"namelength\": 0}, \"hovertemplate\": \"Regions=%{theta}<br>Annee=2004<br>Quantite=%{r}\", \"legendgroup\": \"Regions=Bretagne\", \"marker\": {\"color\": \"#ed7953\"}, \"name\": \"Regions=Bretagne\", \"r\": [179.27940163934431], \"showlegend\": true, \"subplot\": \"polar\", \"theta\": [\"Bretagne\"], \"type\": \"barpolar\"}, {\"hoverlabel\": {\"namelength\": 0}, \"hovertemplate\": \"Regions=%{theta}<br>Annee=2004<br>Quantite=%{r}\", \"legendgroup\": \"Regions=Centre-Val de Loire\", \"marker\": {\"color\": \"#d8576b\"}, \"name\": \"Regions=Centre-Val de Loire\", \"r\": [224.26995502121636], \"showlegend\": true, \"subplot\": \"polar\", \"theta\": [\"Centre-Val de Loire\"], \"type\": \"barpolar\"}, {\"hoverlabel\": {\"namelength\": 0}, \"hovertemplate\": \"Regions=%{theta}<br>Annee=2004<br>Quantite=%{r}\", \"legendgroup\": \"Regions=Corse\", \"marker\": {\"color\": \"#bd3786\"}, \"name\": \"Regions=Corse\", \"r\": [66.88833333333334], \"showlegend\": true, \"subplot\": \"polar\", \"theta\": [\"Corse\"], \"type\": \"barpolar\"}, {\"hoverlabel\": {\"namelength\": 0}, \"hovertemplate\": \"Regions=%{theta}<br>Annee=2004<br>Quantite=%{r}\", \"legendgroup\": \"Regions=Grand Est\", \"marker\": {\"color\": \"#9c179e\"}, \"name\": \"Regions=Grand Est\", \"r\": [399.7167753016893], \"showlegend\": true, \"subplot\": \"polar\", \"theta\": [\"Grand Est\"], \"type\": \"barpolar\"}, {\"hoverlabel\": {\"namelength\": 0}, \"hovertemplate\": \"Regions=%{theta}<br>Annee=2004<br>Quantite=%{r}\", \"legendgroup\": \"Regions=Hauts-de-France\", \"marker\": {\"color\": \"#7201a8\"}, \"name\": \"Regions=Hauts-de-France\", \"r\": [662.4125795625939], \"showlegend\": true, \"subplot\": \"polar\", \"theta\": [\"Hauts-de-France\"], \"type\": \"barpolar\"}, {\"hoverlabel\": {\"namelength\": 0}, \"hovertemplate\": \"Regions=%{theta}<br>Annee=2004<br>Quantite=%{r}\", \"legendgroup\": \"Regions=Normandie\", \"marker\": {\"color\": \"#46039f\"}, \"name\": \"Regions=Normandie\", \"r\": [417.29938895781646], \"showlegend\": true, \"subplot\": \"polar\", \"theta\": [\"Normandie\"], \"type\": \"barpolar\"}, {\"hoverlabel\": {\"namelength\": 0}, \"hovertemplate\": \"Regions=%{theta}<br>Annee=2004<br>Quantite=%{r}\", \"legendgroup\": \"Regions=Nouvelle-Aquitaine\", \"marker\": {\"color\": \"#0d0887\"}, \"name\": \"Regions=Nouvelle-Aquitaine\", \"r\": [193.304200610998], \"showlegend\": true, \"subplot\": \"polar\", \"theta\": [\"Nouvelle-Aquitaine\"], \"type\": \"barpolar\"}, {\"hoverlabel\": {\"namelength\": 0}, \"hovertemplate\": \"Regions=%{theta}<br>Annee=2004<br>Quantite=%{r}\", \"legendgroup\": \"Regions=Occitanie\", \"marker\": {\"color\": \"#fdca26\"}, \"name\": \"Regions=Occitanie\", \"r\": [244.06472969374167], \"showlegend\": true, \"subplot\": \"polar\", \"theta\": [\"Occitanie\"], \"type\": \"barpolar\"}, {\"hoverlabel\": {\"namelength\": 0}, \"hovertemplate\": \"Regions=%{theta}<br>Annee=2004<br>Quantite=%{r}\", \"legendgroup\": \"Regions=Pays de la Loire\", \"marker\": {\"color\": \"#fb9f3a\"}, \"name\": \"Regions=Pays de la Loire\", \"r\": [129.5893406824147], \"showlegend\": true, \"subplot\": \"polar\", \"theta\": [\"Pays de la Loire\"], \"type\": \"barpolar\"}, {\"hoverlabel\": {\"namelength\": 0}, \"hovertemplate\": \"Regions=%{theta}<br>Annee=2004<br>Quantite=%{r}\", \"legendgroup\": \"Regions=Provence-Alpes-C\\u00f4te d'Azur\", \"marker\": {\"color\": \"#ed7953\"}, \"name\": \"Regions=Provence-Alpes-C\\u00f4te d'Azur\", \"r\": [441.1281519379844], \"showlegend\": true, \"subplot\": \"polar\", \"theta\": [\"Provence-Alpes-C\\u00f4te d'Azur\"], \"type\": \"barpolar\"}, {\"hoverlabel\": {\"namelength\": 0}, \"hovertemplate\": \"Regions=%{theta}<br>Annee=2004<br>Quantite=%{r}\", \"legendgroup\": \"Regions=\\u00cele-de-France\", \"marker\": {\"color\": \"#d8576b\"}, \"name\": \"Regions=\\u00cele-de-France\", \"r\": [449.08070904139424], \"showlegend\": true, \"subplot\": \"polar\", \"theta\": [\"\\u00cele-de-France\"], \"type\": \"barpolar\"}], \"name\": \"2004\"}, {\"data\": [{\"hoverlabel\": {\"namelength\": 0}, \"hovertemplate\": \"Regions=%{theta}<br>Annee=2005<br>Quantite=%{r}\", \"legendgroup\": \"Regions=Auvergne-Rh\\u00f4ne-Alpes\", \"marker\": {\"color\": \"#fdca26\"}, \"name\": \"Regions=Auvergne-Rh\\u00f4ne-Alpes\", \"r\": [418.0114595744686], \"showlegend\": true, \"subplot\": \"polar\", \"theta\": [\"Auvergne-Rh\\u00f4ne-Alpes\"], \"type\": \"barpolar\"}, {\"hoverlabel\": {\"namelength\": 0}, \"hovertemplate\": \"Regions=%{theta}<br>Annee=2005<br>Quantite=%{r}\", \"legendgroup\": \"Regions=Bourgogne-Franche-Comt\\u00e9\", \"marker\": {\"color\": \"#fb9f3a\"}, \"name\": \"Regions=Bourgogne-Franche-Comt\\u00e9\", \"r\": [237.38014932935926], \"showlegend\": true, \"subplot\": \"polar\", \"theta\": [\"Bourgogne-Franche-Comt\\u00e9\"], \"type\": \"barpolar\"}, {\"hoverlabel\": {\"namelength\": 0}, \"hovertemplate\": \"Regions=%{theta}<br>Annee=2005<br>Quantite=%{r}\", \"legendgroup\": \"Regions=Bretagne\", \"marker\": {\"color\": \"#ed7953\"}, \"name\": \"Regions=Bretagne\", \"r\": [158.05491311475416], \"showlegend\": true, \"subplot\": \"polar\", \"theta\": [\"Bretagne\"], \"type\": \"barpolar\"}, {\"hoverlabel\": {\"namelength\": 0}, \"hovertemplate\": \"Regions=%{theta}<br>Annee=2005<br>Quantite=%{r}\", \"legendgroup\": \"Regions=Centre-Val de Loire\", \"marker\": {\"color\": \"#d8576b\"}, \"name\": \"Regions=Centre-Val de Loire\", \"r\": [248.1278550212163], \"showlegend\": true, \"subplot\": \"polar\", \"theta\": [\"Centre-Val de Loire\"], \"type\": \"barpolar\"}, {\"hoverlabel\": {\"namelength\": 0}, \"hovertemplate\": \"Regions=%{theta}<br>Annee=2005<br>Quantite=%{r}\", \"legendgroup\": \"Regions=Corse\", \"marker\": {\"color\": \"#bd3786\"}, \"name\": \"Regions=Corse\", \"r\": [30.91541666666667], \"showlegend\": true, \"subplot\": \"polar\", \"theta\": [\"Corse\"], \"type\": \"barpolar\"}, {\"hoverlabel\": {\"namelength\": 0}, \"hovertemplate\": \"Regions=%{theta}<br>Annee=2005<br>Quantite=%{r}\", \"legendgroup\": \"Regions=Grand Est\", \"marker\": {\"color\": \"#9c179e\"}, \"name\": \"Regions=Grand Est\", \"r\": [451.8333579243765], \"showlegend\": true, \"subplot\": \"polar\", \"theta\": [\"Grand Est\"], \"type\": \"barpolar\"}, {\"hoverlabel\": {\"namelength\": 0}, \"hovertemplate\": \"Regions=%{theta}<br>Annee=2005<br>Quantite=%{r}\", \"legendgroup\": \"Regions=Hauts-de-France\", \"marker\": {\"color\": \"#7201a8\"}, \"name\": \"Regions=Hauts-de-France\", \"r\": [673.2918068627456], \"showlegend\": true, \"subplot\": \"polar\", \"theta\": [\"Hauts-de-France\"], \"type\": \"barpolar\"}, {\"hoverlabel\": {\"namelength\": 0}, \"hovertemplate\": \"Regions=%{theta}<br>Annee=2005<br>Quantite=%{r}\", \"legendgroup\": \"Regions=Normandie\", \"marker\": {\"color\": \"#46039f\"}, \"name\": \"Regions=Normandie\", \"r\": [491.43234737593], \"showlegend\": true, \"subplot\": \"polar\", \"theta\": [\"Normandie\"], \"type\": \"barpolar\"}, {\"hoverlabel\": {\"namelength\": 0}, \"hovertemplate\": \"Regions=%{theta}<br>Annee=2005<br>Quantite=%{r}\", \"legendgroup\": \"Regions=Nouvelle-Aquitaine\", \"marker\": {\"color\": \"#0d0887\"}, \"name\": \"Regions=Nouvelle-Aquitaine\", \"r\": [281.76273167006093], \"showlegend\": true, \"subplot\": \"polar\", \"theta\": [\"Nouvelle-Aquitaine\"], \"type\": \"barpolar\"}, {\"hoverlabel\": {\"namelength\": 0}, \"hovertemplate\": \"Regions=%{theta}<br>Annee=2005<br>Quantite=%{r}\", \"legendgroup\": \"Regions=Occitanie\", \"marker\": {\"color\": \"#fdca26\"}, \"name\": \"Regions=Occitanie\", \"r\": [288.3699021304927], \"showlegend\": true, \"subplot\": \"polar\", \"theta\": [\"Occitanie\"], \"type\": \"barpolar\"}, {\"hoverlabel\": {\"namelength\": 0}, \"hovertemplate\": \"Regions=%{theta}<br>Annee=2005<br>Quantite=%{r}\", \"legendgroup\": \"Regions=Pays de la Loire\", \"marker\": {\"color\": \"#fb9f3a\"}, \"name\": \"Regions=Pays de la Loire\", \"r\": [157.82900862860893], \"showlegend\": true, \"subplot\": \"polar\", \"theta\": [\"Pays de la Loire\"], \"type\": \"barpolar\"}, {\"hoverlabel\": {\"namelength\": 0}, \"hovertemplate\": \"Regions=%{theta}<br>Annee=2005<br>Quantite=%{r}\", \"legendgroup\": \"Regions=Provence-Alpes-C\\u00f4te d'Azur\", \"marker\": {\"color\": \"#ed7953\"}, \"name\": \"Regions=Provence-Alpes-C\\u00f4te d'Azur\", \"r\": [460.75462372093017], \"showlegend\": true, \"subplot\": \"polar\", \"theta\": [\"Provence-Alpes-C\\u00f4te d'Azur\"], \"type\": \"barpolar\"}, {\"hoverlabel\": {\"namelength\": 0}, \"hovertemplate\": \"Regions=%{theta}<br>Annee=2005<br>Quantite=%{r}\", \"legendgroup\": \"Regions=\\u00cele-de-France\", \"marker\": {\"color\": \"#d8576b\"}, \"name\": \"Regions=\\u00cele-de-France\", \"r\": [457.215560348584], \"showlegend\": true, \"subplot\": \"polar\", \"theta\": [\"\\u00cele-de-France\"], \"type\": \"barpolar\"}], \"name\": \"2005\"}, {\"data\": [{\"hoverlabel\": {\"namelength\": 0}, \"hovertemplate\": \"Regions=%{theta}<br>Annee=2006<br>Quantite=%{r}\", \"legendgroup\": \"Regions=Auvergne-Rh\\u00f4ne-Alpes\", \"marker\": {\"color\": \"#fdca26\"}, \"name\": \"Regions=Auvergne-Rh\\u00f4ne-Alpes\", \"r\": [420.30805796260495], \"showlegend\": true, \"subplot\": \"polar\", \"theta\": [\"Auvergne-Rh\\u00f4ne-Alpes\"], \"type\": \"barpolar\"}, {\"hoverlabel\": {\"namelength\": 0}, \"hovertemplate\": \"Regions=%{theta}<br>Annee=2006<br>Quantite=%{r}\", \"legendgroup\": \"Regions=Bourgogne-Franche-Comt\\u00e9\", \"marker\": {\"color\": \"#fb9f3a\"}, \"name\": \"Regions=Bourgogne-Franche-Comt\\u00e9\", \"r\": [247.13054769001508], \"showlegend\": true, \"subplot\": \"polar\", \"theta\": [\"Bourgogne-Franche-Comt\\u00e9\"], \"type\": \"barpolar\"}, {\"hoverlabel\": {\"namelength\": 0}, \"hovertemplate\": \"Regions=%{theta}<br>Annee=2006<br>Quantite=%{r}\", \"legendgroup\": \"Regions=Bretagne\", \"marker\": {\"color\": \"#ed7953\"}, \"name\": \"Regions=Bretagne\", \"r\": [173.92908803278684], \"showlegend\": true, \"subplot\": \"polar\", \"theta\": [\"Bretagne\"], \"type\": \"barpolar\"}, {\"hoverlabel\": {\"namelength\": 0}, \"hovertemplate\": \"Regions=%{theta}<br>Annee=2006<br>Quantite=%{r}\", \"legendgroup\": \"Regions=Centre-Val de Loire\", \"marker\": {\"color\": \"#d8576b\"}, \"name\": \"Regions=Centre-Val de Loire\", \"r\": [205.74589561527603], \"showlegend\": true, \"subplot\": \"polar\", \"theta\": [\"Centre-Val de Loire\"], \"type\": \"barpolar\"}, {\"hoverlabel\": {\"namelength\": 0}, \"hovertemplate\": \"Regions=%{theta}<br>Annee=2006<br>Quantite=%{r}\", \"legendgroup\": \"Regions=Corse\", \"marker\": {\"color\": \"#bd3786\"}, \"name\": \"Regions=Corse\", \"r\": [33.15583333333334], \"showlegend\": true, \"subplot\": \"polar\", \"theta\": [\"Corse\"], \"type\": \"barpolar\"}, {\"hoverlabel\": {\"namelength\": 0}, \"hovertemplate\": \"Regions=%{theta}<br>Annee=2006<br>Quantite=%{r}\", \"legendgroup\": \"Regions=Grand Est\", \"marker\": {\"color\": \"#9c179e\"}, \"name\": \"Regions=Grand Est\", \"r\": [367.511252212389], \"showlegend\": true, \"subplot\": \"polar\", \"theta\": [\"Grand Est\"], \"type\": \"barpolar\"}, {\"hoverlabel\": {\"namelength\": 0}, \"hovertemplate\": \"Regions=%{theta}<br>Annee=2006<br>Quantite=%{r}\", \"legendgroup\": \"Regions=Hauts-de-France\", \"marker\": {\"color\": \"#7201a8\"}, \"name\": \"Regions=Hauts-de-France\", \"r\": [629.9952449472099], \"showlegend\": true, \"subplot\": \"polar\", \"theta\": [\"Hauts-de-France\"], \"type\": \"barpolar\"}, {\"hoverlabel\": {\"namelength\": 0}, \"hovertemplate\": \"Regions=%{theta}<br>Annee=2006<br>Quantite=%{r}\", \"legendgroup\": \"Regions=Normandie\", \"marker\": {\"color\": \"#46039f\"}, \"name\": \"Regions=Normandie\", \"r\": [823.3462707506211], \"showlegend\": true, \"subplot\": \"polar\", \"theta\": [\"Normandie\"], \"type\": \"barpolar\"}, {\"hoverlabel\": {\"namelength\": 0}, \"hovertemplate\": \"Regions=%{theta}<br>Annee=2006<br>Quantite=%{r}\", \"legendgroup\": \"Regions=Nouvelle-Aquitaine\", \"marker\": {\"color\": \"#0d0887\"}, \"name\": \"Regions=Nouvelle-Aquitaine\", \"r\": [275.11396221995915], \"showlegend\": true, \"subplot\": \"polar\", \"theta\": [\"Nouvelle-Aquitaine\"], \"type\": \"barpolar\"}, {\"hoverlabel\": {\"namelength\": 0}, \"hovertemplate\": \"Regions=%{theta}<br>Annee=2006<br>Quantite=%{r}\", \"legendgroup\": \"Regions=Occitanie\", \"marker\": {\"color\": \"#fdca26\"}, \"name\": \"Regions=Occitanie\", \"r\": [269.81547230359524], \"showlegend\": true, \"subplot\": \"polar\", \"theta\": [\"Occitanie\"], \"type\": \"barpolar\"}, {\"hoverlabel\": {\"namelength\": 0}, \"hovertemplate\": \"Regions=%{theta}<br>Annee=2006<br>Quantite=%{r}\", \"legendgroup\": \"Regions=Pays de la Loire\", \"marker\": {\"color\": \"#fb9f3a\"}, \"name\": \"Regions=Pays de la Loire\", \"r\": [168.86650196850402], \"showlegend\": true, \"subplot\": \"polar\", \"theta\": [\"Pays de la Loire\"], \"type\": \"barpolar\"}, {\"hoverlabel\": {\"namelength\": 0}, \"hovertemplate\": \"Regions=%{theta}<br>Annee=2006<br>Quantite=%{r}\", \"legendgroup\": \"Regions=Provence-Alpes-C\\u00f4te d'Azur\", \"marker\": {\"color\": \"#ed7953\"}, \"name\": \"Regions=Provence-Alpes-C\\u00f4te d'Azur\", \"r\": [420.4864992248062], \"showlegend\": true, \"subplot\": \"polar\", \"theta\": [\"Provence-Alpes-C\\u00f4te d'Azur\"], \"type\": \"barpolar\"}, {\"hoverlabel\": {\"namelength\": 0}, \"hovertemplate\": \"Regions=%{theta}<br>Annee=2006<br>Quantite=%{r}\", \"legendgroup\": \"Regions=\\u00cele-de-France\", \"marker\": {\"color\": \"#d8576b\"}, \"name\": \"Regions=\\u00cele-de-France\", \"r\": [487.8276294117649], \"showlegend\": true, \"subplot\": \"polar\", \"theta\": [\"\\u00cele-de-France\"], \"type\": \"barpolar\"}], \"name\": \"2006\"}, {\"data\": [{\"hoverlabel\": {\"namelength\": 0}, \"hovertemplate\": \"Regions=%{theta}<br>Annee=2007<br>Quantite=%{r}\", \"legendgroup\": \"Regions=Auvergne-Rh\\u00f4ne-Alpes\", \"marker\": {\"color\": \"#fdca26\"}, \"name\": \"Regions=Auvergne-Rh\\u00f4ne-Alpes\", \"r\": [387.3510669245651], \"showlegend\": true, \"subplot\": \"polar\", \"theta\": [\"Auvergne-Rh\\u00f4ne-Alpes\"], \"type\": \"barpolar\"}, {\"hoverlabel\": {\"namelength\": 0}, \"hovertemplate\": \"Regions=%{theta}<br>Annee=2007<br>Quantite=%{r}\", \"legendgroup\": \"Regions=Bourgogne-Franche-Comt\\u00e9\", \"marker\": {\"color\": \"#fb9f3a\"}, \"name\": \"Regions=Bourgogne-Franche-Comt\\u00e9\", \"r\": [414.4841275707896], \"showlegend\": true, \"subplot\": \"polar\", \"theta\": [\"Bourgogne-Franche-Comt\\u00e9\"], \"type\": \"barpolar\"}, {\"hoverlabel\": {\"namelength\": 0}, \"hovertemplate\": \"Regions=%{theta}<br>Annee=2007<br>Quantite=%{r}\", \"legendgroup\": \"Regions=Bretagne\", \"marker\": {\"color\": \"#ed7953\"}, \"name\": \"Regions=Bretagne\", \"r\": [141.23541573770484], \"showlegend\": true, \"subplot\": \"polar\", \"theta\": [\"Bretagne\"], \"type\": \"barpolar\"}, {\"hoverlabel\": {\"namelength\": 0}, \"hovertemplate\": \"Regions=%{theta}<br>Annee=2007<br>Quantite=%{r}\", \"legendgroup\": \"Regions=Centre-Val de Loire\", \"marker\": {\"color\": \"#d8576b\"}, \"name\": \"Regions=Centre-Val de Loire\", \"r\": [173.36095869872707], \"showlegend\": true, \"subplot\": \"polar\", \"theta\": [\"Centre-Val de Loire\"], \"type\": \"barpolar\"}, {\"hoverlabel\": {\"namelength\": 0}, \"hovertemplate\": \"Regions=%{theta}<br>Annee=2007<br>Quantite=%{r}\", \"legendgroup\": \"Regions=Corse\", \"marker\": {\"color\": \"#bd3786\"}, \"name\": \"Regions=Corse\", \"r\": [1261.3067083333333], \"showlegend\": true, \"subplot\": \"polar\", \"theta\": [\"Corse\"], \"type\": \"barpolar\"}, {\"hoverlabel\": {\"namelength\": 0}, \"hovertemplate\": \"Regions=%{theta}<br>Annee=2007<br>Quantite=%{r}\", \"legendgroup\": \"Regions=Grand Est\", \"marker\": {\"color\": \"#9c179e\"}, \"name\": \"Regions=Grand Est\", \"r\": [585.5822593242148], \"showlegend\": true, \"subplot\": \"polar\", \"theta\": [\"Grand Est\"], \"type\": \"barpolar\"}, {\"hoverlabel\": {\"namelength\": 0}, \"hovertemplate\": \"Regions=%{theta}<br>Annee=2007<br>Quantite=%{r}\", \"legendgroup\": \"Regions=Hauts-de-France\", \"marker\": {\"color\": \"#7201a8\"}, \"name\": \"Regions=Hauts-de-France\", \"r\": [729.1038576923081], \"showlegend\": true, \"subplot\": \"polar\", \"theta\": [\"Hauts-de-France\"], \"type\": \"barpolar\"}, {\"hoverlabel\": {\"namelength\": 0}, \"hovertemplate\": \"Regions=%{theta}<br>Annee=2007<br>Quantite=%{r}\", \"legendgroup\": \"Regions=Normandie\", \"marker\": {\"color\": \"#46039f\"}, \"name\": \"Regions=Normandie\", \"r\": [612.8193443052104], \"showlegend\": true, \"subplot\": \"polar\", \"theta\": [\"Normandie\"], \"type\": \"barpolar\"}, {\"hoverlabel\": {\"namelength\": 0}, \"hovertemplate\": \"Regions=%{theta}<br>Annee=2007<br>Quantite=%{r}\", \"legendgroup\": \"Regions=Nouvelle-Aquitaine\", \"marker\": {\"color\": \"#0d0887\"}, \"name\": \"Regions=Nouvelle-Aquitaine\", \"r\": [281.38856059063136], \"showlegend\": true, \"subplot\": \"polar\", \"theta\": [\"Nouvelle-Aquitaine\"], \"type\": \"barpolar\"}, {\"hoverlabel\": {\"namelength\": 0}, \"hovertemplate\": \"Regions=%{theta}<br>Annee=2007<br>Quantite=%{r}\", \"legendgroup\": \"Regions=Occitanie\", \"marker\": {\"color\": \"#fdca26\"}, \"name\": \"Regions=Occitanie\", \"r\": [284.9772520639149], \"showlegend\": true, \"subplot\": \"polar\", \"theta\": [\"Occitanie\"], \"type\": \"barpolar\"}, {\"hoverlabel\": {\"namelength\": 0}, \"hovertemplate\": \"Regions=%{theta}<br>Annee=2007<br>Quantite=%{r}\", \"legendgroup\": \"Regions=Pays de la Loire\", \"marker\": {\"color\": \"#fb9f3a\"}, \"name\": \"Regions=Pays de la Loire\", \"r\": [193.71181797900272], \"showlegend\": true, \"subplot\": \"polar\", \"theta\": [\"Pays de la Loire\"], \"type\": \"barpolar\"}, {\"hoverlabel\": {\"namelength\": 0}, \"hovertemplate\": \"Regions=%{theta}<br>Annee=2007<br>Quantite=%{r}\", \"legendgroup\": \"Regions=Provence-Alpes-C\\u00f4te d'Azur\", \"marker\": {\"color\": \"#ed7953\"}, \"name\": \"Regions=Provence-Alpes-C\\u00f4te d'Azur\", \"r\": [396.00917674418605], \"showlegend\": true, \"subplot\": \"polar\", \"theta\": [\"Provence-Alpes-C\\u00f4te d'Azur\"], \"type\": \"barpolar\"}, {\"hoverlabel\": {\"namelength\": 0}, \"hovertemplate\": \"Regions=%{theta}<br>Annee=2007<br>Quantite=%{r}\", \"legendgroup\": \"Regions=\\u00cele-de-France\", \"marker\": {\"color\": \"#d8576b\"}, \"name\": \"Regions=\\u00cele-de-France\", \"r\": [580.3342025054465], \"showlegend\": true, \"subplot\": \"polar\", \"theta\": [\"\\u00cele-de-France\"], \"type\": \"barpolar\"}], \"name\": \"2007\"}, {\"data\": [{\"hoverlabel\": {\"namelength\": 0}, \"hovertemplate\": \"Regions=%{theta}<br>Annee=2008<br>Quantite=%{r}\", \"legendgroup\": \"Regions=Auvergne-Rh\\u00f4ne-Alpes\", \"marker\": {\"color\": \"#fdca26\"}, \"name\": \"Regions=Auvergne-Rh\\u00f4ne-Alpes\", \"r\": [371.4601896195999], \"showlegend\": true, \"subplot\": \"polar\", \"theta\": [\"Auvergne-Rh\\u00f4ne-Alpes\"], \"type\": \"barpolar\"}, {\"hoverlabel\": {\"namelength\": 0}, \"hovertemplate\": \"Regions=%{theta}<br>Annee=2008<br>Quantite=%{r}\", \"legendgroup\": \"Regions=Bourgogne-Franche-Comt\\u00e9\", \"marker\": {\"color\": \"#fb9f3a\"}, \"name\": \"Regions=Bourgogne-Franche-Comt\\u00e9\", \"r\": [237.6485622205661], \"showlegend\": true, \"subplot\": \"polar\", \"theta\": [\"Bourgogne-Franche-Comt\\u00e9\"], \"type\": \"barpolar\"}, {\"hoverlabel\": {\"namelength\": 0}, \"hovertemplate\": \"Regions=%{theta}<br>Annee=2008<br>Quantite=%{r}\", \"legendgroup\": \"Regions=Bretagne\", \"marker\": {\"color\": \"#ed7953\"}, \"name\": \"Regions=Bretagne\", \"r\": [138.74109672131158], \"showlegend\": true, \"subplot\": \"polar\", \"theta\": [\"Bretagne\"], \"type\": \"barpolar\"}, {\"hoverlabel\": {\"namelength\": 0}, \"hovertemplate\": \"Regions=%{theta}<br>Annee=2008<br>Quantite=%{r}\", \"legendgroup\": \"Regions=Centre-Val de Loire\", \"marker\": {\"color\": \"#d8576b\"}, \"name\": \"Regions=Centre-Val de Loire\", \"r\": [166.75467765205093], \"showlegend\": true, \"subplot\": \"polar\", \"theta\": [\"Centre-Val de Loire\"], \"type\": \"barpolar\"}, {\"hoverlabel\": {\"namelength\": 0}, \"hovertemplate\": \"Regions=%{theta}<br>Annee=2008<br>Quantite=%{r}\", \"legendgroup\": \"Regions=Corse\", \"marker\": {\"color\": \"#bd3786\"}, \"name\": \"Regions=Corse\", \"r\": [72.39914583333332], \"showlegend\": true, \"subplot\": \"polar\", \"theta\": [\"Corse\"], \"type\": \"barpolar\"}, {\"hoverlabel\": {\"namelength\": 0}, \"hovertemplate\": \"Regions=%{theta}<br>Annee=2008<br>Quantite=%{r}\", \"legendgroup\": \"Regions=Grand Est\", \"marker\": {\"color\": \"#9c179e\"}, \"name\": \"Regions=Grand Est\", \"r\": [570.1501443925982], \"showlegend\": true, \"subplot\": \"polar\", \"theta\": [\"Grand Est\"], \"type\": \"barpolar\"}, {\"hoverlabel\": {\"namelength\": 0}, \"hovertemplate\": \"Regions=%{theta}<br>Annee=2008<br>Quantite=%{r}\", \"legendgroup\": \"Regions=Hauts-de-France\", \"marker\": {\"color\": \"#7201a8\"}, \"name\": \"Regions=Hauts-de-France\", \"r\": [661.7492424585216], \"showlegend\": true, \"subplot\": \"polar\", \"theta\": [\"Hauts-de-France\"], \"type\": \"barpolar\"}, {\"hoverlabel\": {\"namelength\": 0}, \"hovertemplate\": \"Regions=%{theta}<br>Annee=2008<br>Quantite=%{r}\", \"legendgroup\": \"Regions=Normandie\", \"marker\": {\"color\": \"#46039f\"}, \"name\": \"Regions=Normandie\", \"r\": [629.1590988598007], \"showlegend\": true, \"subplot\": \"polar\", \"theta\": [\"Normandie\"], \"type\": \"barpolar\"}, {\"hoverlabel\": {\"namelength\": 0}, \"hovertemplate\": \"Regions=%{theta}<br>Annee=2008<br>Quantite=%{r}\", \"legendgroup\": \"Regions=Nouvelle-Aquitaine\", \"marker\": {\"color\": \"#0d0887\"}, \"name\": \"Regions=Nouvelle-Aquitaine\", \"r\": [266.83279867617114], \"showlegend\": true, \"subplot\": \"polar\", \"theta\": [\"Nouvelle-Aquitaine\"], \"type\": \"barpolar\"}, {\"hoverlabel\": {\"namelength\": 0}, \"hovertemplate\": \"Regions=%{theta}<br>Annee=2008<br>Quantite=%{r}\", \"legendgroup\": \"Regions=Occitanie\", \"marker\": {\"color\": \"#fdca26\"}, \"name\": \"Regions=Occitanie\", \"r\": [300.0888280559253], \"showlegend\": true, \"subplot\": \"polar\", \"theta\": [\"Occitanie\"], \"type\": \"barpolar\"}, {\"hoverlabel\": {\"namelength\": 0}, \"hovertemplate\": \"Regions=%{theta}<br>Annee=2008<br>Quantite=%{r}\", \"legendgroup\": \"Regions=Pays de la Loire\", \"marker\": {\"color\": \"#fb9f3a\"}, \"name\": \"Regions=Pays de la Loire\", \"r\": [199.36291259842508], \"showlegend\": true, \"subplot\": \"polar\", \"theta\": [\"Pays de la Loire\"], \"type\": \"barpolar\"}, {\"hoverlabel\": {\"namelength\": 0}, \"hovertemplate\": \"Regions=%{theta}<br>Annee=2008<br>Quantite=%{r}\", \"legendgroup\": \"Regions=Provence-Alpes-C\\u00f4te d'Azur\", \"marker\": {\"color\": \"#ed7953\"}, \"name\": \"Regions=Provence-Alpes-C\\u00f4te d'Azur\", \"r\": [534.9004274418603], \"showlegend\": true, \"subplot\": \"polar\", \"theta\": [\"Provence-Alpes-C\\u00f4te d'Azur\"], \"type\": \"barpolar\"}, {\"hoverlabel\": {\"namelength\": 0}, \"hovertemplate\": \"Regions=%{theta}<br>Annee=2008<br>Quantite=%{r}\", \"legendgroup\": \"Regions=\\u00cele-de-France\", \"marker\": {\"color\": \"#d8576b\"}, \"name\": \"Regions=\\u00cele-de-France\", \"r\": [562.5064261873637], \"showlegend\": true, \"subplot\": \"polar\", \"theta\": [\"\\u00cele-de-France\"], \"type\": \"barpolar\"}], \"name\": \"2008\"}, {\"data\": [{\"hoverlabel\": {\"namelength\": 0}, \"hovertemplate\": \"Regions=%{theta}<br>Annee=2009<br>Quantite=%{r}\", \"legendgroup\": \"Regions=Auvergne-Rh\\u00f4ne-Alpes\", \"marker\": {\"color\": \"#fdca26\"}, \"name\": \"Regions=Auvergne-Rh\\u00f4ne-Alpes\", \"r\": [334.039519987105], \"showlegend\": true, \"subplot\": \"polar\", \"theta\": [\"Auvergne-Rh\\u00f4ne-Alpes\"], \"type\": \"barpolar\"}, {\"hoverlabel\": {\"namelength\": 0}, \"hovertemplate\": \"Regions=%{theta}<br>Annee=2009<br>Quantite=%{r}\", \"legendgroup\": \"Regions=Bourgogne-Franche-Comt\\u00e9\", \"marker\": {\"color\": \"#fb9f3a\"}, \"name\": \"Regions=Bourgogne-Franche-Comt\\u00e9\", \"r\": [204.32921207153473], \"showlegend\": true, \"subplot\": \"polar\", \"theta\": [\"Bourgogne-Franche-Comt\\u00e9\"], \"type\": \"barpolar\"}, {\"hoverlabel\": {\"namelength\": 0}, \"hovertemplate\": \"Regions=%{theta}<br>Annee=2009<br>Quantite=%{r}\", \"legendgroup\": \"Regions=Bretagne\", \"marker\": {\"color\": \"#ed7953\"}, \"name\": \"Regions=Bretagne\", \"r\": [356.6337467213115], \"showlegend\": true, \"subplot\": \"polar\", \"theta\": [\"Bretagne\"], \"type\": \"barpolar\"}, {\"hoverlabel\": {\"namelength\": 0}, \"hovertemplate\": \"Regions=%{theta}<br>Annee=2009<br>Quantite=%{r}\", \"legendgroup\": \"Regions=Centre-Val de Loire\", \"marker\": {\"color\": \"#d8576b\"}, \"name\": \"Regions=Centre-Val de Loire\", \"r\": [151.85005156294193], \"showlegend\": true, \"subplot\": \"polar\", \"theta\": [\"Centre-Val de Loire\"], \"type\": \"barpolar\"}, {\"hoverlabel\": {\"namelength\": 0}, \"hovertemplate\": \"Regions=%{theta}<br>Annee=2009<br>Quantite=%{r}\", \"legendgroup\": \"Regions=Corse\", \"marker\": {\"color\": \"#bd3786\"}, \"name\": \"Regions=Corse\", \"r\": [65.42904166666666], \"showlegend\": true, \"subplot\": \"polar\", \"theta\": [\"Corse\"], \"type\": \"barpolar\"}, {\"hoverlabel\": {\"namelength\": 0}, \"hovertemplate\": \"Regions=%{theta}<br>Annee=2009<br>Quantite=%{r}\", \"legendgroup\": \"Regions=Grand Est\", \"marker\": {\"color\": \"#9c179e\"}, \"name\": \"Regions=Grand Est\", \"r\": [525.3157205309734], \"showlegend\": true, \"subplot\": \"polar\", \"theta\": [\"Grand Est\"], \"type\": \"barpolar\"}, {\"hoverlabel\": {\"namelength\": 0}, \"hovertemplate\": \"Regions=%{theta}<br>Annee=2009<br>Quantite=%{r}\", \"legendgroup\": \"Regions=Hauts-de-France\", \"marker\": {\"color\": \"#7201a8\"}, \"name\": \"Regions=Hauts-de-France\", \"r\": [586.8724719984917], \"showlegend\": true, \"subplot\": \"polar\", \"theta\": [\"Hauts-de-France\"], \"type\": \"barpolar\"}, {\"hoverlabel\": {\"namelength\": 0}, \"hovertemplate\": \"Regions=%{theta}<br>Annee=2009<br>Quantite=%{r}\", \"legendgroup\": \"Regions=Normandie\", \"marker\": {\"color\": \"#46039f\"}, \"name\": \"Regions=Normandie\", \"r\": [649.897744069479], \"showlegend\": true, \"subplot\": \"polar\", \"theta\": [\"Normandie\"], \"type\": \"barpolar\"}, {\"hoverlabel\": {\"namelength\": 0}, \"hovertemplate\": \"Regions=%{theta}<br>Annee=2009<br>Quantite=%{r}\", \"legendgroup\": \"Regions=Nouvelle-Aquitaine\", \"marker\": {\"color\": \"#0d0887\"}, \"name\": \"Regions=Nouvelle-Aquitaine\", \"r\": [262.0701346232179], \"showlegend\": true, \"subplot\": \"polar\", \"theta\": [\"Nouvelle-Aquitaine\"], \"type\": \"barpolar\"}, {\"hoverlabel\": {\"namelength\": 0}, \"hovertemplate\": \"Regions=%{theta}<br>Annee=2009<br>Quantite=%{r}\", \"legendgroup\": \"Regions=Occitanie\", \"marker\": {\"color\": \"#fdca26\"}, \"name\": \"Regions=Occitanie\", \"r\": [290.98583968042624], \"showlegend\": true, \"subplot\": \"polar\", \"theta\": [\"Occitanie\"], \"type\": \"barpolar\"}, {\"hoverlabel\": {\"namelength\": 0}, \"hovertemplate\": \"Regions=%{theta}<br>Annee=2009<br>Quantite=%{r}\", \"legendgroup\": \"Regions=Pays de la Loire\", \"marker\": {\"color\": \"#fb9f3a\"}, \"name\": \"Regions=Pays de la Loire\", \"r\": [149.07497782152237], \"showlegend\": true, \"subplot\": \"polar\", \"theta\": [\"Pays de la Loire\"], \"type\": \"barpolar\"}, {\"hoverlabel\": {\"namelength\": 0}, \"hovertemplate\": \"Regions=%{theta}<br>Annee=2009<br>Quantite=%{r}\", \"legendgroup\": \"Regions=Provence-Alpes-C\\u00f4te d'Azur\", \"marker\": {\"color\": \"#ed7953\"}, \"name\": \"Regions=Provence-Alpes-C\\u00f4te d'Azur\", \"r\": [484.7443759689924], \"showlegend\": true, \"subplot\": \"polar\", \"theta\": [\"Provence-Alpes-C\\u00f4te d'Azur\"], \"type\": \"barpolar\"}, {\"hoverlabel\": {\"namelength\": 0}, \"hovertemplate\": \"Regions=%{theta}<br>Annee=2009<br>Quantite=%{r}\", \"legendgroup\": \"Regions=\\u00cele-de-France\", \"marker\": {\"color\": \"#d8576b\"}, \"name\": \"Regions=\\u00cele-de-France\", \"r\": [527.0533445533767], \"showlegend\": true, \"subplot\": \"polar\", \"theta\": [\"\\u00cele-de-France\"], \"type\": \"barpolar\"}], \"name\": \"2009\"}, {\"data\": [{\"hoverlabel\": {\"namelength\": 0}, \"hovertemplate\": \"Regions=%{theta}<br>Annee=2010<br>Quantite=%{r}\", \"legendgroup\": \"Regions=Auvergne-Rh\\u00f4ne-Alpes\", \"marker\": {\"color\": \"#fdca26\"}, \"name\": \"Regions=Auvergne-Rh\\u00f4ne-Alpes\", \"r\": [458.33066328175363], \"showlegend\": true, \"subplot\": \"polar\", \"theta\": [\"Auvergne-Rh\\u00f4ne-Alpes\"], \"type\": \"barpolar\"}, {\"hoverlabel\": {\"namelength\": 0}, \"hovertemplate\": \"Regions=%{theta}<br>Annee=2010<br>Quantite=%{r}\", \"legendgroup\": \"Regions=Bourgogne-Franche-Comt\\u00e9\", \"marker\": {\"color\": \"#fb9f3a\"}, \"name\": \"Regions=Bourgogne-Franche-Comt\\u00e9\", \"r\": [309.30950901639375], \"showlegend\": true, \"subplot\": \"polar\", \"theta\": [\"Bourgogne-Franche-Comt\\u00e9\"], \"type\": \"barpolar\"}, {\"hoverlabel\": {\"namelength\": 0}, \"hovertemplate\": \"Regions=%{theta}<br>Annee=2010<br>Quantite=%{r}\", \"legendgroup\": \"Regions=Bretagne\", \"marker\": {\"color\": \"#ed7953\"}, \"name\": \"Regions=Bretagne\", \"r\": [161.5517214754097], \"showlegend\": true, \"subplot\": \"polar\", \"theta\": [\"Bretagne\"], \"type\": \"barpolar\"}, {\"hoverlabel\": {\"namelength\": 0}, \"hovertemplate\": \"Regions=%{theta}<br>Annee=2010<br>Quantite=%{r}\", \"legendgroup\": \"Regions=Centre-Val de Loire\", \"marker\": {\"color\": \"#d8576b\"}, \"name\": \"Regions=Centre-Val de Loire\", \"r\": [211.78065719943436], \"showlegend\": true, \"subplot\": \"polar\", \"theta\": [\"Centre-Val de Loire\"], \"type\": \"barpolar\"}, {\"hoverlabel\": {\"namelength\": 0}, \"hovertemplate\": \"Regions=%{theta}<br>Annee=2010<br>Quantite=%{r}\", \"legendgroup\": \"Regions=Corse\", \"marker\": {\"color\": \"#bd3786\"}, \"name\": \"Regions=Corse\", \"r\": [50.887541666666664], \"showlegend\": true, \"subplot\": \"polar\", \"theta\": [\"Corse\"], \"type\": \"barpolar\"}, {\"hoverlabel\": {\"namelength\": 0}, \"hovertemplate\": \"Regions=%{theta}<br>Annee=2010<br>Quantite=%{r}\", \"legendgroup\": \"Regions=Grand Est\", \"marker\": {\"color\": \"#9c179e\"}, \"name\": \"Regions=Grand Est\", \"r\": [535.4884594368459], \"showlegend\": true, \"subplot\": \"polar\", \"theta\": [\"Grand Est\"], \"type\": \"barpolar\"}, {\"hoverlabel\": {\"namelength\": 0}, \"hovertemplate\": \"Regions=%{theta}<br>Annee=2010<br>Quantite=%{r}\", \"legendgroup\": \"Regions=Hauts-de-France\", \"marker\": {\"color\": \"#7201a8\"}, \"name\": \"Regions=Hauts-de-France\", \"r\": [607.0955232429119], \"showlegend\": true, \"subplot\": \"polar\", \"theta\": [\"Hauts-de-France\"], \"type\": \"barpolar\"}, {\"hoverlabel\": {\"namelength\": 0}, \"hovertemplate\": \"Regions=%{theta}<br>Annee=2010<br>Quantite=%{r}\", \"legendgroup\": \"Regions=Normandie\", \"marker\": {\"color\": \"#46039f\"}, \"name\": \"Regions=Normandie\", \"r\": [574.1182742555833], \"showlegend\": true, \"subplot\": \"polar\", \"theta\": [\"Normandie\"], \"type\": \"barpolar\"}, {\"hoverlabel\": {\"namelength\": 0}, \"hovertemplate\": \"Regions=%{theta}<br>Annee=2010<br>Quantite=%{r}\", \"legendgroup\": \"Regions=Nouvelle-Aquitaine\", \"marker\": {\"color\": \"#0d0887\"}, \"name\": \"Regions=Nouvelle-Aquitaine\", \"r\": [308.8472005101831], \"showlegend\": true, \"subplot\": \"polar\", \"theta\": [\"Nouvelle-Aquitaine\"], \"type\": \"barpolar\"}, {\"hoverlabel\": {\"namelength\": 0}, \"hovertemplate\": \"Regions=%{theta}<br>Annee=2010<br>Quantite=%{r}\", \"legendgroup\": \"Regions=Occitanie\", \"marker\": {\"color\": \"#fdca26\"}, \"name\": \"Regions=Occitanie\", \"r\": [341.89522551264986], \"showlegend\": true, \"subplot\": \"polar\", \"theta\": [\"Occitanie\"], \"type\": \"barpolar\"}, {\"hoverlabel\": {\"namelength\": 0}, \"hovertemplate\": \"Regions=%{theta}<br>Annee=2010<br>Quantite=%{r}\", \"legendgroup\": \"Regions=Pays de la Loire\", \"marker\": {\"color\": \"#fb9f3a\"}, \"name\": \"Regions=Pays de la Loire\", \"r\": [201.80912467191607], \"showlegend\": true, \"subplot\": \"polar\", \"theta\": [\"Pays de la Loire\"], \"type\": \"barpolar\"}, {\"hoverlabel\": {\"namelength\": 0}, \"hovertemplate\": \"Regions=%{theta}<br>Annee=2010<br>Quantite=%{r}\", \"legendgroup\": \"Regions=Provence-Alpes-C\\u00f4te d'Azur\", \"marker\": {\"color\": \"#ed7953\"}, \"name\": \"Regions=Provence-Alpes-C\\u00f4te d'Azur\", \"r\": [599.5287882170547], \"showlegend\": true, \"subplot\": \"polar\", \"theta\": [\"Provence-Alpes-C\\u00f4te d'Azur\"], \"type\": \"barpolar\"}, {\"hoverlabel\": {\"namelength\": 0}, \"hovertemplate\": \"Regions=%{theta}<br>Annee=2010<br>Quantite=%{r}\", \"legendgroup\": \"Regions=\\u00cele-de-France\", \"marker\": {\"color\": \"#d8576b\"}, \"name\": \"Regions=\\u00cele-de-France\", \"r\": [527.9686952069711], \"showlegend\": true, \"subplot\": \"polar\", \"theta\": [\"\\u00cele-de-France\"], \"type\": \"barpolar\"}], \"name\": \"2010\"}, {\"data\": [{\"hoverlabel\": {\"namelength\": 0}, \"hovertemplate\": \"Regions=%{theta}<br>Annee=2011<br>Quantite=%{r}\", \"legendgroup\": \"Regions=Auvergne-Rh\\u00f4ne-Alpes\", \"marker\": {\"color\": \"#fdca26\"}, \"name\": \"Regions=Auvergne-Rh\\u00f4ne-Alpes\", \"r\": [377.79542263056067], \"showlegend\": true, \"subplot\": \"polar\", \"theta\": [\"Auvergne-Rh\\u00f4ne-Alpes\"], \"type\": \"barpolar\"}, {\"hoverlabel\": {\"namelength\": 0}, \"hovertemplate\": \"Regions=%{theta}<br>Annee=2011<br>Quantite=%{r}\", \"legendgroup\": \"Regions=Bourgogne-Franche-Comt\\u00e9\", \"marker\": {\"color\": \"#fb9f3a\"}, \"name\": \"Regions=Bourgogne-Franche-Comt\\u00e9\", \"r\": [283.2421418777945], \"showlegend\": true, \"subplot\": \"polar\", \"theta\": [\"Bourgogne-Franche-Comt\\u00e9\"], \"type\": \"barpolar\"}, {\"hoverlabel\": {\"namelength\": 0}, \"hovertemplate\": \"Regions=%{theta}<br>Annee=2011<br>Quantite=%{r}\", \"legendgroup\": \"Regions=Bretagne\", \"marker\": {\"color\": \"#ed7953\"}, \"name\": \"Regions=Bretagne\", \"r\": [174.18899147540986], \"showlegend\": true, \"subplot\": \"polar\", \"theta\": [\"Bretagne\"], \"type\": \"barpolar\"}, {\"hoverlabel\": {\"namelength\": 0}, \"hovertemplate\": \"Regions=%{theta}<br>Annee=2011<br>Quantite=%{r}\", \"legendgroup\": \"Regions=Centre-Val de Loire\", \"marker\": {\"color\": \"#d8576b\"}, \"name\": \"Regions=Centre-Val de Loire\", \"r\": [204.8046890381897], \"showlegend\": true, \"subplot\": \"polar\", \"theta\": [\"Centre-Val de Loire\"], \"type\": \"barpolar\"}, {\"hoverlabel\": {\"namelength\": 0}, \"hovertemplate\": \"Regions=%{theta}<br>Annee=2011<br>Quantite=%{r}\", \"legendgroup\": \"Regions=Corse\", \"marker\": {\"color\": \"#bd3786\"}, \"name\": \"Regions=Corse\", \"r\": [57.72383333333334], \"showlegend\": true, \"subplot\": \"polar\", \"theta\": [\"Corse\"], \"type\": \"barpolar\"}, {\"hoverlabel\": {\"namelength\": 0}, \"hovertemplate\": \"Regions=%{theta}<br>Annee=2011<br>Quantite=%{r}\", \"legendgroup\": \"Regions=Grand Est\", \"marker\": {\"color\": \"#9c179e\"}, \"name\": \"Regions=Grand Est\", \"r\": [510.52176514883286], \"showlegend\": true, \"subplot\": \"polar\", \"theta\": [\"Grand Est\"], \"type\": \"barpolar\"}, {\"hoverlabel\": {\"namelength\": 0}, \"hovertemplate\": \"Regions=%{theta}<br>Annee=2011<br>Quantite=%{r}\", \"legendgroup\": \"Regions=Hauts-de-France\", \"marker\": {\"color\": \"#7201a8\"}, \"name\": \"Regions=Hauts-de-France\", \"r\": [774.7151867269968], \"showlegend\": true, \"subplot\": \"polar\", \"theta\": [\"Hauts-de-France\"], \"type\": \"barpolar\"}, {\"hoverlabel\": {\"namelength\": 0}, \"hovertemplate\": \"Regions=%{theta}<br>Annee=2011<br>Quantite=%{r}\", \"legendgroup\": \"Regions=Normandie\", \"marker\": {\"color\": \"#46039f\"}, \"name\": \"Regions=Normandie\", \"r\": [598.6537853598012], \"showlegend\": true, \"subplot\": \"polar\", \"theta\": [\"Normandie\"], \"type\": \"barpolar\"}, {\"hoverlabel\": {\"namelength\": 0}, \"hovertemplate\": \"Regions=%{theta}<br>Annee=2011<br>Quantite=%{r}\", \"legendgroup\": \"Regions=Nouvelle-Aquitaine\", \"marker\": {\"color\": \"#0d0887\"}, \"name\": \"Regions=Nouvelle-Aquitaine\", \"r\": [322.2584937270874], \"showlegend\": true, \"subplot\": \"polar\", \"theta\": [\"Nouvelle-Aquitaine\"], \"type\": \"barpolar\"}, {\"hoverlabel\": {\"namelength\": 0}, \"hovertemplate\": \"Regions=%{theta}<br>Annee=2011<br>Quantite=%{r}\", \"legendgroup\": \"Regions=Occitanie\", \"marker\": {\"color\": \"#fdca26\"}, \"name\": \"Regions=Occitanie\", \"r\": [357.99671853528633], \"showlegend\": true, \"subplot\": \"polar\", \"theta\": [\"Occitanie\"], \"type\": \"barpolar\"}, {\"hoverlabel\": {\"namelength\": 0}, \"hovertemplate\": \"Regions=%{theta}<br>Annee=2011<br>Quantite=%{r}\", \"legendgroup\": \"Regions=Pays de la Loire\", \"marker\": {\"color\": \"#fb9f3a\"}, \"name\": \"Regions=Pays de la Loire\", \"r\": [187.15819685170604], \"showlegend\": true, \"subplot\": \"polar\", \"theta\": [\"Pays de la Loire\"], \"type\": \"barpolar\"}, {\"hoverlabel\": {\"namelength\": 0}, \"hovertemplate\": \"Regions=%{theta}<br>Annee=2011<br>Quantite=%{r}\", \"legendgroup\": \"Regions=Provence-Alpes-C\\u00f4te d'Azur\", \"marker\": {\"color\": \"#ed7953\"}, \"name\": \"Regions=Provence-Alpes-C\\u00f4te d'Azur\", \"r\": [509.5729328682175], \"showlegend\": true, \"subplot\": \"polar\", \"theta\": [\"Provence-Alpes-C\\u00f4te d'Azur\"], \"type\": \"barpolar\"}, {\"hoverlabel\": {\"namelength\": 0}, \"hovertemplate\": \"Regions=%{theta}<br>Annee=2011<br>Quantite=%{r}\", \"legendgroup\": \"Regions=\\u00cele-de-France\", \"marker\": {\"color\": \"#d8576b\"}, \"name\": \"Regions=\\u00cele-de-France\", \"r\": [600.6360052505445], \"showlegend\": true, \"subplot\": \"polar\", \"theta\": [\"\\u00cele-de-France\"], \"type\": \"barpolar\"}], \"name\": \"2011\"}, {\"data\": [{\"hoverlabel\": {\"namelength\": 0}, \"hovertemplate\": \"Regions=%{theta}<br>Annee=2012<br>Quantite=%{r}\", \"legendgroup\": \"Regions=Auvergne-Rh\\u00f4ne-Alpes\", \"marker\": {\"color\": \"#fdca26\"}, \"name\": \"Regions=Auvergne-Rh\\u00f4ne-Alpes\", \"r\": [482.8191978207603], \"showlegend\": true, \"subplot\": \"polar\", \"theta\": [\"Auvergne-Rh\\u00f4ne-Alpes\"], \"type\": \"barpolar\"}, {\"hoverlabel\": {\"namelength\": 0}, \"hovertemplate\": \"Regions=%{theta}<br>Annee=2012<br>Quantite=%{r}\", \"legendgroup\": \"Regions=Bourgogne-Franche-Comt\\u00e9\", \"marker\": {\"color\": \"#fb9f3a\"}, \"name\": \"Regions=Bourgogne-Franche-Comt\\u00e9\", \"r\": [250.05907771982123], \"showlegend\": true, \"subplot\": \"polar\", \"theta\": [\"Bourgogne-Franche-Comt\\u00e9\"], \"type\": \"barpolar\"}, {\"hoverlabel\": {\"namelength\": 0}, \"hovertemplate\": \"Regions=%{theta}<br>Annee=2012<br>Quantite=%{r}\", \"legendgroup\": \"Regions=Bretagne\", \"marker\": {\"color\": \"#ed7953\"}, \"name\": \"Regions=Bretagne\", \"r\": [292.34472622950835], \"showlegend\": true, \"subplot\": \"polar\", \"theta\": [\"Bretagne\"], \"type\": \"barpolar\"}, {\"hoverlabel\": {\"namelength\": 0}, \"hovertemplate\": \"Regions=%{theta}<br>Annee=2012<br>Quantite=%{r}\", \"legendgroup\": \"Regions=Centre-Val de Loire\", \"marker\": {\"color\": \"#d8576b\"}, \"name\": \"Regions=Centre-Val de Loire\", \"r\": [219.95142492220634], \"showlegend\": true, \"subplot\": \"polar\", \"theta\": [\"Centre-Val de Loire\"], \"type\": \"barpolar\"}, {\"hoverlabel\": {\"namelength\": 0}, \"hovertemplate\": \"Regions=%{theta}<br>Annee=2012<br>Quantite=%{r}\", \"legendgroup\": \"Regions=Corse\", \"marker\": {\"color\": \"#bd3786\"}, \"name\": \"Regions=Corse\", \"r\": [163.46670833333334], \"showlegend\": true, \"subplot\": \"polar\", \"theta\": [\"Corse\"], \"type\": \"barpolar\"}, {\"hoverlabel\": {\"namelength\": 0}, \"hovertemplate\": \"Regions=%{theta}<br>Annee=2012<br>Quantite=%{r}\", \"legendgroup\": \"Regions=Grand Est\", \"marker\": {\"color\": \"#9c179e\"}, \"name\": \"Regions=Grand Est\", \"r\": [635.0068965004023], \"showlegend\": true, \"subplot\": \"polar\", \"theta\": [\"Grand Est\"], \"type\": \"barpolar\"}, {\"hoverlabel\": {\"namelength\": 0}, \"hovertemplate\": \"Regions=%{theta}<br>Annee=2012<br>Quantite=%{r}\", \"legendgroup\": \"Regions=Hauts-de-France\", \"marker\": {\"color\": \"#7201a8\"}, \"name\": \"Regions=Hauts-de-France\", \"r\": [694.2890604865003], \"showlegend\": true, \"subplot\": \"polar\", \"theta\": [\"Hauts-de-France\"], \"type\": \"barpolar\"}, {\"hoverlabel\": {\"namelength\": 0}, \"hovertemplate\": \"Regions=%{theta}<br>Annee=2012<br>Quantite=%{r}\", \"legendgroup\": \"Regions=Normandie\", \"marker\": {\"color\": \"#46039f\"}, \"name\": \"Regions=Normandie\", \"r\": [629.7989074441688], \"showlegend\": true, \"subplot\": \"polar\", \"theta\": [\"Normandie\"], \"type\": \"barpolar\"}, {\"hoverlabel\": {\"namelength\": 0}, \"hovertemplate\": \"Regions=%{theta}<br>Annee=2012<br>Quantite=%{r}\", \"legendgroup\": \"Regions=Nouvelle-Aquitaine\", \"marker\": {\"color\": \"#0d0887\"}, \"name\": \"Regions=Nouvelle-Aquitaine\", \"r\": [400.0901125458249], \"showlegend\": true, \"subplot\": \"polar\", \"theta\": [\"Nouvelle-Aquitaine\"], \"type\": \"barpolar\"}, {\"hoverlabel\": {\"namelength\": 0}, \"hovertemplate\": \"Regions=%{theta}<br>Annee=2012<br>Quantite=%{r}\", \"legendgroup\": \"Regions=Occitanie\", \"marker\": {\"color\": \"#fdca26\"}, \"name\": \"Regions=Occitanie\", \"r\": [672.6566294007991], \"showlegend\": true, \"subplot\": \"polar\", \"theta\": [\"Occitanie\"], \"type\": \"barpolar\"}, {\"hoverlabel\": {\"namelength\": 0}, \"hovertemplate\": \"Regions=%{theta}<br>Annee=2012<br>Quantite=%{r}\", \"legendgroup\": \"Regions=Pays de la Loire\", \"marker\": {\"color\": \"#fb9f3a\"}, \"name\": \"Regions=Pays de la Loire\", \"r\": [285.0051845144356], \"showlegend\": true, \"subplot\": \"polar\", \"theta\": [\"Pays de la Loire\"], \"type\": \"barpolar\"}, {\"hoverlabel\": {\"namelength\": 0}, \"hovertemplate\": \"Regions=%{theta}<br>Annee=2012<br>Quantite=%{r}\", \"legendgroup\": \"Regions=Provence-Alpes-C\\u00f4te d'Azur\", \"marker\": {\"color\": \"#ed7953\"}, \"name\": \"Regions=Provence-Alpes-C\\u00f4te d'Azur\", \"r\": [562.691923209303], \"showlegend\": true, \"subplot\": \"polar\", \"theta\": [\"Provence-Alpes-C\\u00f4te d'Azur\"], \"type\": \"barpolar\"}, {\"hoverlabel\": {\"namelength\": 0}, \"hovertemplate\": \"Regions=%{theta}<br>Annee=2012<br>Quantite=%{r}\", \"legendgroup\": \"Regions=\\u00cele-de-France\", \"marker\": {\"color\": \"#d8576b\"}, \"name\": \"Regions=\\u00cele-de-France\", \"r\": [688.9605819498911], \"showlegend\": true, \"subplot\": \"polar\", \"theta\": [\"\\u00cele-de-France\"], \"type\": \"barpolar\"}], \"name\": \"2012\"}, {\"data\": [{\"hoverlabel\": {\"namelength\": 0}, \"hovertemplate\": \"Regions=%{theta}<br>Annee=2013<br>Quantite=%{r}\", \"legendgroup\": \"Regions=Auvergne-Rh\\u00f4ne-Alpes\", \"marker\": {\"color\": \"#fdca26\"}, \"name\": \"Regions=Auvergne-Rh\\u00f4ne-Alpes\", \"r\": [502.7544649838812], \"showlegend\": true, \"subplot\": \"polar\", \"theta\": [\"Auvergne-Rh\\u00f4ne-Alpes\"], \"type\": \"barpolar\"}, {\"hoverlabel\": {\"namelength\": 0}, \"hovertemplate\": \"Regions=%{theta}<br>Annee=2013<br>Quantite=%{r}\", \"legendgroup\": \"Regions=Bourgogne-Franche-Comt\\u00e9\", \"marker\": {\"color\": \"#fb9f3a\"}, \"name\": \"Regions=Bourgogne-Franche-Comt\\u00e9\", \"r\": [282.27306460506685], \"showlegend\": true, \"subplot\": \"polar\", \"theta\": [\"Bourgogne-Franche-Comt\\u00e9\"], \"type\": \"barpolar\"}, {\"hoverlabel\": {\"namelength\": 0}, \"hovertemplate\": \"Regions=%{theta}<br>Annee=2013<br>Quantite=%{r}\", \"legendgroup\": \"Regions=Bretagne\", \"marker\": {\"color\": \"#ed7953\"}, \"name\": \"Regions=Bretagne\", \"r\": [258.0299051147543], \"showlegend\": true, \"subplot\": \"polar\", \"theta\": [\"Bretagne\"], \"type\": \"barpolar\"}, {\"hoverlabel\": {\"namelength\": 0}, \"hovertemplate\": \"Regions=%{theta}<br>Annee=2013<br>Quantite=%{r}\", \"legendgroup\": \"Regions=Centre-Val de Loire\", \"marker\": {\"color\": \"#d8576b\"}, \"name\": \"Regions=Centre-Val de Loire\", \"r\": [221.6013655388967], \"showlegend\": true, \"subplot\": \"polar\", \"theta\": [\"Centre-Val de Loire\"], \"type\": \"barpolar\"}, {\"hoverlabel\": {\"namelength\": 0}, \"hovertemplate\": \"Regions=%{theta}<br>Annee=2013<br>Quantite=%{r}\", \"legendgroup\": \"Regions=Corse\", \"marker\": {\"color\": \"#bd3786\"}, \"name\": \"Regions=Corse\", \"r\": [189.1920625], \"showlegend\": true, \"subplot\": \"polar\", \"theta\": [\"Corse\"], \"type\": \"barpolar\"}, {\"hoverlabel\": {\"namelength\": 0}, \"hovertemplate\": \"Regions=%{theta}<br>Annee=2013<br>Quantite=%{r}\", \"legendgroup\": \"Regions=Grand Est\", \"marker\": {\"color\": \"#9c179e\"}, \"name\": \"Regions=Grand Est\", \"r\": [629.9350949155271], \"showlegend\": true, \"subplot\": \"polar\", \"theta\": [\"Grand Est\"], \"type\": \"barpolar\"}, {\"hoverlabel\": {\"namelength\": 0}, \"hovertemplate\": \"Regions=%{theta}<br>Annee=2013<br>Quantite=%{r}\", \"legendgroup\": \"Regions=Hauts-de-France\", \"marker\": {\"color\": \"#7201a8\"}, \"name\": \"Regions=Hauts-de-France\", \"r\": [844.0590641930615], \"showlegend\": true, \"subplot\": \"polar\", \"theta\": [\"Hauts-de-France\"], \"type\": \"barpolar\"}, {\"hoverlabel\": {\"namelength\": 0}, \"hovertemplate\": \"Regions=%{theta}<br>Annee=2013<br>Quantite=%{r}\", \"legendgroup\": \"Regions=Normandie\", \"marker\": {\"color\": \"#46039f\"}, \"name\": \"Regions=Normandie\", \"r\": [667.8168150870965], \"showlegend\": true, \"subplot\": \"polar\", \"theta\": [\"Normandie\"], \"type\": \"barpolar\"}, {\"hoverlabel\": {\"namelength\": 0}, \"hovertemplate\": \"Regions=%{theta}<br>Annee=2013<br>Quantite=%{r}\", \"legendgroup\": \"Regions=Nouvelle-Aquitaine\", \"marker\": {\"color\": \"#0d0887\"}, \"name\": \"Regions=Nouvelle-Aquitaine\", \"r\": [488.02055578411375], \"showlegend\": true, \"subplot\": \"polar\", \"theta\": [\"Nouvelle-Aquitaine\"], \"type\": \"barpolar\"}, {\"hoverlabel\": {\"namelength\": 0}, \"hovertemplate\": \"Regions=%{theta}<br>Annee=2013<br>Quantite=%{r}\", \"legendgroup\": \"Regions=Occitanie\", \"marker\": {\"color\": \"#fdca26\"}, \"name\": \"Regions=Occitanie\", \"r\": [656.463682796272], \"showlegend\": true, \"subplot\": \"polar\", \"theta\": [\"Occitanie\"], \"type\": \"barpolar\"}, {\"hoverlabel\": {\"namelength\": 0}, \"hovertemplate\": \"Regions=%{theta}<br>Annee=2013<br>Quantite=%{r}\", \"legendgroup\": \"Regions=Pays de la Loire\", \"marker\": {\"color\": \"#fb9f3a\"}, \"name\": \"Regions=Pays de la Loire\", \"r\": [302.66839657086626], \"showlegend\": true, \"subplot\": \"polar\", \"theta\": [\"Pays de la Loire\"], \"type\": \"barpolar\"}, {\"hoverlabel\": {\"namelength\": 0}, \"hovertemplate\": \"Regions=%{theta}<br>Annee=2013<br>Quantite=%{r}\", \"legendgroup\": \"Regions=Provence-Alpes-C\\u00f4te d'Azur\", \"marker\": {\"color\": \"#ed7953\"}, \"name\": \"Regions=Provence-Alpes-C\\u00f4te d'Azur\", \"r\": [593.784132883722], \"showlegend\": true, \"subplot\": \"polar\", \"theta\": [\"Provence-Alpes-C\\u00f4te d'Azur\"], \"type\": \"barpolar\"}, {\"hoverlabel\": {\"namelength\": 0}, \"hovertemplate\": \"Regions=%{theta}<br>Annee=2013<br>Quantite=%{r}\", \"legendgroup\": \"Regions=\\u00cele-de-France\", \"marker\": {\"color\": \"#d8576b\"}, \"name\": \"Regions=\\u00cele-de-France\", \"r\": [696.9078729291946], \"showlegend\": true, \"subplot\": \"polar\", \"theta\": [\"\\u00cele-de-France\"], \"type\": \"barpolar\"}], \"name\": \"2013\"}, {\"data\": [{\"hoverlabel\": {\"namelength\": 0}, \"hovertemplate\": \"Regions=%{theta}<br>Annee=2014<br>Quantite=%{r}\", \"legendgroup\": \"Regions=Auvergne-Rh\\u00f4ne-Alpes\", \"marker\": {\"color\": \"#fdca26\"}, \"name\": \"Regions=Auvergne-Rh\\u00f4ne-Alpes\", \"r\": [539.9137651515156], \"showlegend\": true, \"subplot\": \"polar\", \"theta\": [\"Auvergne-Rh\\u00f4ne-Alpes\"], \"type\": \"barpolar\"}, {\"hoverlabel\": {\"namelength\": 0}, \"hovertemplate\": \"Regions=%{theta}<br>Annee=2014<br>Quantite=%{r}\", \"legendgroup\": \"Regions=Bourgogne-Franche-Comt\\u00e9\", \"marker\": {\"color\": \"#fb9f3a\"}, \"name\": \"Regions=Bourgogne-Franche-Comt\\u00e9\", \"r\": [265.26044480625944], \"showlegend\": true, \"subplot\": \"polar\", \"theta\": [\"Bourgogne-Franche-Comt\\u00e9\"], \"type\": \"barpolar\"}, {\"hoverlabel\": {\"namelength\": 0}, \"hovertemplate\": \"Regions=%{theta}<br>Annee=2014<br>Quantite=%{r}\", \"legendgroup\": \"Regions=Bretagne\", \"marker\": {\"color\": \"#ed7953\"}, \"name\": \"Regions=Bretagne\", \"r\": [287.2254240983604], \"showlegend\": true, \"subplot\": \"polar\", \"theta\": [\"Bretagne\"], \"type\": \"barpolar\"}, {\"hoverlabel\": {\"namelength\": 0}, \"hovertemplate\": \"Regions=%{theta}<br>Annee=2014<br>Quantite=%{r}\", \"legendgroup\": \"Regions=Centre-Val de Loire\", \"marker\": {\"color\": \"#d8576b\"}, \"name\": \"Regions=Centre-Val de Loire\", \"r\": [200.36413847241855], \"showlegend\": true, \"subplot\": \"polar\", \"theta\": [\"Centre-Val de Loire\"], \"type\": \"barpolar\"}, {\"hoverlabel\": {\"namelength\": 0}, \"hovertemplate\": \"Regions=%{theta}<br>Annee=2014<br>Quantite=%{r}\", \"legendgroup\": \"Regions=Corse\", \"marker\": {\"color\": \"#bd3786\"}, \"name\": \"Regions=Corse\", \"r\": [223.56489583333328], \"showlegend\": true, \"subplot\": \"polar\", \"theta\": [\"Corse\"], \"type\": \"barpolar\"}, {\"hoverlabel\": {\"namelength\": 0}, \"hovertemplate\": \"Regions=%{theta}<br>Annee=2014<br>Quantite=%{r}\", \"legendgroup\": \"Regions=Grand Est\", \"marker\": {\"color\": \"#9c179e\"}, \"name\": \"Regions=Grand Est\", \"r\": [573.5540626162516], \"showlegend\": true, \"subplot\": \"polar\", \"theta\": [\"Grand Est\"], \"type\": \"barpolar\"}, {\"hoverlabel\": {\"namelength\": 0}, \"hovertemplate\": \"Regions=%{theta}<br>Annee=2014<br>Quantite=%{r}\", \"legendgroup\": \"Regions=Hauts-de-France\", \"marker\": {\"color\": \"#7201a8\"}, \"name\": \"Regions=Hauts-de-France\", \"r\": [719.5375995226246], \"showlegend\": true, \"subplot\": \"polar\", \"theta\": [\"Hauts-de-France\"], \"type\": \"barpolar\"}, {\"hoverlabel\": {\"namelength\": 0}, \"hovertemplate\": \"Regions=%{theta}<br>Annee=2014<br>Quantite=%{r}\", \"legendgroup\": \"Regions=Normandie\", \"marker\": {\"color\": \"#46039f\"}, \"name\": \"Regions=Normandie\", \"r\": [753.5770498759308], \"showlegend\": true, \"subplot\": \"polar\", \"theta\": [\"Normandie\"], \"type\": \"barpolar\"}, {\"hoverlabel\": {\"namelength\": 0}, \"hovertemplate\": \"Regions=%{theta}<br>Annee=2014<br>Quantite=%{r}\", \"legendgroup\": \"Regions=Nouvelle-Aquitaine\", \"marker\": {\"color\": \"#0d0887\"}, \"name\": \"Regions=Nouvelle-Aquitaine\", \"r\": [375.41699156822784], \"showlegend\": true, \"subplot\": \"polar\", \"theta\": [\"Nouvelle-Aquitaine\"], \"type\": \"barpolar\"}, {\"hoverlabel\": {\"namelength\": 0}, \"hovertemplate\": \"Regions=%{theta}<br>Annee=2014<br>Quantite=%{r}\", \"legendgroup\": \"Regions=Occitanie\", \"marker\": {\"color\": \"#fdca26\"}, \"name\": \"Regions=Occitanie\", \"r\": [628.3383212649801], \"showlegend\": true, \"subplot\": \"polar\", \"theta\": [\"Occitanie\"], \"type\": \"barpolar\"}, {\"hoverlabel\": {\"namelength\": 0}, \"hovertemplate\": \"Regions=%{theta}<br>Annee=2014<br>Quantite=%{r}\", \"legendgroup\": \"Regions=Pays de la Loire\", \"marker\": {\"color\": \"#fb9f3a\"}, \"name\": \"Regions=Pays de la Loire\", \"r\": [276.42424921259857], \"showlegend\": true, \"subplot\": \"polar\", \"theta\": [\"Pays de la Loire\"], \"type\": \"barpolar\"}, {\"hoverlabel\": {\"namelength\": 0}, \"hovertemplate\": \"Regions=%{theta}<br>Annee=2014<br>Quantite=%{r}\", \"legendgroup\": \"Regions=Provence-Alpes-C\\u00f4te d'Azur\", \"marker\": {\"color\": \"#ed7953\"}, \"name\": \"Regions=Provence-Alpes-C\\u00f4te d'Azur\", \"r\": [561.6407512465116], \"showlegend\": true, \"subplot\": \"polar\", \"theta\": [\"Provence-Alpes-C\\u00f4te d'Azur\"], \"type\": \"barpolar\"}, {\"hoverlabel\": {\"namelength\": 0}, \"hovertemplate\": \"Regions=%{theta}<br>Annee=2014<br>Quantite=%{r}\", \"legendgroup\": \"Regions=\\u00cele-de-France\", \"marker\": {\"color\": \"#d8576b\"}, \"name\": \"Regions=\\u00cele-de-France\", \"r\": [663.5766564270155], \"showlegend\": true, \"subplot\": \"polar\", \"theta\": [\"\\u00cele-de-France\"], \"type\": \"barpolar\"}], \"name\": \"2014\"}, {\"data\": [{\"hoverlabel\": {\"namelength\": 0}, \"hovertemplate\": \"Regions=%{theta}<br>Annee=2015<br>Quantite=%{r}\", \"legendgroup\": \"Regions=Auvergne-Rh\\u00f4ne-Alpes\", \"marker\": {\"color\": \"#fdca26\"}, \"name\": \"Regions=Auvergne-Rh\\u00f4ne-Alpes\", \"r\": [522.3272861695679], \"showlegend\": true, \"subplot\": \"polar\", \"theta\": [\"Auvergne-Rh\\u00f4ne-Alpes\"], \"type\": \"barpolar\"}, {\"hoverlabel\": {\"namelength\": 0}, \"hovertemplate\": \"Regions=%{theta}<br>Annee=2015<br>Quantite=%{r}\", \"legendgroup\": \"Regions=Bourgogne-Franche-Comt\\u00e9\", \"marker\": {\"color\": \"#fb9f3a\"}, \"name\": \"Regions=Bourgogne-Franche-Comt\\u00e9\", \"r\": [324.6517519672131], \"showlegend\": true, \"subplot\": \"polar\", \"theta\": [\"Bourgogne-Franche-Comt\\u00e9\"], \"type\": \"barpolar\"}, {\"hoverlabel\": {\"namelength\": 0}, \"hovertemplate\": \"Regions=%{theta}<br>Annee=2015<br>Quantite=%{r}\", \"legendgroup\": \"Regions=Bretagne\", \"marker\": {\"color\": \"#ed7953\"}, \"name\": \"Regions=Bretagne\", \"r\": [319.16830340819683], \"showlegend\": true, \"subplot\": \"polar\", \"theta\": [\"Bretagne\"], \"type\": \"barpolar\"}, {\"hoverlabel\": {\"namelength\": 0}, \"hovertemplate\": \"Regions=%{theta}<br>Annee=2015<br>Quantite=%{r}\", \"legendgroup\": \"Regions=Centre-Val de Loire\", \"marker\": {\"color\": \"#d8576b\"}, \"name\": \"Regions=Centre-Val de Loire\", \"r\": [214.37021337765188], \"showlegend\": true, \"subplot\": \"polar\", \"theta\": [\"Centre-Val de Loire\"], \"type\": \"barpolar\"}, {\"hoverlabel\": {\"namelength\": 0}, \"hovertemplate\": \"Regions=%{theta}<br>Annee=2015<br>Quantite=%{r}\", \"legendgroup\": \"Regions=Corse\", \"marker\": {\"color\": \"#bd3786\"}, \"name\": \"Regions=Corse\", \"r\": [216.01233333333334], \"showlegend\": true, \"subplot\": \"polar\", \"theta\": [\"Corse\"], \"type\": \"barpolar\"}, {\"hoverlabel\": {\"namelength\": 0}, \"hovertemplate\": \"Regions=%{theta}<br>Annee=2015<br>Quantite=%{r}\", \"legendgroup\": \"Regions=Grand Est\", \"marker\": {\"color\": \"#9c179e\"}, \"name\": \"Regions=Grand Est\", \"r\": [597.3958682204358], \"showlegend\": true, \"subplot\": \"polar\", \"theta\": [\"Grand Est\"], \"type\": \"barpolar\"}, {\"hoverlabel\": {\"namelength\": 0}, \"hovertemplate\": \"Regions=%{theta}<br>Annee=2015<br>Quantite=%{r}\", \"legendgroup\": \"Regions=Hauts-de-France\", \"marker\": {\"color\": \"#7201a8\"}, \"name\": \"Regions=Hauts-de-France\", \"r\": [695.5708010595764], \"showlegend\": true, \"subplot\": \"polar\", \"theta\": [\"Hauts-de-France\"], \"type\": \"barpolar\"}, {\"hoverlabel\": {\"namelength\": 0}, \"hovertemplate\": \"Regions=%{theta}<br>Annee=2015<br>Quantite=%{r}\", \"legendgroup\": \"Regions=Normandie\", \"marker\": {\"color\": \"#46039f\"}, \"name\": \"Regions=Normandie\", \"r\": [825.9077036600506], \"showlegend\": true, \"subplot\": \"polar\", \"theta\": [\"Normandie\"], \"type\": \"barpolar\"}, {\"hoverlabel\": {\"namelength\": 0}, \"hovertemplate\": \"Regions=%{theta}<br>Annee=2015<br>Quantite=%{r}\", \"legendgroup\": \"Regions=Nouvelle-Aquitaine\", \"marker\": {\"color\": \"#0d0887\"}, \"name\": \"Regions=Nouvelle-Aquitaine\", \"r\": [407.05533528513234], \"showlegend\": true, \"subplot\": \"polar\", \"theta\": [\"Nouvelle-Aquitaine\"], \"type\": \"barpolar\"}, {\"hoverlabel\": {\"namelength\": 0}, \"hovertemplate\": \"Regions=%{theta}<br>Annee=2015<br>Quantite=%{r}\", \"legendgroup\": \"Regions=Occitanie\", \"marker\": {\"color\": \"#fdca26\"}, \"name\": \"Regions=Occitanie\", \"r\": [615.9075265446064], \"showlegend\": true, \"subplot\": \"polar\", \"theta\": [\"Occitanie\"], \"type\": \"barpolar\"}, {\"hoverlabel\": {\"namelength\": 0}, \"hovertemplate\": \"Regions=%{theta}<br>Annee=2015<br>Quantite=%{r}\", \"legendgroup\": \"Regions=Pays de la Loire\", \"marker\": {\"color\": \"#fb9f3a\"}, \"name\": \"Regions=Pays de la Loire\", \"r\": [269.5984161706035], \"showlegend\": true, \"subplot\": \"polar\", \"theta\": [\"Pays de la Loire\"], \"type\": \"barpolar\"}, {\"hoverlabel\": {\"namelength\": 0}, \"hovertemplate\": \"Regions=%{theta}<br>Annee=2015<br>Quantite=%{r}\", \"legendgroup\": \"Regions=Provence-Alpes-C\\u00f4te d'Azur\", \"marker\": {\"color\": \"#ed7953\"}, \"name\": \"Regions=Provence-Alpes-C\\u00f4te d'Azur\", \"r\": [544.0659510170539], \"showlegend\": true, \"subplot\": \"polar\", \"theta\": [\"Provence-Alpes-C\\u00f4te d'Azur\"], \"type\": \"barpolar\"}, {\"hoverlabel\": {\"namelength\": 0}, \"hovertemplate\": \"Regions=%{theta}<br>Annee=2015<br>Quantite=%{r}\", \"legendgroup\": \"Regions=\\u00cele-de-France\", \"marker\": {\"color\": \"#d8576b\"}, \"name\": \"Regions=\\u00cele-de-France\", \"r\": [621.9509511111111], \"showlegend\": true, \"subplot\": \"polar\", \"theta\": [\"\\u00cele-de-France\"], \"type\": \"barpolar\"}], \"name\": \"2015\"}, {\"data\": [{\"hoverlabel\": {\"namelength\": 0}, \"hovertemplate\": \"Regions=%{theta}<br>Annee=2016<br>Quantite=%{r}\", \"legendgroup\": \"Regions=Auvergne-Rh\\u00f4ne-Alpes\", \"marker\": {\"color\": \"#fdca26\"}, \"name\": \"Regions=Auvergne-Rh\\u00f4ne-Alpes\", \"r\": [534.7908118065762], \"showlegend\": true, \"subplot\": \"polar\", \"theta\": [\"Auvergne-Rh\\u00f4ne-Alpes\"], \"type\": \"barpolar\"}, {\"hoverlabel\": {\"namelength\": 0}, \"hovertemplate\": \"Regions=%{theta}<br>Annee=2016<br>Quantite=%{r}\", \"legendgroup\": \"Regions=Bourgogne-Franche-Comt\\u00e9\", \"marker\": {\"color\": \"#fb9f3a\"}, \"name\": \"Regions=Bourgogne-Franche-Comt\\u00e9\", \"r\": [330.52768360655716], \"showlegend\": true, \"subplot\": \"polar\", \"theta\": [\"Bourgogne-Franche-Comt\\u00e9\"], \"type\": \"barpolar\"}, {\"hoverlabel\": {\"namelength\": 0}, \"hovertemplate\": \"Regions=%{theta}<br>Annee=2016<br>Quantite=%{r}\", \"legendgroup\": \"Regions=Bretagne\", \"marker\": {\"color\": \"#ed7953\"}, \"name\": \"Regions=Bretagne\", \"r\": [344.50291245901667], \"showlegend\": true, \"subplot\": \"polar\", \"theta\": [\"Bretagne\"], \"type\": \"barpolar\"}, {\"hoverlabel\": {\"namelength\": 0}, \"hovertemplate\": \"Regions=%{theta}<br>Annee=2016<br>Quantite=%{r}\", \"legendgroup\": \"Regions=Centre-Val de Loire\", \"marker\": {\"color\": \"#d8576b\"}, \"name\": \"Regions=Centre-Val de Loire\", \"r\": [446.05162810466777], \"showlegend\": true, \"subplot\": \"polar\", \"theta\": [\"Centre-Val de Loire\"], \"type\": \"barpolar\"}, {\"hoverlabel\": {\"namelength\": 0}, \"hovertemplate\": \"Regions=%{theta}<br>Annee=2016<br>Quantite=%{r}\", \"legendgroup\": \"Regions=Corse\", \"marker\": {\"color\": \"#bd3786\"}, \"name\": \"Regions=Corse\", \"r\": [200.6215750000001], \"showlegend\": true, \"subplot\": \"polar\", \"theta\": [\"Corse\"], \"type\": \"barpolar\"}, {\"hoverlabel\": {\"namelength\": 0}, \"hovertemplate\": \"Regions=%{theta}<br>Annee=2016<br>Quantite=%{r}\", \"legendgroup\": \"Regions=Grand Est\", \"marker\": {\"color\": \"#9c179e\"}, \"name\": \"Regions=Grand Est\", \"r\": [605.5968190909097], \"showlegend\": true, \"subplot\": \"polar\", \"theta\": [\"Grand Est\"], \"type\": \"barpolar\"}, {\"hoverlabel\": {\"namelength\": 0}, \"hovertemplate\": \"Regions=%{theta}<br>Annee=2016<br>Quantite=%{r}\", \"legendgroup\": \"Regions=Hauts-de-France\", \"marker\": {\"color\": \"#7201a8\"}, \"name\": \"Regions=Hauts-de-France\", \"r\": [694.027941621417], \"showlegend\": true, \"subplot\": \"polar\", \"theta\": [\"Hauts-de-France\"], \"type\": \"barpolar\"}, {\"hoverlabel\": {\"namelength\": 0}, \"hovertemplate\": \"Regions=%{theta}<br>Annee=2016<br>Quantite=%{r}\", \"legendgroup\": \"Regions=Normandie\", \"marker\": {\"color\": \"#46039f\"}, \"name\": \"Regions=Normandie\", \"r\": [671.4549542754341], \"showlegend\": true, \"subplot\": \"polar\", \"theta\": [\"Normandie\"], \"type\": \"barpolar\"}, {\"hoverlabel\": {\"namelength\": 0}, \"hovertemplate\": \"Regions=%{theta}<br>Annee=2016<br>Quantite=%{r}\", \"legendgroup\": \"Regions=Nouvelle-Aquitaine\", \"marker\": {\"color\": \"#0d0887\"}, \"name\": \"Regions=Nouvelle-Aquitaine\", \"r\": [407.3899306588589], \"showlegend\": true, \"subplot\": \"polar\", \"theta\": [\"Nouvelle-Aquitaine\"], \"type\": \"barpolar\"}, {\"hoverlabel\": {\"namelength\": 0}, \"hovertemplate\": \"Regions=%{theta}<br>Annee=2016<br>Quantite=%{r}\", \"legendgroup\": \"Regions=Occitanie\", \"marker\": {\"color\": \"#fdca26\"}, \"name\": \"Regions=Occitanie\", \"r\": [651.2685995472706], \"showlegend\": true, \"subplot\": \"polar\", \"theta\": [\"Occitanie\"], \"type\": \"barpolar\"}, {\"hoverlabel\": {\"namelength\": 0}, \"hovertemplate\": \"Regions=%{theta}<br>Annee=2016<br>Quantite=%{r}\", \"legendgroup\": \"Regions=Pays de la Loire\", \"marker\": {\"color\": \"#fb9f3a\"}, \"name\": \"Regions=Pays de la Loire\", \"r\": [284.3688231758531], \"showlegend\": true, \"subplot\": \"polar\", \"theta\": [\"Pays de la Loire\"], \"type\": \"barpolar\"}, {\"hoverlabel\": {\"namelength\": 0}, \"hovertemplate\": \"Regions=%{theta}<br>Annee=2016<br>Quantite=%{r}\", \"legendgroup\": \"Regions=Provence-Alpes-C\\u00f4te d'Azur\", \"marker\": {\"color\": \"#ed7953\"}, \"name\": \"Regions=Provence-Alpes-C\\u00f4te d'Azur\", \"r\": [507.59732437519375], \"showlegend\": true, \"subplot\": \"polar\", \"theta\": [\"Provence-Alpes-C\\u00f4te d'Azur\"], \"type\": \"barpolar\"}, {\"hoverlabel\": {\"namelength\": 0}, \"hovertemplate\": \"Regions=%{theta}<br>Annee=2016<br>Quantite=%{r}\", \"legendgroup\": \"Regions=\\u00cele-de-France\", \"marker\": {\"color\": \"#d8576b\"}, \"name\": \"Regions=\\u00cele-de-France\", \"r\": [665.6842743355126], \"showlegend\": true, \"subplot\": \"polar\", \"theta\": [\"\\u00cele-de-France\"], \"type\": \"barpolar\"}], \"name\": \"2016\"}, {\"data\": [{\"hoverlabel\": {\"namelength\": 0}, \"hovertemplate\": \"Regions=%{theta}<br>Annee=2017<br>Quantite=%{r}\", \"legendgroup\": \"Regions=Auvergne-Rh\\u00f4ne-Alpes\", \"marker\": {\"color\": \"#fdca26\"}, \"name\": \"Regions=Auvergne-Rh\\u00f4ne-Alpes\", \"r\": [563.8472594590594], \"showlegend\": true, \"subplot\": \"polar\", \"theta\": [\"Auvergne-Rh\\u00f4ne-Alpes\"], \"type\": \"barpolar\"}, {\"hoverlabel\": {\"namelength\": 0}, \"hovertemplate\": \"Regions=%{theta}<br>Annee=2017<br>Quantite=%{r}\", \"legendgroup\": \"Regions=Bourgogne-Franche-Comt\\u00e9\", \"marker\": {\"color\": \"#fb9f3a\"}, \"name\": \"Regions=Bourgogne-Franche-Comt\\u00e9\", \"r\": [359.0604863189273], \"showlegend\": true, \"subplot\": \"polar\", \"theta\": [\"Bourgogne-Franche-Comt\\u00e9\"], \"type\": \"barpolar\"}, {\"hoverlabel\": {\"namelength\": 0}, \"hovertemplate\": \"Regions=%{theta}<br>Annee=2017<br>Quantite=%{r}\", \"legendgroup\": \"Regions=Bretagne\", \"marker\": {\"color\": \"#ed7953\"}, \"name\": \"Regions=Bretagne\", \"r\": [891.9697736721314], \"showlegend\": true, \"subplot\": \"polar\", \"theta\": [\"Bretagne\"], \"type\": \"barpolar\"}, {\"hoverlabel\": {\"namelength\": 0}, \"hovertemplate\": \"Regions=%{theta}<br>Annee=2017<br>Quantite=%{r}\", \"legendgroup\": \"Regions=Centre-Val de Loire\", \"marker\": {\"color\": \"#d8576b\"}, \"name\": \"Regions=Centre-Val de Loire\", \"r\": [289.8309071711458], \"showlegend\": true, \"subplot\": \"polar\", \"theta\": [\"Centre-Val de Loire\"], \"type\": \"barpolar\"}, {\"hoverlabel\": {\"namelength\": 0}, \"hovertemplate\": \"Regions=%{theta}<br>Annee=2017<br>Quantite=%{r}\", \"legendgroup\": \"Regions=Corse\", \"marker\": {\"color\": \"#bd3786\"}, \"name\": \"Regions=Corse\", \"r\": [147.6320666666667], \"showlegend\": true, \"subplot\": \"polar\", \"theta\": [\"Corse\"], \"type\": \"barpolar\"}, {\"hoverlabel\": {\"namelength\": 0}, \"hovertemplate\": \"Regions=%{theta}<br>Annee=2017<br>Quantite=%{r}\", \"legendgroup\": \"Regions=Grand Est\", \"marker\": {\"color\": \"#9c179e\"}, \"name\": \"Regions=Grand Est\", \"r\": [658.4693298149643], \"showlegend\": true, \"subplot\": \"polar\", \"theta\": [\"Grand Est\"], \"type\": \"barpolar\"}, {\"hoverlabel\": {\"namelength\": 0}, \"hovertemplate\": \"Regions=%{theta}<br>Annee=2017<br>Quantite=%{r}\", \"legendgroup\": \"Regions=Hauts-de-France\", \"marker\": {\"color\": \"#7201a8\"}, \"name\": \"Regions=Hauts-de-France\", \"r\": [701.1631946380095], \"showlegend\": true, \"subplot\": \"polar\", \"theta\": [\"Hauts-de-France\"], \"type\": \"barpolar\"}, {\"hoverlabel\": {\"namelength\": 0}, \"hovertemplate\": \"Regions=%{theta}<br>Annee=2017<br>Quantite=%{r}\", \"legendgroup\": \"Regions=Normandie\", \"marker\": {\"color\": \"#46039f\"}, \"name\": \"Regions=Normandie\", \"r\": [661.4060728535991], \"showlegend\": true, \"subplot\": \"polar\", \"theta\": [\"Normandie\"], \"type\": \"barpolar\"}, {\"hoverlabel\": {\"namelength\": 0}, \"hovertemplate\": \"Regions=%{theta}<br>Annee=2017<br>Quantite=%{r}\", \"legendgroup\": \"Regions=Nouvelle-Aquitaine\", \"marker\": {\"color\": \"#0d0887\"}, \"name\": \"Regions=Nouvelle-Aquitaine\", \"r\": [412.2289739205694], \"showlegend\": true, \"subplot\": \"polar\", \"theta\": [\"Nouvelle-Aquitaine\"], \"type\": \"barpolar\"}, {\"hoverlabel\": {\"namelength\": 0}, \"hovertemplate\": \"Regions=%{theta}<br>Annee=2017<br>Quantite=%{r}\", \"legendgroup\": \"Regions=Occitanie\", \"marker\": {\"color\": \"#fdca26\"}, \"name\": \"Regions=Occitanie\", \"r\": [625.4357098801596], \"showlegend\": true, \"subplot\": \"polar\", \"theta\": [\"Occitanie\"], \"type\": \"barpolar\"}, {\"hoverlabel\": {\"namelength\": 0}, \"hovertemplate\": \"Regions=%{theta}<br>Annee=2017<br>Quantite=%{r}\", \"legendgroup\": \"Regions=Pays de la Loire\", \"marker\": {\"color\": \"#fb9f3a\"}, \"name\": \"Regions=Pays de la Loire\", \"r\": [358.0133141732284], \"showlegend\": true, \"subplot\": \"polar\", \"theta\": [\"Pays de la Loire\"], \"type\": \"barpolar\"}, {\"hoverlabel\": {\"namelength\": 0}, \"hovertemplate\": \"Regions=%{theta}<br>Annee=2017<br>Quantite=%{r}\", \"legendgroup\": \"Regions=Provence-Alpes-C\\u00f4te d'Azur\", \"marker\": {\"color\": \"#ed7953\"}, \"name\": \"Regions=Provence-Alpes-C\\u00f4te d'Azur\", \"r\": [3707.6592691472856], \"showlegend\": true, \"subplot\": \"polar\", \"theta\": [\"Provence-Alpes-C\\u00f4te d'Azur\"], \"type\": \"barpolar\"}, {\"hoverlabel\": {\"namelength\": 0}, \"hovertemplate\": \"Regions=%{theta}<br>Annee=2017<br>Quantite=%{r}\", \"legendgroup\": \"Regions=\\u00cele-de-France\", \"marker\": {\"color\": \"#d8576b\"}, \"name\": \"Regions=\\u00cele-de-France\", \"r\": [636.7640136427009], \"showlegend\": true, \"subplot\": \"polar\", \"theta\": [\"\\u00cele-de-France\"], \"type\": \"barpolar\"}], \"name\": \"2017\"}]);\n",
       "                        }).then(function(){\n",
       "                            \n",
       "var gd = document.getElementById('621b9bc2-c469-4d63-ac05-ec1fefb5dc56');\n",
       "var x = new MutationObserver(function (mutations, observer) {{\n",
       "        var display = window.getComputedStyle(gd).display;\n",
       "        if (!display || display === 'none') {{\n",
       "            console.log([gd, 'removed!']);\n",
       "            Plotly.purge(gd);\n",
       "            observer.disconnect();\n",
       "        }}\n",
       "}});\n",
       "\n",
       "// Listen for the removal of the full notebook cells\n",
       "var notebookContainer = gd.closest('#notebook-container');\n",
       "if (notebookContainer) {{\n",
       "    x.observe(notebookContainer, {childList: true});\n",
       "}}\n",
       "\n",
       "// Listen for the clearing of the current output cell\n",
       "var outputEl = gd.closest('.output');\n",
       "if (outputEl) {{\n",
       "    x.observe(outputEl, {childList: true});\n",
       "}}\n",
       "\n",
       "                        })\n",
       "                };\n",
       "                });\n",
       "            </script>\n",
       "        </div>"
      ]
     },
     "metadata": {},
     "output_type": "display_data"
    }
   ],
   "source": [
    "import pandas as pd\n",
    "import plotly\n",
    "import plotly.express as px\n",
    "\n",
    "\n",
    "df = pd.read_csv(\"../templot/data/df.csv\")\n",
    "\n",
    "df_agr = df.groupby([\"Regions\", \"Annee\"])[\"Quantite\"].mean().reset_index()\n",
    "\n",
    "#df_agr['AnneeStr'] = df_agr['Annee'].apply(lambda x: f'{str(x)}')\n",
    "\n",
    "\n",
    "#fig = px.scatter_polar(df_agr, r=\"Quantite\", theta=\"Regions\", animation_frame=\"Annee\")\n",
    "\n",
    "\n",
    "fig = px.bar_polar(df_agr, r=\"Quantite\", theta=\"Regions\", color=\"Regions\", template=\"plotly_dark\",\n",
    "            color_discrete_sequence= px.colors.sequential.Plasma[-2::-1],animation_frame=\"Annee\")\n",
    "fig.show()\n"
   ]
  }
 ],
 "metadata": {
  "kernelspec": {
   "display_name": "Python 3",
   "language": "python",
   "name": "python3"
  },
  "language_info": {
   "codemirror_mode": {
    "name": "ipython",
    "version": 3
   },
   "file_extension": ".py",
   "mimetype": "text/x-python",
   "name": "python",
   "nbconvert_exporter": "python",
   "pygments_lexer": "ipython3",
   "version": "3.7.4"
  }
 },
 "nbformat": 4,
 "nbformat_minor": 2
}
