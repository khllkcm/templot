{
 "cells": [
  {
   "cell_type": "code",
   "execution_count": 428,
   "metadata": {},
   "outputs": [
    {
     "data": {
      "application/vnd.plotly.v1+json": {
       "config": {
        "plotlyServerURL": "https://plot.ly"
       },
       "data": [
        {
         "hoverlabel": {
          "namelength": 0
         },
         "hovertemplate": "Regions=%{theta}<br>Annee=2003<br>Quantite=%{r}",
         "legendgroup": "Regions=Auvergne-Rhône-Alpes",
         "marker": {
          "color": "#fdca26"
         },
         "name": "Regions=Auvergne-Rhône-Alpes",
         "r": [
          1396.6790322834638
         ],
         "showlegend": true,
         "subplot": "polar",
         "theta": [
          "Auvergne-Rhône-Alpes"
         ],
         "type": "barpolar"
        },
        {
         "hoverlabel": {
          "namelength": 0
         },
         "hovertemplate": "Regions=%{theta}<br>Annee=2003<br>Quantite=%{r}",
         "legendgroup": "Regions=Bourgogne-Franche-Comté",
         "marker": {
          "color": "#fb9f3a"
         },
         "name": "Regions=Bourgogne-Franche-Comté",
         "r": [
          535.2607209302327
         ],
         "showlegend": true,
         "subplot": "polar",
         "theta": [
          "Bourgogne-Franche-Comté"
         ],
         "type": "barpolar"
        },
        {
         "hoverlabel": {
          "namelength": 0
         },
         "hovertemplate": "Regions=%{theta}<br>Annee=2003<br>Quantite=%{r}",
         "legendgroup": "Regions=Bretagne",
         "marker": {
          "color": "#ed7953"
         },
         "name": "Regions=Bretagne",
         "r": [
          973.3329014084509
         ],
         "showlegend": true,
         "subplot": "polar",
         "theta": [
          "Bretagne"
         ],
         "type": "barpolar"
        },
        {
         "hoverlabel": {
          "namelength": 0
         },
         "hovertemplate": "Regions=%{theta}<br>Annee=2003<br>Quantite=%{r}",
         "legendgroup": "Regions=Centre-Val de Loire",
         "marker": {
          "color": "#d8576b"
         },
         "name": "Regions=Centre-Val de Loire",
         "r": [
          597.5886626506024
         ],
         "showlegend": true,
         "subplot": "polar",
         "theta": [
          "Centre-Val de Loire"
         ],
         "type": "barpolar"
        },
        {
         "hoverlabel": {
          "namelength": 0
         },
         "hovertemplate": "Regions=%{theta}<br>Annee=2003<br>Quantite=%{r}",
         "legendgroup": "Regions=Corse",
         "marker": {
          "color": "#bd3786"
         },
         "name": "Regions=Corse",
         "r": [
          352.29099999999994
         ],
         "showlegend": true,
         "subplot": "polar",
         "theta": [
          "Corse"
         ],
         "type": "barpolar"
        },
        {
         "hoverlabel": {
          "namelength": 0
         },
         "hovertemplate": "Regions=%{theta}<br>Annee=2003<br>Quantite=%{r}",
         "legendgroup": "Regions=Grand Est",
         "marker": {
          "color": "#9c179e"
         },
         "name": "Regions=Grand Est",
         "r": [
          1090.6141190476196
         ],
         "showlegend": true,
         "subplot": "polar",
         "theta": [
          "Grand Est"
         ],
         "type": "barpolar"
        },
        {
         "hoverlabel": {
          "namelength": 0
         },
         "hovertemplate": "Regions=%{theta}<br>Annee=2003<br>Quantite=%{r}",
         "legendgroup": "Regions=Hauts-de-France",
         "marker": {
          "color": "#7201a8"
         },
         "name": "Regions=Hauts-de-France",
         "r": [
          3581.533179464287
         ],
         "showlegend": true,
         "subplot": "polar",
         "theta": [
          "Hauts-de-France"
         ],
         "type": "barpolar"
        },
        {
         "hoverlabel": {
          "namelength": 0
         },
         "hovertemplate": "Regions=%{theta}<br>Annee=2003<br>Quantite=%{r}",
         "legendgroup": "Regions=Normandie",
         "marker": {
          "color": "#46039f"
         },
         "name": "Regions=Normandie",
         "r": [
          1181.642419354839
         ],
         "showlegend": true,
         "subplot": "polar",
         "theta": [
          "Normandie"
         ],
         "type": "barpolar"
        },
        {
         "hoverlabel": {
          "namelength": 0
         },
         "hovertemplate": "Regions=%{theta}<br>Annee=2003<br>Quantite=%{r}",
         "legendgroup": "Regions=Nouvelle-Aquitaine",
         "marker": {
          "color": "#0d0887"
         },
         "name": "Regions=Nouvelle-Aquitaine",
         "r": [
          666.3684561403509
         ],
         "showlegend": true,
         "subplot": "polar",
         "theta": [
          "Nouvelle-Aquitaine"
         ],
         "type": "barpolar"
        },
        {
         "hoverlabel": {
          "namelength": 0
         },
         "hovertemplate": "Regions=%{theta}<br>Annee=2003<br>Quantite=%{r}",
         "legendgroup": "Regions=Occitanie",
         "marker": {
          "color": "#fdca26"
         },
         "name": "Regions=Occitanie",
         "r": [
          1448.740243243243
         ],
         "showlegend": true,
         "subplot": "polar",
         "theta": [
          "Occitanie"
         ],
         "type": "barpolar"
        },
        {
         "hoverlabel": {
          "namelength": 0
         },
         "hovertemplate": "Regions=%{theta}<br>Annee=2003<br>Quantite=%{r}",
         "legendgroup": "Regions=Pays de la Loire",
         "marker": {
          "color": "#fb9f3a"
         },
         "name": "Regions=Pays de la Loire",
         "r": [
          1427.607188888889
         ],
         "showlegend": true,
         "subplot": "polar",
         "theta": [
          "Pays de la Loire"
         ],
         "type": "barpolar"
        },
        {
         "hoverlabel": {
          "namelength": 0
         },
         "hovertemplate": "Regions=%{theta}<br>Annee=2003<br>Quantite=%{r}",
         "legendgroup": "Regions=Provence-Alpes-Côte d'Azur",
         "marker": {
          "color": "#ed7953"
         },
         "name": "Regions=Provence-Alpes-Côte d'Azur",
         "r": [
          1450.884539473684
         ],
         "showlegend": true,
         "subplot": "polar",
         "theta": [
          "Provence-Alpes-Côte d'Azur"
         ],
         "type": "barpolar"
        },
        {
         "hoverlabel": {
          "namelength": 0
         },
         "hovertemplate": "Regions=%{theta}<br>Annee=2003<br>Quantite=%{r}",
         "legendgroup": "Regions=Île-de-France",
         "marker": {
          "color": "#d8576b"
         },
         "name": "Regions=Île-de-France",
         "r": [
          3870.4460615384614
         ],
         "showlegend": true,
         "subplot": "polar",
         "theta": [
          "Île-de-France"
         ],
         "type": "barpolar"
        }
       ],
       "frames": [
        {
         "data": [
          {
           "hoverlabel": {
            "namelength": 0
           },
           "hovertemplate": "Regions=%{theta}<br>Annee=2003<br>Quantite=%{r}",
           "legendgroup": "Regions=Auvergne-Rhône-Alpes",
           "marker": {
            "color": "#fdca26"
           },
           "name": "Regions=Auvergne-Rhône-Alpes",
           "r": [
            1396.6790322834638
           ],
           "showlegend": true,
           "subplot": "polar",
           "theta": [
            "Auvergne-Rhône-Alpes"
           ],
           "type": "barpolar"
          },
          {
           "hoverlabel": {
            "namelength": 0
           },
           "hovertemplate": "Regions=%{theta}<br>Annee=2003<br>Quantite=%{r}",
           "legendgroup": "Regions=Bourgogne-Franche-Comté",
           "marker": {
            "color": "#fb9f3a"
           },
           "name": "Regions=Bourgogne-Franche-Comté",
           "r": [
            535.2607209302327
           ],
           "showlegend": true,
           "subplot": "polar",
           "theta": [
            "Bourgogne-Franche-Comté"
           ],
           "type": "barpolar"
          },
          {
           "hoverlabel": {
            "namelength": 0
           },
           "hovertemplate": "Regions=%{theta}<br>Annee=2003<br>Quantite=%{r}",
           "legendgroup": "Regions=Bretagne",
           "marker": {
            "color": "#ed7953"
           },
           "name": "Regions=Bretagne",
           "r": [
            973.3329014084509
           ],
           "showlegend": true,
           "subplot": "polar",
           "theta": [
            "Bretagne"
           ],
           "type": "barpolar"
          },
          {
           "hoverlabel": {
            "namelength": 0
           },
           "hovertemplate": "Regions=%{theta}<br>Annee=2003<br>Quantite=%{r}",
           "legendgroup": "Regions=Centre-Val de Loire",
           "marker": {
            "color": "#d8576b"
           },
           "name": "Regions=Centre-Val de Loire",
           "r": [
            597.5886626506024
           ],
           "showlegend": true,
           "subplot": "polar",
           "theta": [
            "Centre-Val de Loire"
           ],
           "type": "barpolar"
          },
          {
           "hoverlabel": {
            "namelength": 0
           },
           "hovertemplate": "Regions=%{theta}<br>Annee=2003<br>Quantite=%{r}",
           "legendgroup": "Regions=Corse",
           "marker": {
            "color": "#bd3786"
           },
           "name": "Regions=Corse",
           "r": [
            352.29099999999994
           ],
           "showlegend": true,
           "subplot": "polar",
           "theta": [
            "Corse"
           ],
           "type": "barpolar"
          },
          {
           "hoverlabel": {
            "namelength": 0
           },
           "hovertemplate": "Regions=%{theta}<br>Annee=2003<br>Quantite=%{r}",
           "legendgroup": "Regions=Grand Est",
           "marker": {
            "color": "#9c179e"
           },
           "name": "Regions=Grand Est",
           "r": [
            1090.6141190476196
           ],
           "showlegend": true,
           "subplot": "polar",
           "theta": [
            "Grand Est"
           ],
           "type": "barpolar"
          },
          {
           "hoverlabel": {
            "namelength": 0
           },
           "hovertemplate": "Regions=%{theta}<br>Annee=2003<br>Quantite=%{r}",
           "legendgroup": "Regions=Hauts-de-France",
           "marker": {
            "color": "#7201a8"
           },
           "name": "Regions=Hauts-de-France",
           "r": [
            3581.533179464287
           ],
           "showlegend": true,
           "subplot": "polar",
           "theta": [
            "Hauts-de-France"
           ],
           "type": "barpolar"
          },
          {
           "hoverlabel": {
            "namelength": 0
           },
           "hovertemplate": "Regions=%{theta}<br>Annee=2003<br>Quantite=%{r}",
           "legendgroup": "Regions=Normandie",
           "marker": {
            "color": "#46039f"
           },
           "name": "Regions=Normandie",
           "r": [
            1181.642419354839
           ],
           "showlegend": true,
           "subplot": "polar",
           "theta": [
            "Normandie"
           ],
           "type": "barpolar"
          },
          {
           "hoverlabel": {
            "namelength": 0
           },
           "hovertemplate": "Regions=%{theta}<br>Annee=2003<br>Quantite=%{r}",
           "legendgroup": "Regions=Nouvelle-Aquitaine",
           "marker": {
            "color": "#0d0887"
           },
           "name": "Regions=Nouvelle-Aquitaine",
           "r": [
            666.3684561403509
           ],
           "showlegend": true,
           "subplot": "polar",
           "theta": [
            "Nouvelle-Aquitaine"
           ],
           "type": "barpolar"
          },
          {
           "hoverlabel": {
            "namelength": 0
           },
           "hovertemplate": "Regions=%{theta}<br>Annee=2003<br>Quantite=%{r}",
           "legendgroup": "Regions=Occitanie",
           "marker": {
            "color": "#fdca26"
           },
           "name": "Regions=Occitanie",
           "r": [
            1448.740243243243
           ],
           "showlegend": true,
           "subplot": "polar",
           "theta": [
            "Occitanie"
           ],
           "type": "barpolar"
          },
          {
           "hoverlabel": {
            "namelength": 0
           },
           "hovertemplate": "Regions=%{theta}<br>Annee=2003<br>Quantite=%{r}",
           "legendgroup": "Regions=Pays de la Loire",
           "marker": {
            "color": "#fb9f3a"
           },
           "name": "Regions=Pays de la Loire",
           "r": [
            1427.607188888889
           ],
           "showlegend": true,
           "subplot": "polar",
           "theta": [
            "Pays de la Loire"
           ],
           "type": "barpolar"
          },
          {
           "hoverlabel": {
            "namelength": 0
           },
           "hovertemplate": "Regions=%{theta}<br>Annee=2003<br>Quantite=%{r}",
           "legendgroup": "Regions=Provence-Alpes-Côte d'Azur",
           "marker": {
            "color": "#ed7953"
           },
           "name": "Regions=Provence-Alpes-Côte d'Azur",
           "r": [
            1450.884539473684
           ],
           "showlegend": true,
           "subplot": "polar",
           "theta": [
            "Provence-Alpes-Côte d'Azur"
           ],
           "type": "barpolar"
          },
          {
           "hoverlabel": {
            "namelength": 0
           },
           "hovertemplate": "Regions=%{theta}<br>Annee=2003<br>Quantite=%{r}",
           "legendgroup": "Regions=Île-de-France",
           "marker": {
            "color": "#d8576b"
           },
           "name": "Regions=Île-de-France",
           "r": [
            3870.4460615384614
           ],
           "showlegend": true,
           "subplot": "polar",
           "theta": [
            "Île-de-France"
           ],
           "type": "barpolar"
          }
         ],
         "name": "2003"
        },
        {
         "data": [
          {
           "hoverlabel": {
            "namelength": 0
           },
           "hovertemplate": "Regions=%{theta}<br>Annee=2004<br>Quantite=%{r}",
           "legendgroup": "Regions=Auvergne-Rhône-Alpes",
           "marker": {
            "color": "#fdca26"
           },
           "name": "Regions=Auvergne-Rhône-Alpes",
           "r": [
            1598.8669741379306
           ],
           "showlegend": true,
           "subplot": "polar",
           "theta": [
            "Auvergne-Rhône-Alpes"
           ],
           "type": "barpolar"
          },
          {
           "hoverlabel": {
            "namelength": 0
           },
           "hovertemplate": "Regions=%{theta}<br>Annee=2004<br>Quantite=%{r}",
           "legendgroup": "Regions=Bourgogne-Franche-Comté",
           "marker": {
            "color": "#fb9f3a"
           },
           "name": "Regions=Bourgogne-Franche-Comté",
           "r": [
            828.3410656441717
           ],
           "showlegend": true,
           "subplot": "polar",
           "theta": [
            "Bourgogne-Franche-Comté"
           ],
           "type": "barpolar"
          },
          {
           "hoverlabel": {
            "namelength": 0
           },
           "hovertemplate": "Regions=%{theta}<br>Annee=2004<br>Quantite=%{r}",
           "legendgroup": "Regions=Bretagne",
           "marker": {
            "color": "#ed7953"
           },
           "name": "Regions=Bretagne",
           "r": [
            1012.5966203703706
           ],
           "showlegend": true,
           "subplot": "polar",
           "theta": [
            "Bretagne"
           ],
           "type": "barpolar"
          },
          {
           "hoverlabel": {
            "namelength": 0
           },
           "hovertemplate": "Regions=%{theta}<br>Annee=2004<br>Quantite=%{r}",
           "legendgroup": "Regions=Centre-Val de Loire",
           "marker": {
            "color": "#d8576b"
           },
           "name": "Regions=Centre-Val de Loire",
           "r": [
            821.5484880829014
           ],
           "showlegend": true,
           "subplot": "polar",
           "theta": [
            "Centre-Val de Loire"
           ],
           "type": "barpolar"
          },
          {
           "hoverlabel": {
            "namelength": 0
           },
           "hovertemplate": "Regions=%{theta}<br>Annee=2004<br>Quantite=%{r}",
           "legendgroup": "Regions=Corse",
           "marker": {
            "color": "#bd3786"
           },
           "name": "Regions=Corse",
           "r": [
            802.6600000000001
           ],
           "showlegend": true,
           "subplot": "polar",
           "theta": [
            "Corse"
           ],
           "type": "barpolar"
          },
          {
           "hoverlabel": {
            "namelength": 0
           },
           "hovertemplate": "Regions=%{theta}<br>Annee=2004<br>Quantite=%{r}",
           "legendgroup": "Regions=Grand Est",
           "marker": {
            "color": "#9c179e"
           },
           "name": "Regions=Grand Est",
           "r": [
            1129.1998902272724
           ],
           "showlegend": true,
           "subplot": "polar",
           "theta": [
            "Grand Est"
           ],
           "type": "barpolar"
          },
          {
           "hoverlabel": {
            "namelength": 0
           },
           "hovertemplate": "Regions=%{theta}<br>Annee=2004<br>Quantite=%{r}",
           "legendgroup": "Regions=Hauts-de-France",
           "marker": {
            "color": "#7201a8"
           },
           "name": "Regions=Hauts-de-France",
           "r": [
            2275.5416593264235
           ],
           "showlegend": true,
           "subplot": "polar",
           "theta": [
            "Hauts-de-France"
           ],
           "type": "barpolar"
          },
          {
           "hoverlabel": {
            "namelength": 0
           },
           "hovertemplate": "Regions=%{theta}<br>Annee=2004<br>Quantite=%{r}",
           "legendgroup": "Regions=Normandie",
           "marker": {
            "color": "#46039f"
           },
           "name": "Regions=Normandie",
           "r": [
            2212.7849177631583
           ],
           "showlegend": true,
           "subplot": "polar",
           "theta": [
            "Normandie"
           ],
           "type": "barpolar"
          },
          {
           "hoverlabel": {
            "namelength": 0
           },
           "hovertemplate": "Regions=%{theta}<br>Annee=2004<br>Quantite=%{r}",
           "legendgroup": "Regions=Nouvelle-Aquitaine",
           "marker": {
            "color": "#0d0887"
           },
           "name": "Regions=Nouvelle-Aquitaine",
           "r": [
            1365.6455035971226
           ],
           "showlegend": true,
           "subplot": "polar",
           "theta": [
            "Nouvelle-Aquitaine"
           ],
           "type": "barpolar"
          },
          {
           "hoverlabel": {
            "namelength": 0
           },
           "hovertemplate": "Regions=%{theta}<br>Annee=2004<br>Quantite=%{r}",
           "legendgroup": "Regions=Occitanie",
           "marker": {
            "color": "#fdca26"
           },
           "name": "Regions=Occitanie",
           "r": [
            1607.8299298245613
           ],
           "showlegend": true,
           "subplot": "polar",
           "theta": [
            "Occitanie"
           ],
           "type": "barpolar"
          },
          {
           "hoverlabel": {
            "namelength": 0
           },
           "hovertemplate": "Regions=%{theta}<br>Annee=2004<br>Quantite=%{r}",
           "legendgroup": "Regions=Pays de la Loire",
           "marker": {
            "color": "#fb9f3a"
           },
           "name": "Regions=Pays de la Loire",
           "r": [
            542.5663604395604
           ],
           "showlegend": true,
           "subplot": "polar",
           "theta": [
            "Pays de la Loire"
           ],
           "type": "barpolar"
          },
          {
           "hoverlabel": {
            "namelength": 0
           },
           "hovertemplate": "Regions=%{theta}<br>Annee=2004<br>Quantite=%{r}",
           "legendgroup": "Regions=Provence-Alpes-Côte d'Azur",
           "marker": {
            "color": "#ed7953"
           },
           "name": "Regions=Provence-Alpes-Côte d'Azur",
           "r": [
            1589.5399888268153
           ],
           "showlegend": true,
           "subplot": "polar",
           "theta": [
            "Provence-Alpes-Côte d'Azur"
           ],
           "type": "barpolar"
          },
          {
           "hoverlabel": {
            "namelength": 0
           },
           "hovertemplate": "Regions=%{theta}<br>Annee=2004<br>Quantite=%{r}",
           "legendgroup": "Regions=Île-de-France",
           "marker": {
            "color": "#d8576b"
           },
           "name": "Regions=Île-de-France",
           "r": [
            3009.1685467153275
           ],
           "showlegend": true,
           "subplot": "polar",
           "theta": [
            "Île-de-France"
           ],
           "type": "barpolar"
          }
         ],
         "name": "2004"
        },
        {
         "data": [
          {
           "hoverlabel": {
            "namelength": 0
           },
           "hovertemplate": "Regions=%{theta}<br>Annee=2005<br>Quantite=%{r}",
           "legendgroup": "Regions=Auvergne-Rhône-Alpes",
           "marker": {
            "color": "#fdca26"
           },
           "name": "Regions=Auvergne-Rhône-Alpes",
           "r": [
            1256.4646779069783
           ],
           "showlegend": true,
           "subplot": "polar",
           "theta": [
            "Auvergne-Rhône-Alpes"
           ],
           "type": "barpolar"
          },
          {
           "hoverlabel": {
            "namelength": 0
           },
           "hovertemplate": "Regions=%{theta}<br>Annee=2005<br>Quantite=%{r}",
           "legendgroup": "Regions=Bourgogne-Franche-Comté",
           "marker": {
            "color": "#fb9f3a"
           },
           "name": "Regions=Bourgogne-Franche-Comté",
           "r": [
            601.0644535849059
           ],
           "showlegend": true,
           "subplot": "polar",
           "theta": [
            "Bourgogne-Franche-Comté"
           ],
           "type": "barpolar"
          },
          {
           "hoverlabel": {
            "namelength": 0
           },
           "hovertemplate": "Regions=%{theta}<br>Annee=2005<br>Quantite=%{r}",
           "legendgroup": "Regions=Bretagne",
           "marker": {
            "color": "#ed7953"
           },
           "name": "Regions=Bretagne",
           "r": [
            759.1613937007877
           ],
           "showlegend": true,
           "subplot": "polar",
           "theta": [
            "Bretagne"
           ],
           "type": "barpolar"
          },
          {
           "hoverlabel": {
            "namelength": 0
           },
           "hovertemplate": "Regions=%{theta}<br>Annee=2005<br>Quantite=%{r}",
           "legendgroup": "Regions=Centre-Val de Loire",
           "marker": {
            "color": "#d8576b"
           },
           "name": "Regions=Centre-Val de Loire",
           "r": [
            769.414006578947
           ],
           "showlegend": true,
           "subplot": "polar",
           "theta": [
            "Centre-Val de Loire"
           ],
           "type": "barpolar"
          },
          {
           "hoverlabel": {
            "namelength": 0
           },
           "hovertemplate": "Regions=%{theta}<br>Annee=2005<br>Quantite=%{r}",
           "legendgroup": "Regions=Corse",
           "marker": {
            "color": "#bd3786"
           },
           "name": "Regions=Corse",
           "r": [
            123.66166666666668
           ],
           "showlegend": true,
           "subplot": "polar",
           "theta": [
            "Corse"
           ],
           "type": "barpolar"
          },
          {
           "hoverlabel": {
            "namelength": 0
           },
           "hovertemplate": "Regions=%{theta}<br>Annee=2005<br>Quantite=%{r}",
           "legendgroup": "Regions=Grand Est",
           "marker": {
            "color": "#9c179e"
           },
           "name": "Regions=Grand Est",
           "r": [
            1177.4190018867926
           ],
           "showlegend": true,
           "subplot": "polar",
           "theta": [
            "Grand Est"
           ],
           "type": "barpolar"
          },
          {
           "hoverlabel": {
            "namelength": 0
           },
           "hovertemplate": "Regions=%{theta}<br>Annee=2005<br>Quantite=%{r}",
           "legendgroup": "Regions=Hauts-de-France",
           "marker": {
            "color": "#7201a8"
           },
           "name": "Regions=Hauts-de-France",
           "r": [
            2193.5747810810826
           ],
           "showlegend": true,
           "subplot": "polar",
           "theta": [
            "Hauts-de-France"
           ],
           "type": "barpolar"
          },
          {
           "hoverlabel": {
            "namelength": 0
           },
           "hovertemplate": "Regions=%{theta}<br>Annee=2005<br>Quantite=%{r}",
           "legendgroup": "Regions=Normandie",
           "marker": {
            "color": "#46039f"
           },
           "name": "Regions=Normandie",
           "r": [
            1253.463518939872
           ],
           "showlegend": true,
           "subplot": "polar",
           "theta": [
            "Normandie"
           ],
           "type": "barpolar"
          },
          {
           "hoverlabel": {
            "namelength": 0
           },
           "hovertemplate": "Regions=%{theta}<br>Annee=2005<br>Quantite=%{r}",
           "legendgroup": "Regions=Nouvelle-Aquitaine",
           "marker": {
            "color": "#0d0887"
           },
           "name": "Regions=Nouvelle-Aquitaine",
           "r": [
            1021.0000092250916
           ],
           "showlegend": true,
           "subplot": "polar",
           "theta": [
            "Nouvelle-Aquitaine"
           ],
           "type": "barpolar"
          },
          {
           "hoverlabel": {
            "namelength": 0
           },
           "hovertemplate": "Regions=%{theta}<br>Annee=2005<br>Quantite=%{r}",
           "legendgroup": "Regions=Occitanie",
           "marker": {
            "color": "#fdca26"
           },
           "name": "Regions=Occitanie",
           "r": [
            1640.6499734848485
           ],
           "showlegend": true,
           "subplot": "polar",
           "theta": [
            "Occitanie"
           ],
           "type": "barpolar"
          },
          {
           "hoverlabel": {
            "namelength": 0
           },
           "hovertemplate": "Regions=%{theta}<br>Annee=2005<br>Quantite=%{r}",
           "legendgroup": "Regions=Pays de la Loire",
           "marker": {
            "color": "#fb9f3a"
           },
           "name": "Regions=Pays de la Loire",
           "r": [
            572.6938313095238
           ],
           "showlegend": true,
           "subplot": "polar",
           "theta": [
            "Pays de la Loire"
           ],
           "type": "barpolar"
          },
          {
           "hoverlabel": {
            "namelength": 0
           },
           "hovertemplate": "Regions=%{theta}<br>Annee=2005<br>Quantite=%{r}",
           "legendgroup": "Regions=Provence-Alpes-Côte d'Azur",
           "marker": {
            "color": "#ed7953"
           },
           "name": "Regions=Provence-Alpes-Côte d'Azur",
           "r": [
            1905.0431557692307
           ],
           "showlegend": true,
           "subplot": "polar",
           "theta": [
            "Provence-Alpes-Côte d'Azur"
           ],
           "type": "barpolar"
          },
          {
           "hoverlabel": {
            "namelength": 0
           },
           "hovertemplate": "Regions=%{theta}<br>Annee=2005<br>Quantite=%{r}",
           "legendgroup": "Regions=Île-de-France",
           "marker": {
            "color": "#d8576b"
           },
           "name": "Regions=Île-de-France",
           "r": [
            1526.2686705454548
           ],
           "showlegend": true,
           "subplot": "polar",
           "theta": [
            "Île-de-France"
           ],
           "type": "barpolar"
          }
         ],
         "name": "2005"
        },
        {
         "data": [
          {
           "hoverlabel": {
            "namelength": 0
           },
           "hovertemplate": "Regions=%{theta}<br>Annee=2006<br>Quantite=%{r}",
           "legendgroup": "Regions=Auvergne-Rhône-Alpes",
           "marker": {
            "color": "#fdca26"
           },
           "name": "Regions=Auvergne-Rhône-Alpes",
           "r": [
            1191.7692831809877
           ],
           "showlegend": true,
           "subplot": "polar",
           "theta": [
            "Auvergne-Rhône-Alpes"
           ],
           "type": "barpolar"
          },
          {
           "hoverlabel": {
            "namelength": 0
           },
           "hovertemplate": "Regions=%{theta}<br>Annee=2006<br>Quantite=%{r}",
           "legendgroup": "Regions=Bourgogne-Franche-Comté",
           "marker": {
            "color": "#fb9f3a"
           },
           "name": "Regions=Bourgogne-Franche-Comté",
           "r": [
            573.7875346020766
           ],
           "showlegend": true,
           "subplot": "polar",
           "theta": [
            "Bourgogne-Franche-Comté"
           ],
           "type": "barpolar"
          },
          {
           "hoverlabel": {
            "namelength": 0
           },
           "hovertemplate": "Regions=%{theta}<br>Annee=2006<br>Quantite=%{r}",
           "legendgroup": "Regions=Bretagne",
           "marker": {
            "color": "#ed7953"
           },
           "name": "Regions=Bretagne",
           "r": [
            752.4591751773047
           ],
           "showlegend": true,
           "subplot": "polar",
           "theta": [
            "Bretagne"
           ],
           "type": "barpolar"
          },
          {
           "hoverlabel": {
            "namelength": 0
           },
           "hovertemplate": "Regions=%{theta}<br>Annee=2006<br>Quantite=%{r}",
           "legendgroup": "Regions=Centre-Val de Loire",
           "marker": {
            "color": "#d8576b"
           },
           "name": "Regions=Centre-Val de Loire",
           "r": [
            555.199802290077
           ],
           "showlegend": true,
           "subplot": "polar",
           "theta": [
            "Centre-Val de Loire"
           ],
           "type": "barpolar"
          },
          {
           "hoverlabel": {
            "namelength": 0
           },
           "hovertemplate": "Regions=%{theta}<br>Annee=2006<br>Quantite=%{r}",
           "legendgroup": "Regions=Corse",
           "marker": {
            "color": "#bd3786"
           },
           "name": "Regions=Corse",
           "r": [
            113.67714285714287
           ],
           "showlegend": true,
           "subplot": "polar",
           "theta": [
            "Corse"
           ],
           "type": "barpolar"
          },
          {
           "hoverlabel": {
            "namelength": 0
           },
           "hovertemplate": "Regions=%{theta}<br>Annee=2006<br>Quantite=%{r}",
           "legendgroup": "Regions=Grand Est",
           "marker": {
            "color": "#9c179e"
           },
           "name": "Regions=Grand Est",
           "r": [
            922.8615888888879
           ],
           "showlegend": true,
           "subplot": "polar",
           "theta": [
            "Grand Est"
           ],
           "type": "barpolar"
          },
          {
           "hoverlabel": {
            "namelength": 0
           },
           "hovertemplate": "Regions=%{theta}<br>Annee=2006<br>Quantite=%{r}",
           "legendgroup": "Regions=Hauts-de-France",
           "marker": {
            "color": "#7201a8"
           },
           "name": "Regions=Hauts-de-France",
           "r": [
            1881.4722855855862
           ],
           "showlegend": true,
           "subplot": "polar",
           "theta": [
            "Hauts-de-France"
           ],
           "type": "barpolar"
          },
          {
           "hoverlabel": {
            "namelength": 0
           },
           "hovertemplate": "Regions=%{theta}<br>Annee=2006<br>Quantite=%{r}",
           "legendgroup": "Regions=Normandie",
           "marker": {
            "color": "#46039f"
           },
           "name": "Regions=Normandie",
           "r": [
            1838.2744992382288
           ],
           "showlegend": true,
           "subplot": "polar",
           "theta": [
            "Normandie"
           ],
           "type": "barpolar"
          },
          {
           "hoverlabel": {
            "namelength": 0
           },
           "hovertemplate": "Regions=%{theta}<br>Annee=2006<br>Quantite=%{r}",
           "legendgroup": "Regions=Nouvelle-Aquitaine",
           "marker": {
            "color": "#0d0887"
           },
           "name": "Regions=Nouvelle-Aquitaine",
           "r": [
            860.3882512738851
           ],
           "showlegend": true,
           "subplot": "polar",
           "theta": [
            "Nouvelle-Aquitaine"
           ],
           "type": "barpolar"
          },
          {
           "hoverlabel": {
            "namelength": 0
           },
           "hovertemplate": "Regions=%{theta}<br>Annee=2006<br>Quantite=%{r}",
           "legendgroup": "Regions=Occitanie",
           "marker": {
            "color": "#fdca26"
           },
           "name": "Regions=Occitanie",
           "r": [
            1213.3617946107786
           ],
           "showlegend": true,
           "subplot": "polar",
           "theta": [
            "Occitanie"
           ],
           "type": "barpolar"
          },
          {
           "hoverlabel": {
            "namelength": 0
           },
           "hovertemplate": "Regions=%{theta}<br>Annee=2006<br>Quantite=%{r}",
           "legendgroup": "Regions=Pays de la Loire",
           "marker": {
            "color": "#fb9f3a"
           },
           "name": "Regions=Pays de la Loire",
           "r": [
            547.5586148936172
           ],
           "showlegend": true,
           "subplot": "polar",
           "theta": [
            "Pays de la Loire"
           ],
           "type": "barpolar"
          },
          {
           "hoverlabel": {
            "namelength": 0
           },
           "hovertemplate": "Regions=%{theta}<br>Annee=2006<br>Quantite=%{r}",
           "legendgroup": "Regions=Provence-Alpes-Côte d'Azur",
           "marker": {
            "color": "#ed7953"
           },
           "name": "Regions=Provence-Alpes-Côte d'Azur",
           "r": [
            1604.8153372781067
           ],
           "showlegend": true,
           "subplot": "polar",
           "theta": [
            "Provence-Alpes-Côte d'Azur"
           ],
           "type": "barpolar"
          },
          {
           "hoverlabel": {
            "namelength": 0
           },
           "hovertemplate": "Regions=%{theta}<br>Annee=2006<br>Quantite=%{r}",
           "legendgroup": "Regions=Île-de-France",
           "marker": {
            "color": "#d8576b"
           },
           "name": "Regions=Île-de-France",
           "r": [
            1473.1110651315796
           ],
           "showlegend": true,
           "subplot": "polar",
           "theta": [
            "Île-de-France"
           ],
           "type": "barpolar"
          }
         ],
         "name": "2006"
        },
        {
         "data": [
          {
           "hoverlabel": {
            "namelength": 0
           },
           "hovertemplate": "Regions=%{theta}<br>Annee=2007<br>Quantite=%{r}",
           "legendgroup": "Regions=Auvergne-Rhône-Alpes",
           "marker": {
            "color": "#fdca26"
           },
           "name": "Regions=Auvergne-Rhône-Alpes",
           "r": [
            1063.3300969911513
           ],
           "showlegend": true,
           "subplot": "polar",
           "theta": [
            "Auvergne-Rhône-Alpes"
           ],
           "type": "barpolar"
          },
          {
           "hoverlabel": {
            "namelength": 0
           },
           "hovertemplate": "Regions=%{theta}<br>Annee=2007<br>Quantite=%{r}",
           "legendgroup": "Regions=Bourgogne-Franche-Comté",
           "marker": {
            "color": "#fb9f3a"
           },
           "name": "Regions=Bourgogne-Franche-Comté",
           "r": [
            830.2055211940294
           ],
           "showlegend": true,
           "subplot": "polar",
           "theta": [
            "Bourgogne-Franche-Comté"
           ],
           "type": "barpolar"
          },
          {
           "hoverlabel": {
            "namelength": 0
           },
           "hovertemplate": "Regions=%{theta}<br>Annee=2007<br>Quantite=%{r}",
           "legendgroup": "Regions=Bretagne",
           "marker": {
            "color": "#ed7953"
           },
           "name": "Regions=Bretagne",
           "r": [
            463.1914172043009
           ],
           "showlegend": true,
           "subplot": "polar",
           "theta": [
            "Bretagne"
           ],
           "type": "barpolar"
          },
          {
           "hoverlabel": {
            "namelength": 0
           },
           "hovertemplate": "Regions=%{theta}<br>Annee=2007<br>Quantite=%{r}",
           "legendgroup": "Regions=Centre-Val de Loire",
           "marker": {
            "color": "#d8576b"
           },
           "name": "Regions=Centre-Val de Loire",
           "r": [
            427.0599226480838
           ],
           "showlegend": true,
           "subplot": "polar",
           "theta": [
            "Centre-Val de Loire"
           ],
           "type": "barpolar"
          },
          {
           "hoverlabel": {
            "namelength": 0
           },
           "hovertemplate": "Regions=%{theta}<br>Annee=2007<br>Quantite=%{r}",
           "legendgroup": "Regions=Corse",
           "marker": {
            "color": "#bd3786"
           },
           "name": "Regions=Corse",
           "r": [
            4324.480142857143
           ],
           "showlegend": true,
           "subplot": "polar",
           "theta": [
            "Corse"
           ],
           "type": "barpolar"
          },
          {
           "hoverlabel": {
            "namelength": 0
           },
           "hovertemplate": "Regions=%{theta}<br>Annee=2007<br>Quantite=%{r}",
           "legendgroup": "Regions=Grand Est",
           "marker": {
            "color": "#9c179e"
           },
           "name": "Regions=Grand Est",
           "r": [
            1381.1740955218197
           ],
           "showlegend": true,
           "subplot": "polar",
           "theta": [
            "Grand Est"
           ],
           "type": "barpolar"
          },
          {
           "hoverlabel": {
            "namelength": 0
           },
           "hovertemplate": "Regions=%{theta}<br>Annee=2007<br>Quantite=%{r}",
           "legendgroup": "Regions=Hauts-de-France",
           "marker": {
            "color": "#7201a8"
           },
           "name": "Regions=Hauts-de-France",
           "r": [
            2101.7211202173926
           ],
           "showlegend": true,
           "subplot": "polar",
           "theta": [
            "Hauts-de-France"
           ],
           "type": "barpolar"
          },
          {
           "hoverlabel": {
            "namelength": 0
           },
           "hovertemplate": "Regions=%{theta}<br>Annee=2007<br>Quantite=%{r}",
           "legendgroup": "Regions=Normandie",
           "marker": {
            "color": "#46039f"
           },
           "name": "Regions=Normandie",
           "r": [
            1338.5701666937657
           ],
           "showlegend": true,
           "subplot": "polar",
           "theta": [
            "Normandie"
           ],
           "type": "barpolar"
          },
          {
           "hoverlabel": {
            "namelength": 0
           },
           "hovertemplate": "Regions=%{theta}<br>Annee=2007<br>Quantite=%{r}",
           "legendgroup": "Regions=Nouvelle-Aquitaine",
           "marker": {
            "color": "#0d0887"
           },
           "name": "Regions=Nouvelle-Aquitaine",
           "r": [
            789.4959042857143
           ],
           "showlegend": true,
           "subplot": "polar",
           "theta": [
            "Nouvelle-Aquitaine"
           ],
           "type": "barpolar"
          },
          {
           "hoverlabel": {
            "namelength": 0
           },
           "hovertemplate": "Regions=%{theta}<br>Annee=2007<br>Quantite=%{r}",
           "legendgroup": "Regions=Occitanie",
           "marker": {
            "color": "#fdca26"
           },
           "name": "Regions=Occitanie",
           "r": [
            1024.009168899522
           ],
           "showlegend": true,
           "subplot": "polar",
           "theta": [
            "Occitanie"
           ],
           "type": "barpolar"
          },
          {
           "hoverlabel": {
            "namelength": 0
           },
           "hovertemplate": "Regions=%{theta}<br>Annee=2007<br>Quantite=%{r}",
           "legendgroup": "Regions=Pays de la Loire",
           "marker": {
            "color": "#fb9f3a"
           },
           "name": "Regions=Pays de la Loire",
           "r": [
            565.54944559387
           ],
           "showlegend": true,
           "subplot": "polar",
           "theta": [
            "Pays de la Loire"
           ],
           "type": "barpolar"
          },
          {
           "hoverlabel": {
            "namelength": 0
           },
           "hovertemplate": "Regions=%{theta}<br>Annee=2007<br>Quantite=%{r}",
           "legendgroup": "Regions=Provence-Alpes-Côte d'Azur",
           "marker": {
            "color": "#ed7953"
           },
           "name": "Regions=Provence-Alpes-Côte d'Azur",
           "r": [
            1316.6284484536081
           ],
           "showlegend": true,
           "subplot": "polar",
           "theta": [
            "Provence-Alpes-Côte d'Azur"
           ],
           "type": "barpolar"
          },
          {
           "hoverlabel": {
            "namelength": 0
           },
           "hovertemplate": "Regions=%{theta}<br>Annee=2007<br>Quantite=%{r}",
           "legendgroup": "Regions=Île-de-France",
           "marker": {
            "color": "#d8576b"
           },
           "name": "Regions=Île-de-France",
           "r": [
            1504.9344573446324
           ],
           "showlegend": true,
           "subplot": "polar",
           "theta": [
            "Île-de-France"
           ],
           "type": "barpolar"
          }
         ],
         "name": "2007"
        },
        {
         "data": [
          {
           "hoverlabel": {
            "namelength": 0
           },
           "hovertemplate": "Regions=%{theta}<br>Annee=2008<br>Quantite=%{r}",
           "legendgroup": "Regions=Auvergne-Rhône-Alpes",
           "marker": {
            "color": "#fdca26"
           },
           "name": "Regions=Auvergne-Rhône-Alpes",
           "r": [
            947.5900560855256
           ],
           "showlegend": true,
           "subplot": "polar",
           "theta": [
            "Auvergne-Rhône-Alpes"
           ],
           "type": "barpolar"
          },
          {
           "hoverlabel": {
            "namelength": 0
           },
           "hovertemplate": "Regions=%{theta}<br>Annee=2008<br>Quantite=%{r}",
           "legendgroup": "Regions=Bourgogne-Franche-Comté",
           "marker": {
            "color": "#fb9f3a"
           },
           "name": "Regions=Bourgogne-Franche-Comté",
           "r": [
            450.45815042372845
           ],
           "showlegend": true,
           "subplot": "polar",
           "theta": [
            "Bourgogne-Franche-Comté"
           ],
           "type": "barpolar"
          },
          {
           "hoverlabel": {
            "namelength": 0
           },
           "hovertemplate": "Regions=%{theta}<br>Annee=2008<br>Quantite=%{r}",
           "legendgroup": "Regions=Bretagne",
           "marker": {
            "color": "#ed7953"
           },
           "name": "Regions=Bretagne",
           "r": [
            429.604411167513
           ],
           "showlegend": true,
           "subplot": "polar",
           "theta": [
            "Bretagne"
           ],
           "type": "barpolar"
          },
          {
           "hoverlabel": {
            "namelength": 0
           },
           "hovertemplate": "Regions=%{theta}<br>Annee=2008<br>Quantite=%{r}",
           "legendgroup": "Regions=Centre-Val de Loire",
           "marker": {
            "color": "#d8576b"
           },
           "name": "Regions=Centre-Val de Loire",
           "r": [
            373.08720601265827
           ],
           "showlegend": true,
           "subplot": "polar",
           "theta": [
            "Centre-Val de Loire"
           ],
           "type": "barpolar"
          },
          {
           "hoverlabel": {
            "namelength": 0
           },
           "hovertemplate": "Regions=%{theta}<br>Annee=2008<br>Quantite=%{r}",
           "legendgroup": "Regions=Corse",
           "marker": {
            "color": "#bd3786"
           },
           "name": "Regions=Corse",
           "r": [
            289.5965833333333
           ],
           "showlegend": true,
           "subplot": "polar",
           "theta": [
            "Corse"
           ],
           "type": "barpolar"
          },
          {
           "hoverlabel": {
            "namelength": 0
           },
           "hovertemplate": "Regions=%{theta}<br>Annee=2008<br>Quantite=%{r}",
           "legendgroup": "Regions=Grand Est",
           "marker": {
            "color": "#9c179e"
           },
           "name": "Regions=Grand Est",
           "r": [
            1159.8962839279864
           ],
           "showlegend": true,
           "subplot": "polar",
           "theta": [
            "Grand Est"
           ],
           "type": "barpolar"
          },
          {
           "hoverlabel": {
            "namelength": 0
           },
           "hovertemplate": "Regions=%{theta}<br>Annee=2008<br>Quantite=%{r}",
           "legendgroup": "Regions=Hauts-de-France",
           "marker": {
            "color": "#7201a8"
           },
           "name": "Regions=Hauts-de-France",
           "r": [
            1364.664845256609
           ],
           "showlegend": true,
           "subplot": "polar",
           "theta": [
            "Hauts-de-France"
           ],
           "type": "barpolar"
          },
          {
           "hoverlabel": {
            "namelength": 0
           },
           "hovertemplate": "Regions=%{theta}<br>Annee=2008<br>Quantite=%{r}",
           "legendgroup": "Regions=Normandie",
           "marker": {
            "color": "#46039f"
           },
           "name": "Regions=Normandie",
           "r": [
            1283.8031232430365
           ],
           "showlegend": true,
           "subplot": "polar",
           "theta": [
            "Normandie"
           ],
           "type": "barpolar"
          },
          {
           "hoverlabel": {
            "namelength": 0
           },
           "hovertemplate": "Regions=%{theta}<br>Annee=2008<br>Quantite=%{r}",
           "legendgroup": "Regions=Nouvelle-Aquitaine",
           "marker": {
            "color": "#0d0887"
           },
           "name": "Regions=Nouvelle-Aquitaine",
           "r": [
            653.4409184538654
           ],
           "showlegend": true,
           "subplot": "polar",
           "theta": [
            "Nouvelle-Aquitaine"
           ],
           "type": "barpolar"
          },
          {
           "hoverlabel": {
            "namelength": 0
           },
           "hovertemplate": "Regions=%{theta}<br>Annee=2008<br>Quantite=%{r}",
           "legendgroup": "Regions=Occitanie",
           "marker": {
            "color": "#fdca26"
           },
           "name": "Regions=Occitanie",
           "r": [
            923.6340568442619
           ],
           "showlegend": true,
           "subplot": "polar",
           "theta": [
            "Occitanie"
           ],
           "type": "barpolar"
          },
          {
           "hoverlabel": {
            "namelength": 0
           },
           "hovertemplate": "Regions=%{theta}<br>Annee=2008<br>Quantite=%{r}",
           "legendgroup": "Regions=Pays de la Loire",
           "marker": {
            "color": "#fb9f3a"
           },
           "name": "Regions=Pays de la Loire",
           "r": [
            498.0804570491801
           ],
           "showlegend": true,
           "subplot": "polar",
           "theta": [
            "Pays de la Loire"
           ],
           "type": "barpolar"
          },
          {
           "hoverlabel": {
            "namelength": 0
           },
           "hovertemplate": "Regions=%{theta}<br>Annee=2008<br>Quantite=%{r}",
           "legendgroup": "Regions=Provence-Alpes-Côte d'Azur",
           "marker": {
            "color": "#ed7953"
           },
           "name": "Regions=Provence-Alpes-Côte d'Azur",
           "r": [
            1707.9741371287123
           ],
           "showlegend": true,
           "subplot": "polar",
           "theta": [
            "Provence-Alpes-Côte d'Azur"
           ],
           "type": "barpolar"
          },
          {
           "hoverlabel": {
            "namelength": 0
           },
           "hovertemplate": "Regions=%{theta}<br>Annee=2008<br>Quantite=%{r}",
           "legendgroup": "Regions=Île-de-France",
           "marker": {
            "color": "#d8576b"
           },
           "name": "Regions=Île-de-France",
           "r": [
            1265.6394589215681
           ],
           "showlegend": true,
           "subplot": "polar",
           "theta": [
            "Île-de-France"
           ],
           "type": "barpolar"
          }
         ],
         "name": "2008"
        },
        {
         "data": [
          {
           "hoverlabel": {
            "namelength": 0
           },
           "hovertemplate": "Regions=%{theta}<br>Annee=2009<br>Quantite=%{r}",
           "legendgroup": "Regions=Auvergne-Rhône-Alpes",
           "marker": {
            "color": "#fdca26"
           },
           "name": "Regions=Auvergne-Rhône-Alpes",
           "r": [
            781.4408680241326
           ],
           "showlegend": true,
           "subplot": "polar",
           "theta": [
            "Auvergne-Rhône-Alpes"
           ],
           "type": "barpolar"
          },
          {
           "hoverlabel": {
            "namelength": 0
           },
           "hovertemplate": "Regions=%{theta}<br>Annee=2009<br>Quantite=%{r}",
           "legendgroup": "Regions=Bourgogne-Franche-Comté",
           "marker": {
            "color": "#fb9f3a"
           },
           "name": "Regions=Bourgogne-Franche-Comté",
           "r": [
            393.979601436781
           ],
           "showlegend": true,
           "subplot": "polar",
           "theta": [
            "Bourgogne-Franche-Comté"
           ],
           "type": "barpolar"
          },
          {
           "hoverlabel": {
            "namelength": 0
           },
           "hovertemplate": "Regions=%{theta}<br>Annee=2009<br>Quantite=%{r}",
           "legendgroup": "Regions=Bretagne",
           "marker": {
            "color": "#ed7953"
           },
           "name": "Regions=Bretagne",
           "r": [
            1115.6235153846155
           ],
           "showlegend": true,
           "subplot": "polar",
           "theta": [
            "Bretagne"
           ],
           "type": "barpolar"
          },
          {
           "hoverlabel": {
            "namelength": 0
           },
           "hovertemplate": "Regions=%{theta}<br>Annee=2009<br>Quantite=%{r}",
           "legendgroup": "Regions=Centre-Val de Loire",
           "marker": {
            "color": "#d8576b"
           },
           "name": "Regions=Centre-Val de Loire",
           "r": [
            340.81900461904746
           ],
           "showlegend": true,
           "subplot": "polar",
           "theta": [
            "Centre-Val de Loire"
           ],
           "type": "barpolar"
          },
          {
           "hoverlabel": {
            "namelength": 0
           },
           "hovertemplate": "Regions=%{theta}<br>Annee=2009<br>Quantite=%{r}",
           "legendgroup": "Regions=Corse",
           "marker": {
            "color": "#bd3786"
           },
           "name": "Regions=Corse",
           "r": [
            261.71616666666665
           ],
           "showlegend": true,
           "subplot": "polar",
           "theta": [
            "Corse"
           ],
           "type": "barpolar"
          },
          {
           "hoverlabel": {
            "namelength": 0
           },
           "hovertemplate": "Regions=%{theta}<br>Annee=2009<br>Quantite=%{r}",
           "legendgroup": "Regions=Grand Est",
           "marker": {
            "color": "#9c179e"
           },
           "name": "Regions=Grand Est",
           "r": [
            986.3556504833837
           ],
           "showlegend": true,
           "subplot": "polar",
           "theta": [
            "Grand Est"
           ],
           "type": "barpolar"
          },
          {
           "hoverlabel": {
            "namelength": 0
           },
           "hovertemplate": "Regions=%{theta}<br>Annee=2009<br>Quantite=%{r}",
           "legendgroup": "Regions=Hauts-de-France",
           "marker": {
            "color": "#7201a8"
           },
           "name": "Regions=Hauts-de-France",
           "r": [
            1163.2180835127056
           ],
           "showlegend": true,
           "subplot": "polar",
           "theta": [
            "Hauts-de-France"
           ],
           "type": "barpolar"
          },
          {
           "hoverlabel": {
            "namelength": 0
           },
           "hovertemplate": "Regions=%{theta}<br>Annee=2009<br>Quantite=%{r}",
           "legendgroup": "Regions=Normandie",
           "marker": {
            "color": "#46039f"
           },
           "name": "Regions=Normandie",
           "r": [
            1290.1910879802958
           ],
           "showlegend": true,
           "subplot": "polar",
           "theta": [
            "Normandie"
           ],
           "type": "barpolar"
          },
          {
           "hoverlabel": {
            "namelength": 0
           },
           "hovertemplate": "Regions=%{theta}<br>Annee=2009<br>Quantite=%{r}",
           "legendgroup": "Regions=Nouvelle-Aquitaine",
           "marker": {
            "color": "#0d0887"
           },
           "name": "Regions=Nouvelle-Aquitaine",
           "r": [
            590.2588811926605
           ],
           "showlegend": true,
           "subplot": "polar",
           "theta": [
            "Nouvelle-Aquitaine"
           ],
           "type": "barpolar"
          },
          {
           "hoverlabel": {
            "namelength": 0
           },
           "hovertemplate": "Regions=%{theta}<br>Annee=2009<br>Quantite=%{r}",
           "legendgroup": "Regions=Occitanie",
           "marker": {
            "color": "#fdca26"
           },
           "name": "Regions=Occitanie",
           "r": [
            837.2810942528739
           ],
           "showlegend": true,
           "subplot": "polar",
           "theta": [
            "Occitanie"
           ],
           "type": "barpolar"
          },
          {
           "hoverlabel": {
            "namelength": 0
           },
           "hovertemplate": "Regions=%{theta}<br>Annee=2009<br>Quantite=%{r}",
           "legendgroup": "Regions=Pays de la Loire",
           "marker": {
            "color": "#fb9f3a"
           },
           "name": "Regions=Pays de la Loire",
           "r": [
            364.0869650641027
           ],
           "showlegend": true,
           "subplot": "polar",
           "theta": [
            "Pays de la Loire"
           ],
           "type": "barpolar"
          },
          {
           "hoverlabel": {
            "namelength": 0
           },
           "hovertemplate": "Regions=%{theta}<br>Annee=2009<br>Quantite=%{r}",
           "legendgroup": "Regions=Provence-Alpes-Côte d'Azur",
           "marker": {
            "color": "#ed7953"
           },
           "name": "Regions=Provence-Alpes-Côte d'Azur",
           "r": [
            1216.5763521400784
           ],
           "showlegend": true,
           "subplot": "polar",
           "theta": [
            "Provence-Alpes-Côte d'Azur"
           ],
           "type": "barpolar"
          },
          {
           "hoverlabel": {
            "namelength": 0
           },
           "hovertemplate": "Regions=%{theta}<br>Annee=2009<br>Quantite=%{r}",
           "legendgroup": "Regions=Île-de-France",
           "marker": {
            "color": "#d8576b"
           },
           "name": "Regions=Île-de-France",
           "r": [
            1194.6542476543204
           ],
           "showlegend": true,
           "subplot": "polar",
           "theta": [
            "Île-de-France"
           ],
           "type": "barpolar"
          }
         ],
         "name": "2009"
        },
        {
         "data": [
          {
           "hoverlabel": {
            "namelength": 0
           },
           "hovertemplate": "Regions=%{theta}<br>Annee=2010<br>Quantite=%{r}",
           "legendgroup": "Regions=Auvergne-Rhône-Alpes",
           "marker": {
            "color": "#fdca26"
           },
           "name": "Regions=Auvergne-Rhône-Alpes",
           "r": [
            951.6343490629182
           ],
           "showlegend": true,
           "subplot": "polar",
           "theta": [
            "Auvergne-Rhône-Alpes"
           ],
           "type": "barpolar"
          },
          {
           "hoverlabel": {
            "namelength": 0
           },
           "hovertemplate": "Regions=%{theta}<br>Annee=2010<br>Quantite=%{r}",
           "legendgroup": "Regions=Bourgogne-Franche-Comté",
           "marker": {
            "color": "#fb9f3a"
           },
           "name": "Regions=Bourgogne-Franche-Comté",
           "r": [
            533.539024550129
           ],
           "showlegend": true,
           "subplot": "polar",
           "theta": [
            "Bourgogne-Franche-Comté"
           ],
           "type": "barpolar"
          },
          {
           "hoverlabel": {
            "namelength": 0
           },
           "hovertemplate": "Regions=%{theta}<br>Annee=2010<br>Quantite=%{r}",
           "legendgroup": "Regions=Bretagne",
           "marker": {
            "color": "#ed7953"
           },
           "name": "Regions=Bretagne",
           "r": [
            338.6479384879722
           ],
           "showlegend": true,
           "subplot": "polar",
           "theta": [
            "Bretagne"
           ],
           "type": "barpolar"
          },
          {
           "hoverlabel": {
            "namelength": 0
           },
           "hovertemplate": "Regions=%{theta}<br>Annee=2010<br>Quantite=%{r}",
           "legendgroup": "Regions=Centre-Val de Loire",
           "marker": {
            "color": "#d8576b"
           },
           "name": "Regions=Centre-Val de Loire",
           "r": [
            410.2162318904112
           ],
           "showlegend": true,
           "subplot": "polar",
           "theta": [
            "Centre-Val de Loire"
           ],
           "type": "barpolar"
          },
          {
           "hoverlabel": {
            "namelength": 0
           },
           "hovertemplate": "Regions=%{theta}<br>Annee=2010<br>Quantite=%{r}",
           "legendgroup": "Regions=Corse",
           "marker": {
            "color": "#bd3786"
           },
           "name": "Regions=Corse",
           "r": [
            174.47157142857142
           ],
           "showlegend": true,
           "subplot": "polar",
           "theta": [
            "Corse"
           ],
           "type": "barpolar"
          },
          {
           "hoverlabel": {
            "namelength": 0
           },
           "hovertemplate": "Regions=%{theta}<br>Annee=2010<br>Quantite=%{r}",
           "legendgroup": "Regions=Grand Est",
           "marker": {
            "color": "#9c179e"
           },
           "name": "Regions=Grand Est",
           "r": [
            880.4393585714279
           ],
           "showlegend": true,
           "subplot": "polar",
           "theta": [
            "Grand Est"
           ],
           "type": "barpolar"
          },
          {
           "hoverlabel": {
            "namelength": 0
           },
           "hovertemplate": "Regions=%{theta}<br>Annee=2010<br>Quantite=%{r}",
           "legendgroup": "Regions=Hauts-de-France",
           "marker": {
            "color": "#7201a8"
           },
           "name": "Regions=Hauts-de-France",
           "r": [
            998.7700543673712
           ],
           "showlegend": true,
           "subplot": "polar",
           "theta": [
            "Hauts-de-France"
           ],
           "type": "barpolar"
          },
          {
           "hoverlabel": {
            "namelength": 0
           },
           "hovertemplate": "Regions=%{theta}<br>Annee=2010<br>Quantite=%{r}",
           "legendgroup": "Regions=Normandie",
           "marker": {
            "color": "#46039f"
           },
           "name": "Regions=Normandie",
           "r": [
            907.3320177450984
           ],
           "showlegend": true,
           "subplot": "polar",
           "theta": [
            "Normandie"
           ],
           "type": "barpolar"
          },
          {
           "hoverlabel": {
            "namelength": 0
           },
           "hovertemplate": "Regions=%{theta}<br>Annee=2010<br>Quantite=%{r}",
           "legendgroup": "Regions=Nouvelle-Aquitaine",
           "marker": {
            "color": "#0d0887"
           },
           "name": "Regions=Nouvelle-Aquitaine",
           "r": [
            599.3833021758888
           ],
           "showlegend": true,
           "subplot": "polar",
           "theta": [
            "Nouvelle-Aquitaine"
           ],
           "type": "barpolar"
          },
          {
           "hoverlabel": {
            "namelength": 0
           },
           "hovertemplate": "Regions=%{theta}<br>Annee=2010<br>Quantite=%{r}",
           "legendgroup": "Regions=Occitanie",
           "marker": {
            "color": "#fdca26"
           },
           "name": "Regions=Occitanie",
           "r": [
            828.2687560000002
           ],
           "showlegend": true,
           "subplot": "polar",
           "theta": [
            "Occitanie"
           ],
           "type": "barpolar"
          },
          {
           "hoverlabel": {
            "namelength": 0
           },
           "hovertemplate": "Regions=%{theta}<br>Annee=2010<br>Quantite=%{r}",
           "legendgroup": "Regions=Pays de la Loire",
           "marker": {
            "color": "#fb9f3a"
           },
           "name": "Regions=Pays de la Loire",
           "r": [
            375.06964146341477
           ],
           "showlegend": true,
           "subplot": "polar",
           "theta": [
            "Pays de la Loire"
           ],
           "type": "barpolar"
          },
          {
           "hoverlabel": {
            "namelength": 0
           },
           "hovertemplate": "Regions=%{theta}<br>Annee=2010<br>Quantite=%{r}",
           "legendgroup": "Regions=Provence-Alpes-Côte d'Azur",
           "marker": {
            "color": "#ed7953"
           },
           "name": "Regions=Provence-Alpes-Côte d'Azur",
           "r": [
            1197.2014501547997
           ],
           "showlegend": true,
           "subplot": "polar",
           "theta": [
            "Provence-Alpes-Côte d'Azur"
           ],
           "type": "barpolar"
          },
          {
           "hoverlabel": {
            "namelength": 0
           },
           "hovertemplate": "Regions=%{theta}<br>Annee=2010<br>Quantite=%{r}",
           "legendgroup": "Regions=Île-de-France",
           "marker": {
            "color": "#d8576b"
           },
           "name": "Regions=Île-de-France",
           "r": [
            991.155955419222
           ],
           "showlegend": true,
           "subplot": "polar",
           "theta": [
            "Île-de-France"
           ],
           "type": "barpolar"
          }
         ],
         "name": "2010"
        },
        {
         "data": [
          {
           "hoverlabel": {
            "namelength": 0
           },
           "hovertemplate": "Regions=%{theta}<br>Annee=2011<br>Quantite=%{r}",
           "legendgroup": "Regions=Auvergne-Rhône-Alpes",
           "marker": {
            "color": "#fdca26"
           },
           "name": "Regions=Auvergne-Rhône-Alpes",
           "r": [
            740.7847035398224
           ],
           "showlegend": true,
           "subplot": "polar",
           "theta": [
            "Auvergne-Rhône-Alpes"
           ],
           "type": "barpolar"
          },
          {
           "hoverlabel": {
            "namelength": 0
           },
           "hovertemplate": "Regions=%{theta}<br>Annee=2011<br>Quantite=%{r}",
           "legendgroup": "Regions=Bourgogne-Franche-Comté",
           "marker": {
            "color": "#fb9f3a"
           },
           "name": "Regions=Bourgogne-Franche-Comté",
           "r": [
            469.2727832098768
           ],
           "showlegend": true,
           "subplot": "polar",
           "theta": [
            "Bourgogne-Franche-Comté"
           ],
           "type": "barpolar"
          },
          {
           "hoverlabel": {
            "namelength": 0
           },
           "hovertemplate": "Regions=%{theta}<br>Annee=2011<br>Quantite=%{r}",
           "legendgroup": "Regions=Bretagne",
           "marker": {
            "color": "#ed7953"
           },
           "name": "Regions=Bretagne",
           "r": [
            353.00759069767446
           ],
           "showlegend": true,
           "subplot": "polar",
           "theta": [
            "Bretagne"
           ],
           "type": "barpolar"
          },
          {
           "hoverlabel": {
            "namelength": 0
           },
           "hovertemplate": "Regions=%{theta}<br>Annee=2011<br>Quantite=%{r}",
           "legendgroup": "Regions=Centre-Val de Loire",
           "marker": {
            "color": "#d8576b"
           },
           "name": "Regions=Centre-Val de Loire",
           "r": [
            398.8895734159783
           ],
           "showlegend": true,
           "subplot": "polar",
           "theta": [
            "Centre-Val de Loire"
           ],
           "type": "barpolar"
          },
          {
           "hoverlabel": {
            "namelength": 0
           },
           "hovertemplate": "Regions=%{theta}<br>Annee=2011<br>Quantite=%{r}",
           "legendgroup": "Regions=Corse",
           "marker": {
            "color": "#bd3786"
           },
           "name": "Regions=Corse",
           "r": [
            153.93022222222223
           ],
           "showlegend": true,
           "subplot": "polar",
           "theta": [
            "Corse"
           ],
           "type": "barpolar"
          },
          {
           "hoverlabel": {
            "namelength": 0
           },
           "hovertemplate": "Regions=%{theta}<br>Annee=2011<br>Quantite=%{r}",
           "legendgroup": "Regions=Grand Est",
           "marker": {
            "color": "#9c179e"
           },
           "name": "Regions=Grand Est",
           "r": [
            807.3518499745537
           ],
           "showlegend": true,
           "subplot": "polar",
           "theta": [
            "Grand Est"
           ],
           "type": "barpolar"
          },
          {
           "hoverlabel": {
            "namelength": 0
           },
           "hovertemplate": "Regions=%{theta}<br>Annee=2011<br>Quantite=%{r}",
           "legendgroup": "Regions=Hauts-de-France",
           "marker": {
            "color": "#7201a8"
           },
           "name": "Regions=Hauts-de-France",
           "r": [
            1282.4873128589236
           ],
           "showlegend": true,
           "subplot": "polar",
           "theta": [
            "Hauts-de-France"
           ],
           "type": "barpolar"
          },
          {
           "hoverlabel": {
            "namelength": 0
           },
           "hovertemplate": "Regions=%{theta}<br>Annee=2011<br>Quantite=%{r}",
           "legendgroup": "Regions=Normandie",
           "marker": {
            "color": "#46039f"
           },
           "name": "Regions=Normandie",
           "r": [
            917.3288041825091
           ],
           "showlegend": true,
           "subplot": "polar",
           "theta": [
            "Normandie"
           ],
           "type": "barpolar"
          },
          {
           "hoverlabel": {
            "namelength": 0
           },
           "hovertemplate": "Regions=%{theta}<br>Annee=2011<br>Quantite=%{r}",
           "legendgroup": "Regions=Nouvelle-Aquitaine",
           "marker": {
            "color": "#0d0887"
           },
           "name": "Regions=Nouvelle-Aquitaine",
           "r": [
            581.7239721323526
           ],
           "showlegend": true,
           "subplot": "polar",
           "theta": [
            "Nouvelle-Aquitaine"
           ],
           "type": "barpolar"
          },
          {
           "hoverlabel": {
            "namelength": 0
           },
           "hovertemplate": "Regions=%{theta}<br>Annee=2011<br>Quantite=%{r}",
           "legendgroup": "Regions=Occitanie",
           "marker": {
            "color": "#fdca26"
           },
           "name": "Regions=Occitanie",
           "r": [
            840.1735488125001
           ],
           "showlegend": true,
           "subplot": "polar",
           "theta": [
            "Occitanie"
           ],
           "type": "barpolar"
          },
          {
           "hoverlabel": {
            "namelength": 0
           },
           "hovertemplate": "Regions=%{theta}<br>Annee=2011<br>Quantite=%{r}",
           "legendgroup": "Regions=Pays de la Loire",
           "marker": {
            "color": "#fb9f3a"
           },
           "name": "Regions=Pays de la Loire",
           "r": [
            333.21155607710284
           ],
           "showlegend": true,
           "subplot": "polar",
           "theta": [
            "Pays de la Loire"
           ],
           "type": "barpolar"
          },
          {
           "hoverlabel": {
            "namelength": 0
           },
           "hovertemplate": "Regions=%{theta}<br>Annee=2011<br>Quantite=%{r}",
           "legendgroup": "Regions=Provence-Alpes-Côte d'Azur",
           "marker": {
            "color": "#ed7953"
           },
           "name": "Regions=Provence-Alpes-Côte d'Azur",
           "r": [
            1033.5677411949696
           ],
           "showlegend": true,
           "subplot": "polar",
           "theta": [
            "Provence-Alpes-Côte d'Azur"
           ],
           "type": "barpolar"
          },
          {
           "hoverlabel": {
            "namelength": 0
           },
           "hovertemplate": "Regions=%{theta}<br>Annee=2011<br>Quantite=%{r}",
           "legendgroup": "Regions=Île-de-France",
           "marker": {
            "color": "#d8576b"
           },
           "name": "Regions=Île-de-France",
           "r": [
            1070.6482579029123
           ],
           "showlegend": true,
           "subplot": "polar",
           "theta": [
            "Île-de-France"
           ],
           "type": "barpolar"
          }
         ],
         "name": "2011"
        },
        {
         "data": [
          {
           "hoverlabel": {
            "namelength": 0
           },
           "hovertemplate": "Regions=%{theta}<br>Annee=2012<br>Quantite=%{r}",
           "legendgroup": "Regions=Auvergne-Rhône-Alpes",
           "marker": {
            "color": "#fdca26"
           },
           "name": "Regions=Auvergne-Rhône-Alpes",
           "r": [
            806.0845810764254
           ],
           "showlegend": true,
           "subplot": "polar",
           "theta": [
            "Auvergne-Rhône-Alpes"
           ],
           "type": "barpolar"
          },
          {
           "hoverlabel": {
            "namelength": 0
           },
           "hovertemplate": "Regions=%{theta}<br>Annee=2012<br>Quantite=%{r}",
           "legendgroup": "Regions=Bourgogne-Franche-Comté",
           "marker": {
            "color": "#fb9f3a"
           },
           "name": "Regions=Bourgogne-Franche-Comté",
           "r": [
            439.2398982984294
           ],
           "showlegend": true,
           "subplot": "polar",
           "theta": [
            "Bourgogne-Franche-Comté"
           ],
           "type": "barpolar"
          },
          {
           "hoverlabel": {
            "namelength": 0
           },
           "hovertemplate": "Regions=%{theta}<br>Annee=2012<br>Quantite=%{r}",
           "legendgroup": "Regions=Bretagne",
           "marker": {
            "color": "#ed7953"
           },
           "name": "Regions=Bretagne",
           "r": [
            519.9133615160354
           ],
           "showlegend": true,
           "subplot": "polar",
           "theta": [
            "Bretagne"
           ],
           "type": "barpolar"
          },
          {
           "hoverlabel": {
            "namelength": 0
           },
           "hovertemplate": "Regions=%{theta}<br>Annee=2012<br>Quantite=%{r}",
           "legendgroup": "Regions=Centre-Val de Loire",
           "marker": {
            "color": "#d8576b"
           },
           "name": "Regions=Centre-Val de Loire",
           "r": [
            391.7019078589418
           ],
           "showlegend": true,
           "subplot": "polar",
           "theta": [
            "Centre-Val de Loire"
           ],
           "type": "barpolar"
          },
          {
           "hoverlabel": {
            "namelength": 0
           },
           "hovertemplate": "Regions=%{theta}<br>Annee=2012<br>Quantite=%{r}",
           "legendgroup": "Regions=Corse",
           "marker": {
            "color": "#bd3786"
           },
           "name": "Regions=Corse",
           "r": [
            245.2000625
           ],
           "showlegend": true,
           "subplot": "polar",
           "theta": [
            "Corse"
           ],
           "type": "barpolar"
          },
          {
           "hoverlabel": {
            "namelength": 0
           },
           "hovertemplate": "Regions=%{theta}<br>Annee=2012<br>Quantite=%{r}",
           "legendgroup": "Regions=Grand Est",
           "marker": {
            "color": "#9c179e"
           },
           "name": "Regions=Grand Est",
           "r": [
            941.9016376491647
           ],
           "showlegend": true,
           "subplot": "polar",
           "theta": [
            "Grand Est"
           ],
           "type": "barpolar"
          },
          {
           "hoverlabel": {
            "namelength": 0
           },
           "hovertemplate": "Regions=%{theta}<br>Annee=2012<br>Quantite=%{r}",
           "legendgroup": "Regions=Hauts-de-France",
           "marker": {
            "color": "#7201a8"
           },
           "name": "Regions=Hauts-de-France",
           "r": [
            1076.7570692457302
           ],
           "showlegend": true,
           "subplot": "polar",
           "theta": [
            "Hauts-de-France"
           ],
           "type": "barpolar"
          },
          {
           "hoverlabel": {
            "namelength": 0
           },
           "hovertemplate": "Regions=%{theta}<br>Annee=2012<br>Quantite=%{r}",
           "legendgroup": "Regions=Normandie",
           "marker": {
            "color": "#46039f"
           },
           "name": "Regions=Normandie",
           "r": [
            979.9573733590735
           ],
           "showlegend": true,
           "subplot": "polar",
           "theta": [
            "Normandie"
           ],
           "type": "barpolar"
          },
          {
           "hoverlabel": {
            "namelength": 0
           },
           "hovertemplate": "Regions=%{theta}<br>Annee=2012<br>Quantite=%{r}",
           "legendgroup": "Regions=Nouvelle-Aquitaine",
           "marker": {
            "color": "#0d0887"
           },
           "name": "Regions=Nouvelle-Aquitaine",
           "r": [
            661.4284352188553
           ],
           "showlegend": true,
           "subplot": "polar",
           "theta": [
            "Nouvelle-Aquitaine"
           ],
           "type": "barpolar"
          },
          {
           "hoverlabel": {
            "namelength": 0
           },
           "hovertemplate": "Regions=%{theta}<br>Annee=2012<br>Quantite=%{r}",
           "legendgroup": "Regions=Occitanie",
           "marker": {
            "color": "#fdca26"
           },
           "name": "Regions=Occitanie",
           "r": [
            1161.2991463908052
           ],
           "showlegend": true,
           "subplot": "polar",
           "theta": [
            "Occitanie"
           ],
           "type": "barpolar"
          },
          {
           "hoverlabel": {
            "namelength": 0
           },
           "hovertemplate": "Regions=%{theta}<br>Annee=2012<br>Quantite=%{r}",
           "legendgroup": "Regions=Pays de la Loire",
           "marker": {
            "color": "#fb9f3a"
           },
           "name": "Regions=Pays de la Loire",
           "r": [
            464.04690299145284
           ],
           "showlegend": true,
           "subplot": "polar",
           "theta": [
            "Pays de la Loire"
           ],
           "type": "barpolar"
          },
          {
           "hoverlabel": {
            "namelength": 0
           },
           "hovertemplate": "Regions=%{theta}<br>Annee=2012<br>Quantite=%{r}",
           "legendgroup": "Regions=Provence-Alpes-Côte d'Azur",
           "marker": {
            "color": "#ed7953"
           },
           "name": "Regions=Provence-Alpes-Côte d'Azur",
           "r": [
            960.1489165873027
           ],
           "showlegend": true,
           "subplot": "polar",
           "theta": [
            "Provence-Alpes-Côte d'Azur"
           ],
           "type": "barpolar"
          },
          {
           "hoverlabel": {
            "namelength": 0
           },
           "hovertemplate": "Regions=%{theta}<br>Annee=2012<br>Quantite=%{r}",
           "legendgroup": "Regions=Île-de-France",
           "marker": {
            "color": "#d8576b"
           },
           "name": "Regions=Île-de-France",
           "r": [
            1094.2315125086507
           ],
           "showlegend": true,
           "subplot": "polar",
           "theta": [
            "Île-de-France"
           ],
           "type": "barpolar"
          }
         ],
         "name": "2012"
        },
        {
         "data": [
          {
           "hoverlabel": {
            "namelength": 0
           },
           "hovertemplate": "Regions=%{theta}<br>Annee=2013<br>Quantite=%{r}",
           "legendgroup": "Regions=Auvergne-Rhône-Alpes",
           "marker": {
            "color": "#fdca26"
           },
           "name": "Regions=Auvergne-Rhône-Alpes",
           "r": [
            779.7721751899998
           ],
           "showlegend": true,
           "subplot": "polar",
           "theta": [
            "Auvergne-Rhône-Alpes"
           ],
           "type": "barpolar"
          },
          {
           "hoverlabel": {
            "namelength": 0
           },
           "hovertemplate": "Regions=%{theta}<br>Annee=2013<br>Quantite=%{r}",
           "legendgroup": "Regions=Bourgogne-Franche-Comté",
           "marker": {
            "color": "#fb9f3a"
           },
           "name": "Regions=Bourgogne-Franche-Comté",
           "r": [
            457.50054673913013
           ],
           "showlegend": true,
           "subplot": "polar",
           "theta": [
            "Bourgogne-Franche-Comté"
           ],
           "type": "barpolar"
          },
          {
           "hoverlabel": {
            "namelength": 0
           },
           "hovertemplate": "Regions=%{theta}<br>Annee=2013<br>Quantite=%{r}",
           "legendgroup": "Regions=Bretagne",
           "marker": {
            "color": "#ed7953"
           },
           "name": "Regions=Bretagne",
           "r": [
            416.39746592592627
           ],
           "showlegend": true,
           "subplot": "polar",
           "theta": [
            "Bretagne"
           ],
           "type": "barpolar"
          },
          {
           "hoverlabel": {
            "namelength": 0
           },
           "hovertemplate": "Regions=%{theta}<br>Annee=2013<br>Quantite=%{r}",
           "legendgroup": "Regions=Centre-Val de Loire",
           "marker": {
            "color": "#d8576b"
           },
           "name": "Regions=Centre-Val de Loire",
           "r": [
            393.64865687437174
           ],
           "showlegend": true,
           "subplot": "polar",
           "theta": [
            "Centre-Val de Loire"
           ],
           "type": "barpolar"
          },
          {
           "hoverlabel": {
            "namelength": 0
           },
           "hovertemplate": "Regions=%{theta}<br>Annee=2013<br>Quantite=%{r}",
           "legendgroup": "Regions=Corse",
           "marker": {
            "color": "#bd3786"
           },
           "name": "Regions=Corse",
           "r": [
            252.25608333333332
           ],
           "showlegend": true,
           "subplot": "polar",
           "theta": [
            "Corse"
           ],
           "type": "barpolar"
          },
          {
           "hoverlabel": {
            "namelength": 0
           },
           "hovertemplate": "Regions=%{theta}<br>Annee=2013<br>Quantite=%{r}",
           "legendgroup": "Regions=Grand Est",
           "marker": {
            "color": "#9c179e"
           },
           "name": "Regions=Grand Est",
           "r": [
            921.1874388000002
           ],
           "showlegend": true,
           "subplot": "polar",
           "theta": [
            "Grand Est"
           ],
           "type": "barpolar"
          },
          {
           "hoverlabel": {
            "namelength": 0
           },
           "hovertemplate": "Regions=%{theta}<br>Annee=2013<br>Quantite=%{r}",
           "legendgroup": "Regions=Hauts-de-France",
           "marker": {
            "color": "#7201a8"
           },
           "name": "Regions=Hauts-de-France",
           "r": [
            1240.8229701995563
           ],
           "showlegend": true,
           "subplot": "polar",
           "theta": [
            "Hauts-de-France"
           ],
           "type": "barpolar"
          },
          {
           "hoverlabel": {
            "namelength": 0
           },
           "hovertemplate": "Regions=%{theta}<br>Annee=2013<br>Quantite=%{r}",
           "legendgroup": "Regions=Normandie",
           "marker": {
            "color": "#46039f"
           },
           "name": "Regions=Normandie",
           "r": [
            1035.1160633849997
           ],
           "showlegend": true,
           "subplot": "polar",
           "theta": [
            "Normandie"
           ],
           "type": "barpolar"
          },
          {
           "hoverlabel": {
            "namelength": 0
           },
           "hovertemplate": "Regions=%{theta}<br>Annee=2013<br>Quantite=%{r}",
           "legendgroup": "Regions=Nouvelle-Aquitaine",
           "marker": {
            "color": "#0d0887"
           },
           "name": "Regions=Nouvelle-Aquitaine",
           "r": [
            763.1149455095536
           ],
           "showlegend": true,
           "subplot": "polar",
           "theta": [
            "Nouvelle-Aquitaine"
           ],
           "type": "barpolar"
          },
          {
           "hoverlabel": {
            "namelength": 0
           },
           "hovertemplate": "Regions=%{theta}<br>Annee=2013<br>Quantite=%{r}",
           "legendgroup": "Regions=Occitanie",
           "marker": {
            "color": "#fdca26"
           },
           "name": "Regions=Occitanie",
           "r": [
            1018.6037722727278
           ],
           "showlegend": true,
           "subplot": "polar",
           "theta": [
            "Occitanie"
           ],
           "type": "barpolar"
          },
          {
           "hoverlabel": {
            "namelength": 0
           },
           "hovertemplate": "Regions=%{theta}<br>Annee=2013<br>Quantite=%{r}",
           "legendgroup": "Regions=Pays de la Loire",
           "marker": {
            "color": "#fb9f3a"
           },
           "name": "Regions=Pays de la Loire",
           "r": [
            453.11064476817313
           ],
           "showlegend": true,
           "subplot": "polar",
           "theta": [
            "Pays de la Loire"
           ],
           "type": "barpolar"
          },
          {
           "hoverlabel": {
            "namelength": 0
           },
           "hovertemplate": "Regions=%{theta}<br>Annee=2013<br>Quantite=%{r}",
           "legendgroup": "Regions=Provence-Alpes-Côte d'Azur",
           "marker": {
            "color": "#ed7953"
           },
           "name": "Regions=Provence-Alpes-Côte d'Azur",
           "r": [
            1049.2897690684952
           ],
           "showlegend": true,
           "subplot": "polar",
           "theta": [
            "Provence-Alpes-Côte d'Azur"
           ],
           "type": "barpolar"
          },
          {
           "hoverlabel": {
            "namelength": 0
           },
           "hovertemplate": "Regions=%{theta}<br>Annee=2013<br>Quantite=%{r}",
           "legendgroup": "Regions=Île-de-France",
           "marker": {
            "color": "#d8576b"
           },
           "name": "Regions=Île-de-France",
           "r": [
            1036.8904819270676
           ],
           "showlegend": true,
           "subplot": "polar",
           "theta": [
            "Île-de-France"
           ],
           "type": "barpolar"
          }
         ],
         "name": "2013"
        },
        {
         "data": [
          {
           "hoverlabel": {
            "namelength": 0
           },
           "hovertemplate": "Regions=%{theta}<br>Annee=2014<br>Quantite=%{r}",
           "legendgroup": "Regions=Auvergne-Rhône-Alpes",
           "marker": {
            "color": "#fdca26"
           },
           "name": "Regions=Auvergne-Rhône-Alpes",
           "r": [
            779.707867551211
           ],
           "showlegend": true,
           "subplot": "polar",
           "theta": [
            "Auvergne-Rhône-Alpes"
           ],
           "type": "barpolar"
          },
          {
           "hoverlabel": {
            "namelength": 0
           },
           "hovertemplate": "Regions=%{theta}<br>Annee=2014<br>Quantite=%{r}",
           "legendgroup": "Regions=Bourgogne-Franche-Comté",
           "marker": {
            "color": "#fb9f3a"
           },
           "name": "Regions=Bourgogne-Franche-Comté",
           "r": [
            433.0651057542581
           ],
           "showlegend": true,
           "subplot": "polar",
           "theta": [
            "Bourgogne-Franche-Comté"
           ],
           "type": "barpolar"
          },
          {
           "hoverlabel": {
            "namelength": 0
           },
           "hovertemplate": "Regions=%{theta}<br>Annee=2014<br>Quantite=%{r}",
           "legendgroup": "Regions=Bretagne",
           "marker": {
            "color": "#ed7953"
           },
           "name": "Regions=Bretagne",
           "r": [
            464.74140238726744
           ],
           "showlegend": true,
           "subplot": "polar",
           "theta": [
            "Bretagne"
           ],
           "type": "barpolar"
          },
          {
           "hoverlabel": {
            "namelength": 0
           },
           "hovertemplate": "Regions=%{theta}<br>Annee=2014<br>Quantite=%{r}",
           "legendgroup": "Regions=Centre-Val de Loire",
           "marker": {
            "color": "#d8576b"
           },
           "name": "Regions=Centre-Val de Loire",
           "r": [
            356.81976297229204
           ],
           "showlegend": true,
           "subplot": "polar",
           "theta": [
            "Centre-Val de Loire"
           ],
           "type": "barpolar"
          },
          {
           "hoverlabel": {
            "namelength": 0
           },
           "hovertemplate": "Regions=%{theta}<br>Annee=2014<br>Quantite=%{r}",
           "legendgroup": "Regions=Corse",
           "marker": {
            "color": "#bd3786"
           },
           "name": "Regions=Corse",
           "r": [
            298.08652777777775
           ],
           "showlegend": true,
           "subplot": "polar",
           "theta": [
            "Corse"
           ],
           "type": "barpolar"
          },
          {
           "hoverlabel": {
            "namelength": 0
           },
           "hovertemplate": "Regions=%{theta}<br>Annee=2014<br>Quantite=%{r}",
           "legendgroup": "Regions=Grand Est",
           "marker": {
            "color": "#9c179e"
           },
           "name": "Regions=Grand Est",
           "r": [
            820.4001148814739
           ],
           "showlegend": true,
           "subplot": "polar",
           "theta": [
            "Grand Est"
           ],
           "type": "barpolar"
          },
          {
           "hoverlabel": {
            "namelength": 0
           },
           "hovertemplate": "Regions=%{theta}<br>Annee=2014<br>Quantite=%{r}",
           "legendgroup": "Regions=Hauts-de-France",
           "marker": {
            "color": "#7201a8"
           },
           "name": "Regions=Hauts-de-France",
           "r": [
            1066.0411809687155
           ],
           "showlegend": true,
           "subplot": "polar",
           "theta": [
            "Hauts-de-France"
           ],
           "type": "barpolar"
          },
          {
           "hoverlabel": {
            "namelength": 0
           },
           "hovertemplate": "Regions=%{theta}<br>Annee=2014<br>Quantite=%{r}",
           "legendgroup": "Regions=Normandie",
           "marker": {
            "color": "#46039f"
           },
           "name": "Regions=Normandie",
           "r": [
            1222.098797183099
           ],
           "showlegend": true,
           "subplot": "polar",
           "theta": [
            "Normandie"
           ],
           "type": "barpolar"
          },
          {
           "hoverlabel": {
            "namelength": 0
           },
           "hovertemplate": "Regions=%{theta}<br>Annee=2014<br>Quantite=%{r}",
           "legendgroup": "Regions=Nouvelle-Aquitaine",
           "marker": {
            "color": "#0d0887"
           },
           "name": "Regions=Nouvelle-Aquitaine",
           "r": [
            574.2359590654202
           ],
           "showlegend": true,
           "subplot": "polar",
           "theta": [
            "Nouvelle-Aquitaine"
           ],
           "type": "barpolar"
          },
          {
           "hoverlabel": {
            "namelength": 0
           },
           "hovertemplate": "Regions=%{theta}<br>Annee=2014<br>Quantite=%{r}",
           "legendgroup": "Regions=Occitanie",
           "marker": {
            "color": "#fdca26"
           },
           "name": "Regions=Occitanie",
           "r": [
            955.2268811133604
           ],
           "showlegend": true,
           "subplot": "polar",
           "theta": [
            "Occitanie"
           ],
           "type": "barpolar"
          },
          {
           "hoverlabel": {
            "namelength": 0
           },
           "hovertemplate": "Regions=%{theta}<br>Annee=2014<br>Quantite=%{r}",
           "legendgroup": "Regions=Pays de la Loire",
           "marker": {
            "color": "#fb9f3a"
           },
           "name": "Regions=Pays de la Loire",
           "r": [
            399.6874343453512
           ],
           "showlegend": true,
           "subplot": "polar",
           "theta": [
            "Pays de la Loire"
           ],
           "type": "barpolar"
          },
          {
           "hoverlabel": {
            "namelength": 0
           },
           "hovertemplate": "Regions=%{theta}<br>Annee=2014<br>Quantite=%{r}",
           "legendgroup": "Regions=Provence-Alpes-Côte d'Azur",
           "marker": {
            "color": "#ed7953"
           },
           "name": "Regions=Provence-Alpes-Côte d'Azur",
           "r": [
            971.2018352654156
           ],
           "showlegend": true,
           "subplot": "polar",
           "theta": [
            "Provence-Alpes-Côte d'Azur"
           ],
           "type": "barpolar"
          },
          {
           "hoverlabel": {
            "namelength": 0
           },
           "hovertemplate": "Regions=%{theta}<br>Annee=2014<br>Quantite=%{r}",
           "legendgroup": "Regions=Île-de-France",
           "marker": {
            "color": "#d8576b"
           },
           "name": "Regions=Île-de-France",
           "r": [
            990.5095456910572
           ],
           "showlegend": true,
           "subplot": "polar",
           "theta": [
            "Île-de-France"
           ],
           "type": "barpolar"
          }
         ],
         "name": "2014"
        },
        {
         "data": [
          {
           "hoverlabel": {
            "namelength": 0
           },
           "hovertemplate": "Regions=%{theta}<br>Annee=2015<br>Quantite=%{r}",
           "legendgroup": "Regions=Auvergne-Rhône-Alpes",
           "marker": {
            "color": "#fdca26"
           },
           "name": "Regions=Auvergne-Rhône-Alpes",
           "r": [
            715.6622092305652
           ],
           "showlegend": true,
           "subplot": "polar",
           "theta": [
            "Auvergne-Rhône-Alpes"
           ],
           "type": "barpolar"
          },
          {
           "hoverlabel": {
            "namelength": 0
           },
           "hovertemplate": "Regions=%{theta}<br>Annee=2015<br>Quantite=%{r}",
           "legendgroup": "Regions=Bourgogne-Franche-Comté",
           "marker": {
            "color": "#fb9f3a"
           },
           "name": "Regions=Bourgogne-Franche-Comté",
           "r": [
            514.9913134042553
           ],
           "showlegend": true,
           "subplot": "polar",
           "theta": [
            "Bourgogne-Franche-Comté"
           ],
           "type": "barpolar"
          },
          {
           "hoverlabel": {
            "namelength": 0
           },
           "hovertemplate": "Regions=%{theta}<br>Annee=2015<br>Quantite=%{r}",
           "legendgroup": "Regions=Bretagne",
           "marker": {
            "color": "#ed7953"
           },
           "name": "Regions=Bretagne",
           "r": [
            465.771926026316
           ],
           "showlegend": true,
           "subplot": "polar",
           "theta": [
            "Bretagne"
           ],
           "type": "barpolar"
          },
          {
           "hoverlabel": {
            "namelength": 0
           },
           "hovertemplate": "Regions=%{theta}<br>Annee=2015<br>Quantite=%{r}",
           "legendgroup": "Regions=Centre-Val de Loire",
           "marker": {
            "color": "#d8576b"
           },
           "name": "Regions=Centre-Val de Loire",
           "r": [
            363.45261596642666
           ],
           "showlegend": true,
           "subplot": "polar",
           "theta": [
            "Centre-Val de Loire"
           ],
           "type": "barpolar"
          },
          {
           "hoverlabel": {
            "namelength": 0
           },
           "hovertemplate": "Regions=%{theta}<br>Annee=2015<br>Quantite=%{r}",
           "legendgroup": "Regions=Corse",
           "marker": {
            "color": "#bd3786"
           },
           "name": "Regions=Corse",
           "r": [
            272.8576842105263
           ],
           "showlegend": true,
           "subplot": "polar",
           "theta": [
            "Corse"
           ],
           "type": "barpolar"
          },
          {
           "hoverlabel": {
            "namelength": 0
           },
           "hovertemplate": "Regions=%{theta}<br>Annee=2015<br>Quantite=%{r}",
           "legendgroup": "Regions=Grand Est",
           "marker": {
            "color": "#9c179e"
           },
           "name": "Regions=Grand Est",
           "r": [
            855.4874011497715
           ],
           "showlegend": true,
           "subplot": "polar",
           "theta": [
            "Grand Est"
           ],
           "type": "barpolar"
          },
          {
           "hoverlabel": {
            "namelength": 0
           },
           "hovertemplate": "Regions=%{theta}<br>Annee=2015<br>Quantite=%{r}",
           "legendgroup": "Regions=Hauts-de-France",
           "marker": {
            "color": "#7201a8"
           },
           "name": "Regions=Hauts-de-France",
           "r": [
            999.2707282827719
           ],
           "showlegend": true,
           "subplot": "polar",
           "theta": [
            "Hauts-de-France"
           ],
           "type": "barpolar"
          },
          {
           "hoverlabel": {
            "namelength": 0
           },
           "hovertemplate": "Regions=%{theta}<br>Annee=2015<br>Quantite=%{r}",
           "legendgroup": "Regions=Normandie",
           "marker": {
            "color": "#46039f"
           },
           "name": "Regions=Normandie",
           "r": [
            1221.4341452293593
           ],
           "showlegend": true,
           "subplot": "polar",
           "theta": [
            "Normandie"
           ],
           "type": "barpolar"
          },
          {
           "hoverlabel": {
            "namelength": 0
           },
           "hovertemplate": "Regions=%{theta}<br>Annee=2015<br>Quantite=%{r}",
           "legendgroup": "Regions=Nouvelle-Aquitaine",
           "marker": {
            "color": "#0d0887"
           },
           "name": "Regions=Nouvelle-Aquitaine",
           "r": [
            571.0404846428571
           ],
           "showlegend": true,
           "subplot": "polar",
           "theta": [
            "Nouvelle-Aquitaine"
           ],
           "type": "barpolar"
          },
          {
           "hoverlabel": {
            "namelength": 0
           },
           "hovertemplate": "Regions=%{theta}<br>Annee=2015<br>Quantite=%{r}",
           "legendgroup": "Regions=Occitanie",
           "marker": {
            "color": "#fdca26"
           },
           "name": "Regions=Occitanie",
           "r": [
            899.8960164105047
           ],
           "showlegend": true,
           "subplot": "polar",
           "theta": [
            "Occitanie"
           ],
           "type": "barpolar"
          },
          {
           "hoverlabel": {
            "namelength": 0
           },
           "hovertemplate": "Regions=%{theta}<br>Annee=2015<br>Quantite=%{r}",
           "legendgroup": "Regions=Pays de la Loire",
           "marker": {
            "color": "#fb9f3a"
           },
           "name": "Regions=Pays de la Loire",
           "r": [
            369.48559914028755
           ],
           "showlegend": true,
           "subplot": "polar",
           "theta": [
            "Pays de la Loire"
           ],
           "type": "barpolar"
          },
          {
           "hoverlabel": {
            "namelength": 0
           },
           "hovertemplate": "Regions=%{theta}<br>Annee=2015<br>Quantite=%{r}",
           "legendgroup": "Regions=Provence-Alpes-Côte d'Azur",
           "marker": {
            "color": "#ed7953"
           },
           "name": "Regions=Provence-Alpes-Côte d'Azur",
           "r": [
            881.7149206180899
           ],
           "showlegend": true,
           "subplot": "polar",
           "theta": [
            "Provence-Alpes-Côte d'Azur"
           ],
           "type": "barpolar"
          },
          {
           "hoverlabel": {
            "namelength": 0
           },
           "hovertemplate": "Regions=%{theta}<br>Annee=2015<br>Quantite=%{r}",
           "legendgroup": "Regions=Île-de-France",
           "marker": {
            "color": "#d8576b"
           },
           "name": "Regions=Île-de-France",
           "r": [
            903.4034384810128
           ],
           "showlegend": true,
           "subplot": "polar",
           "theta": [
            "Île-de-France"
           ],
           "type": "barpolar"
          }
         ],
         "name": "2015"
        },
        {
         "data": [
          {
           "hoverlabel": {
            "namelength": 0
           },
           "hovertemplate": "Regions=%{theta}<br>Annee=2016<br>Quantite=%{r}",
           "legendgroup": "Regions=Auvergne-Rhône-Alpes",
           "marker": {
            "color": "#fdca26"
           },
           "name": "Regions=Auvergne-Rhône-Alpes",
           "r": [
            749.9643301193488
           ],
           "showlegend": true,
           "subplot": "polar",
           "theta": [
            "Auvergne-Rhône-Alpes"
           ],
           "type": "barpolar"
          },
          {
           "hoverlabel": {
            "namelength": 0
           },
           "hovertemplate": "Regions=%{theta}<br>Annee=2016<br>Quantite=%{r}",
           "legendgroup": "Regions=Bourgogne-Franche-Comté",
           "marker": {
            "color": "#fb9f3a"
           },
           "name": "Regions=Bourgogne-Franche-Comté",
           "r": [
            515.7769202325578
           ],
           "showlegend": true,
           "subplot": "polar",
           "theta": [
            "Bourgogne-Franche-Comté"
           ],
           "type": "barpolar"
          },
          {
           "hoverlabel": {
            "namelength": 0
           },
           "hovertemplate": "Regions=%{theta}<br>Annee=2016<br>Quantite=%{r}",
           "legendgroup": "Regions=Bretagne",
           "marker": {
            "color": "#ed7953"
           },
           "name": "Regions=Bretagne",
           "r": [
            537.4597867007677
           ],
           "showlegend": true,
           "subplot": "polar",
           "theta": [
            "Bretagne"
           ],
           "type": "barpolar"
          },
          {
           "hoverlabel": {
            "namelength": 0
           },
           "hovertemplate": "Regions=%{theta}<br>Annee=2016<br>Quantite=%{r}",
           "legendgroup": "Regions=Centre-Val de Loire",
           "marker": {
            "color": "#d8576b"
           },
           "name": "Regions=Centre-Val de Loire",
           "r": [
            623.2381444071149
           ],
           "showlegend": true,
           "subplot": "polar",
           "theta": [
            "Centre-Val de Loire"
           ],
           "type": "barpolar"
          },
          {
           "hoverlabel": {
            "namelength": 0
           },
           "hovertemplate": "Regions=%{theta}<br>Annee=2016<br>Quantite=%{r}",
           "legendgroup": "Regions=Corse",
           "marker": {
            "color": "#bd3786"
           },
           "name": "Regions=Corse",
           "r": [
            218.8599000000001
           ],
           "showlegend": true,
           "subplot": "polar",
           "theta": [
            "Corse"
           ],
           "type": "barpolar"
          },
          {
           "hoverlabel": {
            "namelength": 0
           },
           "hovertemplate": "Regions=%{theta}<br>Annee=2016<br>Quantite=%{r}",
           "legendgroup": "Regions=Grand Est",
           "marker": {
            "color": "#9c179e"
           },
           "name": "Regions=Grand Est",
           "r": [
            892.9499954092535
           ],
           "showlegend": true,
           "subplot": "polar",
           "theta": [
            "Grand Est"
           ],
           "type": "barpolar"
          },
          {
           "hoverlabel": {
            "namelength": 0
           },
           "hovertemplate": "Regions=%{theta}<br>Annee=2016<br>Quantite=%{r}",
           "legendgroup": "Regions=Hauts-de-France",
           "marker": {
            "color": "#7201a8"
           },
           "name": "Regions=Hauts-de-France",
           "r": [
            1041.0419124321254
           ],
           "showlegend": true,
           "subplot": "polar",
           "theta": [
            "Hauts-de-France"
           ],
           "type": "barpolar"
          },
          {
           "hoverlabel": {
            "namelength": 0
           },
           "hovertemplate": "Regions=%{theta}<br>Annee=2016<br>Quantite=%{r}",
           "legendgroup": "Regions=Normandie",
           "marker": {
            "color": "#46039f"
           },
           "name": "Regions=Normandie",
           "r": [
            1005.9343738773233
           ],
           "showlegend": true,
           "subplot": "polar",
           "theta": [
            "Normandie"
           ],
           "type": "barpolar"
          },
          {
           "hoverlabel": {
            "namelength": 0
           },
           "hovertemplate": "Regions=%{theta}<br>Annee=2016<br>Quantite=%{r}",
           "legendgroup": "Regions=Nouvelle-Aquitaine",
           "marker": {
            "color": "#0d0887"
           },
           "name": "Regions=Nouvelle-Aquitaine",
           "r": [
            570.6945961583444
           ],
           "showlegend": true,
           "subplot": "polar",
           "theta": [
            "Nouvelle-Aquitaine"
           ],
           "type": "barpolar"
          },
          {
           "hoverlabel": {
            "namelength": 0
           },
           "hovertemplate": "Regions=%{theta}<br>Annee=2016<br>Quantite=%{r}",
           "legendgroup": "Regions=Occitanie",
           "marker": {
            "color": "#fdca26"
           },
           "name": "Regions=Occitanie",
           "r": [
            926.3309057954549
           ],
           "showlegend": true,
           "subplot": "polar",
           "theta": [
            "Occitanie"
           ],
           "type": "barpolar"
          },
          {
           "hoverlabel": {
            "namelength": 0
           },
           "hovertemplate": "Regions=%{theta}<br>Annee=2016<br>Quantite=%{r}",
           "legendgroup": "Regions=Pays de la Loire",
           "marker": {
            "color": "#fb9f3a"
           },
           "name": "Regions=Pays de la Loire",
           "r": [
            413.52870851145053
           ],
           "showlegend": true,
           "subplot": "polar",
           "theta": [
            "Pays de la Loire"
           ],
           "type": "barpolar"
          },
          {
           "hoverlabel": {
            "namelength": 0
           },
           "hovertemplate": "Regions=%{theta}<br>Annee=2016<br>Quantite=%{r}",
           "legendgroup": "Regions=Provence-Alpes-Côte d'Azur",
           "marker": {
            "color": "#ed7953"
           },
           "name": "Regions=Provence-Alpes-Côte d'Azur",
           "r": [
            884.8656060054053
           ],
           "showlegend": true,
           "subplot": "polar",
           "theta": [
            "Provence-Alpes-Côte d'Azur"
           ],
           "type": "barpolar"
          },
          {
           "hoverlabel": {
            "namelength": 0
           },
           "hovertemplate": "Regions=%{theta}<br>Annee=2016<br>Quantite=%{r}",
           "legendgroup": "Regions=Île-de-France",
           "marker": {
            "color": "#d8576b"
           },
           "name": "Regions=Île-de-France",
           "r": [
            1003.4452608210189
           ],
           "showlegend": true,
           "subplot": "polar",
           "theta": [
            "Île-de-France"
           ],
           "type": "barpolar"
          }
         ],
         "name": "2016"
        },
        {
         "data": [
          {
           "hoverlabel": {
            "namelength": 0
           },
           "hovertemplate": "Regions=%{theta}<br>Annee=2017<br>Quantite=%{r}",
           "legendgroup": "Regions=Auvergne-Rhône-Alpes",
           "marker": {
            "color": "#fdca26"
           },
           "name": "Regions=Auvergne-Rhône-Alpes",
           "r": [
            787.15310478938
           ],
           "showlegend": true,
           "subplot": "polar",
           "theta": [
            "Auvergne-Rhône-Alpes"
           ],
           "type": "barpolar"
          },
          {
           "hoverlabel": {
            "namelength": 0
           },
           "hovertemplate": "Regions=%{theta}<br>Annee=2017<br>Quantite=%{r}",
           "legendgroup": "Regions=Bourgogne-Franche-Comté",
           "marker": {
            "color": "#fb9f3a"
           },
           "name": "Regions=Bourgogne-Franche-Comté",
           "r": [
            553.861117977012
           ],
           "showlegend": true,
           "subplot": "polar",
           "theta": [
            "Bourgogne-Franche-Comté"
           ],
           "type": "barpolar"
          },
          {
           "hoverlabel": {
            "namelength": 0
           },
           "hovertemplate": "Regions=%{theta}<br>Annee=2017<br>Quantite=%{r}",
           "legendgroup": "Regions=Bretagne",
           "marker": {
            "color": "#ed7953"
           },
           "name": "Regions=Bretagne",
           "r": [
            1327.0769803414637
           ],
           "showlegend": true,
           "subplot": "polar",
           "theta": [
            "Bretagne"
           ],
           "type": "barpolar"
          },
          {
           "hoverlabel": {
            "namelength": 0
           },
           "hovertemplate": "Regions=%{theta}<br>Annee=2017<br>Quantite=%{r}",
           "legendgroup": "Regions=Centre-Val de Loire",
           "marker": {
            "color": "#d8576b"
           },
           "name": "Regions=Centre-Val de Loire",
           "r": [
            420.7606804312116
           ],
           "showlegend": true,
           "subplot": "polar",
           "theta": [
            "Centre-Val de Loire"
           ],
           "type": "barpolar"
          },
          {
           "hoverlabel": {
            "namelength": 0
           },
           "hovertemplate": "Regions=%{theta}<br>Annee=2017<br>Quantite=%{r}",
           "legendgroup": "Regions=Corse",
           "marker": {
            "color": "#bd3786"
           },
           "name": "Regions=Corse",
           "r": [
            221.44810000000007
           ],
           "showlegend": true,
           "subplot": "polar",
           "theta": [
            "Corse"
           ],
           "type": "barpolar"
          },
          {
           "hoverlabel": {
            "namelength": 0
           },
           "hovertemplate": "Regions=%{theta}<br>Annee=2017<br>Quantite=%{r}",
           "legendgroup": "Regions=Grand Est",
           "marker": {
            "color": "#9c179e"
           },
           "name": "Regions=Grand Est",
           "r": [
            921.7087578378386
           ],
           "showlegend": true,
           "subplot": "polar",
           "theta": [
            "Grand Est"
           ],
           "type": "barpolar"
          },
          {
           "hoverlabel": {
            "namelength": 0
           },
           "hovertemplate": "Regions=%{theta}<br>Annee=2017<br>Quantite=%{r}",
           "legendgroup": "Regions=Hauts-de-France",
           "marker": {
            "color": "#7201a8"
           },
           "name": "Regions=Hauts-de-France",
           "r": [
            1034.196213670746
           ],
           "showlegend": true,
           "subplot": "polar",
           "theta": [
            "Hauts-de-France"
           ],
           "type": "barpolar"
          },
          {
           "hoverlabel": {
            "namelength": 0
           },
           "hovertemplate": "Regions=%{theta}<br>Annee=2017<br>Quantite=%{r}",
           "legendgroup": "Regions=Normandie",
           "marker": {
            "color": "#46039f"
           },
           "name": "Regions=Normandie",
           "r": [
            958.8008897841742
           ],
           "showlegend": true,
           "subplot": "polar",
           "theta": [
            "Normandie"
           ],
           "type": "barpolar"
          },
          {
           "hoverlabel": {
            "namelength": 0
           },
           "hovertemplate": "Regions=%{theta}<br>Annee=2017<br>Quantite=%{r}",
           "legendgroup": "Regions=Nouvelle-Aquitaine",
           "marker": {
            "color": "#0d0887"
           },
           "name": "Regions=Nouvelle-Aquitaine",
           "r": [
            569.3514098312224
           ],
           "showlegend": true,
           "subplot": "polar",
           "theta": [
            "Nouvelle-Aquitaine"
           ],
           "type": "barpolar"
          },
          {
           "hoverlabel": {
            "namelength": 0
           },
           "hovertemplate": "Regions=%{theta}<br>Annee=2017<br>Quantite=%{r}",
           "legendgroup": "Regions=Occitanie",
           "marker": {
            "color": "#fdca26"
           },
           "name": "Regions=Occitanie",
           "r": [
            884.5616160451976
           ],
           "showlegend": true,
           "subplot": "polar",
           "theta": [
            "Occitanie"
           ],
           "type": "barpolar"
          },
          {
           "hoverlabel": {
            "namelength": 0
           },
           "hovertemplate": "Regions=%{theta}<br>Annee=2017<br>Quantite=%{r}",
           "legendgroup": "Regions=Pays de la Loire",
           "marker": {
            "color": "#fb9f3a"
           },
           "name": "Regions=Pays de la Loire",
           "r": [
            496.9146546448088
           ],
           "showlegend": true,
           "subplot": "polar",
           "theta": [
            "Pays de la Loire"
           ],
           "type": "barpolar"
          },
          {
           "hoverlabel": {
            "namelength": 0
           },
           "hovertemplate": "Regions=%{theta}<br>Annee=2017<br>Quantite=%{r}",
           "legendgroup": "Regions=Provence-Alpes-Côte d'Azur",
           "marker": {
            "color": "#ed7953"
           },
           "name": "Regions=Provence-Alpes-Côte d'Azur",
           "r": [
            6147.661256041129
           ],
           "showlegend": true,
           "subplot": "polar",
           "theta": [
            "Provence-Alpes-Côte d'Azur"
           ],
           "type": "barpolar"
          },
          {
           "hoverlabel": {
            "namelength": 0
           },
           "hovertemplate": "Regions=%{theta}<br>Annee=2017<br>Quantite=%{r}",
           "legendgroup": "Regions=Île-de-France",
           "marker": {
            "color": "#d8576b"
           },
           "name": "Regions=Île-de-France",
           "r": [
            944.3446922843286
           ],
           "showlegend": true,
           "subplot": "polar",
           "theta": [
            "Île-de-France"
           ],
           "type": "barpolar"
          }
         ],
         "name": "2017"
        }
       ],
       "layout": {
        "barmode": "relative",
        "height": 600,
        "legend": {
         "tracegroupgap": 0
        },
        "margin": {
         "t": 60
        },
        "polar": {
         "angularaxis": {
          "categoryarray": [
           "Auvergne-Rhône-Alpes",
           "Bourgogne-Franche-Comté",
           "Bretagne",
           "Centre-Val de Loire",
           "Corse",
           "Grand Est",
           "Hauts-de-France",
           "Normandie",
           "Nouvelle-Aquitaine",
           "Occitanie",
           "Pays de la Loire",
           "Provence-Alpes-Côte d'Azur",
           "Île-de-France"
          ],
          "categoryorder": "array",
          "direction": "clockwise",
          "rotation": 90
         },
         "domain": {
          "x": [
           0,
           0.98
          ],
          "y": [
           0,
           1
          ]
         }
        },
        "showlegend": false,
        "sliders": [
         {
          "active": 0,
          "currentvalue": {
           "prefix": "Annee="
          },
          "len": 0.9,
          "pad": {
           "b": 10,
           "t": 60
          },
          "steps": [
           {
            "args": [
             [
              "2003"
             ],
             {
              "frame": {
               "duration": 0,
               "redraw": true
              },
              "fromcurrent": true,
              "mode": "immediate",
              "transition": {
               "duration": 0,
               "easing": "linear"
              }
             }
            ],
            "label": "2003",
            "method": "animate"
           },
           {
            "args": [
             [
              "2004"
             ],
             {
              "frame": {
               "duration": 0,
               "redraw": true
              },
              "fromcurrent": true,
              "mode": "immediate",
              "transition": {
               "duration": 0,
               "easing": "linear"
              }
             }
            ],
            "label": "2004",
            "method": "animate"
           },
           {
            "args": [
             [
              "2005"
             ],
             {
              "frame": {
               "duration": 0,
               "redraw": true
              },
              "fromcurrent": true,
              "mode": "immediate",
              "transition": {
               "duration": 0,
               "easing": "linear"
              }
             }
            ],
            "label": "2005",
            "method": "animate"
           },
           {
            "args": [
             [
              "2006"
             ],
             {
              "frame": {
               "duration": 0,
               "redraw": true
              },
              "fromcurrent": true,
              "mode": "immediate",
              "transition": {
               "duration": 0,
               "easing": "linear"
              }
             }
            ],
            "label": "2006",
            "method": "animate"
           },
           {
            "args": [
             [
              "2007"
             ],
             {
              "frame": {
               "duration": 0,
               "redraw": true
              },
              "fromcurrent": true,
              "mode": "immediate",
              "transition": {
               "duration": 0,
               "easing": "linear"
              }
             }
            ],
            "label": "2007",
            "method": "animate"
           },
           {
            "args": [
             [
              "2008"
             ],
             {
              "frame": {
               "duration": 0,
               "redraw": true
              },
              "fromcurrent": true,
              "mode": "immediate",
              "transition": {
               "duration": 0,
               "easing": "linear"
              }
             }
            ],
            "label": "2008",
            "method": "animate"
           },
           {
            "args": [
             [
              "2009"
             ],
             {
              "frame": {
               "duration": 0,
               "redraw": true
              },
              "fromcurrent": true,
              "mode": "immediate",
              "transition": {
               "duration": 0,
               "easing": "linear"
              }
             }
            ],
            "label": "2009",
            "method": "animate"
           },
           {
            "args": [
             [
              "2010"
             ],
             {
              "frame": {
               "duration": 0,
               "redraw": true
              },
              "fromcurrent": true,
              "mode": "immediate",
              "transition": {
               "duration": 0,
               "easing": "linear"
              }
             }
            ],
            "label": "2010",
            "method": "animate"
           },
           {
            "args": [
             [
              "2011"
             ],
             {
              "frame": {
               "duration": 0,
               "redraw": true
              },
              "fromcurrent": true,
              "mode": "immediate",
              "transition": {
               "duration": 0,
               "easing": "linear"
              }
             }
            ],
            "label": "2011",
            "method": "animate"
           },
           {
            "args": [
             [
              "2012"
             ],
             {
              "frame": {
               "duration": 0,
               "redraw": true
              },
              "fromcurrent": true,
              "mode": "immediate",
              "transition": {
               "duration": 0,
               "easing": "linear"
              }
             }
            ],
            "label": "2012",
            "method": "animate"
           },
           {
            "args": [
             [
              "2013"
             ],
             {
              "frame": {
               "duration": 0,
               "redraw": true
              },
              "fromcurrent": true,
              "mode": "immediate",
              "transition": {
               "duration": 0,
               "easing": "linear"
              }
             }
            ],
            "label": "2013",
            "method": "animate"
           },
           {
            "args": [
             [
              "2014"
             ],
             {
              "frame": {
               "duration": 0,
               "redraw": true
              },
              "fromcurrent": true,
              "mode": "immediate",
              "transition": {
               "duration": 0,
               "easing": "linear"
              }
             }
            ],
            "label": "2014",
            "method": "animate"
           },
           {
            "args": [
             [
              "2015"
             ],
             {
              "frame": {
               "duration": 0,
               "redraw": true
              },
              "fromcurrent": true,
              "mode": "immediate",
              "transition": {
               "duration": 0,
               "easing": "linear"
              }
             }
            ],
            "label": "2015",
            "method": "animate"
           },
           {
            "args": [
             [
              "2016"
             ],
             {
              "frame": {
               "duration": 0,
               "redraw": true
              },
              "fromcurrent": true,
              "mode": "immediate",
              "transition": {
               "duration": 0,
               "easing": "linear"
              }
             }
            ],
            "label": "2016",
            "method": "animate"
           },
           {
            "args": [
             [
              "2017"
             ],
             {
              "frame": {
               "duration": 0,
               "redraw": true
              },
              "fromcurrent": true,
              "mode": "immediate",
              "transition": {
               "duration": 0,
               "easing": "linear"
              }
             }
            ],
            "label": "2017",
            "method": "animate"
           }
          ],
          "x": 0.1,
          "xanchor": "left",
          "y": 0,
          "yanchor": "top"
         }
        ],
        "template": {
         "data": {
          "bar": [
           {
            "error_x": {
             "color": "#f2f5fa"
            },
            "error_y": {
             "color": "#f2f5fa"
            },
            "marker": {
             "line": {
              "color": "rgb(17,17,17)",
              "width": 0.5
             }
            },
            "type": "bar"
           }
          ],
          "barpolar": [
           {
            "marker": {
             "line": {
              "color": "rgb(17,17,17)",
              "width": 0.5
             }
            },
            "type": "barpolar"
           }
          ],
          "carpet": [
           {
            "aaxis": {
             "endlinecolor": "#A2B1C6",
             "gridcolor": "#506784",
             "linecolor": "#506784",
             "minorgridcolor": "#506784",
             "startlinecolor": "#A2B1C6"
            },
            "baxis": {
             "endlinecolor": "#A2B1C6",
             "gridcolor": "#506784",
             "linecolor": "#506784",
             "minorgridcolor": "#506784",
             "startlinecolor": "#A2B1C6"
            },
            "type": "carpet"
           }
          ],
          "choropleth": [
           {
            "colorbar": {
             "outlinewidth": 0,
             "ticks": ""
            },
            "type": "choropleth"
           }
          ],
          "contour": [
           {
            "colorbar": {
             "outlinewidth": 0,
             "ticks": ""
            },
            "colorscale": [
             [
              0,
              "#0d0887"
             ],
             [
              0.1111111111111111,
              "#46039f"
             ],
             [
              0.2222222222222222,
              "#7201a8"
             ],
             [
              0.3333333333333333,
              "#9c179e"
             ],
             [
              0.4444444444444444,
              "#bd3786"
             ],
             [
              0.5555555555555556,
              "#d8576b"
             ],
             [
              0.6666666666666666,
              "#ed7953"
             ],
             [
              0.7777777777777778,
              "#fb9f3a"
             ],
             [
              0.8888888888888888,
              "#fdca26"
             ],
             [
              1,
              "#f0f921"
             ]
            ],
            "type": "contour"
           }
          ],
          "contourcarpet": [
           {
            "colorbar": {
             "outlinewidth": 0,
             "ticks": ""
            },
            "type": "contourcarpet"
           }
          ],
          "heatmap": [
           {
            "colorbar": {
             "outlinewidth": 0,
             "ticks": ""
            },
            "colorscale": [
             [
              0,
              "#0d0887"
             ],
             [
              0.1111111111111111,
              "#46039f"
             ],
             [
              0.2222222222222222,
              "#7201a8"
             ],
             [
              0.3333333333333333,
              "#9c179e"
             ],
             [
              0.4444444444444444,
              "#bd3786"
             ],
             [
              0.5555555555555556,
              "#d8576b"
             ],
             [
              0.6666666666666666,
              "#ed7953"
             ],
             [
              0.7777777777777778,
              "#fb9f3a"
             ],
             [
              0.8888888888888888,
              "#fdca26"
             ],
             [
              1,
              "#f0f921"
             ]
            ],
            "type": "heatmap"
           }
          ],
          "heatmapgl": [
           {
            "colorbar": {
             "outlinewidth": 0,
             "ticks": ""
            },
            "colorscale": [
             [
              0,
              "#0d0887"
             ],
             [
              0.1111111111111111,
              "#46039f"
             ],
             [
              0.2222222222222222,
              "#7201a8"
             ],
             [
              0.3333333333333333,
              "#9c179e"
             ],
             [
              0.4444444444444444,
              "#bd3786"
             ],
             [
              0.5555555555555556,
              "#d8576b"
             ],
             [
              0.6666666666666666,
              "#ed7953"
             ],
             [
              0.7777777777777778,
              "#fb9f3a"
             ],
             [
              0.8888888888888888,
              "#fdca26"
             ],
             [
              1,
              "#f0f921"
             ]
            ],
            "type": "heatmapgl"
           }
          ],
          "histogram": [
           {
            "marker": {
             "colorbar": {
              "outlinewidth": 0,
              "ticks": ""
             }
            },
            "type": "histogram"
           }
          ],
          "histogram2d": [
           {
            "colorbar": {
             "outlinewidth": 0,
             "ticks": ""
            },
            "colorscale": [
             [
              0,
              "#0d0887"
             ],
             [
              0.1111111111111111,
              "#46039f"
             ],
             [
              0.2222222222222222,
              "#7201a8"
             ],
             [
              0.3333333333333333,
              "#9c179e"
             ],
             [
              0.4444444444444444,
              "#bd3786"
             ],
             [
              0.5555555555555556,
              "#d8576b"
             ],
             [
              0.6666666666666666,
              "#ed7953"
             ],
             [
              0.7777777777777778,
              "#fb9f3a"
             ],
             [
              0.8888888888888888,
              "#fdca26"
             ],
             [
              1,
              "#f0f921"
             ]
            ],
            "type": "histogram2d"
           }
          ],
          "histogram2dcontour": [
           {
            "colorbar": {
             "outlinewidth": 0,
             "ticks": ""
            },
            "colorscale": [
             [
              0,
              "#0d0887"
             ],
             [
              0.1111111111111111,
              "#46039f"
             ],
             [
              0.2222222222222222,
              "#7201a8"
             ],
             [
              0.3333333333333333,
              "#9c179e"
             ],
             [
              0.4444444444444444,
              "#bd3786"
             ],
             [
              0.5555555555555556,
              "#d8576b"
             ],
             [
              0.6666666666666666,
              "#ed7953"
             ],
             [
              0.7777777777777778,
              "#fb9f3a"
             ],
             [
              0.8888888888888888,
              "#fdca26"
             ],
             [
              1,
              "#f0f921"
             ]
            ],
            "type": "histogram2dcontour"
           }
          ],
          "mesh3d": [
           {
            "colorbar": {
             "outlinewidth": 0,
             "ticks": ""
            },
            "type": "mesh3d"
           }
          ],
          "parcoords": [
           {
            "line": {
             "colorbar": {
              "outlinewidth": 0,
              "ticks": ""
             }
            },
            "type": "parcoords"
           }
          ],
          "scatter": [
           {
            "marker": {
             "line": {
              "color": "#283442"
             }
            },
            "type": "scatter"
           }
          ],
          "scatter3d": [
           {
            "line": {
             "colorbar": {
              "outlinewidth": 0,
              "ticks": ""
             }
            },
            "marker": {
             "colorbar": {
              "outlinewidth": 0,
              "ticks": ""
             }
            },
            "type": "scatter3d"
           }
          ],
          "scattercarpet": [
           {
            "marker": {
             "colorbar": {
              "outlinewidth": 0,
              "ticks": ""
             }
            },
            "type": "scattercarpet"
           }
          ],
          "scattergeo": [
           {
            "marker": {
             "colorbar": {
              "outlinewidth": 0,
              "ticks": ""
             }
            },
            "type": "scattergeo"
           }
          ],
          "scattergl": [
           {
            "marker": {
             "line": {
              "color": "#283442"
             }
            },
            "type": "scattergl"
           }
          ],
          "scattermapbox": [
           {
            "marker": {
             "colorbar": {
              "outlinewidth": 0,
              "ticks": ""
             }
            },
            "type": "scattermapbox"
           }
          ],
          "scatterpolar": [
           {
            "marker": {
             "colorbar": {
              "outlinewidth": 0,
              "ticks": ""
             }
            },
            "type": "scatterpolar"
           }
          ],
          "scatterpolargl": [
           {
            "marker": {
             "colorbar": {
              "outlinewidth": 0,
              "ticks": ""
             }
            },
            "type": "scatterpolargl"
           }
          ],
          "scatterternary": [
           {
            "marker": {
             "colorbar": {
              "outlinewidth": 0,
              "ticks": ""
             }
            },
            "type": "scatterternary"
           }
          ],
          "surface": [
           {
            "colorbar": {
             "outlinewidth": 0,
             "ticks": ""
            },
            "colorscale": [
             [
              0,
              "#0d0887"
             ],
             [
              0.1111111111111111,
              "#46039f"
             ],
             [
              0.2222222222222222,
              "#7201a8"
             ],
             [
              0.3333333333333333,
              "#9c179e"
             ],
             [
              0.4444444444444444,
              "#bd3786"
             ],
             [
              0.5555555555555556,
              "#d8576b"
             ],
             [
              0.6666666666666666,
              "#ed7953"
             ],
             [
              0.7777777777777778,
              "#fb9f3a"
             ],
             [
              0.8888888888888888,
              "#fdca26"
             ],
             [
              1,
              "#f0f921"
             ]
            ],
            "type": "surface"
           }
          ],
          "table": [
           {
            "cells": {
             "fill": {
              "color": "#506784"
             },
             "line": {
              "color": "rgb(17,17,17)"
             }
            },
            "header": {
             "fill": {
              "color": "#2a3f5f"
             },
             "line": {
              "color": "rgb(17,17,17)"
             }
            },
            "type": "table"
           }
          ]
         },
         "layout": {
          "annotationdefaults": {
           "arrowcolor": "#f2f5fa",
           "arrowhead": 0,
           "arrowwidth": 1
          },
          "colorscale": {
           "diverging": [
            [
             0,
             "#8e0152"
            ],
            [
             0.1,
             "#c51b7d"
            ],
            [
             0.2,
             "#de77ae"
            ],
            [
             0.3,
             "#f1b6da"
            ],
            [
             0.4,
             "#fde0ef"
            ],
            [
             0.5,
             "#f7f7f7"
            ],
            [
             0.6,
             "#e6f5d0"
            ],
            [
             0.7,
             "#b8e186"
            ],
            [
             0.8,
             "#7fbc41"
            ],
            [
             0.9,
             "#4d9221"
            ],
            [
             1,
             "#276419"
            ]
           ],
           "sequential": [
            [
             0,
             "#0d0887"
            ],
            [
             0.1111111111111111,
             "#46039f"
            ],
            [
             0.2222222222222222,
             "#7201a8"
            ],
            [
             0.3333333333333333,
             "#9c179e"
            ],
            [
             0.4444444444444444,
             "#bd3786"
            ],
            [
             0.5555555555555556,
             "#d8576b"
            ],
            [
             0.6666666666666666,
             "#ed7953"
            ],
            [
             0.7777777777777778,
             "#fb9f3a"
            ],
            [
             0.8888888888888888,
             "#fdca26"
            ],
            [
             1,
             "#f0f921"
            ]
           ],
           "sequentialminus": [
            [
             0,
             "#0d0887"
            ],
            [
             0.1111111111111111,
             "#46039f"
            ],
            [
             0.2222222222222222,
             "#7201a8"
            ],
            [
             0.3333333333333333,
             "#9c179e"
            ],
            [
             0.4444444444444444,
             "#bd3786"
            ],
            [
             0.5555555555555556,
             "#d8576b"
            ],
            [
             0.6666666666666666,
             "#ed7953"
            ],
            [
             0.7777777777777778,
             "#fb9f3a"
            ],
            [
             0.8888888888888888,
             "#fdca26"
            ],
            [
             1,
             "#f0f921"
            ]
           ]
          },
          "colorway": [
           "#636efa",
           "#EF553B",
           "#00cc96",
           "#ab63fa",
           "#FFA15A",
           "#19d3f3",
           "#FF6692",
           "#B6E880",
           "#FF97FF",
           "#FECB52"
          ],
          "font": {
           "color": "#f2f5fa"
          },
          "geo": {
           "bgcolor": "rgb(17,17,17)",
           "lakecolor": "rgb(17,17,17)",
           "landcolor": "rgb(17,17,17)",
           "showlakes": true,
           "showland": true,
           "subunitcolor": "#506784"
          },
          "hoverlabel": {
           "align": "left"
          },
          "hovermode": "closest",
          "mapbox": {
           "style": "dark"
          },
          "paper_bgcolor": "rgb(17,17,17)",
          "plot_bgcolor": "rgb(17,17,17)",
          "polar": {
           "angularaxis": {
            "gridcolor": "#506784",
            "linecolor": "#506784",
            "ticks": ""
           },
           "bgcolor": "rgb(17,17,17)",
           "radialaxis": {
            "gridcolor": "#506784",
            "linecolor": "#506784",
            "ticks": ""
           }
          },
          "scene": {
           "xaxis": {
            "backgroundcolor": "rgb(17,17,17)",
            "gridcolor": "#506784",
            "gridwidth": 2,
            "linecolor": "#506784",
            "showbackground": true,
            "ticks": "",
            "zerolinecolor": "#C8D4E3"
           },
           "yaxis": {
            "backgroundcolor": "rgb(17,17,17)",
            "gridcolor": "#506784",
            "gridwidth": 2,
            "linecolor": "#506784",
            "showbackground": true,
            "ticks": "",
            "zerolinecolor": "#C8D4E3"
           },
           "zaxis": {
            "backgroundcolor": "rgb(17,17,17)",
            "gridcolor": "#506784",
            "gridwidth": 2,
            "linecolor": "#506784",
            "showbackground": true,
            "ticks": "",
            "zerolinecolor": "#C8D4E3"
           }
          },
          "shapedefaults": {
           "line": {
            "color": "#f2f5fa"
           }
          },
          "sliderdefaults": {
           "bgcolor": "#C8D4E3",
           "bordercolor": "rgb(17,17,17)",
           "borderwidth": 1,
           "tickwidth": 0
          },
          "ternary": {
           "aaxis": {
            "gridcolor": "#506784",
            "linecolor": "#506784",
            "ticks": ""
           },
           "baxis": {
            "gridcolor": "#506784",
            "linecolor": "#506784",
            "ticks": ""
           },
           "bgcolor": "rgb(17,17,17)",
           "caxis": {
            "gridcolor": "#506784",
            "linecolor": "#506784",
            "ticks": ""
           }
          },
          "title": {
           "x": 0.05
          },
          "updatemenudefaults": {
           "bgcolor": "#506784",
           "borderwidth": 0
          },
          "xaxis": {
           "automargin": true,
           "gridcolor": "#283442",
           "linecolor": "#506784",
           "ticks": "",
           "zerolinecolor": "#283442",
           "zerolinewidth": 2
          },
          "yaxis": {
           "automargin": true,
           "gridcolor": "#283442",
           "linecolor": "#506784",
           "ticks": "",
           "zerolinecolor": "#283442",
           "zerolinewidth": 2
          }
         }
        },
        "updatemenus": [
         {
          "buttons": [
           {
            "args": [
             null,
             {
              "frame": {
               "duration": 500,
               "redraw": true
              },
              "fromcurrent": true,
              "mode": "immediate",
              "transition": {
               "duration": 500,
               "easing": "linear"
              }
             }
            ],
            "label": "&#9654;",
            "method": "animate"
           },
           {
            "args": [
             [
              null
             ],
             {
              "frame": {
               "duration": 0,
               "redraw": true
              },
              "fromcurrent": true,
              "mode": "immediate",
              "transition": {
               "duration": 0,
               "easing": "linear"
              }
             }
            ],
            "label": "&#9724;",
            "method": "animate"
           }
          ],
          "direction": "left",
          "pad": {
           "r": 10,
           "t": 70
          },
          "showactive": false,
          "type": "buttons",
          "x": 0.1,
          "xanchor": "right",
          "y": 0,
          "yanchor": "top"
         }
        ]
       }
      },
      "text/html": [
       "<div>\n",
       "        \n",
       "        \n",
       "            <div id=\"35de666e-0dea-408a-95c0-94a9d888dd9e\" class=\"plotly-graph-div\" style=\"height:600px; width:100%;\"></div>\n",
       "            <script type=\"text/javascript\">\n",
       "                require([\"plotly\"], function(Plotly) {\n",
       "                    window.PLOTLYENV=window.PLOTLYENV || {};\n",
       "                    \n",
       "                if (document.getElementById(\"35de666e-0dea-408a-95c0-94a9d888dd9e\")) {\n",
       "                    Plotly.newPlot(\n",
       "                        '35de666e-0dea-408a-95c0-94a9d888dd9e',\n",
       "                        [{\"hoverlabel\": {\"namelength\": 0}, \"hovertemplate\": \"Regions=%{theta}<br>Annee=2003<br>Quantite=%{r}\", \"legendgroup\": \"Regions=Auvergne-Rh\\u00f4ne-Alpes\", \"marker\": {\"color\": \"#fdca26\"}, \"name\": \"Regions=Auvergne-Rh\\u00f4ne-Alpes\", \"r\": [1396.6790322834638], \"showlegend\": true, \"subplot\": \"polar\", \"theta\": [\"Auvergne-Rh\\u00f4ne-Alpes\"], \"type\": \"barpolar\"}, {\"hoverlabel\": {\"namelength\": 0}, \"hovertemplate\": \"Regions=%{theta}<br>Annee=2003<br>Quantite=%{r}\", \"legendgroup\": \"Regions=Bourgogne-Franche-Comt\\u00e9\", \"marker\": {\"color\": \"#fb9f3a\"}, \"name\": \"Regions=Bourgogne-Franche-Comt\\u00e9\", \"r\": [535.2607209302327], \"showlegend\": true, \"subplot\": \"polar\", \"theta\": [\"Bourgogne-Franche-Comt\\u00e9\"], \"type\": \"barpolar\"}, {\"hoverlabel\": {\"namelength\": 0}, \"hovertemplate\": \"Regions=%{theta}<br>Annee=2003<br>Quantite=%{r}\", \"legendgroup\": \"Regions=Bretagne\", \"marker\": {\"color\": \"#ed7953\"}, \"name\": \"Regions=Bretagne\", \"r\": [973.3329014084509], \"showlegend\": true, \"subplot\": \"polar\", \"theta\": [\"Bretagne\"], \"type\": \"barpolar\"}, {\"hoverlabel\": {\"namelength\": 0}, \"hovertemplate\": \"Regions=%{theta}<br>Annee=2003<br>Quantite=%{r}\", \"legendgroup\": \"Regions=Centre-Val de Loire\", \"marker\": {\"color\": \"#d8576b\"}, \"name\": \"Regions=Centre-Val de Loire\", \"r\": [597.5886626506024], \"showlegend\": true, \"subplot\": \"polar\", \"theta\": [\"Centre-Val de Loire\"], \"type\": \"barpolar\"}, {\"hoverlabel\": {\"namelength\": 0}, \"hovertemplate\": \"Regions=%{theta}<br>Annee=2003<br>Quantite=%{r}\", \"legendgroup\": \"Regions=Corse\", \"marker\": {\"color\": \"#bd3786\"}, \"name\": \"Regions=Corse\", \"r\": [352.29099999999994], \"showlegend\": true, \"subplot\": \"polar\", \"theta\": [\"Corse\"], \"type\": \"barpolar\"}, {\"hoverlabel\": {\"namelength\": 0}, \"hovertemplate\": \"Regions=%{theta}<br>Annee=2003<br>Quantite=%{r}\", \"legendgroup\": \"Regions=Grand Est\", \"marker\": {\"color\": \"#9c179e\"}, \"name\": \"Regions=Grand Est\", \"r\": [1090.6141190476196], \"showlegend\": true, \"subplot\": \"polar\", \"theta\": [\"Grand Est\"], \"type\": \"barpolar\"}, {\"hoverlabel\": {\"namelength\": 0}, \"hovertemplate\": \"Regions=%{theta}<br>Annee=2003<br>Quantite=%{r}\", \"legendgroup\": \"Regions=Hauts-de-France\", \"marker\": {\"color\": \"#7201a8\"}, \"name\": \"Regions=Hauts-de-France\", \"r\": [3581.533179464287], \"showlegend\": true, \"subplot\": \"polar\", \"theta\": [\"Hauts-de-France\"], \"type\": \"barpolar\"}, {\"hoverlabel\": {\"namelength\": 0}, \"hovertemplate\": \"Regions=%{theta}<br>Annee=2003<br>Quantite=%{r}\", \"legendgroup\": \"Regions=Normandie\", \"marker\": {\"color\": \"#46039f\"}, \"name\": \"Regions=Normandie\", \"r\": [1181.642419354839], \"showlegend\": true, \"subplot\": \"polar\", \"theta\": [\"Normandie\"], \"type\": \"barpolar\"}, {\"hoverlabel\": {\"namelength\": 0}, \"hovertemplate\": \"Regions=%{theta}<br>Annee=2003<br>Quantite=%{r}\", \"legendgroup\": \"Regions=Nouvelle-Aquitaine\", \"marker\": {\"color\": \"#0d0887\"}, \"name\": \"Regions=Nouvelle-Aquitaine\", \"r\": [666.3684561403509], \"showlegend\": true, \"subplot\": \"polar\", \"theta\": [\"Nouvelle-Aquitaine\"], \"type\": \"barpolar\"}, {\"hoverlabel\": {\"namelength\": 0}, \"hovertemplate\": \"Regions=%{theta}<br>Annee=2003<br>Quantite=%{r}\", \"legendgroup\": \"Regions=Occitanie\", \"marker\": {\"color\": \"#fdca26\"}, \"name\": \"Regions=Occitanie\", \"r\": [1448.740243243243], \"showlegend\": true, \"subplot\": \"polar\", \"theta\": [\"Occitanie\"], \"type\": \"barpolar\"}, {\"hoverlabel\": {\"namelength\": 0}, \"hovertemplate\": \"Regions=%{theta}<br>Annee=2003<br>Quantite=%{r}\", \"legendgroup\": \"Regions=Pays de la Loire\", \"marker\": {\"color\": \"#fb9f3a\"}, \"name\": \"Regions=Pays de la Loire\", \"r\": [1427.607188888889], \"showlegend\": true, \"subplot\": \"polar\", \"theta\": [\"Pays de la Loire\"], \"type\": \"barpolar\"}, {\"hoverlabel\": {\"namelength\": 0}, \"hovertemplate\": \"Regions=%{theta}<br>Annee=2003<br>Quantite=%{r}\", \"legendgroup\": \"Regions=Provence-Alpes-C\\u00f4te d'Azur\", \"marker\": {\"color\": \"#ed7953\"}, \"name\": \"Regions=Provence-Alpes-C\\u00f4te d'Azur\", \"r\": [1450.884539473684], \"showlegend\": true, \"subplot\": \"polar\", \"theta\": [\"Provence-Alpes-C\\u00f4te d'Azur\"], \"type\": \"barpolar\"}, {\"hoverlabel\": {\"namelength\": 0}, \"hovertemplate\": \"Regions=%{theta}<br>Annee=2003<br>Quantite=%{r}\", \"legendgroup\": \"Regions=\\u00cele-de-France\", \"marker\": {\"color\": \"#d8576b\"}, \"name\": \"Regions=\\u00cele-de-France\", \"r\": [3870.4460615384614], \"showlegend\": true, \"subplot\": \"polar\", \"theta\": [\"\\u00cele-de-France\"], \"type\": \"barpolar\"}],\n",
       "                        {\"barmode\": \"relative\", \"height\": 600, \"legend\": {\"tracegroupgap\": 0}, \"margin\": {\"t\": 60}, \"polar\": {\"angularaxis\": {\"categoryarray\": [\"Auvergne-Rh\\u00f4ne-Alpes\", \"Bourgogne-Franche-Comt\\u00e9\", \"Bretagne\", \"Centre-Val de Loire\", \"Corse\", \"Grand Est\", \"Hauts-de-France\", \"Normandie\", \"Nouvelle-Aquitaine\", \"Occitanie\", \"Pays de la Loire\", \"Provence-Alpes-C\\u00f4te d'Azur\", \"\\u00cele-de-France\"], \"categoryorder\": \"array\", \"direction\": \"clockwise\", \"rotation\": 90}, \"domain\": {\"x\": [0.0, 0.98], \"y\": [0.0, 1.0]}}, \"showlegend\": false, \"sliders\": [{\"active\": 0, \"currentvalue\": {\"prefix\": \"Annee=\"}, \"len\": 0.9, \"pad\": {\"b\": 10, \"t\": 60}, \"steps\": [{\"args\": [[\"2003\"], {\"frame\": {\"duration\": 0, \"redraw\": true}, \"fromcurrent\": true, \"mode\": \"immediate\", \"transition\": {\"duration\": 0, \"easing\": \"linear\"}}], \"label\": \"2003\", \"method\": \"animate\"}, {\"args\": [[\"2004\"], {\"frame\": {\"duration\": 0, \"redraw\": true}, \"fromcurrent\": true, \"mode\": \"immediate\", \"transition\": {\"duration\": 0, \"easing\": \"linear\"}}], \"label\": \"2004\", \"method\": \"animate\"}, {\"args\": [[\"2005\"], {\"frame\": {\"duration\": 0, \"redraw\": true}, \"fromcurrent\": true, \"mode\": \"immediate\", \"transition\": {\"duration\": 0, \"easing\": \"linear\"}}], \"label\": \"2005\", \"method\": \"animate\"}, {\"args\": [[\"2006\"], {\"frame\": {\"duration\": 0, \"redraw\": true}, \"fromcurrent\": true, \"mode\": \"immediate\", \"transition\": {\"duration\": 0, \"easing\": \"linear\"}}], \"label\": \"2006\", \"method\": \"animate\"}, {\"args\": [[\"2007\"], {\"frame\": {\"duration\": 0, \"redraw\": true}, \"fromcurrent\": true, \"mode\": \"immediate\", \"transition\": {\"duration\": 0, \"easing\": \"linear\"}}], \"label\": \"2007\", \"method\": \"animate\"}, {\"args\": [[\"2008\"], {\"frame\": {\"duration\": 0, \"redraw\": true}, \"fromcurrent\": true, \"mode\": \"immediate\", \"transition\": {\"duration\": 0, \"easing\": \"linear\"}}], \"label\": \"2008\", \"method\": \"animate\"}, {\"args\": [[\"2009\"], {\"frame\": {\"duration\": 0, \"redraw\": true}, \"fromcurrent\": true, \"mode\": \"immediate\", \"transition\": {\"duration\": 0, \"easing\": \"linear\"}}], \"label\": \"2009\", \"method\": \"animate\"}, {\"args\": [[\"2010\"], {\"frame\": {\"duration\": 0, \"redraw\": true}, \"fromcurrent\": true, \"mode\": \"immediate\", \"transition\": {\"duration\": 0, \"easing\": \"linear\"}}], \"label\": \"2010\", \"method\": \"animate\"}, {\"args\": [[\"2011\"], {\"frame\": {\"duration\": 0, \"redraw\": true}, \"fromcurrent\": true, \"mode\": \"immediate\", \"transition\": {\"duration\": 0, \"easing\": \"linear\"}}], \"label\": \"2011\", \"method\": \"animate\"}, {\"args\": [[\"2012\"], {\"frame\": {\"duration\": 0, \"redraw\": true}, \"fromcurrent\": true, \"mode\": \"immediate\", \"transition\": {\"duration\": 0, \"easing\": \"linear\"}}], \"label\": \"2012\", \"method\": \"animate\"}, {\"args\": [[\"2013\"], {\"frame\": {\"duration\": 0, \"redraw\": true}, \"fromcurrent\": true, \"mode\": \"immediate\", \"transition\": {\"duration\": 0, \"easing\": \"linear\"}}], \"label\": \"2013\", \"method\": \"animate\"}, {\"args\": [[\"2014\"], {\"frame\": {\"duration\": 0, \"redraw\": true}, \"fromcurrent\": true, \"mode\": \"immediate\", \"transition\": {\"duration\": 0, \"easing\": \"linear\"}}], \"label\": \"2014\", \"method\": \"animate\"}, {\"args\": [[\"2015\"], {\"frame\": {\"duration\": 0, \"redraw\": true}, \"fromcurrent\": true, \"mode\": \"immediate\", \"transition\": {\"duration\": 0, \"easing\": \"linear\"}}], \"label\": \"2015\", \"method\": \"animate\"}, {\"args\": [[\"2016\"], {\"frame\": {\"duration\": 0, \"redraw\": true}, \"fromcurrent\": true, \"mode\": \"immediate\", \"transition\": {\"duration\": 0, \"easing\": \"linear\"}}], \"label\": \"2016\", \"method\": \"animate\"}, {\"args\": [[\"2017\"], {\"frame\": {\"duration\": 0, \"redraw\": true}, \"fromcurrent\": true, \"mode\": \"immediate\", \"transition\": {\"duration\": 0, \"easing\": \"linear\"}}], \"label\": \"2017\", \"method\": \"animate\"}], \"x\": 0.1, \"xanchor\": \"left\", \"y\": 0, \"yanchor\": \"top\"}], \"template\": {\"data\": {\"bar\": [{\"error_x\": {\"color\": \"#f2f5fa\"}, \"error_y\": {\"color\": \"#f2f5fa\"}, \"marker\": {\"line\": {\"color\": \"rgb(17,17,17)\", \"width\": 0.5}}, \"type\": \"bar\"}], \"barpolar\": [{\"marker\": {\"line\": {\"color\": \"rgb(17,17,17)\", \"width\": 0.5}}, \"type\": \"barpolar\"}], \"carpet\": [{\"aaxis\": {\"endlinecolor\": \"#A2B1C6\", \"gridcolor\": \"#506784\", \"linecolor\": \"#506784\", \"minorgridcolor\": \"#506784\", \"startlinecolor\": \"#A2B1C6\"}, \"baxis\": {\"endlinecolor\": \"#A2B1C6\", \"gridcolor\": \"#506784\", \"linecolor\": \"#506784\", \"minorgridcolor\": \"#506784\", \"startlinecolor\": \"#A2B1C6\"}, \"type\": \"carpet\"}], \"choropleth\": [{\"colorbar\": {\"outlinewidth\": 0, \"ticks\": \"\"}, \"type\": \"choropleth\"}], \"contour\": [{\"colorbar\": {\"outlinewidth\": 0, \"ticks\": \"\"}, \"colorscale\": [[0.0, \"#0d0887\"], [0.1111111111111111, \"#46039f\"], [0.2222222222222222, \"#7201a8\"], [0.3333333333333333, \"#9c179e\"], [0.4444444444444444, \"#bd3786\"], [0.5555555555555556, \"#d8576b\"], [0.6666666666666666, \"#ed7953\"], [0.7777777777777778, \"#fb9f3a\"], [0.8888888888888888, \"#fdca26\"], [1.0, \"#f0f921\"]], \"type\": \"contour\"}], \"contourcarpet\": [{\"colorbar\": {\"outlinewidth\": 0, \"ticks\": \"\"}, \"type\": \"contourcarpet\"}], \"heatmap\": [{\"colorbar\": {\"outlinewidth\": 0, \"ticks\": \"\"}, \"colorscale\": [[0.0, \"#0d0887\"], [0.1111111111111111, \"#46039f\"], [0.2222222222222222, \"#7201a8\"], [0.3333333333333333, \"#9c179e\"], [0.4444444444444444, \"#bd3786\"], [0.5555555555555556, \"#d8576b\"], [0.6666666666666666, \"#ed7953\"], [0.7777777777777778, \"#fb9f3a\"], [0.8888888888888888, \"#fdca26\"], [1.0, \"#f0f921\"]], \"type\": \"heatmap\"}], \"heatmapgl\": [{\"colorbar\": {\"outlinewidth\": 0, \"ticks\": \"\"}, \"colorscale\": [[0.0, \"#0d0887\"], [0.1111111111111111, \"#46039f\"], [0.2222222222222222, \"#7201a8\"], [0.3333333333333333, \"#9c179e\"], [0.4444444444444444, \"#bd3786\"], [0.5555555555555556, \"#d8576b\"], [0.6666666666666666, \"#ed7953\"], [0.7777777777777778, \"#fb9f3a\"], [0.8888888888888888, \"#fdca26\"], [1.0, \"#f0f921\"]], \"type\": \"heatmapgl\"}], \"histogram\": [{\"marker\": {\"colorbar\": {\"outlinewidth\": 0, \"ticks\": \"\"}}, \"type\": \"histogram\"}], \"histogram2d\": [{\"colorbar\": {\"outlinewidth\": 0, \"ticks\": \"\"}, \"colorscale\": [[0.0, \"#0d0887\"], [0.1111111111111111, \"#46039f\"], [0.2222222222222222, \"#7201a8\"], [0.3333333333333333, \"#9c179e\"], [0.4444444444444444, \"#bd3786\"], [0.5555555555555556, \"#d8576b\"], [0.6666666666666666, \"#ed7953\"], [0.7777777777777778, \"#fb9f3a\"], [0.8888888888888888, \"#fdca26\"], [1.0, \"#f0f921\"]], \"type\": \"histogram2d\"}], \"histogram2dcontour\": [{\"colorbar\": {\"outlinewidth\": 0, \"ticks\": \"\"}, \"colorscale\": [[0.0, \"#0d0887\"], [0.1111111111111111, \"#46039f\"], [0.2222222222222222, \"#7201a8\"], [0.3333333333333333, \"#9c179e\"], [0.4444444444444444, \"#bd3786\"], [0.5555555555555556, \"#d8576b\"], [0.6666666666666666, \"#ed7953\"], [0.7777777777777778, \"#fb9f3a\"], [0.8888888888888888, \"#fdca26\"], [1.0, \"#f0f921\"]], \"type\": \"histogram2dcontour\"}], \"mesh3d\": [{\"colorbar\": {\"outlinewidth\": 0, \"ticks\": \"\"}, \"type\": \"mesh3d\"}], \"parcoords\": [{\"line\": {\"colorbar\": {\"outlinewidth\": 0, \"ticks\": \"\"}}, \"type\": \"parcoords\"}], \"scatter\": [{\"marker\": {\"line\": {\"color\": \"#283442\"}}, \"type\": \"scatter\"}], \"scatter3d\": [{\"line\": {\"colorbar\": {\"outlinewidth\": 0, \"ticks\": \"\"}}, \"marker\": {\"colorbar\": {\"outlinewidth\": 0, \"ticks\": \"\"}}, \"type\": \"scatter3d\"}], \"scattercarpet\": [{\"marker\": {\"colorbar\": {\"outlinewidth\": 0, \"ticks\": \"\"}}, \"type\": \"scattercarpet\"}], \"scattergeo\": [{\"marker\": {\"colorbar\": {\"outlinewidth\": 0, \"ticks\": \"\"}}, \"type\": \"scattergeo\"}], \"scattergl\": [{\"marker\": {\"line\": {\"color\": \"#283442\"}}, \"type\": \"scattergl\"}], \"scattermapbox\": [{\"marker\": {\"colorbar\": {\"outlinewidth\": 0, \"ticks\": \"\"}}, \"type\": \"scattermapbox\"}], \"scatterpolar\": [{\"marker\": {\"colorbar\": {\"outlinewidth\": 0, \"ticks\": \"\"}}, \"type\": \"scatterpolar\"}], \"scatterpolargl\": [{\"marker\": {\"colorbar\": {\"outlinewidth\": 0, \"ticks\": \"\"}}, \"type\": \"scatterpolargl\"}], \"scatterternary\": [{\"marker\": {\"colorbar\": {\"outlinewidth\": 0, \"ticks\": \"\"}}, \"type\": \"scatterternary\"}], \"surface\": [{\"colorbar\": {\"outlinewidth\": 0, \"ticks\": \"\"}, \"colorscale\": [[0.0, \"#0d0887\"], [0.1111111111111111, \"#46039f\"], [0.2222222222222222, \"#7201a8\"], [0.3333333333333333, \"#9c179e\"], [0.4444444444444444, \"#bd3786\"], [0.5555555555555556, \"#d8576b\"], [0.6666666666666666, \"#ed7953\"], [0.7777777777777778, \"#fb9f3a\"], [0.8888888888888888, \"#fdca26\"], [1.0, \"#f0f921\"]], \"type\": \"surface\"}], \"table\": [{\"cells\": {\"fill\": {\"color\": \"#506784\"}, \"line\": {\"color\": \"rgb(17,17,17)\"}}, \"header\": {\"fill\": {\"color\": \"#2a3f5f\"}, \"line\": {\"color\": \"rgb(17,17,17)\"}}, \"type\": \"table\"}]}, \"layout\": {\"annotationdefaults\": {\"arrowcolor\": \"#f2f5fa\", \"arrowhead\": 0, \"arrowwidth\": 1}, \"colorscale\": {\"diverging\": [[0, \"#8e0152\"], [0.1, \"#c51b7d\"], [0.2, \"#de77ae\"], [0.3, \"#f1b6da\"], [0.4, \"#fde0ef\"], [0.5, \"#f7f7f7\"], [0.6, \"#e6f5d0\"], [0.7, \"#b8e186\"], [0.8, \"#7fbc41\"], [0.9, \"#4d9221\"], [1, \"#276419\"]], \"sequential\": [[0.0, \"#0d0887\"], [0.1111111111111111, \"#46039f\"], [0.2222222222222222, \"#7201a8\"], [0.3333333333333333, \"#9c179e\"], [0.4444444444444444, \"#bd3786\"], [0.5555555555555556, \"#d8576b\"], [0.6666666666666666, \"#ed7953\"], [0.7777777777777778, \"#fb9f3a\"], [0.8888888888888888, \"#fdca26\"], [1.0, \"#f0f921\"]], \"sequentialminus\": [[0.0, \"#0d0887\"], [0.1111111111111111, \"#46039f\"], [0.2222222222222222, \"#7201a8\"], [0.3333333333333333, \"#9c179e\"], [0.4444444444444444, \"#bd3786\"], [0.5555555555555556, \"#d8576b\"], [0.6666666666666666, \"#ed7953\"], [0.7777777777777778, \"#fb9f3a\"], [0.8888888888888888, \"#fdca26\"], [1.0, \"#f0f921\"]]}, \"colorway\": [\"#636efa\", \"#EF553B\", \"#00cc96\", \"#ab63fa\", \"#FFA15A\", \"#19d3f3\", \"#FF6692\", \"#B6E880\", \"#FF97FF\", \"#FECB52\"], \"font\": {\"color\": \"#f2f5fa\"}, \"geo\": {\"bgcolor\": \"rgb(17,17,17)\", \"lakecolor\": \"rgb(17,17,17)\", \"landcolor\": \"rgb(17,17,17)\", \"showlakes\": true, \"showland\": true, \"subunitcolor\": \"#506784\"}, \"hoverlabel\": {\"align\": \"left\"}, \"hovermode\": \"closest\", \"mapbox\": {\"style\": \"dark\"}, \"paper_bgcolor\": \"rgb(17,17,17)\", \"plot_bgcolor\": \"rgb(17,17,17)\", \"polar\": {\"angularaxis\": {\"gridcolor\": \"#506784\", \"linecolor\": \"#506784\", \"ticks\": \"\"}, \"bgcolor\": \"rgb(17,17,17)\", \"radialaxis\": {\"gridcolor\": \"#506784\", \"linecolor\": \"#506784\", \"ticks\": \"\"}}, \"scene\": {\"xaxis\": {\"backgroundcolor\": \"rgb(17,17,17)\", \"gridcolor\": \"#506784\", \"gridwidth\": 2, \"linecolor\": \"#506784\", \"showbackground\": true, \"ticks\": \"\", \"zerolinecolor\": \"#C8D4E3\"}, \"yaxis\": {\"backgroundcolor\": \"rgb(17,17,17)\", \"gridcolor\": \"#506784\", \"gridwidth\": 2, \"linecolor\": \"#506784\", \"showbackground\": true, \"ticks\": \"\", \"zerolinecolor\": \"#C8D4E3\"}, \"zaxis\": {\"backgroundcolor\": \"rgb(17,17,17)\", \"gridcolor\": \"#506784\", \"gridwidth\": 2, \"linecolor\": \"#506784\", \"showbackground\": true, \"ticks\": \"\", \"zerolinecolor\": \"#C8D4E3\"}}, \"shapedefaults\": {\"line\": {\"color\": \"#f2f5fa\"}}, \"sliderdefaults\": {\"bgcolor\": \"#C8D4E3\", \"bordercolor\": \"rgb(17,17,17)\", \"borderwidth\": 1, \"tickwidth\": 0}, \"ternary\": {\"aaxis\": {\"gridcolor\": \"#506784\", \"linecolor\": \"#506784\", \"ticks\": \"\"}, \"baxis\": {\"gridcolor\": \"#506784\", \"linecolor\": \"#506784\", \"ticks\": \"\"}, \"bgcolor\": \"rgb(17,17,17)\", \"caxis\": {\"gridcolor\": \"#506784\", \"linecolor\": \"#506784\", \"ticks\": \"\"}}, \"title\": {\"x\": 0.05}, \"updatemenudefaults\": {\"bgcolor\": \"#506784\", \"borderwidth\": 0}, \"xaxis\": {\"automargin\": true, \"gridcolor\": \"#283442\", \"linecolor\": \"#506784\", \"ticks\": \"\", \"zerolinecolor\": \"#283442\", \"zerolinewidth\": 2}, \"yaxis\": {\"automargin\": true, \"gridcolor\": \"#283442\", \"linecolor\": \"#506784\", \"ticks\": \"\", \"zerolinecolor\": \"#283442\", \"zerolinewidth\": 2}}}, \"updatemenus\": [{\"buttons\": [{\"args\": [null, {\"frame\": {\"duration\": 500, \"redraw\": true}, \"fromcurrent\": true, \"mode\": \"immediate\", \"transition\": {\"duration\": 500, \"easing\": \"linear\"}}], \"label\": \"&#9654;\", \"method\": \"animate\"}, {\"args\": [[null], {\"frame\": {\"duration\": 0, \"redraw\": true}, \"fromcurrent\": true, \"mode\": \"immediate\", \"transition\": {\"duration\": 0, \"easing\": \"linear\"}}], \"label\": \"&#9724;\", \"method\": \"animate\"}], \"direction\": \"left\", \"pad\": {\"r\": 10, \"t\": 70}, \"showactive\": false, \"type\": \"buttons\", \"x\": 0.1, \"xanchor\": \"right\", \"y\": 0, \"yanchor\": \"top\"}]},\n",
       "                        {\"responsive\": true}\n",
       "                    ).then(function(){\n",
       "                            Plotly.addFrames('35de666e-0dea-408a-95c0-94a9d888dd9e', [{\"data\": [{\"hoverlabel\": {\"namelength\": 0}, \"hovertemplate\": \"Regions=%{theta}<br>Annee=2003<br>Quantite=%{r}\", \"legendgroup\": \"Regions=Auvergne-Rh\\u00f4ne-Alpes\", \"marker\": {\"color\": \"#fdca26\"}, \"name\": \"Regions=Auvergne-Rh\\u00f4ne-Alpes\", \"r\": [1396.6790322834638], \"showlegend\": true, \"subplot\": \"polar\", \"theta\": [\"Auvergne-Rh\\u00f4ne-Alpes\"], \"type\": \"barpolar\"}, {\"hoverlabel\": {\"namelength\": 0}, \"hovertemplate\": \"Regions=%{theta}<br>Annee=2003<br>Quantite=%{r}\", \"legendgroup\": \"Regions=Bourgogne-Franche-Comt\\u00e9\", \"marker\": {\"color\": \"#fb9f3a\"}, \"name\": \"Regions=Bourgogne-Franche-Comt\\u00e9\", \"r\": [535.2607209302327], \"showlegend\": true, \"subplot\": \"polar\", \"theta\": [\"Bourgogne-Franche-Comt\\u00e9\"], \"type\": \"barpolar\"}, {\"hoverlabel\": {\"namelength\": 0}, \"hovertemplate\": \"Regions=%{theta}<br>Annee=2003<br>Quantite=%{r}\", \"legendgroup\": \"Regions=Bretagne\", \"marker\": {\"color\": \"#ed7953\"}, \"name\": \"Regions=Bretagne\", \"r\": [973.3329014084509], \"showlegend\": true, \"subplot\": \"polar\", \"theta\": [\"Bretagne\"], \"type\": \"barpolar\"}, {\"hoverlabel\": {\"namelength\": 0}, \"hovertemplate\": \"Regions=%{theta}<br>Annee=2003<br>Quantite=%{r}\", \"legendgroup\": \"Regions=Centre-Val de Loire\", \"marker\": {\"color\": \"#d8576b\"}, \"name\": \"Regions=Centre-Val de Loire\", \"r\": [597.5886626506024], \"showlegend\": true, \"subplot\": \"polar\", \"theta\": [\"Centre-Val de Loire\"], \"type\": \"barpolar\"}, {\"hoverlabel\": {\"namelength\": 0}, \"hovertemplate\": \"Regions=%{theta}<br>Annee=2003<br>Quantite=%{r}\", \"legendgroup\": \"Regions=Corse\", \"marker\": {\"color\": \"#bd3786\"}, \"name\": \"Regions=Corse\", \"r\": [352.29099999999994], \"showlegend\": true, \"subplot\": \"polar\", \"theta\": [\"Corse\"], \"type\": \"barpolar\"}, {\"hoverlabel\": {\"namelength\": 0}, \"hovertemplate\": \"Regions=%{theta}<br>Annee=2003<br>Quantite=%{r}\", \"legendgroup\": \"Regions=Grand Est\", \"marker\": {\"color\": \"#9c179e\"}, \"name\": \"Regions=Grand Est\", \"r\": [1090.6141190476196], \"showlegend\": true, \"subplot\": \"polar\", \"theta\": [\"Grand Est\"], \"type\": \"barpolar\"}, {\"hoverlabel\": {\"namelength\": 0}, \"hovertemplate\": \"Regions=%{theta}<br>Annee=2003<br>Quantite=%{r}\", \"legendgroup\": \"Regions=Hauts-de-France\", \"marker\": {\"color\": \"#7201a8\"}, \"name\": \"Regions=Hauts-de-France\", \"r\": [3581.533179464287], \"showlegend\": true, \"subplot\": \"polar\", \"theta\": [\"Hauts-de-France\"], \"type\": \"barpolar\"}, {\"hoverlabel\": {\"namelength\": 0}, \"hovertemplate\": \"Regions=%{theta}<br>Annee=2003<br>Quantite=%{r}\", \"legendgroup\": \"Regions=Normandie\", \"marker\": {\"color\": \"#46039f\"}, \"name\": \"Regions=Normandie\", \"r\": [1181.642419354839], \"showlegend\": true, \"subplot\": \"polar\", \"theta\": [\"Normandie\"], \"type\": \"barpolar\"}, {\"hoverlabel\": {\"namelength\": 0}, \"hovertemplate\": \"Regions=%{theta}<br>Annee=2003<br>Quantite=%{r}\", \"legendgroup\": \"Regions=Nouvelle-Aquitaine\", \"marker\": {\"color\": \"#0d0887\"}, \"name\": \"Regions=Nouvelle-Aquitaine\", \"r\": [666.3684561403509], \"showlegend\": true, \"subplot\": \"polar\", \"theta\": [\"Nouvelle-Aquitaine\"], \"type\": \"barpolar\"}, {\"hoverlabel\": {\"namelength\": 0}, \"hovertemplate\": \"Regions=%{theta}<br>Annee=2003<br>Quantite=%{r}\", \"legendgroup\": \"Regions=Occitanie\", \"marker\": {\"color\": \"#fdca26\"}, \"name\": \"Regions=Occitanie\", \"r\": [1448.740243243243], \"showlegend\": true, \"subplot\": \"polar\", \"theta\": [\"Occitanie\"], \"type\": \"barpolar\"}, {\"hoverlabel\": {\"namelength\": 0}, \"hovertemplate\": \"Regions=%{theta}<br>Annee=2003<br>Quantite=%{r}\", \"legendgroup\": \"Regions=Pays de la Loire\", \"marker\": {\"color\": \"#fb9f3a\"}, \"name\": \"Regions=Pays de la Loire\", \"r\": [1427.607188888889], \"showlegend\": true, \"subplot\": \"polar\", \"theta\": [\"Pays de la Loire\"], \"type\": \"barpolar\"}, {\"hoverlabel\": {\"namelength\": 0}, \"hovertemplate\": \"Regions=%{theta}<br>Annee=2003<br>Quantite=%{r}\", \"legendgroup\": \"Regions=Provence-Alpes-C\\u00f4te d'Azur\", \"marker\": {\"color\": \"#ed7953\"}, \"name\": \"Regions=Provence-Alpes-C\\u00f4te d'Azur\", \"r\": [1450.884539473684], \"showlegend\": true, \"subplot\": \"polar\", \"theta\": [\"Provence-Alpes-C\\u00f4te d'Azur\"], \"type\": \"barpolar\"}, {\"hoverlabel\": {\"namelength\": 0}, \"hovertemplate\": \"Regions=%{theta}<br>Annee=2003<br>Quantite=%{r}\", \"legendgroup\": \"Regions=\\u00cele-de-France\", \"marker\": {\"color\": \"#d8576b\"}, \"name\": \"Regions=\\u00cele-de-France\", \"r\": [3870.4460615384614], \"showlegend\": true, \"subplot\": \"polar\", \"theta\": [\"\\u00cele-de-France\"], \"type\": \"barpolar\"}], \"name\": \"2003\"}, {\"data\": [{\"hoverlabel\": {\"namelength\": 0}, \"hovertemplate\": \"Regions=%{theta}<br>Annee=2004<br>Quantite=%{r}\", \"legendgroup\": \"Regions=Auvergne-Rh\\u00f4ne-Alpes\", \"marker\": {\"color\": \"#fdca26\"}, \"name\": \"Regions=Auvergne-Rh\\u00f4ne-Alpes\", \"r\": [1598.8669741379306], \"showlegend\": true, \"subplot\": \"polar\", \"theta\": [\"Auvergne-Rh\\u00f4ne-Alpes\"], \"type\": \"barpolar\"}, {\"hoverlabel\": {\"namelength\": 0}, \"hovertemplate\": \"Regions=%{theta}<br>Annee=2004<br>Quantite=%{r}\", \"legendgroup\": \"Regions=Bourgogne-Franche-Comt\\u00e9\", \"marker\": {\"color\": \"#fb9f3a\"}, \"name\": \"Regions=Bourgogne-Franche-Comt\\u00e9\", \"r\": [828.3410656441717], \"showlegend\": true, \"subplot\": \"polar\", \"theta\": [\"Bourgogne-Franche-Comt\\u00e9\"], \"type\": \"barpolar\"}, {\"hoverlabel\": {\"namelength\": 0}, \"hovertemplate\": \"Regions=%{theta}<br>Annee=2004<br>Quantite=%{r}\", \"legendgroup\": \"Regions=Bretagne\", \"marker\": {\"color\": \"#ed7953\"}, \"name\": \"Regions=Bretagne\", \"r\": [1012.5966203703706], \"showlegend\": true, \"subplot\": \"polar\", \"theta\": [\"Bretagne\"], \"type\": \"barpolar\"}, {\"hoverlabel\": {\"namelength\": 0}, \"hovertemplate\": \"Regions=%{theta}<br>Annee=2004<br>Quantite=%{r}\", \"legendgroup\": \"Regions=Centre-Val de Loire\", \"marker\": {\"color\": \"#d8576b\"}, \"name\": \"Regions=Centre-Val de Loire\", \"r\": [821.5484880829014], \"showlegend\": true, \"subplot\": \"polar\", \"theta\": [\"Centre-Val de Loire\"], \"type\": \"barpolar\"}, {\"hoverlabel\": {\"namelength\": 0}, \"hovertemplate\": \"Regions=%{theta}<br>Annee=2004<br>Quantite=%{r}\", \"legendgroup\": \"Regions=Corse\", \"marker\": {\"color\": \"#bd3786\"}, \"name\": \"Regions=Corse\", \"r\": [802.6600000000001], \"showlegend\": true, \"subplot\": \"polar\", \"theta\": [\"Corse\"], \"type\": \"barpolar\"}, {\"hoverlabel\": {\"namelength\": 0}, \"hovertemplate\": \"Regions=%{theta}<br>Annee=2004<br>Quantite=%{r}\", \"legendgroup\": \"Regions=Grand Est\", \"marker\": {\"color\": \"#9c179e\"}, \"name\": \"Regions=Grand Est\", \"r\": [1129.1998902272724], \"showlegend\": true, \"subplot\": \"polar\", \"theta\": [\"Grand Est\"], \"type\": \"barpolar\"}, {\"hoverlabel\": {\"namelength\": 0}, \"hovertemplate\": \"Regions=%{theta}<br>Annee=2004<br>Quantite=%{r}\", \"legendgroup\": \"Regions=Hauts-de-France\", \"marker\": {\"color\": \"#7201a8\"}, \"name\": \"Regions=Hauts-de-France\", \"r\": [2275.5416593264235], \"showlegend\": true, \"subplot\": \"polar\", \"theta\": [\"Hauts-de-France\"], \"type\": \"barpolar\"}, {\"hoverlabel\": {\"namelength\": 0}, \"hovertemplate\": \"Regions=%{theta}<br>Annee=2004<br>Quantite=%{r}\", \"legendgroup\": \"Regions=Normandie\", \"marker\": {\"color\": \"#46039f\"}, \"name\": \"Regions=Normandie\", \"r\": [2212.7849177631583], \"showlegend\": true, \"subplot\": \"polar\", \"theta\": [\"Normandie\"], \"type\": \"barpolar\"}, {\"hoverlabel\": {\"namelength\": 0}, \"hovertemplate\": \"Regions=%{theta}<br>Annee=2004<br>Quantite=%{r}\", \"legendgroup\": \"Regions=Nouvelle-Aquitaine\", \"marker\": {\"color\": \"#0d0887\"}, \"name\": \"Regions=Nouvelle-Aquitaine\", \"r\": [1365.6455035971226], \"showlegend\": true, \"subplot\": \"polar\", \"theta\": [\"Nouvelle-Aquitaine\"], \"type\": \"barpolar\"}, {\"hoverlabel\": {\"namelength\": 0}, \"hovertemplate\": \"Regions=%{theta}<br>Annee=2004<br>Quantite=%{r}\", \"legendgroup\": \"Regions=Occitanie\", \"marker\": {\"color\": \"#fdca26\"}, \"name\": \"Regions=Occitanie\", \"r\": [1607.8299298245613], \"showlegend\": true, \"subplot\": \"polar\", \"theta\": [\"Occitanie\"], \"type\": \"barpolar\"}, {\"hoverlabel\": {\"namelength\": 0}, \"hovertemplate\": \"Regions=%{theta}<br>Annee=2004<br>Quantite=%{r}\", \"legendgroup\": \"Regions=Pays de la Loire\", \"marker\": {\"color\": \"#fb9f3a\"}, \"name\": \"Regions=Pays de la Loire\", \"r\": [542.5663604395604], \"showlegend\": true, \"subplot\": \"polar\", \"theta\": [\"Pays de la Loire\"], \"type\": \"barpolar\"}, {\"hoverlabel\": {\"namelength\": 0}, \"hovertemplate\": \"Regions=%{theta}<br>Annee=2004<br>Quantite=%{r}\", \"legendgroup\": \"Regions=Provence-Alpes-C\\u00f4te d'Azur\", \"marker\": {\"color\": \"#ed7953\"}, \"name\": \"Regions=Provence-Alpes-C\\u00f4te d'Azur\", \"r\": [1589.5399888268153], \"showlegend\": true, \"subplot\": \"polar\", \"theta\": [\"Provence-Alpes-C\\u00f4te d'Azur\"], \"type\": \"barpolar\"}, {\"hoverlabel\": {\"namelength\": 0}, \"hovertemplate\": \"Regions=%{theta}<br>Annee=2004<br>Quantite=%{r}\", \"legendgroup\": \"Regions=\\u00cele-de-France\", \"marker\": {\"color\": \"#d8576b\"}, \"name\": \"Regions=\\u00cele-de-France\", \"r\": [3009.1685467153275], \"showlegend\": true, \"subplot\": \"polar\", \"theta\": [\"\\u00cele-de-France\"], \"type\": \"barpolar\"}], \"name\": \"2004\"}, {\"data\": [{\"hoverlabel\": {\"namelength\": 0}, \"hovertemplate\": \"Regions=%{theta}<br>Annee=2005<br>Quantite=%{r}\", \"legendgroup\": \"Regions=Auvergne-Rh\\u00f4ne-Alpes\", \"marker\": {\"color\": \"#fdca26\"}, \"name\": \"Regions=Auvergne-Rh\\u00f4ne-Alpes\", \"r\": [1256.4646779069783], \"showlegend\": true, \"subplot\": \"polar\", \"theta\": [\"Auvergne-Rh\\u00f4ne-Alpes\"], \"type\": \"barpolar\"}, {\"hoverlabel\": {\"namelength\": 0}, \"hovertemplate\": \"Regions=%{theta}<br>Annee=2005<br>Quantite=%{r}\", \"legendgroup\": \"Regions=Bourgogne-Franche-Comt\\u00e9\", \"marker\": {\"color\": \"#fb9f3a\"}, \"name\": \"Regions=Bourgogne-Franche-Comt\\u00e9\", \"r\": [601.0644535849059], \"showlegend\": true, \"subplot\": \"polar\", \"theta\": [\"Bourgogne-Franche-Comt\\u00e9\"], \"type\": \"barpolar\"}, {\"hoverlabel\": {\"namelength\": 0}, \"hovertemplate\": \"Regions=%{theta}<br>Annee=2005<br>Quantite=%{r}\", \"legendgroup\": \"Regions=Bretagne\", \"marker\": {\"color\": \"#ed7953\"}, \"name\": \"Regions=Bretagne\", \"r\": [759.1613937007877], \"showlegend\": true, \"subplot\": \"polar\", \"theta\": [\"Bretagne\"], \"type\": \"barpolar\"}, {\"hoverlabel\": {\"namelength\": 0}, \"hovertemplate\": \"Regions=%{theta}<br>Annee=2005<br>Quantite=%{r}\", \"legendgroup\": \"Regions=Centre-Val de Loire\", \"marker\": {\"color\": \"#d8576b\"}, \"name\": \"Regions=Centre-Val de Loire\", \"r\": [769.414006578947], \"showlegend\": true, \"subplot\": \"polar\", \"theta\": [\"Centre-Val de Loire\"], \"type\": \"barpolar\"}, {\"hoverlabel\": {\"namelength\": 0}, \"hovertemplate\": \"Regions=%{theta}<br>Annee=2005<br>Quantite=%{r}\", \"legendgroup\": \"Regions=Corse\", \"marker\": {\"color\": \"#bd3786\"}, \"name\": \"Regions=Corse\", \"r\": [123.66166666666668], \"showlegend\": true, \"subplot\": \"polar\", \"theta\": [\"Corse\"], \"type\": \"barpolar\"}, {\"hoverlabel\": {\"namelength\": 0}, \"hovertemplate\": \"Regions=%{theta}<br>Annee=2005<br>Quantite=%{r}\", \"legendgroup\": \"Regions=Grand Est\", \"marker\": {\"color\": \"#9c179e\"}, \"name\": \"Regions=Grand Est\", \"r\": [1177.4190018867926], \"showlegend\": true, \"subplot\": \"polar\", \"theta\": [\"Grand Est\"], \"type\": \"barpolar\"}, {\"hoverlabel\": {\"namelength\": 0}, \"hovertemplate\": \"Regions=%{theta}<br>Annee=2005<br>Quantite=%{r}\", \"legendgroup\": \"Regions=Hauts-de-France\", \"marker\": {\"color\": \"#7201a8\"}, \"name\": \"Regions=Hauts-de-France\", \"r\": [2193.5747810810826], \"showlegend\": true, \"subplot\": \"polar\", \"theta\": [\"Hauts-de-France\"], \"type\": \"barpolar\"}, {\"hoverlabel\": {\"namelength\": 0}, \"hovertemplate\": \"Regions=%{theta}<br>Annee=2005<br>Quantite=%{r}\", \"legendgroup\": \"Regions=Normandie\", \"marker\": {\"color\": \"#46039f\"}, \"name\": \"Regions=Normandie\", \"r\": [1253.463518939872], \"showlegend\": true, \"subplot\": \"polar\", \"theta\": [\"Normandie\"], \"type\": \"barpolar\"}, {\"hoverlabel\": {\"namelength\": 0}, \"hovertemplate\": \"Regions=%{theta}<br>Annee=2005<br>Quantite=%{r}\", \"legendgroup\": \"Regions=Nouvelle-Aquitaine\", \"marker\": {\"color\": \"#0d0887\"}, \"name\": \"Regions=Nouvelle-Aquitaine\", \"r\": [1021.0000092250916], \"showlegend\": true, \"subplot\": \"polar\", \"theta\": [\"Nouvelle-Aquitaine\"], \"type\": \"barpolar\"}, {\"hoverlabel\": {\"namelength\": 0}, \"hovertemplate\": \"Regions=%{theta}<br>Annee=2005<br>Quantite=%{r}\", \"legendgroup\": \"Regions=Occitanie\", \"marker\": {\"color\": \"#fdca26\"}, \"name\": \"Regions=Occitanie\", \"r\": [1640.6499734848485], \"showlegend\": true, \"subplot\": \"polar\", \"theta\": [\"Occitanie\"], \"type\": \"barpolar\"}, {\"hoverlabel\": {\"namelength\": 0}, \"hovertemplate\": \"Regions=%{theta}<br>Annee=2005<br>Quantite=%{r}\", \"legendgroup\": \"Regions=Pays de la Loire\", \"marker\": {\"color\": \"#fb9f3a\"}, \"name\": \"Regions=Pays de la Loire\", \"r\": [572.6938313095238], \"showlegend\": true, \"subplot\": \"polar\", \"theta\": [\"Pays de la Loire\"], \"type\": \"barpolar\"}, {\"hoverlabel\": {\"namelength\": 0}, \"hovertemplate\": \"Regions=%{theta}<br>Annee=2005<br>Quantite=%{r}\", \"legendgroup\": \"Regions=Provence-Alpes-C\\u00f4te d'Azur\", \"marker\": {\"color\": \"#ed7953\"}, \"name\": \"Regions=Provence-Alpes-C\\u00f4te d'Azur\", \"r\": [1905.0431557692307], \"showlegend\": true, \"subplot\": \"polar\", \"theta\": [\"Provence-Alpes-C\\u00f4te d'Azur\"], \"type\": \"barpolar\"}, {\"hoverlabel\": {\"namelength\": 0}, \"hovertemplate\": \"Regions=%{theta}<br>Annee=2005<br>Quantite=%{r}\", \"legendgroup\": \"Regions=\\u00cele-de-France\", \"marker\": {\"color\": \"#d8576b\"}, \"name\": \"Regions=\\u00cele-de-France\", \"r\": [1526.2686705454548], \"showlegend\": true, \"subplot\": \"polar\", \"theta\": [\"\\u00cele-de-France\"], \"type\": \"barpolar\"}], \"name\": \"2005\"}, {\"data\": [{\"hoverlabel\": {\"namelength\": 0}, \"hovertemplate\": \"Regions=%{theta}<br>Annee=2006<br>Quantite=%{r}\", \"legendgroup\": \"Regions=Auvergne-Rh\\u00f4ne-Alpes\", \"marker\": {\"color\": \"#fdca26\"}, \"name\": \"Regions=Auvergne-Rh\\u00f4ne-Alpes\", \"r\": [1191.7692831809877], \"showlegend\": true, \"subplot\": \"polar\", \"theta\": [\"Auvergne-Rh\\u00f4ne-Alpes\"], \"type\": \"barpolar\"}, {\"hoverlabel\": {\"namelength\": 0}, \"hovertemplate\": \"Regions=%{theta}<br>Annee=2006<br>Quantite=%{r}\", \"legendgroup\": \"Regions=Bourgogne-Franche-Comt\\u00e9\", \"marker\": {\"color\": \"#fb9f3a\"}, \"name\": \"Regions=Bourgogne-Franche-Comt\\u00e9\", \"r\": [573.7875346020766], \"showlegend\": true, \"subplot\": \"polar\", \"theta\": [\"Bourgogne-Franche-Comt\\u00e9\"], \"type\": \"barpolar\"}, {\"hoverlabel\": {\"namelength\": 0}, \"hovertemplate\": \"Regions=%{theta}<br>Annee=2006<br>Quantite=%{r}\", \"legendgroup\": \"Regions=Bretagne\", \"marker\": {\"color\": \"#ed7953\"}, \"name\": \"Regions=Bretagne\", \"r\": [752.4591751773047], \"showlegend\": true, \"subplot\": \"polar\", \"theta\": [\"Bretagne\"], \"type\": \"barpolar\"}, {\"hoverlabel\": {\"namelength\": 0}, \"hovertemplate\": \"Regions=%{theta}<br>Annee=2006<br>Quantite=%{r}\", \"legendgroup\": \"Regions=Centre-Val de Loire\", \"marker\": {\"color\": \"#d8576b\"}, \"name\": \"Regions=Centre-Val de Loire\", \"r\": [555.199802290077], \"showlegend\": true, \"subplot\": \"polar\", \"theta\": [\"Centre-Val de Loire\"], \"type\": \"barpolar\"}, {\"hoverlabel\": {\"namelength\": 0}, \"hovertemplate\": \"Regions=%{theta}<br>Annee=2006<br>Quantite=%{r}\", \"legendgroup\": \"Regions=Corse\", \"marker\": {\"color\": \"#bd3786\"}, \"name\": \"Regions=Corse\", \"r\": [113.67714285714287], \"showlegend\": true, \"subplot\": \"polar\", \"theta\": [\"Corse\"], \"type\": \"barpolar\"}, {\"hoverlabel\": {\"namelength\": 0}, \"hovertemplate\": \"Regions=%{theta}<br>Annee=2006<br>Quantite=%{r}\", \"legendgroup\": \"Regions=Grand Est\", \"marker\": {\"color\": \"#9c179e\"}, \"name\": \"Regions=Grand Est\", \"r\": [922.8615888888879], \"showlegend\": true, \"subplot\": \"polar\", \"theta\": [\"Grand Est\"], \"type\": \"barpolar\"}, {\"hoverlabel\": {\"namelength\": 0}, \"hovertemplate\": \"Regions=%{theta}<br>Annee=2006<br>Quantite=%{r}\", \"legendgroup\": \"Regions=Hauts-de-France\", \"marker\": {\"color\": \"#7201a8\"}, \"name\": \"Regions=Hauts-de-France\", \"r\": [1881.4722855855862], \"showlegend\": true, \"subplot\": \"polar\", \"theta\": [\"Hauts-de-France\"], \"type\": \"barpolar\"}, {\"hoverlabel\": {\"namelength\": 0}, \"hovertemplate\": \"Regions=%{theta}<br>Annee=2006<br>Quantite=%{r}\", \"legendgroup\": \"Regions=Normandie\", \"marker\": {\"color\": \"#46039f\"}, \"name\": \"Regions=Normandie\", \"r\": [1838.2744992382288], \"showlegend\": true, \"subplot\": \"polar\", \"theta\": [\"Normandie\"], \"type\": \"barpolar\"}, {\"hoverlabel\": {\"namelength\": 0}, \"hovertemplate\": \"Regions=%{theta}<br>Annee=2006<br>Quantite=%{r}\", \"legendgroup\": \"Regions=Nouvelle-Aquitaine\", \"marker\": {\"color\": \"#0d0887\"}, \"name\": \"Regions=Nouvelle-Aquitaine\", \"r\": [860.3882512738851], \"showlegend\": true, \"subplot\": \"polar\", \"theta\": [\"Nouvelle-Aquitaine\"], \"type\": \"barpolar\"}, {\"hoverlabel\": {\"namelength\": 0}, \"hovertemplate\": \"Regions=%{theta}<br>Annee=2006<br>Quantite=%{r}\", \"legendgroup\": \"Regions=Occitanie\", \"marker\": {\"color\": \"#fdca26\"}, \"name\": \"Regions=Occitanie\", \"r\": [1213.3617946107786], \"showlegend\": true, \"subplot\": \"polar\", \"theta\": [\"Occitanie\"], \"type\": \"barpolar\"}, {\"hoverlabel\": {\"namelength\": 0}, \"hovertemplate\": \"Regions=%{theta}<br>Annee=2006<br>Quantite=%{r}\", \"legendgroup\": \"Regions=Pays de la Loire\", \"marker\": {\"color\": \"#fb9f3a\"}, \"name\": \"Regions=Pays de la Loire\", \"r\": [547.5586148936172], \"showlegend\": true, \"subplot\": \"polar\", \"theta\": [\"Pays de la Loire\"], \"type\": \"barpolar\"}, {\"hoverlabel\": {\"namelength\": 0}, \"hovertemplate\": \"Regions=%{theta}<br>Annee=2006<br>Quantite=%{r}\", \"legendgroup\": \"Regions=Provence-Alpes-C\\u00f4te d'Azur\", \"marker\": {\"color\": \"#ed7953\"}, \"name\": \"Regions=Provence-Alpes-C\\u00f4te d'Azur\", \"r\": [1604.8153372781067], \"showlegend\": true, \"subplot\": \"polar\", \"theta\": [\"Provence-Alpes-C\\u00f4te d'Azur\"], \"type\": \"barpolar\"}, {\"hoverlabel\": {\"namelength\": 0}, \"hovertemplate\": \"Regions=%{theta}<br>Annee=2006<br>Quantite=%{r}\", \"legendgroup\": \"Regions=\\u00cele-de-France\", \"marker\": {\"color\": \"#d8576b\"}, \"name\": \"Regions=\\u00cele-de-France\", \"r\": [1473.1110651315796], \"showlegend\": true, \"subplot\": \"polar\", \"theta\": [\"\\u00cele-de-France\"], \"type\": \"barpolar\"}], \"name\": \"2006\"}, {\"data\": [{\"hoverlabel\": {\"namelength\": 0}, \"hovertemplate\": \"Regions=%{theta}<br>Annee=2007<br>Quantite=%{r}\", \"legendgroup\": \"Regions=Auvergne-Rh\\u00f4ne-Alpes\", \"marker\": {\"color\": \"#fdca26\"}, \"name\": \"Regions=Auvergne-Rh\\u00f4ne-Alpes\", \"r\": [1063.3300969911513], \"showlegend\": true, \"subplot\": \"polar\", \"theta\": [\"Auvergne-Rh\\u00f4ne-Alpes\"], \"type\": \"barpolar\"}, {\"hoverlabel\": {\"namelength\": 0}, \"hovertemplate\": \"Regions=%{theta}<br>Annee=2007<br>Quantite=%{r}\", \"legendgroup\": \"Regions=Bourgogne-Franche-Comt\\u00e9\", \"marker\": {\"color\": \"#fb9f3a\"}, \"name\": \"Regions=Bourgogne-Franche-Comt\\u00e9\", \"r\": [830.2055211940294], \"showlegend\": true, \"subplot\": \"polar\", \"theta\": [\"Bourgogne-Franche-Comt\\u00e9\"], \"type\": \"barpolar\"}, {\"hoverlabel\": {\"namelength\": 0}, \"hovertemplate\": \"Regions=%{theta}<br>Annee=2007<br>Quantite=%{r}\", \"legendgroup\": \"Regions=Bretagne\", \"marker\": {\"color\": \"#ed7953\"}, \"name\": \"Regions=Bretagne\", \"r\": [463.1914172043009], \"showlegend\": true, \"subplot\": \"polar\", \"theta\": [\"Bretagne\"], \"type\": \"barpolar\"}, {\"hoverlabel\": {\"namelength\": 0}, \"hovertemplate\": \"Regions=%{theta}<br>Annee=2007<br>Quantite=%{r}\", \"legendgroup\": \"Regions=Centre-Val de Loire\", \"marker\": {\"color\": \"#d8576b\"}, \"name\": \"Regions=Centre-Val de Loire\", \"r\": [427.0599226480838], \"showlegend\": true, \"subplot\": \"polar\", \"theta\": [\"Centre-Val de Loire\"], \"type\": \"barpolar\"}, {\"hoverlabel\": {\"namelength\": 0}, \"hovertemplate\": \"Regions=%{theta}<br>Annee=2007<br>Quantite=%{r}\", \"legendgroup\": \"Regions=Corse\", \"marker\": {\"color\": \"#bd3786\"}, \"name\": \"Regions=Corse\", \"r\": [4324.480142857143], \"showlegend\": true, \"subplot\": \"polar\", \"theta\": [\"Corse\"], \"type\": \"barpolar\"}, {\"hoverlabel\": {\"namelength\": 0}, \"hovertemplate\": \"Regions=%{theta}<br>Annee=2007<br>Quantite=%{r}\", \"legendgroup\": \"Regions=Grand Est\", \"marker\": {\"color\": \"#9c179e\"}, \"name\": \"Regions=Grand Est\", \"r\": [1381.1740955218197], \"showlegend\": true, \"subplot\": \"polar\", \"theta\": [\"Grand Est\"], \"type\": \"barpolar\"}, {\"hoverlabel\": {\"namelength\": 0}, \"hovertemplate\": \"Regions=%{theta}<br>Annee=2007<br>Quantite=%{r}\", \"legendgroup\": \"Regions=Hauts-de-France\", \"marker\": {\"color\": \"#7201a8\"}, \"name\": \"Regions=Hauts-de-France\", \"r\": [2101.7211202173926], \"showlegend\": true, \"subplot\": \"polar\", \"theta\": [\"Hauts-de-France\"], \"type\": \"barpolar\"}, {\"hoverlabel\": {\"namelength\": 0}, \"hovertemplate\": \"Regions=%{theta}<br>Annee=2007<br>Quantite=%{r}\", \"legendgroup\": \"Regions=Normandie\", \"marker\": {\"color\": \"#46039f\"}, \"name\": \"Regions=Normandie\", \"r\": [1338.5701666937657], \"showlegend\": true, \"subplot\": \"polar\", \"theta\": [\"Normandie\"], \"type\": \"barpolar\"}, {\"hoverlabel\": {\"namelength\": 0}, \"hovertemplate\": \"Regions=%{theta}<br>Annee=2007<br>Quantite=%{r}\", \"legendgroup\": \"Regions=Nouvelle-Aquitaine\", \"marker\": {\"color\": \"#0d0887\"}, \"name\": \"Regions=Nouvelle-Aquitaine\", \"r\": [789.4959042857143], \"showlegend\": true, \"subplot\": \"polar\", \"theta\": [\"Nouvelle-Aquitaine\"], \"type\": \"barpolar\"}, {\"hoverlabel\": {\"namelength\": 0}, \"hovertemplate\": \"Regions=%{theta}<br>Annee=2007<br>Quantite=%{r}\", \"legendgroup\": \"Regions=Occitanie\", \"marker\": {\"color\": \"#fdca26\"}, \"name\": \"Regions=Occitanie\", \"r\": [1024.009168899522], \"showlegend\": true, \"subplot\": \"polar\", \"theta\": [\"Occitanie\"], \"type\": \"barpolar\"}, {\"hoverlabel\": {\"namelength\": 0}, \"hovertemplate\": \"Regions=%{theta}<br>Annee=2007<br>Quantite=%{r}\", \"legendgroup\": \"Regions=Pays de la Loire\", \"marker\": {\"color\": \"#fb9f3a\"}, \"name\": \"Regions=Pays de la Loire\", \"r\": [565.54944559387], \"showlegend\": true, \"subplot\": \"polar\", \"theta\": [\"Pays de la Loire\"], \"type\": \"barpolar\"}, {\"hoverlabel\": {\"namelength\": 0}, \"hovertemplate\": \"Regions=%{theta}<br>Annee=2007<br>Quantite=%{r}\", \"legendgroup\": \"Regions=Provence-Alpes-C\\u00f4te d'Azur\", \"marker\": {\"color\": \"#ed7953\"}, \"name\": \"Regions=Provence-Alpes-C\\u00f4te d'Azur\", \"r\": [1316.6284484536081], \"showlegend\": true, \"subplot\": \"polar\", \"theta\": [\"Provence-Alpes-C\\u00f4te d'Azur\"], \"type\": \"barpolar\"}, {\"hoverlabel\": {\"namelength\": 0}, \"hovertemplate\": \"Regions=%{theta}<br>Annee=2007<br>Quantite=%{r}\", \"legendgroup\": \"Regions=\\u00cele-de-France\", \"marker\": {\"color\": \"#d8576b\"}, \"name\": \"Regions=\\u00cele-de-France\", \"r\": [1504.9344573446324], \"showlegend\": true, \"subplot\": \"polar\", \"theta\": [\"\\u00cele-de-France\"], \"type\": \"barpolar\"}], \"name\": \"2007\"}, {\"data\": [{\"hoverlabel\": {\"namelength\": 0}, \"hovertemplate\": \"Regions=%{theta}<br>Annee=2008<br>Quantite=%{r}\", \"legendgroup\": \"Regions=Auvergne-Rh\\u00f4ne-Alpes\", \"marker\": {\"color\": \"#fdca26\"}, \"name\": \"Regions=Auvergne-Rh\\u00f4ne-Alpes\", \"r\": [947.5900560855256], \"showlegend\": true, \"subplot\": \"polar\", \"theta\": [\"Auvergne-Rh\\u00f4ne-Alpes\"], \"type\": \"barpolar\"}, {\"hoverlabel\": {\"namelength\": 0}, \"hovertemplate\": \"Regions=%{theta}<br>Annee=2008<br>Quantite=%{r}\", \"legendgroup\": \"Regions=Bourgogne-Franche-Comt\\u00e9\", \"marker\": {\"color\": \"#fb9f3a\"}, \"name\": \"Regions=Bourgogne-Franche-Comt\\u00e9\", \"r\": [450.45815042372845], \"showlegend\": true, \"subplot\": \"polar\", \"theta\": [\"Bourgogne-Franche-Comt\\u00e9\"], \"type\": \"barpolar\"}, {\"hoverlabel\": {\"namelength\": 0}, \"hovertemplate\": \"Regions=%{theta}<br>Annee=2008<br>Quantite=%{r}\", \"legendgroup\": \"Regions=Bretagne\", \"marker\": {\"color\": \"#ed7953\"}, \"name\": \"Regions=Bretagne\", \"r\": [429.604411167513], \"showlegend\": true, \"subplot\": \"polar\", \"theta\": [\"Bretagne\"], \"type\": \"barpolar\"}, {\"hoverlabel\": {\"namelength\": 0}, \"hovertemplate\": \"Regions=%{theta}<br>Annee=2008<br>Quantite=%{r}\", \"legendgroup\": \"Regions=Centre-Val de Loire\", \"marker\": {\"color\": \"#d8576b\"}, \"name\": \"Regions=Centre-Val de Loire\", \"r\": [373.08720601265827], \"showlegend\": true, \"subplot\": \"polar\", \"theta\": [\"Centre-Val de Loire\"], \"type\": \"barpolar\"}, {\"hoverlabel\": {\"namelength\": 0}, \"hovertemplate\": \"Regions=%{theta}<br>Annee=2008<br>Quantite=%{r}\", \"legendgroup\": \"Regions=Corse\", \"marker\": {\"color\": \"#bd3786\"}, \"name\": \"Regions=Corse\", \"r\": [289.5965833333333], \"showlegend\": true, \"subplot\": \"polar\", \"theta\": [\"Corse\"], \"type\": \"barpolar\"}, {\"hoverlabel\": {\"namelength\": 0}, \"hovertemplate\": \"Regions=%{theta}<br>Annee=2008<br>Quantite=%{r}\", \"legendgroup\": \"Regions=Grand Est\", \"marker\": {\"color\": \"#9c179e\"}, \"name\": \"Regions=Grand Est\", \"r\": [1159.8962839279864], \"showlegend\": true, \"subplot\": \"polar\", \"theta\": [\"Grand Est\"], \"type\": \"barpolar\"}, {\"hoverlabel\": {\"namelength\": 0}, \"hovertemplate\": \"Regions=%{theta}<br>Annee=2008<br>Quantite=%{r}\", \"legendgroup\": \"Regions=Hauts-de-France\", \"marker\": {\"color\": \"#7201a8\"}, \"name\": \"Regions=Hauts-de-France\", \"r\": [1364.664845256609], \"showlegend\": true, \"subplot\": \"polar\", \"theta\": [\"Hauts-de-France\"], \"type\": \"barpolar\"}, {\"hoverlabel\": {\"namelength\": 0}, \"hovertemplate\": \"Regions=%{theta}<br>Annee=2008<br>Quantite=%{r}\", \"legendgroup\": \"Regions=Normandie\", \"marker\": {\"color\": \"#46039f\"}, \"name\": \"Regions=Normandie\", \"r\": [1283.8031232430365], \"showlegend\": true, \"subplot\": \"polar\", \"theta\": [\"Normandie\"], \"type\": \"barpolar\"}, {\"hoverlabel\": {\"namelength\": 0}, \"hovertemplate\": \"Regions=%{theta}<br>Annee=2008<br>Quantite=%{r}\", \"legendgroup\": \"Regions=Nouvelle-Aquitaine\", \"marker\": {\"color\": \"#0d0887\"}, \"name\": \"Regions=Nouvelle-Aquitaine\", \"r\": [653.4409184538654], \"showlegend\": true, \"subplot\": \"polar\", \"theta\": [\"Nouvelle-Aquitaine\"], \"type\": \"barpolar\"}, {\"hoverlabel\": {\"namelength\": 0}, \"hovertemplate\": \"Regions=%{theta}<br>Annee=2008<br>Quantite=%{r}\", \"legendgroup\": \"Regions=Occitanie\", \"marker\": {\"color\": \"#fdca26\"}, \"name\": \"Regions=Occitanie\", \"r\": [923.6340568442619], \"showlegend\": true, \"subplot\": \"polar\", \"theta\": [\"Occitanie\"], \"type\": \"barpolar\"}, {\"hoverlabel\": {\"namelength\": 0}, \"hovertemplate\": \"Regions=%{theta}<br>Annee=2008<br>Quantite=%{r}\", \"legendgroup\": \"Regions=Pays de la Loire\", \"marker\": {\"color\": \"#fb9f3a\"}, \"name\": \"Regions=Pays de la Loire\", \"r\": [498.0804570491801], \"showlegend\": true, \"subplot\": \"polar\", \"theta\": [\"Pays de la Loire\"], \"type\": \"barpolar\"}, {\"hoverlabel\": {\"namelength\": 0}, \"hovertemplate\": \"Regions=%{theta}<br>Annee=2008<br>Quantite=%{r}\", \"legendgroup\": \"Regions=Provence-Alpes-C\\u00f4te d'Azur\", \"marker\": {\"color\": \"#ed7953\"}, \"name\": \"Regions=Provence-Alpes-C\\u00f4te d'Azur\", \"r\": [1707.9741371287123], \"showlegend\": true, \"subplot\": \"polar\", \"theta\": [\"Provence-Alpes-C\\u00f4te d'Azur\"], \"type\": \"barpolar\"}, {\"hoverlabel\": {\"namelength\": 0}, \"hovertemplate\": \"Regions=%{theta}<br>Annee=2008<br>Quantite=%{r}\", \"legendgroup\": \"Regions=\\u00cele-de-France\", \"marker\": {\"color\": \"#d8576b\"}, \"name\": \"Regions=\\u00cele-de-France\", \"r\": [1265.6394589215681], \"showlegend\": true, \"subplot\": \"polar\", \"theta\": [\"\\u00cele-de-France\"], \"type\": \"barpolar\"}], \"name\": \"2008\"}, {\"data\": [{\"hoverlabel\": {\"namelength\": 0}, \"hovertemplate\": \"Regions=%{theta}<br>Annee=2009<br>Quantite=%{r}\", \"legendgroup\": \"Regions=Auvergne-Rh\\u00f4ne-Alpes\", \"marker\": {\"color\": \"#fdca26\"}, \"name\": \"Regions=Auvergne-Rh\\u00f4ne-Alpes\", \"r\": [781.4408680241326], \"showlegend\": true, \"subplot\": \"polar\", \"theta\": [\"Auvergne-Rh\\u00f4ne-Alpes\"], \"type\": \"barpolar\"}, {\"hoverlabel\": {\"namelength\": 0}, \"hovertemplate\": \"Regions=%{theta}<br>Annee=2009<br>Quantite=%{r}\", \"legendgroup\": \"Regions=Bourgogne-Franche-Comt\\u00e9\", \"marker\": {\"color\": \"#fb9f3a\"}, \"name\": \"Regions=Bourgogne-Franche-Comt\\u00e9\", \"r\": [393.979601436781], \"showlegend\": true, \"subplot\": \"polar\", \"theta\": [\"Bourgogne-Franche-Comt\\u00e9\"], \"type\": \"barpolar\"}, {\"hoverlabel\": {\"namelength\": 0}, \"hovertemplate\": \"Regions=%{theta}<br>Annee=2009<br>Quantite=%{r}\", \"legendgroup\": \"Regions=Bretagne\", \"marker\": {\"color\": \"#ed7953\"}, \"name\": \"Regions=Bretagne\", \"r\": [1115.6235153846155], \"showlegend\": true, \"subplot\": \"polar\", \"theta\": [\"Bretagne\"], \"type\": \"barpolar\"}, {\"hoverlabel\": {\"namelength\": 0}, \"hovertemplate\": \"Regions=%{theta}<br>Annee=2009<br>Quantite=%{r}\", \"legendgroup\": \"Regions=Centre-Val de Loire\", \"marker\": {\"color\": \"#d8576b\"}, \"name\": \"Regions=Centre-Val de Loire\", \"r\": [340.81900461904746], \"showlegend\": true, \"subplot\": \"polar\", \"theta\": [\"Centre-Val de Loire\"], \"type\": \"barpolar\"}, {\"hoverlabel\": {\"namelength\": 0}, \"hovertemplate\": \"Regions=%{theta}<br>Annee=2009<br>Quantite=%{r}\", \"legendgroup\": \"Regions=Corse\", \"marker\": {\"color\": \"#bd3786\"}, \"name\": \"Regions=Corse\", \"r\": [261.71616666666665], \"showlegend\": true, \"subplot\": \"polar\", \"theta\": [\"Corse\"], \"type\": \"barpolar\"}, {\"hoverlabel\": {\"namelength\": 0}, \"hovertemplate\": \"Regions=%{theta}<br>Annee=2009<br>Quantite=%{r}\", \"legendgroup\": \"Regions=Grand Est\", \"marker\": {\"color\": \"#9c179e\"}, \"name\": \"Regions=Grand Est\", \"r\": [986.3556504833837], \"showlegend\": true, \"subplot\": \"polar\", \"theta\": [\"Grand Est\"], \"type\": \"barpolar\"}, {\"hoverlabel\": {\"namelength\": 0}, \"hovertemplate\": \"Regions=%{theta}<br>Annee=2009<br>Quantite=%{r}\", \"legendgroup\": \"Regions=Hauts-de-France\", \"marker\": {\"color\": \"#7201a8\"}, \"name\": \"Regions=Hauts-de-France\", \"r\": [1163.2180835127056], \"showlegend\": true, \"subplot\": \"polar\", \"theta\": [\"Hauts-de-France\"], \"type\": \"barpolar\"}, {\"hoverlabel\": {\"namelength\": 0}, \"hovertemplate\": \"Regions=%{theta}<br>Annee=2009<br>Quantite=%{r}\", \"legendgroup\": \"Regions=Normandie\", \"marker\": {\"color\": \"#46039f\"}, \"name\": \"Regions=Normandie\", \"r\": [1290.1910879802958], \"showlegend\": true, \"subplot\": \"polar\", \"theta\": [\"Normandie\"], \"type\": \"barpolar\"}, {\"hoverlabel\": {\"namelength\": 0}, \"hovertemplate\": \"Regions=%{theta}<br>Annee=2009<br>Quantite=%{r}\", \"legendgroup\": \"Regions=Nouvelle-Aquitaine\", \"marker\": {\"color\": \"#0d0887\"}, \"name\": \"Regions=Nouvelle-Aquitaine\", \"r\": [590.2588811926605], \"showlegend\": true, \"subplot\": \"polar\", \"theta\": [\"Nouvelle-Aquitaine\"], \"type\": \"barpolar\"}, {\"hoverlabel\": {\"namelength\": 0}, \"hovertemplate\": \"Regions=%{theta}<br>Annee=2009<br>Quantite=%{r}\", \"legendgroup\": \"Regions=Occitanie\", \"marker\": {\"color\": \"#fdca26\"}, \"name\": \"Regions=Occitanie\", \"r\": [837.2810942528739], \"showlegend\": true, \"subplot\": \"polar\", \"theta\": [\"Occitanie\"], \"type\": \"barpolar\"}, {\"hoverlabel\": {\"namelength\": 0}, \"hovertemplate\": \"Regions=%{theta}<br>Annee=2009<br>Quantite=%{r}\", \"legendgroup\": \"Regions=Pays de la Loire\", \"marker\": {\"color\": \"#fb9f3a\"}, \"name\": \"Regions=Pays de la Loire\", \"r\": [364.0869650641027], \"showlegend\": true, \"subplot\": \"polar\", \"theta\": [\"Pays de la Loire\"], \"type\": \"barpolar\"}, {\"hoverlabel\": {\"namelength\": 0}, \"hovertemplate\": \"Regions=%{theta}<br>Annee=2009<br>Quantite=%{r}\", \"legendgroup\": \"Regions=Provence-Alpes-C\\u00f4te d'Azur\", \"marker\": {\"color\": \"#ed7953\"}, \"name\": \"Regions=Provence-Alpes-C\\u00f4te d'Azur\", \"r\": [1216.5763521400784], \"showlegend\": true, \"subplot\": \"polar\", \"theta\": [\"Provence-Alpes-C\\u00f4te d'Azur\"], \"type\": \"barpolar\"}, {\"hoverlabel\": {\"namelength\": 0}, \"hovertemplate\": \"Regions=%{theta}<br>Annee=2009<br>Quantite=%{r}\", \"legendgroup\": \"Regions=\\u00cele-de-France\", \"marker\": {\"color\": \"#d8576b\"}, \"name\": \"Regions=\\u00cele-de-France\", \"r\": [1194.6542476543204], \"showlegend\": true, \"subplot\": \"polar\", \"theta\": [\"\\u00cele-de-France\"], \"type\": \"barpolar\"}], \"name\": \"2009\"}, {\"data\": [{\"hoverlabel\": {\"namelength\": 0}, \"hovertemplate\": \"Regions=%{theta}<br>Annee=2010<br>Quantite=%{r}\", \"legendgroup\": \"Regions=Auvergne-Rh\\u00f4ne-Alpes\", \"marker\": {\"color\": \"#fdca26\"}, \"name\": \"Regions=Auvergne-Rh\\u00f4ne-Alpes\", \"r\": [951.6343490629182], \"showlegend\": true, \"subplot\": \"polar\", \"theta\": [\"Auvergne-Rh\\u00f4ne-Alpes\"], \"type\": \"barpolar\"}, {\"hoverlabel\": {\"namelength\": 0}, \"hovertemplate\": \"Regions=%{theta}<br>Annee=2010<br>Quantite=%{r}\", \"legendgroup\": \"Regions=Bourgogne-Franche-Comt\\u00e9\", \"marker\": {\"color\": \"#fb9f3a\"}, \"name\": \"Regions=Bourgogne-Franche-Comt\\u00e9\", \"r\": [533.539024550129], \"showlegend\": true, \"subplot\": \"polar\", \"theta\": [\"Bourgogne-Franche-Comt\\u00e9\"], \"type\": \"barpolar\"}, {\"hoverlabel\": {\"namelength\": 0}, \"hovertemplate\": \"Regions=%{theta}<br>Annee=2010<br>Quantite=%{r}\", \"legendgroup\": \"Regions=Bretagne\", \"marker\": {\"color\": \"#ed7953\"}, \"name\": \"Regions=Bretagne\", \"r\": [338.6479384879722], \"showlegend\": true, \"subplot\": \"polar\", \"theta\": [\"Bretagne\"], \"type\": \"barpolar\"}, {\"hoverlabel\": {\"namelength\": 0}, \"hovertemplate\": \"Regions=%{theta}<br>Annee=2010<br>Quantite=%{r}\", \"legendgroup\": \"Regions=Centre-Val de Loire\", \"marker\": {\"color\": \"#d8576b\"}, \"name\": \"Regions=Centre-Val de Loire\", \"r\": [410.2162318904112], \"showlegend\": true, \"subplot\": \"polar\", \"theta\": [\"Centre-Val de Loire\"], \"type\": \"barpolar\"}, {\"hoverlabel\": {\"namelength\": 0}, \"hovertemplate\": \"Regions=%{theta}<br>Annee=2010<br>Quantite=%{r}\", \"legendgroup\": \"Regions=Corse\", \"marker\": {\"color\": \"#bd3786\"}, \"name\": \"Regions=Corse\", \"r\": [174.47157142857142], \"showlegend\": true, \"subplot\": \"polar\", \"theta\": [\"Corse\"], \"type\": \"barpolar\"}, {\"hoverlabel\": {\"namelength\": 0}, \"hovertemplate\": \"Regions=%{theta}<br>Annee=2010<br>Quantite=%{r}\", \"legendgroup\": \"Regions=Grand Est\", \"marker\": {\"color\": \"#9c179e\"}, \"name\": \"Regions=Grand Est\", \"r\": [880.4393585714279], \"showlegend\": true, \"subplot\": \"polar\", \"theta\": [\"Grand Est\"], \"type\": \"barpolar\"}, {\"hoverlabel\": {\"namelength\": 0}, \"hovertemplate\": \"Regions=%{theta}<br>Annee=2010<br>Quantite=%{r}\", \"legendgroup\": \"Regions=Hauts-de-France\", \"marker\": {\"color\": \"#7201a8\"}, \"name\": \"Regions=Hauts-de-France\", \"r\": [998.7700543673712], \"showlegend\": true, \"subplot\": \"polar\", \"theta\": [\"Hauts-de-France\"], \"type\": \"barpolar\"}, {\"hoverlabel\": {\"namelength\": 0}, \"hovertemplate\": \"Regions=%{theta}<br>Annee=2010<br>Quantite=%{r}\", \"legendgroup\": \"Regions=Normandie\", \"marker\": {\"color\": \"#46039f\"}, \"name\": \"Regions=Normandie\", \"r\": [907.3320177450984], \"showlegend\": true, \"subplot\": \"polar\", \"theta\": [\"Normandie\"], \"type\": \"barpolar\"}, {\"hoverlabel\": {\"namelength\": 0}, \"hovertemplate\": \"Regions=%{theta}<br>Annee=2010<br>Quantite=%{r}\", \"legendgroup\": \"Regions=Nouvelle-Aquitaine\", \"marker\": {\"color\": \"#0d0887\"}, \"name\": \"Regions=Nouvelle-Aquitaine\", \"r\": [599.3833021758888], \"showlegend\": true, \"subplot\": \"polar\", \"theta\": [\"Nouvelle-Aquitaine\"], \"type\": \"barpolar\"}, {\"hoverlabel\": {\"namelength\": 0}, \"hovertemplate\": \"Regions=%{theta}<br>Annee=2010<br>Quantite=%{r}\", \"legendgroup\": \"Regions=Occitanie\", \"marker\": {\"color\": \"#fdca26\"}, \"name\": \"Regions=Occitanie\", \"r\": [828.2687560000002], \"showlegend\": true, \"subplot\": \"polar\", \"theta\": [\"Occitanie\"], \"type\": \"barpolar\"}, {\"hoverlabel\": {\"namelength\": 0}, \"hovertemplate\": \"Regions=%{theta}<br>Annee=2010<br>Quantite=%{r}\", \"legendgroup\": \"Regions=Pays de la Loire\", \"marker\": {\"color\": \"#fb9f3a\"}, \"name\": \"Regions=Pays de la Loire\", \"r\": [375.06964146341477], \"showlegend\": true, \"subplot\": \"polar\", \"theta\": [\"Pays de la Loire\"], \"type\": \"barpolar\"}, {\"hoverlabel\": {\"namelength\": 0}, \"hovertemplate\": \"Regions=%{theta}<br>Annee=2010<br>Quantite=%{r}\", \"legendgroup\": \"Regions=Provence-Alpes-C\\u00f4te d'Azur\", \"marker\": {\"color\": \"#ed7953\"}, \"name\": \"Regions=Provence-Alpes-C\\u00f4te d'Azur\", \"r\": [1197.2014501547997], \"showlegend\": true, \"subplot\": \"polar\", \"theta\": [\"Provence-Alpes-C\\u00f4te d'Azur\"], \"type\": \"barpolar\"}, {\"hoverlabel\": {\"namelength\": 0}, \"hovertemplate\": \"Regions=%{theta}<br>Annee=2010<br>Quantite=%{r}\", \"legendgroup\": \"Regions=\\u00cele-de-France\", \"marker\": {\"color\": \"#d8576b\"}, \"name\": \"Regions=\\u00cele-de-France\", \"r\": [991.155955419222], \"showlegend\": true, \"subplot\": \"polar\", \"theta\": [\"\\u00cele-de-France\"], \"type\": \"barpolar\"}], \"name\": \"2010\"}, {\"data\": [{\"hoverlabel\": {\"namelength\": 0}, \"hovertemplate\": \"Regions=%{theta}<br>Annee=2011<br>Quantite=%{r}\", \"legendgroup\": \"Regions=Auvergne-Rh\\u00f4ne-Alpes\", \"marker\": {\"color\": \"#fdca26\"}, \"name\": \"Regions=Auvergne-Rh\\u00f4ne-Alpes\", \"r\": [740.7847035398224], \"showlegend\": true, \"subplot\": \"polar\", \"theta\": [\"Auvergne-Rh\\u00f4ne-Alpes\"], \"type\": \"barpolar\"}, {\"hoverlabel\": {\"namelength\": 0}, \"hovertemplate\": \"Regions=%{theta}<br>Annee=2011<br>Quantite=%{r}\", \"legendgroup\": \"Regions=Bourgogne-Franche-Comt\\u00e9\", \"marker\": {\"color\": \"#fb9f3a\"}, \"name\": \"Regions=Bourgogne-Franche-Comt\\u00e9\", \"r\": [469.2727832098768], \"showlegend\": true, \"subplot\": \"polar\", \"theta\": [\"Bourgogne-Franche-Comt\\u00e9\"], \"type\": \"barpolar\"}, {\"hoverlabel\": {\"namelength\": 0}, \"hovertemplate\": \"Regions=%{theta}<br>Annee=2011<br>Quantite=%{r}\", \"legendgroup\": \"Regions=Bretagne\", \"marker\": {\"color\": \"#ed7953\"}, \"name\": \"Regions=Bretagne\", \"r\": [353.00759069767446], \"showlegend\": true, \"subplot\": \"polar\", \"theta\": [\"Bretagne\"], \"type\": \"barpolar\"}, {\"hoverlabel\": {\"namelength\": 0}, \"hovertemplate\": \"Regions=%{theta}<br>Annee=2011<br>Quantite=%{r}\", \"legendgroup\": \"Regions=Centre-Val de Loire\", \"marker\": {\"color\": \"#d8576b\"}, \"name\": \"Regions=Centre-Val de Loire\", \"r\": [398.8895734159783], \"showlegend\": true, \"subplot\": \"polar\", \"theta\": [\"Centre-Val de Loire\"], \"type\": \"barpolar\"}, {\"hoverlabel\": {\"namelength\": 0}, \"hovertemplate\": \"Regions=%{theta}<br>Annee=2011<br>Quantite=%{r}\", \"legendgroup\": \"Regions=Corse\", \"marker\": {\"color\": \"#bd3786\"}, \"name\": \"Regions=Corse\", \"r\": [153.93022222222223], \"showlegend\": true, \"subplot\": \"polar\", \"theta\": [\"Corse\"], \"type\": \"barpolar\"}, {\"hoverlabel\": {\"namelength\": 0}, \"hovertemplate\": \"Regions=%{theta}<br>Annee=2011<br>Quantite=%{r}\", \"legendgroup\": \"Regions=Grand Est\", \"marker\": {\"color\": \"#9c179e\"}, \"name\": \"Regions=Grand Est\", \"r\": [807.3518499745537], \"showlegend\": true, \"subplot\": \"polar\", \"theta\": [\"Grand Est\"], \"type\": \"barpolar\"}, {\"hoverlabel\": {\"namelength\": 0}, \"hovertemplate\": \"Regions=%{theta}<br>Annee=2011<br>Quantite=%{r}\", \"legendgroup\": \"Regions=Hauts-de-France\", \"marker\": {\"color\": \"#7201a8\"}, \"name\": \"Regions=Hauts-de-France\", \"r\": [1282.4873128589236], \"showlegend\": true, \"subplot\": \"polar\", \"theta\": [\"Hauts-de-France\"], \"type\": \"barpolar\"}, {\"hoverlabel\": {\"namelength\": 0}, \"hovertemplate\": \"Regions=%{theta}<br>Annee=2011<br>Quantite=%{r}\", \"legendgroup\": \"Regions=Normandie\", \"marker\": {\"color\": \"#46039f\"}, \"name\": \"Regions=Normandie\", \"r\": [917.3288041825091], \"showlegend\": true, \"subplot\": \"polar\", \"theta\": [\"Normandie\"], \"type\": \"barpolar\"}, {\"hoverlabel\": {\"namelength\": 0}, \"hovertemplate\": \"Regions=%{theta}<br>Annee=2011<br>Quantite=%{r}\", \"legendgroup\": \"Regions=Nouvelle-Aquitaine\", \"marker\": {\"color\": \"#0d0887\"}, \"name\": \"Regions=Nouvelle-Aquitaine\", \"r\": [581.7239721323526], \"showlegend\": true, \"subplot\": \"polar\", \"theta\": [\"Nouvelle-Aquitaine\"], \"type\": \"barpolar\"}, {\"hoverlabel\": {\"namelength\": 0}, \"hovertemplate\": \"Regions=%{theta}<br>Annee=2011<br>Quantite=%{r}\", \"legendgroup\": \"Regions=Occitanie\", \"marker\": {\"color\": \"#fdca26\"}, \"name\": \"Regions=Occitanie\", \"r\": [840.1735488125001], \"showlegend\": true, \"subplot\": \"polar\", \"theta\": [\"Occitanie\"], \"type\": \"barpolar\"}, {\"hoverlabel\": {\"namelength\": 0}, \"hovertemplate\": \"Regions=%{theta}<br>Annee=2011<br>Quantite=%{r}\", \"legendgroup\": \"Regions=Pays de la Loire\", \"marker\": {\"color\": \"#fb9f3a\"}, \"name\": \"Regions=Pays de la Loire\", \"r\": [333.21155607710284], \"showlegend\": true, \"subplot\": \"polar\", \"theta\": [\"Pays de la Loire\"], \"type\": \"barpolar\"}, {\"hoverlabel\": {\"namelength\": 0}, \"hovertemplate\": \"Regions=%{theta}<br>Annee=2011<br>Quantite=%{r}\", \"legendgroup\": \"Regions=Provence-Alpes-C\\u00f4te d'Azur\", \"marker\": {\"color\": \"#ed7953\"}, \"name\": \"Regions=Provence-Alpes-C\\u00f4te d'Azur\", \"r\": [1033.5677411949696], \"showlegend\": true, \"subplot\": \"polar\", \"theta\": [\"Provence-Alpes-C\\u00f4te d'Azur\"], \"type\": \"barpolar\"}, {\"hoverlabel\": {\"namelength\": 0}, \"hovertemplate\": \"Regions=%{theta}<br>Annee=2011<br>Quantite=%{r}\", \"legendgroup\": \"Regions=\\u00cele-de-France\", \"marker\": {\"color\": \"#d8576b\"}, \"name\": \"Regions=\\u00cele-de-France\", \"r\": [1070.6482579029123], \"showlegend\": true, \"subplot\": \"polar\", \"theta\": [\"\\u00cele-de-France\"], \"type\": \"barpolar\"}], \"name\": \"2011\"}, {\"data\": [{\"hoverlabel\": {\"namelength\": 0}, \"hovertemplate\": \"Regions=%{theta}<br>Annee=2012<br>Quantite=%{r}\", \"legendgroup\": \"Regions=Auvergne-Rh\\u00f4ne-Alpes\", \"marker\": {\"color\": \"#fdca26\"}, \"name\": \"Regions=Auvergne-Rh\\u00f4ne-Alpes\", \"r\": [806.0845810764254], \"showlegend\": true, \"subplot\": \"polar\", \"theta\": [\"Auvergne-Rh\\u00f4ne-Alpes\"], \"type\": \"barpolar\"}, {\"hoverlabel\": {\"namelength\": 0}, \"hovertemplate\": \"Regions=%{theta}<br>Annee=2012<br>Quantite=%{r}\", \"legendgroup\": \"Regions=Bourgogne-Franche-Comt\\u00e9\", \"marker\": {\"color\": \"#fb9f3a\"}, \"name\": \"Regions=Bourgogne-Franche-Comt\\u00e9\", \"r\": [439.2398982984294], \"showlegend\": true, \"subplot\": \"polar\", \"theta\": [\"Bourgogne-Franche-Comt\\u00e9\"], \"type\": \"barpolar\"}, {\"hoverlabel\": {\"namelength\": 0}, \"hovertemplate\": \"Regions=%{theta}<br>Annee=2012<br>Quantite=%{r}\", \"legendgroup\": \"Regions=Bretagne\", \"marker\": {\"color\": \"#ed7953\"}, \"name\": \"Regions=Bretagne\", \"r\": [519.9133615160354], \"showlegend\": true, \"subplot\": \"polar\", \"theta\": [\"Bretagne\"], \"type\": \"barpolar\"}, {\"hoverlabel\": {\"namelength\": 0}, \"hovertemplate\": \"Regions=%{theta}<br>Annee=2012<br>Quantite=%{r}\", \"legendgroup\": \"Regions=Centre-Val de Loire\", \"marker\": {\"color\": \"#d8576b\"}, \"name\": \"Regions=Centre-Val de Loire\", \"r\": [391.7019078589418], \"showlegend\": true, \"subplot\": \"polar\", \"theta\": [\"Centre-Val de Loire\"], \"type\": \"barpolar\"}, {\"hoverlabel\": {\"namelength\": 0}, \"hovertemplate\": \"Regions=%{theta}<br>Annee=2012<br>Quantite=%{r}\", \"legendgroup\": \"Regions=Corse\", \"marker\": {\"color\": \"#bd3786\"}, \"name\": \"Regions=Corse\", \"r\": [245.2000625], \"showlegend\": true, \"subplot\": \"polar\", \"theta\": [\"Corse\"], \"type\": \"barpolar\"}, {\"hoverlabel\": {\"namelength\": 0}, \"hovertemplate\": \"Regions=%{theta}<br>Annee=2012<br>Quantite=%{r}\", \"legendgroup\": \"Regions=Grand Est\", \"marker\": {\"color\": \"#9c179e\"}, \"name\": \"Regions=Grand Est\", \"r\": [941.9016376491647], \"showlegend\": true, \"subplot\": \"polar\", \"theta\": [\"Grand Est\"], \"type\": \"barpolar\"}, {\"hoverlabel\": {\"namelength\": 0}, \"hovertemplate\": \"Regions=%{theta}<br>Annee=2012<br>Quantite=%{r}\", \"legendgroup\": \"Regions=Hauts-de-France\", \"marker\": {\"color\": \"#7201a8\"}, \"name\": \"Regions=Hauts-de-France\", \"r\": [1076.7570692457302], \"showlegend\": true, \"subplot\": \"polar\", \"theta\": [\"Hauts-de-France\"], \"type\": \"barpolar\"}, {\"hoverlabel\": {\"namelength\": 0}, \"hovertemplate\": \"Regions=%{theta}<br>Annee=2012<br>Quantite=%{r}\", \"legendgroup\": \"Regions=Normandie\", \"marker\": {\"color\": \"#46039f\"}, \"name\": \"Regions=Normandie\", \"r\": [979.9573733590735], \"showlegend\": true, \"subplot\": \"polar\", \"theta\": [\"Normandie\"], \"type\": \"barpolar\"}, {\"hoverlabel\": {\"namelength\": 0}, \"hovertemplate\": \"Regions=%{theta}<br>Annee=2012<br>Quantite=%{r}\", \"legendgroup\": \"Regions=Nouvelle-Aquitaine\", \"marker\": {\"color\": \"#0d0887\"}, \"name\": \"Regions=Nouvelle-Aquitaine\", \"r\": [661.4284352188553], \"showlegend\": true, \"subplot\": \"polar\", \"theta\": [\"Nouvelle-Aquitaine\"], \"type\": \"barpolar\"}, {\"hoverlabel\": {\"namelength\": 0}, \"hovertemplate\": \"Regions=%{theta}<br>Annee=2012<br>Quantite=%{r}\", \"legendgroup\": \"Regions=Occitanie\", \"marker\": {\"color\": \"#fdca26\"}, \"name\": \"Regions=Occitanie\", \"r\": [1161.2991463908052], \"showlegend\": true, \"subplot\": \"polar\", \"theta\": [\"Occitanie\"], \"type\": \"barpolar\"}, {\"hoverlabel\": {\"namelength\": 0}, \"hovertemplate\": \"Regions=%{theta}<br>Annee=2012<br>Quantite=%{r}\", \"legendgroup\": \"Regions=Pays de la Loire\", \"marker\": {\"color\": \"#fb9f3a\"}, \"name\": \"Regions=Pays de la Loire\", \"r\": [464.04690299145284], \"showlegend\": true, \"subplot\": \"polar\", \"theta\": [\"Pays de la Loire\"], \"type\": \"barpolar\"}, {\"hoverlabel\": {\"namelength\": 0}, \"hovertemplate\": \"Regions=%{theta}<br>Annee=2012<br>Quantite=%{r}\", \"legendgroup\": \"Regions=Provence-Alpes-C\\u00f4te d'Azur\", \"marker\": {\"color\": \"#ed7953\"}, \"name\": \"Regions=Provence-Alpes-C\\u00f4te d'Azur\", \"r\": [960.1489165873027], \"showlegend\": true, \"subplot\": \"polar\", \"theta\": [\"Provence-Alpes-C\\u00f4te d'Azur\"], \"type\": \"barpolar\"}, {\"hoverlabel\": {\"namelength\": 0}, \"hovertemplate\": \"Regions=%{theta}<br>Annee=2012<br>Quantite=%{r}\", \"legendgroup\": \"Regions=\\u00cele-de-France\", \"marker\": {\"color\": \"#d8576b\"}, \"name\": \"Regions=\\u00cele-de-France\", \"r\": [1094.2315125086507], \"showlegend\": true, \"subplot\": \"polar\", \"theta\": [\"\\u00cele-de-France\"], \"type\": \"barpolar\"}], \"name\": \"2012\"}, {\"data\": [{\"hoverlabel\": {\"namelength\": 0}, \"hovertemplate\": \"Regions=%{theta}<br>Annee=2013<br>Quantite=%{r}\", \"legendgroup\": \"Regions=Auvergne-Rh\\u00f4ne-Alpes\", \"marker\": {\"color\": \"#fdca26\"}, \"name\": \"Regions=Auvergne-Rh\\u00f4ne-Alpes\", \"r\": [779.7721751899998], \"showlegend\": true, \"subplot\": \"polar\", \"theta\": [\"Auvergne-Rh\\u00f4ne-Alpes\"], \"type\": \"barpolar\"}, {\"hoverlabel\": {\"namelength\": 0}, \"hovertemplate\": \"Regions=%{theta}<br>Annee=2013<br>Quantite=%{r}\", \"legendgroup\": \"Regions=Bourgogne-Franche-Comt\\u00e9\", \"marker\": {\"color\": \"#fb9f3a\"}, \"name\": \"Regions=Bourgogne-Franche-Comt\\u00e9\", \"r\": [457.50054673913013], \"showlegend\": true, \"subplot\": \"polar\", \"theta\": [\"Bourgogne-Franche-Comt\\u00e9\"], \"type\": \"barpolar\"}, {\"hoverlabel\": {\"namelength\": 0}, \"hovertemplate\": \"Regions=%{theta}<br>Annee=2013<br>Quantite=%{r}\", \"legendgroup\": \"Regions=Bretagne\", \"marker\": {\"color\": \"#ed7953\"}, \"name\": \"Regions=Bretagne\", \"r\": [416.39746592592627], \"showlegend\": true, \"subplot\": \"polar\", \"theta\": [\"Bretagne\"], \"type\": \"barpolar\"}, {\"hoverlabel\": {\"namelength\": 0}, \"hovertemplate\": \"Regions=%{theta}<br>Annee=2013<br>Quantite=%{r}\", \"legendgroup\": \"Regions=Centre-Val de Loire\", \"marker\": {\"color\": \"#d8576b\"}, \"name\": \"Regions=Centre-Val de Loire\", \"r\": [393.64865687437174], \"showlegend\": true, \"subplot\": \"polar\", \"theta\": [\"Centre-Val de Loire\"], \"type\": \"barpolar\"}, {\"hoverlabel\": {\"namelength\": 0}, \"hovertemplate\": \"Regions=%{theta}<br>Annee=2013<br>Quantite=%{r}\", \"legendgroup\": \"Regions=Corse\", \"marker\": {\"color\": \"#bd3786\"}, \"name\": \"Regions=Corse\", \"r\": [252.25608333333332], \"showlegend\": true, \"subplot\": \"polar\", \"theta\": [\"Corse\"], \"type\": \"barpolar\"}, {\"hoverlabel\": {\"namelength\": 0}, \"hovertemplate\": \"Regions=%{theta}<br>Annee=2013<br>Quantite=%{r}\", \"legendgroup\": \"Regions=Grand Est\", \"marker\": {\"color\": \"#9c179e\"}, \"name\": \"Regions=Grand Est\", \"r\": [921.1874388000002], \"showlegend\": true, \"subplot\": \"polar\", \"theta\": [\"Grand Est\"], \"type\": \"barpolar\"}, {\"hoverlabel\": {\"namelength\": 0}, \"hovertemplate\": \"Regions=%{theta}<br>Annee=2013<br>Quantite=%{r}\", \"legendgroup\": \"Regions=Hauts-de-France\", \"marker\": {\"color\": \"#7201a8\"}, \"name\": \"Regions=Hauts-de-France\", \"r\": [1240.8229701995563], \"showlegend\": true, \"subplot\": \"polar\", \"theta\": [\"Hauts-de-France\"], \"type\": \"barpolar\"}, {\"hoverlabel\": {\"namelength\": 0}, \"hovertemplate\": \"Regions=%{theta}<br>Annee=2013<br>Quantite=%{r}\", \"legendgroup\": \"Regions=Normandie\", \"marker\": {\"color\": \"#46039f\"}, \"name\": \"Regions=Normandie\", \"r\": [1035.1160633849997], \"showlegend\": true, \"subplot\": \"polar\", \"theta\": [\"Normandie\"], \"type\": \"barpolar\"}, {\"hoverlabel\": {\"namelength\": 0}, \"hovertemplate\": \"Regions=%{theta}<br>Annee=2013<br>Quantite=%{r}\", \"legendgroup\": \"Regions=Nouvelle-Aquitaine\", \"marker\": {\"color\": \"#0d0887\"}, \"name\": \"Regions=Nouvelle-Aquitaine\", \"r\": [763.1149455095536], \"showlegend\": true, \"subplot\": \"polar\", \"theta\": [\"Nouvelle-Aquitaine\"], \"type\": \"barpolar\"}, {\"hoverlabel\": {\"namelength\": 0}, \"hovertemplate\": \"Regions=%{theta}<br>Annee=2013<br>Quantite=%{r}\", \"legendgroup\": \"Regions=Occitanie\", \"marker\": {\"color\": \"#fdca26\"}, \"name\": \"Regions=Occitanie\", \"r\": [1018.6037722727278], \"showlegend\": true, \"subplot\": \"polar\", \"theta\": [\"Occitanie\"], \"type\": \"barpolar\"}, {\"hoverlabel\": {\"namelength\": 0}, \"hovertemplate\": \"Regions=%{theta}<br>Annee=2013<br>Quantite=%{r}\", \"legendgroup\": \"Regions=Pays de la Loire\", \"marker\": {\"color\": \"#fb9f3a\"}, \"name\": \"Regions=Pays de la Loire\", \"r\": [453.11064476817313], \"showlegend\": true, \"subplot\": \"polar\", \"theta\": [\"Pays de la Loire\"], \"type\": \"barpolar\"}, {\"hoverlabel\": {\"namelength\": 0}, \"hovertemplate\": \"Regions=%{theta}<br>Annee=2013<br>Quantite=%{r}\", \"legendgroup\": \"Regions=Provence-Alpes-C\\u00f4te d'Azur\", \"marker\": {\"color\": \"#ed7953\"}, \"name\": \"Regions=Provence-Alpes-C\\u00f4te d'Azur\", \"r\": [1049.2897690684952], \"showlegend\": true, \"subplot\": \"polar\", \"theta\": [\"Provence-Alpes-C\\u00f4te d'Azur\"], \"type\": \"barpolar\"}, {\"hoverlabel\": {\"namelength\": 0}, \"hovertemplate\": \"Regions=%{theta}<br>Annee=2013<br>Quantite=%{r}\", \"legendgroup\": \"Regions=\\u00cele-de-France\", \"marker\": {\"color\": \"#d8576b\"}, \"name\": \"Regions=\\u00cele-de-France\", \"r\": [1036.8904819270676], \"showlegend\": true, \"subplot\": \"polar\", \"theta\": [\"\\u00cele-de-France\"], \"type\": \"barpolar\"}], \"name\": \"2013\"}, {\"data\": [{\"hoverlabel\": {\"namelength\": 0}, \"hovertemplate\": \"Regions=%{theta}<br>Annee=2014<br>Quantite=%{r}\", \"legendgroup\": \"Regions=Auvergne-Rh\\u00f4ne-Alpes\", \"marker\": {\"color\": \"#fdca26\"}, \"name\": \"Regions=Auvergne-Rh\\u00f4ne-Alpes\", \"r\": [779.707867551211], \"showlegend\": true, \"subplot\": \"polar\", \"theta\": [\"Auvergne-Rh\\u00f4ne-Alpes\"], \"type\": \"barpolar\"}, {\"hoverlabel\": {\"namelength\": 0}, \"hovertemplate\": \"Regions=%{theta}<br>Annee=2014<br>Quantite=%{r}\", \"legendgroup\": \"Regions=Bourgogne-Franche-Comt\\u00e9\", \"marker\": {\"color\": \"#fb9f3a\"}, \"name\": \"Regions=Bourgogne-Franche-Comt\\u00e9\", \"r\": [433.0651057542581], \"showlegend\": true, \"subplot\": \"polar\", \"theta\": [\"Bourgogne-Franche-Comt\\u00e9\"], \"type\": \"barpolar\"}, {\"hoverlabel\": {\"namelength\": 0}, \"hovertemplate\": \"Regions=%{theta}<br>Annee=2014<br>Quantite=%{r}\", \"legendgroup\": \"Regions=Bretagne\", \"marker\": {\"color\": \"#ed7953\"}, \"name\": \"Regions=Bretagne\", \"r\": [464.74140238726744], \"showlegend\": true, \"subplot\": \"polar\", \"theta\": [\"Bretagne\"], \"type\": \"barpolar\"}, {\"hoverlabel\": {\"namelength\": 0}, \"hovertemplate\": \"Regions=%{theta}<br>Annee=2014<br>Quantite=%{r}\", \"legendgroup\": \"Regions=Centre-Val de Loire\", \"marker\": {\"color\": \"#d8576b\"}, \"name\": \"Regions=Centre-Val de Loire\", \"r\": [356.81976297229204], \"showlegend\": true, \"subplot\": \"polar\", \"theta\": [\"Centre-Val de Loire\"], \"type\": \"barpolar\"}, {\"hoverlabel\": {\"namelength\": 0}, \"hovertemplate\": \"Regions=%{theta}<br>Annee=2014<br>Quantite=%{r}\", \"legendgroup\": \"Regions=Corse\", \"marker\": {\"color\": \"#bd3786\"}, \"name\": \"Regions=Corse\", \"r\": [298.08652777777775], \"showlegend\": true, \"subplot\": \"polar\", \"theta\": [\"Corse\"], \"type\": \"barpolar\"}, {\"hoverlabel\": {\"namelength\": 0}, \"hovertemplate\": \"Regions=%{theta}<br>Annee=2014<br>Quantite=%{r}\", \"legendgroup\": \"Regions=Grand Est\", \"marker\": {\"color\": \"#9c179e\"}, \"name\": \"Regions=Grand Est\", \"r\": [820.4001148814739], \"showlegend\": true, \"subplot\": \"polar\", \"theta\": [\"Grand Est\"], \"type\": \"barpolar\"}, {\"hoverlabel\": {\"namelength\": 0}, \"hovertemplate\": \"Regions=%{theta}<br>Annee=2014<br>Quantite=%{r}\", \"legendgroup\": \"Regions=Hauts-de-France\", \"marker\": {\"color\": \"#7201a8\"}, \"name\": \"Regions=Hauts-de-France\", \"r\": [1066.0411809687155], \"showlegend\": true, \"subplot\": \"polar\", \"theta\": [\"Hauts-de-France\"], \"type\": \"barpolar\"}, {\"hoverlabel\": {\"namelength\": 0}, \"hovertemplate\": \"Regions=%{theta}<br>Annee=2014<br>Quantite=%{r}\", \"legendgroup\": \"Regions=Normandie\", \"marker\": {\"color\": \"#46039f\"}, \"name\": \"Regions=Normandie\", \"r\": [1222.098797183099], \"showlegend\": true, \"subplot\": \"polar\", \"theta\": [\"Normandie\"], \"type\": \"barpolar\"}, {\"hoverlabel\": {\"namelength\": 0}, \"hovertemplate\": \"Regions=%{theta}<br>Annee=2014<br>Quantite=%{r}\", \"legendgroup\": \"Regions=Nouvelle-Aquitaine\", \"marker\": {\"color\": \"#0d0887\"}, \"name\": \"Regions=Nouvelle-Aquitaine\", \"r\": [574.2359590654202], \"showlegend\": true, \"subplot\": \"polar\", \"theta\": [\"Nouvelle-Aquitaine\"], \"type\": \"barpolar\"}, {\"hoverlabel\": {\"namelength\": 0}, \"hovertemplate\": \"Regions=%{theta}<br>Annee=2014<br>Quantite=%{r}\", \"legendgroup\": \"Regions=Occitanie\", \"marker\": {\"color\": \"#fdca26\"}, \"name\": \"Regions=Occitanie\", \"r\": [955.2268811133604], \"showlegend\": true, \"subplot\": \"polar\", \"theta\": [\"Occitanie\"], \"type\": \"barpolar\"}, {\"hoverlabel\": {\"namelength\": 0}, \"hovertemplate\": \"Regions=%{theta}<br>Annee=2014<br>Quantite=%{r}\", \"legendgroup\": \"Regions=Pays de la Loire\", \"marker\": {\"color\": \"#fb9f3a\"}, \"name\": \"Regions=Pays de la Loire\", \"r\": [399.6874343453512], \"showlegend\": true, \"subplot\": \"polar\", \"theta\": [\"Pays de la Loire\"], \"type\": \"barpolar\"}, {\"hoverlabel\": {\"namelength\": 0}, \"hovertemplate\": \"Regions=%{theta}<br>Annee=2014<br>Quantite=%{r}\", \"legendgroup\": \"Regions=Provence-Alpes-C\\u00f4te d'Azur\", \"marker\": {\"color\": \"#ed7953\"}, \"name\": \"Regions=Provence-Alpes-C\\u00f4te d'Azur\", \"r\": [971.2018352654156], \"showlegend\": true, \"subplot\": \"polar\", \"theta\": [\"Provence-Alpes-C\\u00f4te d'Azur\"], \"type\": \"barpolar\"}, {\"hoverlabel\": {\"namelength\": 0}, \"hovertemplate\": \"Regions=%{theta}<br>Annee=2014<br>Quantite=%{r}\", \"legendgroup\": \"Regions=\\u00cele-de-France\", \"marker\": {\"color\": \"#d8576b\"}, \"name\": \"Regions=\\u00cele-de-France\", \"r\": [990.5095456910572], \"showlegend\": true, \"subplot\": \"polar\", \"theta\": [\"\\u00cele-de-France\"], \"type\": \"barpolar\"}], \"name\": \"2014\"}, {\"data\": [{\"hoverlabel\": {\"namelength\": 0}, \"hovertemplate\": \"Regions=%{theta}<br>Annee=2015<br>Quantite=%{r}\", \"legendgroup\": \"Regions=Auvergne-Rh\\u00f4ne-Alpes\", \"marker\": {\"color\": \"#fdca26\"}, \"name\": \"Regions=Auvergne-Rh\\u00f4ne-Alpes\", \"r\": [715.6622092305652], \"showlegend\": true, \"subplot\": \"polar\", \"theta\": [\"Auvergne-Rh\\u00f4ne-Alpes\"], \"type\": \"barpolar\"}, {\"hoverlabel\": {\"namelength\": 0}, \"hovertemplate\": \"Regions=%{theta}<br>Annee=2015<br>Quantite=%{r}\", \"legendgroup\": \"Regions=Bourgogne-Franche-Comt\\u00e9\", \"marker\": {\"color\": \"#fb9f3a\"}, \"name\": \"Regions=Bourgogne-Franche-Comt\\u00e9\", \"r\": [514.9913134042553], \"showlegend\": true, \"subplot\": \"polar\", \"theta\": [\"Bourgogne-Franche-Comt\\u00e9\"], \"type\": \"barpolar\"}, {\"hoverlabel\": {\"namelength\": 0}, \"hovertemplate\": \"Regions=%{theta}<br>Annee=2015<br>Quantite=%{r}\", \"legendgroup\": \"Regions=Bretagne\", \"marker\": {\"color\": \"#ed7953\"}, \"name\": \"Regions=Bretagne\", \"r\": [465.771926026316], \"showlegend\": true, \"subplot\": \"polar\", \"theta\": [\"Bretagne\"], \"type\": \"barpolar\"}, {\"hoverlabel\": {\"namelength\": 0}, \"hovertemplate\": \"Regions=%{theta}<br>Annee=2015<br>Quantite=%{r}\", \"legendgroup\": \"Regions=Centre-Val de Loire\", \"marker\": {\"color\": \"#d8576b\"}, \"name\": \"Regions=Centre-Val de Loire\", \"r\": [363.45261596642666], \"showlegend\": true, \"subplot\": \"polar\", \"theta\": [\"Centre-Val de Loire\"], \"type\": \"barpolar\"}, {\"hoverlabel\": {\"namelength\": 0}, \"hovertemplate\": \"Regions=%{theta}<br>Annee=2015<br>Quantite=%{r}\", \"legendgroup\": \"Regions=Corse\", \"marker\": {\"color\": \"#bd3786\"}, \"name\": \"Regions=Corse\", \"r\": [272.8576842105263], \"showlegend\": true, \"subplot\": \"polar\", \"theta\": [\"Corse\"], \"type\": \"barpolar\"}, {\"hoverlabel\": {\"namelength\": 0}, \"hovertemplate\": \"Regions=%{theta}<br>Annee=2015<br>Quantite=%{r}\", \"legendgroup\": \"Regions=Grand Est\", \"marker\": {\"color\": \"#9c179e\"}, \"name\": \"Regions=Grand Est\", \"r\": [855.4874011497715], \"showlegend\": true, \"subplot\": \"polar\", \"theta\": [\"Grand Est\"], \"type\": \"barpolar\"}, {\"hoverlabel\": {\"namelength\": 0}, \"hovertemplate\": \"Regions=%{theta}<br>Annee=2015<br>Quantite=%{r}\", \"legendgroup\": \"Regions=Hauts-de-France\", \"marker\": {\"color\": \"#7201a8\"}, \"name\": \"Regions=Hauts-de-France\", \"r\": [999.2707282827719], \"showlegend\": true, \"subplot\": \"polar\", \"theta\": [\"Hauts-de-France\"], \"type\": \"barpolar\"}, {\"hoverlabel\": {\"namelength\": 0}, \"hovertemplate\": \"Regions=%{theta}<br>Annee=2015<br>Quantite=%{r}\", \"legendgroup\": \"Regions=Normandie\", \"marker\": {\"color\": \"#46039f\"}, \"name\": \"Regions=Normandie\", \"r\": [1221.4341452293593], \"showlegend\": true, \"subplot\": \"polar\", \"theta\": [\"Normandie\"], \"type\": \"barpolar\"}, {\"hoverlabel\": {\"namelength\": 0}, \"hovertemplate\": \"Regions=%{theta}<br>Annee=2015<br>Quantite=%{r}\", \"legendgroup\": \"Regions=Nouvelle-Aquitaine\", \"marker\": {\"color\": \"#0d0887\"}, \"name\": \"Regions=Nouvelle-Aquitaine\", \"r\": [571.0404846428571], \"showlegend\": true, \"subplot\": \"polar\", \"theta\": [\"Nouvelle-Aquitaine\"], \"type\": \"barpolar\"}, {\"hoverlabel\": {\"namelength\": 0}, \"hovertemplate\": \"Regions=%{theta}<br>Annee=2015<br>Quantite=%{r}\", \"legendgroup\": \"Regions=Occitanie\", \"marker\": {\"color\": \"#fdca26\"}, \"name\": \"Regions=Occitanie\", \"r\": [899.8960164105047], \"showlegend\": true, \"subplot\": \"polar\", \"theta\": [\"Occitanie\"], \"type\": \"barpolar\"}, {\"hoverlabel\": {\"namelength\": 0}, \"hovertemplate\": \"Regions=%{theta}<br>Annee=2015<br>Quantite=%{r}\", \"legendgroup\": \"Regions=Pays de la Loire\", \"marker\": {\"color\": \"#fb9f3a\"}, \"name\": \"Regions=Pays de la Loire\", \"r\": [369.48559914028755], \"showlegend\": true, \"subplot\": \"polar\", \"theta\": [\"Pays de la Loire\"], \"type\": \"barpolar\"}, {\"hoverlabel\": {\"namelength\": 0}, \"hovertemplate\": \"Regions=%{theta}<br>Annee=2015<br>Quantite=%{r}\", \"legendgroup\": \"Regions=Provence-Alpes-C\\u00f4te d'Azur\", \"marker\": {\"color\": \"#ed7953\"}, \"name\": \"Regions=Provence-Alpes-C\\u00f4te d'Azur\", \"r\": [881.7149206180899], \"showlegend\": true, \"subplot\": \"polar\", \"theta\": [\"Provence-Alpes-C\\u00f4te d'Azur\"], \"type\": \"barpolar\"}, {\"hoverlabel\": {\"namelength\": 0}, \"hovertemplate\": \"Regions=%{theta}<br>Annee=2015<br>Quantite=%{r}\", \"legendgroup\": \"Regions=\\u00cele-de-France\", \"marker\": {\"color\": \"#d8576b\"}, \"name\": \"Regions=\\u00cele-de-France\", \"r\": [903.4034384810128], \"showlegend\": true, \"subplot\": \"polar\", \"theta\": [\"\\u00cele-de-France\"], \"type\": \"barpolar\"}], \"name\": \"2015\"}, {\"data\": [{\"hoverlabel\": {\"namelength\": 0}, \"hovertemplate\": \"Regions=%{theta}<br>Annee=2016<br>Quantite=%{r}\", \"legendgroup\": \"Regions=Auvergne-Rh\\u00f4ne-Alpes\", \"marker\": {\"color\": \"#fdca26\"}, \"name\": \"Regions=Auvergne-Rh\\u00f4ne-Alpes\", \"r\": [749.9643301193488], \"showlegend\": true, \"subplot\": \"polar\", \"theta\": [\"Auvergne-Rh\\u00f4ne-Alpes\"], \"type\": \"barpolar\"}, {\"hoverlabel\": {\"namelength\": 0}, \"hovertemplate\": \"Regions=%{theta}<br>Annee=2016<br>Quantite=%{r}\", \"legendgroup\": \"Regions=Bourgogne-Franche-Comt\\u00e9\", \"marker\": {\"color\": \"#fb9f3a\"}, \"name\": \"Regions=Bourgogne-Franche-Comt\\u00e9\", \"r\": [515.7769202325578], \"showlegend\": true, \"subplot\": \"polar\", \"theta\": [\"Bourgogne-Franche-Comt\\u00e9\"], \"type\": \"barpolar\"}, {\"hoverlabel\": {\"namelength\": 0}, \"hovertemplate\": \"Regions=%{theta}<br>Annee=2016<br>Quantite=%{r}\", \"legendgroup\": \"Regions=Bretagne\", \"marker\": {\"color\": \"#ed7953\"}, \"name\": \"Regions=Bretagne\", \"r\": [537.4597867007677], \"showlegend\": true, \"subplot\": \"polar\", \"theta\": [\"Bretagne\"], \"type\": \"barpolar\"}, {\"hoverlabel\": {\"namelength\": 0}, \"hovertemplate\": \"Regions=%{theta}<br>Annee=2016<br>Quantite=%{r}\", \"legendgroup\": \"Regions=Centre-Val de Loire\", \"marker\": {\"color\": \"#d8576b\"}, \"name\": \"Regions=Centre-Val de Loire\", \"r\": [623.2381444071149], \"showlegend\": true, \"subplot\": \"polar\", \"theta\": [\"Centre-Val de Loire\"], \"type\": \"barpolar\"}, {\"hoverlabel\": {\"namelength\": 0}, \"hovertemplate\": \"Regions=%{theta}<br>Annee=2016<br>Quantite=%{r}\", \"legendgroup\": \"Regions=Corse\", \"marker\": {\"color\": \"#bd3786\"}, \"name\": \"Regions=Corse\", \"r\": [218.8599000000001], \"showlegend\": true, \"subplot\": \"polar\", \"theta\": [\"Corse\"], \"type\": \"barpolar\"}, {\"hoverlabel\": {\"namelength\": 0}, \"hovertemplate\": \"Regions=%{theta}<br>Annee=2016<br>Quantite=%{r}\", \"legendgroup\": \"Regions=Grand Est\", \"marker\": {\"color\": \"#9c179e\"}, \"name\": \"Regions=Grand Est\", \"r\": [892.9499954092535], \"showlegend\": true, \"subplot\": \"polar\", \"theta\": [\"Grand Est\"], \"type\": \"barpolar\"}, {\"hoverlabel\": {\"namelength\": 0}, \"hovertemplate\": \"Regions=%{theta}<br>Annee=2016<br>Quantite=%{r}\", \"legendgroup\": \"Regions=Hauts-de-France\", \"marker\": {\"color\": \"#7201a8\"}, \"name\": \"Regions=Hauts-de-France\", \"r\": [1041.0419124321254], \"showlegend\": true, \"subplot\": \"polar\", \"theta\": [\"Hauts-de-France\"], \"type\": \"barpolar\"}, {\"hoverlabel\": {\"namelength\": 0}, \"hovertemplate\": \"Regions=%{theta}<br>Annee=2016<br>Quantite=%{r}\", \"legendgroup\": \"Regions=Normandie\", \"marker\": {\"color\": \"#46039f\"}, \"name\": \"Regions=Normandie\", \"r\": [1005.9343738773233], \"showlegend\": true, \"subplot\": \"polar\", \"theta\": [\"Normandie\"], \"type\": \"barpolar\"}, {\"hoverlabel\": {\"namelength\": 0}, \"hovertemplate\": \"Regions=%{theta}<br>Annee=2016<br>Quantite=%{r}\", \"legendgroup\": \"Regions=Nouvelle-Aquitaine\", \"marker\": {\"color\": \"#0d0887\"}, \"name\": \"Regions=Nouvelle-Aquitaine\", \"r\": [570.6945961583444], \"showlegend\": true, \"subplot\": \"polar\", \"theta\": [\"Nouvelle-Aquitaine\"], \"type\": \"barpolar\"}, {\"hoverlabel\": {\"namelength\": 0}, \"hovertemplate\": \"Regions=%{theta}<br>Annee=2016<br>Quantite=%{r}\", \"legendgroup\": \"Regions=Occitanie\", \"marker\": {\"color\": \"#fdca26\"}, \"name\": \"Regions=Occitanie\", \"r\": [926.3309057954549], \"showlegend\": true, \"subplot\": \"polar\", \"theta\": [\"Occitanie\"], \"type\": \"barpolar\"}, {\"hoverlabel\": {\"namelength\": 0}, \"hovertemplate\": \"Regions=%{theta}<br>Annee=2016<br>Quantite=%{r}\", \"legendgroup\": \"Regions=Pays de la Loire\", \"marker\": {\"color\": \"#fb9f3a\"}, \"name\": \"Regions=Pays de la Loire\", \"r\": [413.52870851145053], \"showlegend\": true, \"subplot\": \"polar\", \"theta\": [\"Pays de la Loire\"], \"type\": \"barpolar\"}, {\"hoverlabel\": {\"namelength\": 0}, \"hovertemplate\": \"Regions=%{theta}<br>Annee=2016<br>Quantite=%{r}\", \"legendgroup\": \"Regions=Provence-Alpes-C\\u00f4te d'Azur\", \"marker\": {\"color\": \"#ed7953\"}, \"name\": \"Regions=Provence-Alpes-C\\u00f4te d'Azur\", \"r\": [884.8656060054053], \"showlegend\": true, \"subplot\": \"polar\", \"theta\": [\"Provence-Alpes-C\\u00f4te d'Azur\"], \"type\": \"barpolar\"}, {\"hoverlabel\": {\"namelength\": 0}, \"hovertemplate\": \"Regions=%{theta}<br>Annee=2016<br>Quantite=%{r}\", \"legendgroup\": \"Regions=\\u00cele-de-France\", \"marker\": {\"color\": \"#d8576b\"}, \"name\": \"Regions=\\u00cele-de-France\", \"r\": [1003.4452608210189], \"showlegend\": true, \"subplot\": \"polar\", \"theta\": [\"\\u00cele-de-France\"], \"type\": \"barpolar\"}], \"name\": \"2016\"}, {\"data\": [{\"hoverlabel\": {\"namelength\": 0}, \"hovertemplate\": \"Regions=%{theta}<br>Annee=2017<br>Quantite=%{r}\", \"legendgroup\": \"Regions=Auvergne-Rh\\u00f4ne-Alpes\", \"marker\": {\"color\": \"#fdca26\"}, \"name\": \"Regions=Auvergne-Rh\\u00f4ne-Alpes\", \"r\": [787.15310478938], \"showlegend\": true, \"subplot\": \"polar\", \"theta\": [\"Auvergne-Rh\\u00f4ne-Alpes\"], \"type\": \"barpolar\"}, {\"hoverlabel\": {\"namelength\": 0}, \"hovertemplate\": \"Regions=%{theta}<br>Annee=2017<br>Quantite=%{r}\", \"legendgroup\": \"Regions=Bourgogne-Franche-Comt\\u00e9\", \"marker\": {\"color\": \"#fb9f3a\"}, \"name\": \"Regions=Bourgogne-Franche-Comt\\u00e9\", \"r\": [553.861117977012], \"showlegend\": true, \"subplot\": \"polar\", \"theta\": [\"Bourgogne-Franche-Comt\\u00e9\"], \"type\": \"barpolar\"}, {\"hoverlabel\": {\"namelength\": 0}, \"hovertemplate\": \"Regions=%{theta}<br>Annee=2017<br>Quantite=%{r}\", \"legendgroup\": \"Regions=Bretagne\", \"marker\": {\"color\": \"#ed7953\"}, \"name\": \"Regions=Bretagne\", \"r\": [1327.0769803414637], \"showlegend\": true, \"subplot\": \"polar\", \"theta\": [\"Bretagne\"], \"type\": \"barpolar\"}, {\"hoverlabel\": {\"namelength\": 0}, \"hovertemplate\": \"Regions=%{theta}<br>Annee=2017<br>Quantite=%{r}\", \"legendgroup\": \"Regions=Centre-Val de Loire\", \"marker\": {\"color\": \"#d8576b\"}, \"name\": \"Regions=Centre-Val de Loire\", \"r\": [420.7606804312116], \"showlegend\": true, \"subplot\": \"polar\", \"theta\": [\"Centre-Val de Loire\"], \"type\": \"barpolar\"}, {\"hoverlabel\": {\"namelength\": 0}, \"hovertemplate\": \"Regions=%{theta}<br>Annee=2017<br>Quantite=%{r}\", \"legendgroup\": \"Regions=Corse\", \"marker\": {\"color\": \"#bd3786\"}, \"name\": \"Regions=Corse\", \"r\": [221.44810000000007], \"showlegend\": true, \"subplot\": \"polar\", \"theta\": [\"Corse\"], \"type\": \"barpolar\"}, {\"hoverlabel\": {\"namelength\": 0}, \"hovertemplate\": \"Regions=%{theta}<br>Annee=2017<br>Quantite=%{r}\", \"legendgroup\": \"Regions=Grand Est\", \"marker\": {\"color\": \"#9c179e\"}, \"name\": \"Regions=Grand Est\", \"r\": [921.7087578378386], \"showlegend\": true, \"subplot\": \"polar\", \"theta\": [\"Grand Est\"], \"type\": \"barpolar\"}, {\"hoverlabel\": {\"namelength\": 0}, \"hovertemplate\": \"Regions=%{theta}<br>Annee=2017<br>Quantite=%{r}\", \"legendgroup\": \"Regions=Hauts-de-France\", \"marker\": {\"color\": \"#7201a8\"}, \"name\": \"Regions=Hauts-de-France\", \"r\": [1034.196213670746], \"showlegend\": true, \"subplot\": \"polar\", \"theta\": [\"Hauts-de-France\"], \"type\": \"barpolar\"}, {\"hoverlabel\": {\"namelength\": 0}, \"hovertemplate\": \"Regions=%{theta}<br>Annee=2017<br>Quantite=%{r}\", \"legendgroup\": \"Regions=Normandie\", \"marker\": {\"color\": \"#46039f\"}, \"name\": \"Regions=Normandie\", \"r\": [958.8008897841742], \"showlegend\": true, \"subplot\": \"polar\", \"theta\": [\"Normandie\"], \"type\": \"barpolar\"}, {\"hoverlabel\": {\"namelength\": 0}, \"hovertemplate\": \"Regions=%{theta}<br>Annee=2017<br>Quantite=%{r}\", \"legendgroup\": \"Regions=Nouvelle-Aquitaine\", \"marker\": {\"color\": \"#0d0887\"}, \"name\": \"Regions=Nouvelle-Aquitaine\", \"r\": [569.3514098312224], \"showlegend\": true, \"subplot\": \"polar\", \"theta\": [\"Nouvelle-Aquitaine\"], \"type\": \"barpolar\"}, {\"hoverlabel\": {\"namelength\": 0}, \"hovertemplate\": \"Regions=%{theta}<br>Annee=2017<br>Quantite=%{r}\", \"legendgroup\": \"Regions=Occitanie\", \"marker\": {\"color\": \"#fdca26\"}, \"name\": \"Regions=Occitanie\", \"r\": [884.5616160451976], \"showlegend\": true, \"subplot\": \"polar\", \"theta\": [\"Occitanie\"], \"type\": \"barpolar\"}, {\"hoverlabel\": {\"namelength\": 0}, \"hovertemplate\": \"Regions=%{theta}<br>Annee=2017<br>Quantite=%{r}\", \"legendgroup\": \"Regions=Pays de la Loire\", \"marker\": {\"color\": \"#fb9f3a\"}, \"name\": \"Regions=Pays de la Loire\", \"r\": [496.9146546448088], \"showlegend\": true, \"subplot\": \"polar\", \"theta\": [\"Pays de la Loire\"], \"type\": \"barpolar\"}, {\"hoverlabel\": {\"namelength\": 0}, \"hovertemplate\": \"Regions=%{theta}<br>Annee=2017<br>Quantite=%{r}\", \"legendgroup\": \"Regions=Provence-Alpes-C\\u00f4te d'Azur\", \"marker\": {\"color\": \"#ed7953\"}, \"name\": \"Regions=Provence-Alpes-C\\u00f4te d'Azur\", \"r\": [6147.661256041129], \"showlegend\": true, \"subplot\": \"polar\", \"theta\": [\"Provence-Alpes-C\\u00f4te d'Azur\"], \"type\": \"barpolar\"}, {\"hoverlabel\": {\"namelength\": 0}, \"hovertemplate\": \"Regions=%{theta}<br>Annee=2017<br>Quantite=%{r}\", \"legendgroup\": \"Regions=\\u00cele-de-France\", \"marker\": {\"color\": \"#d8576b\"}, \"name\": \"Regions=\\u00cele-de-France\", \"r\": [944.3446922843286], \"showlegend\": true, \"subplot\": \"polar\", \"theta\": [\"\\u00cele-de-France\"], \"type\": \"barpolar\"}], \"name\": \"2017\"}]);\n",
       "                        }).then(function(){\n",
       "                            \n",
       "var gd = document.getElementById('35de666e-0dea-408a-95c0-94a9d888dd9e');\n",
       "var x = new MutationObserver(function (mutations, observer) {{\n",
       "        var display = window.getComputedStyle(gd).display;\n",
       "        if (!display || display === 'none') {{\n",
       "            console.log([gd, 'removed!']);\n",
       "            Plotly.purge(gd);\n",
       "            observer.disconnect();\n",
       "        }}\n",
       "}});\n",
       "\n",
       "// Listen for the removal of the full notebook cells\n",
       "var notebookContainer = gd.closest('#notebook-container');\n",
       "if (notebookContainer) {{\n",
       "    x.observe(notebookContainer, {childList: true});\n",
       "}}\n",
       "\n",
       "// Listen for the clearing of the current output cell\n",
       "var outputEl = gd.closest('.output');\n",
       "if (outputEl) {{\n",
       "    x.observe(outputEl, {childList: true});\n",
       "}}\n",
       "\n",
       "                        })\n",
       "                };\n",
       "                });\n",
       "            </script>\n",
       "        </div>"
      ]
     },
     "metadata": {},
     "output_type": "display_data"
    }
   ],
   "source": [
    "import pandas as pd\n",
    "import plotly\n",
    "import plotly.express as px\n",
    "\n",
    "df = pd.read_csv(\"/home/khll/module/templot_clean/templot/data/df.csv\")\n",
    "\n",
    "\n",
    "\n",
    "df = pd.melt(df,id_vars=['Identifiant','Nom_Etablissement_x', 'LLX', 'LLY','Regions'], var_name='Annee', value_name='Quantite')\n",
    "df=df[df.Quantite!=0]\n",
    "\n",
    "df['Annee'] = df['Annee'].apply(lambda x: x[-4:])\n",
    "\n",
    "df_agr = df.groupby([\"Regions\", \"Annee\"])[\"Quantite\"].mean().reset_index()\n",
    "\n",
    "#df_agr['AnneeStr'] = df_agr['Annee'].apply(lambda x: f'{str(x)}')\n",
    "\n",
    "\n",
    "#fig = px.scatter_polar(df_agr, r=\"Quantite\", theta=\"Regions\", animation_frame=\"Annee\")\n",
    "\n",
    "\n",
    "fig = px.bar_polar(df_agr, r=\"Quantite\", theta=\"Regions\", color=\"Regions\", template=\"plotly_dark\",\n",
    "            color_discrete_sequence= px.colors.sequential.Plasma[-2::-1],animation_frame=\"Annee\")\n",
    "fig.update_layout(showlegend=False)\n",
    "fig.show()\n"
   ]
  },
  {
   "cell_type": "code",
   "execution_count": 426,
   "metadata": {},
   "outputs": [
    {
     "data": {
      "text/html": [
       "<div>\n",
       "<style scoped>\n",
       "    .dataframe tbody tr th:only-of-type {\n",
       "        vertical-align: middle;\n",
       "    }\n",
       "\n",
       "    .dataframe tbody tr th {\n",
       "        vertical-align: top;\n",
       "    }\n",
       "\n",
       "    .dataframe thead th {\n",
       "        text-align: right;\n",
       "    }\n",
       "</style>\n",
       "<table border=\"1\" class=\"dataframe\">\n",
       "  <thead>\n",
       "    <tr style=\"text-align: right;\">\n",
       "      <th></th>\n",
       "      <th>Regions</th>\n",
       "      <th>Annee</th>\n",
       "      <th>Quantite</th>\n",
       "    </tr>\n",
       "  </thead>\n",
       "  <tbody>\n",
       "    <tr>\n",
       "      <th>0</th>\n",
       "      <td>Auvergne-Rhône-Alpes</td>\n",
       "      <td>2003</td>\n",
       "      <td>154.8850</td>\n",
       "    </tr>\n",
       "    <tr>\n",
       "      <th>1</th>\n",
       "      <td>Auvergne-Rhône-Alpes</td>\n",
       "      <td>2004</td>\n",
       "      <td>149.3440</td>\n",
       "    </tr>\n",
       "    <tr>\n",
       "      <th>2</th>\n",
       "      <td>Auvergne-Rhône-Alpes</td>\n",
       "      <td>2005</td>\n",
       "      <td>144.9495</td>\n",
       "    </tr>\n",
       "    <tr>\n",
       "      <th>3</th>\n",
       "      <td>Auvergne-Rhône-Alpes</td>\n",
       "      <td>2006</td>\n",
       "      <td>134.0000</td>\n",
       "    </tr>\n",
       "    <tr>\n",
       "      <th>4</th>\n",
       "      <td>Auvergne-Rhône-Alpes</td>\n",
       "      <td>2007</td>\n",
       "      <td>133.0000</td>\n",
       "    </tr>\n",
       "    <tr>\n",
       "      <th>...</th>\n",
       "      <td>...</td>\n",
       "      <td>...</td>\n",
       "      <td>...</td>\n",
       "    </tr>\n",
       "    <tr>\n",
       "      <th>190</th>\n",
       "      <td>Île-de-France</td>\n",
       "      <td>2013</td>\n",
       "      <td>69.5290</td>\n",
       "    </tr>\n",
       "    <tr>\n",
       "      <th>191</th>\n",
       "      <td>Île-de-France</td>\n",
       "      <td>2014</td>\n",
       "      <td>69.3000</td>\n",
       "    </tr>\n",
       "    <tr>\n",
       "      <th>192</th>\n",
       "      <td>Île-de-France</td>\n",
       "      <td>2015</td>\n",
       "      <td>58.3000</td>\n",
       "    </tr>\n",
       "    <tr>\n",
       "      <th>193</th>\n",
       "      <td>Île-de-France</td>\n",
       "      <td>2016</td>\n",
       "      <td>58.2600</td>\n",
       "    </tr>\n",
       "    <tr>\n",
       "      <th>194</th>\n",
       "      <td>Île-de-France</td>\n",
       "      <td>2017</td>\n",
       "      <td>64.6000</td>\n",
       "    </tr>\n",
       "  </tbody>\n",
       "</table>\n",
       "<p>195 rows × 3 columns</p>\n",
       "</div>"
      ],
      "text/plain": [
       "                  Regions Annee  Quantite\n",
       "0    Auvergne-Rhône-Alpes  2003  154.8850\n",
       "1    Auvergne-Rhône-Alpes  2004  149.3440\n",
       "2    Auvergne-Rhône-Alpes  2005  144.9495\n",
       "3    Auvergne-Rhône-Alpes  2006  134.0000\n",
       "4    Auvergne-Rhône-Alpes  2007  133.0000\n",
       "..                    ...   ...       ...\n",
       "190         Île-de-France  2013   69.5290\n",
       "191         Île-de-France  2014   69.3000\n",
       "192         Île-de-France  2015   58.3000\n",
       "193         Île-de-France  2016   58.2600\n",
       "194         Île-de-France  2017   64.6000\n",
       "\n",
       "[195 rows x 3 columns]"
      ]
     },
     "execution_count": 426,
     "metadata": {},
     "output_type": "execute_result"
    }
   ],
   "source": [
    "import matplotlib.pyplot as plt\n",
    "import numpy as np\n",
    "\n",
    "\n",
    "import pandas as pd\n",
    "\n",
    "df = pd.read_csv(\"/home/khll/module/templot_clean/templot/data/df.csv\")\n",
    "\n",
    "\n",
    "\n",
    "df = pd.melt(df,id_vars=['Identifiant','Nom_Etablissement_x', 'LLX', 'LLY','Regions'], var_name='Annee', value_name='Quantite')\n",
    "\n",
    "df['Annee'] = df['Annee'].apply(lambda x: x[-4:])\n",
    "\n",
    "df_agr = df.groupby([\"Regions\", \"Annee\"])[\"Quantite\"].median().reset_index()\n"
   ]
  },
  {
   "cell_type": "code",
   "execution_count": 414,
   "metadata": {},
   "outputs": [
    {
     "data": {
      "image/png": "[encoded data removed]",
      "text/plain": [
       "<Figure size 576x576 with 2 Axes>"
      ]
     },
     "metadata": {
      "needs_background": "light"
     },
     "output_type": "display_data"
    }
   ],
   "source": [
    "\n",
    "\n",
    "fig = plt.figure(figsize=(8,8))\n",
    "ax = fig.add_subplot(111,polar=True)\n",
    "\n",
    "sample = df_agr[df_agr.Annee==\"2017\"][\"Quantite\"]\n",
    "\n",
    "N = len(sample) \n",
    "theta = np.arange(0, 2*np.pi, 2*np.pi/N) \n",
    "\n",
    "viridis = plt.cm.get_cmap('plasma')\n",
    "c = viridis((data-data.min())/(data.max()-data.min()))\n",
    "\n",
    "\n",
    "ax.set_xticks(theta)\n",
    "ax.set_xticklabels(df_agr[df_agr.Annee==\"2017\"][\"Regions\"])\n",
    "ax.yaxis.grid(False)\n",
    "\n",
    "data = df_agr[\"Quantite\"]\n",
    "\n",
    "\n",
    "\n",
    "bars = ax.bar(theta, sample, width=0.4,color=c[df_agr.Annee==\"2017\"])\n",
    "\n",
    "\n",
    "\n",
    "import matplotlib as mpl\n",
    "vmin,vmax = data.min(), data.max()\n",
    "cNorm = mpl.colors.Normalize(vmin=vmin, vmax=vmax)\n",
    "ax3 = fig.add_axes([1.15, 0.1, 0.05, 0.8])\n",
    "\n",
    "\n",
    "cb1 = mpl.colorbar.ColorbarBase(ax3, norm=cNorm)\n",
    "\n",
    "\n",
    "for th, label in zip(ax.get_xticks(), ax.get_xticklabels()):\n",
    "    th = th * ax.get_theta_direction() + ax.get_theta_offset()\n",
    "    th = np.pi/2 - th\n",
    "    y, x = np.cos(th), np.sin(th)\n",
    "    if x >= 0.1:\n",
    "        label.set_horizontalalignment('left')\n",
    "    if x <= -0.1:\n",
    "        label.set_horizontalalignment('right')\n",
    "    if y >= 0.5:\n",
    "        label.set_verticalalignment('bottom')\n",
    "    if y <= -0.5:\n",
    "        label.set_verticalalignment('top')\n",
    "        \n",
    "fig.subplots_adjust(left=0, bottom=0, right=0.9, top=1, wspace=None, hspace=None)\n",
    "\n"
   ]
  },
  {
   "cell_type": "code",
   "execution_count": 329,
   "metadata": {},
   "outputs": [],
   "source": []
  }
 ],
 "metadata": {
  "kernelspec": {
   "display_name": "Python 3",
   "language": "python",
   "name": "python3"
  },
  "language_info": {
   "codemirror_mode": {
    "name": "ipython",
    "version": 3
   },
   "file_extension": ".py",
   "mimetype": "text/x-python",
   "name": "python",
   "nbconvert_exporter": "python",
   "pygments_lexer": "ipython3",
   "version": "3.7.4"
  }
 },
 "nbformat": 4,
 "nbformat_minor": 2
}
